{
  "nbformat": 4,
  "nbformat_minor": 0,
  "metadata": {
    "colab": {
      "name": "03_convolution-digit-recognizer_empty_colab.ipynb",
      "version": "0.3.2",
      "provenance": [],
      "include_colab_link": true
    },
    "language_info": {
      "codemirror_mode": {
        "name": "ipython",
        "version": 3
      },
      "file_extension": ".py",
      "mimetype": "text/x-python",
      "name": "python",
      "nbconvert_exporter": "python",
      "pygments_lexer": "ipython3",
      "version": "3.6.8"
    },
    "kernelspec": {
      "display_name": "Python 3",
      "language": "python",
      "name": "python3"
    }
  },
  "cells": [
    {
      "cell_type": "markdown",
      "metadata": {
        "id": "view-in-github",
        "colab_type": "text"
      },
      "source": [
        "<a href=\"https://colab.research.google.com/github/mlelarge/dataflowr/blob/master/CEA_EDF_INRIA/03_convolution_digit_recognizer_empty_colab.ipynb\" target=\"_parent\"><img src=\"https://colab.research.google.com/assets/colab-badge.svg\" alt=\"Open In Colab\"/></a>"
      ]
    },
    {
      "cell_type": "markdown",
      "metadata": {
        "id": "CUiFyiXKHovB",
        "colab_type": "text"
      },
      "source": [
        "# Convolutions by examples\n",
        "\n",
        "### Acknowledgement\n",
        "\n",
        "Code from Sections 1 to 3 taken from [fastai: lesson 0](http://course.fast.ai/lessons/lesson0.html)"
      ]
    },
    {
      "cell_type": "markdown",
      "metadata": {
        "id": "7v7DN_UKHovE",
        "colab_type": "text"
      },
      "source": [
        "## 1. Preparations"
      ]
    },
    {
      "cell_type": "code",
      "metadata": {
        "id": "eQmaHvupHovF",
        "colab_type": "code",
        "colab": {}
      },
      "source": [
        "%matplotlib inline\n",
        "import math,sys,os,numpy as np\n",
        "from numpy.linalg import norm\n",
        "from matplotlib import pyplot as plt"
      ],
      "execution_count": 0,
      "outputs": []
    },
    {
      "cell_type": "code",
      "metadata": {
        "id": "lkRdumG1HovK",
        "colab_type": "code",
        "colab": {}
      },
      "source": [
        "import torch\n",
        "import torchvision\n",
        "from torchvision import models,transforms,datasets"
      ],
      "execution_count": 0,
      "outputs": []
    },
    {
      "cell_type": "markdown",
      "metadata": {
        "id": "3JlQUj5IHovP",
        "colab_type": "text"
      },
      "source": [
        "Download MNIST data on disk and convert it to pytorch compatible formating.\n",
        "\n",
        "```torchvision.datasets``` features support (download, formatting) for a collection of popular datasets. The list of available datasets in ```torchvision``` can be found [here](http://pytorch.org/docs/master/torchvision/datasets.html).\n",
        "\n",
        "Note that the download is performed only once. The function will always check first if the data is already on disk.\n"
      ]
    },
    {
      "cell_type": "code",
      "metadata": {
        "id": "Bv9h8isvHovQ",
        "colab_type": "code",
        "colab": {}
      },
      "source": [
        "root_dir = '/content/data/MNIST/'\n",
        "torchvision.datasets.MNIST(root=root_dir,download=True)"
      ],
      "execution_count": 0,
      "outputs": []
    },
    {
      "cell_type": "markdown",
      "metadata": {
        "id": "XW1c2YmiHovW",
        "colab_type": "text"
      },
      "source": [
        "MNIST datasets consists of small images of hand-written digits. The images are grayscale and have size 28 x 28. There are 60,000 training images and 10,000 testing images."
      ]
    },
    {
      "cell_type": "code",
      "metadata": {
        "id": "p9MA5fqrHovZ",
        "colab_type": "code",
        "colab": {}
      },
      "source": [
        "train_set = torchvision.datasets.MNIST(root=root_dir, train=True, download=True)"
      ],
      "execution_count": 0,
      "outputs": []
    },
    {
      "cell_type": "markdown",
      "metadata": {
        "id": "yaLXqwxaHovg",
        "colab_type": "text"
      },
      "source": [
        "Define and initialize a data loader for the MNIST data already downloaded on disk."
      ]
    },
    {
      "cell_type": "code",
      "metadata": {
        "id": "uEyTgg0THovj",
        "colab_type": "code",
        "colab": {}
      },
      "source": [
        "MNIST_dataset = torch.utils.data.DataLoader(train_set, batch_size=1, shuffle=True, num_workers=1)"
      ],
      "execution_count": 0,
      "outputs": []
    },
    {
      "cell_type": "markdown",
      "metadata": {
        "id": "f12CxE8XHovo",
        "colab_type": "text"
      },
      "source": [
        "For the current notebook, since we are doing no training, we can format data as _numpy ndarrays_ which are easier to plot in matplotlib. The same operations can be easily performed on _pytorch Tensors_."
      ]
    },
    {
      "cell_type": "code",
      "metadata": {
        "id": "_UnuFlpWHovq",
        "colab_type": "code",
        "colab": {}
      },
      "source": [
        "images = train_set.data.numpy().astype(np.float32)/255\n",
        "labels = train_set.targets.numpy()"
      ],
      "execution_count": 0,
      "outputs": []
    },
    {
      "cell_type": "code",
      "metadata": {
        "id": "RpkGWiaqHovz",
        "colab_type": "code",
        "colab": {}
      },
      "source": [
        "print(images.shape,labels.shape)"
      ],
      "execution_count": 0,
      "outputs": []
    },
    {
      "cell_type": "markdown",
      "metadata": {
        "id": "HYSO4Wc4HowH",
        "colab_type": "text"
      },
      "source": [
        "## 2. Data visualization"
      ]
    },
    {
      "cell_type": "markdown",
      "metadata": {
        "id": "tPtQoS_-HowJ",
        "colab_type": "text"
      },
      "source": [
        "For convenience we define a few functions for formatting and plotting our image data"
      ]
    },
    {
      "cell_type": "code",
      "metadata": {
        "id": "F3lsBB7ZHowK",
        "colab_type": "code",
        "colab": {}
      },
      "source": [
        "# plot multiple images\n",
        "def plots(ims, interp=False, titles=None):\n",
        "    ims=np.array(ims)\n",
        "    mn,mx=ims.min(),ims.max()\n",
        "    f = plt.figure(figsize=(12,24))\n",
        "    for i in range(len(ims)):\n",
        "        sp=f.add_subplot(1, len(ims), i+1)\n",
        "        if not titles is None: sp.set_title(titles[i], fontsize=18)\n",
        "        plt.imshow(ims[i], interpolation=None if interp else 'none', vmin=mn,vmax=mx)\n",
        "\n",
        "# plot a single image\n",
        "def plot(im, interp=False):\n",
        "    f = plt.figure(figsize=(3,6), frameon=True)\n",
        "    plt.imshow(im, interpolation=None if interp else 'none')\n",
        "\n",
        "plt.gray()\n",
        "plt.close()"
      ],
      "execution_count": 0,
      "outputs": []
    },
    {
      "cell_type": "code",
      "metadata": {
        "id": "vfxlah5eHowW",
        "colab_type": "code",
        "colab": {}
      },
      "source": [
        "plot(images[5000])"
      ],
      "execution_count": 0,
      "outputs": []
    },
    {
      "cell_type": "code",
      "metadata": {
        "id": "VY5890I1Howd",
        "colab_type": "code",
        "colab": {}
      },
      "source": [
        "labels[5000]"
      ],
      "execution_count": 0,
      "outputs": []
    },
    {
      "cell_type": "code",
      "metadata": {
        "id": "OEWipA5iHown",
        "colab_type": "code",
        "colab": {}
      },
      "source": [
        "plots(images[5000:5005], titles=labels[5000:5005])"
      ],
      "execution_count": 0,
      "outputs": []
    },
    {
      "cell_type": "markdown",
      "metadata": {
        "id": "ABg2l01JHoyL",
        "colab_type": "text"
      },
      "source": [
        "## 3. Filters and convolutions"
      ]
    },
    {
      "cell_type": "markdown",
      "metadata": {
        "id": "unXh3clNHoyM",
        "colab_type": "text"
      },
      "source": [
        "Here is a simple 3x3 filter, ie a 3x3 matrix (see [Sobel operator](https://en.wikipedia.org/wiki/Sobel_operator) for more examples)"
      ]
    },
    {
      "cell_type": "code",
      "metadata": {
        "id": "OWiIsQ38HoyP",
        "colab_type": "code",
        "colab": {}
      },
      "source": [
        "top=[[-1,-1,-1],\n",
        "     [ 1, 1, 1],\n",
        "     [ 0, 0, 0]]\n",
        "\n",
        "plot(top)"
      ],
      "execution_count": 0,
      "outputs": []
    },
    {
      "cell_type": "code",
      "metadata": {
        "id": "p3TmBjakHoye",
        "colab_type": "code",
        "colab": {}
      },
      "source": [
        "cross = np.zeros((28,28))\n",
        "cross += np.eye(28)\n",
        "for i in range(4):\n",
        "    cross[12+i,:] = np.ones(28)\n",
        "    cross[:,12+i] = np.ones(28)"
      ],
      "execution_count": 0,
      "outputs": []
    },
    {
      "cell_type": "code",
      "metadata": {
        "id": "jipouDFOHoyn",
        "colab_type": "code",
        "colab": {}
      },
      "source": [
        "plot(cross)"
      ],
      "execution_count": 0,
      "outputs": []
    },
    {
      "cell_type": "markdown",
      "metadata": {
        "id": "g0j7I3OKHoyt",
        "colab_type": "text"
      },
      "source": [
        "In some fields, convolution or filtering can be better understood as _correlations_. \n",
        "In practice we slide the filter matrix over the image (a bigger matrix) always selecting patches from the image with the same size as the filter. We compute the dot product between the filter and the image patch and store the scalar response which reflects the degree of similarity/correlation between the filter and image patch."
      ]
    },
    {
      "cell_type": "code",
      "metadata": {
        "id": "iiqsEThMHoyu",
        "colab_type": "code",
        "colab": {}
      },
      "source": [
        "from scipy.ndimage.filters import convolve, correlate\n",
        "\n",
        "corr_cross = correlate(cross,top)"
      ],
      "execution_count": 0,
      "outputs": []
    },
    {
      "cell_type": "code",
      "metadata": {
        "id": "zXc6nlfYHoyx",
        "colab_type": "code",
        "colab": {}
      },
      "source": [
        "plot(corr_cross)"
      ],
      "execution_count": 0,
      "outputs": []
    },
    {
      "cell_type": "code",
      "metadata": {
        "id": "5mi2j-hFHoy3",
        "colab_type": "code",
        "colab": {}
      },
      "source": [
        "?correlate"
      ],
      "execution_count": 0,
      "outputs": []
    },
    {
      "cell_type": "code",
      "metadata": {
        "id": "bPAEi-4gHoy-",
        "colab_type": "code",
        "colab": {}
      },
      "source": [
        "# to see the role of padding\n",
        "corr_cross = correlate(cross,top, mode='constant')\n",
        "plot(corr_cross)"
      ],
      "execution_count": 0,
      "outputs": []
    },
    {
      "cell_type": "code",
      "metadata": {
        "id": "iSTy0Ka1HozC",
        "colab_type": "code",
        "colab": {}
      },
      "source": [
        "corrtop = correlate(images[5000], top)\n",
        "plot(corrtop)"
      ],
      "execution_count": 0,
      "outputs": []
    },
    {
      "cell_type": "markdown",
      "metadata": {
        "id": "6kp8ArumHozJ",
        "colab_type": "text"
      },
      "source": [
        "By rotating the filter with 90 degrees and calling the ```convolve``` function we get the same response as with the previously called ```correlate``` function."
      ]
    },
    {
      "cell_type": "code",
      "metadata": {
        "id": "K2m8hh6XHozL",
        "colab_type": "code",
        "colab": {}
      },
      "source": [
        "np.rot90(top, 1)"
      ],
      "execution_count": 0,
      "outputs": []
    },
    {
      "cell_type": "code",
      "metadata": {
        "scrolled": true,
        "id": "MBratD5iHozV",
        "colab_type": "code",
        "colab": {}
      },
      "source": [
        "convtop = convolve(images[5000], np.rot90(top,2))\n",
        "plot(convtop)\n",
        "np.allclose(convtop, corrtop)"
      ],
      "execution_count": 0,
      "outputs": []
    },
    {
      "cell_type": "markdown",
      "metadata": {
        "id": "XqFCxFXoHozd",
        "colab_type": "text"
      },
      "source": [
        "Let's generate a few more variants of our simple 3x3 filter"
      ]
    },
    {
      "cell_type": "code",
      "metadata": {
        "id": "A48nt8YqHoze",
        "colab_type": "code",
        "colab": {}
      },
      "source": [
        "straights=[np.rot90(top,i) for i in range(4)]\n",
        "plots(straights)"
      ],
      "execution_count": 0,
      "outputs": []
    },
    {
      "cell_type": "markdown",
      "metadata": {
        "id": "cv5eeO7gHozn",
        "colab_type": "text"
      },
      "source": [
        "We proceed similarly to generate a set of filters with a different behavior"
      ]
    },
    {
      "cell_type": "code",
      "metadata": {
        "id": "xhJFADUoHozr",
        "colab_type": "code",
        "colab": {}
      },
      "source": [
        "br=[[ 0, 0, 1],\n",
        "    [ 0, 1,-1.5],\n",
        "    [ 1,-1.5, 0]]\n",
        "\n",
        "diags = [np.rot90(br,i) for i in range(4)]\n",
        "plots(diags)"
      ],
      "execution_count": 0,
      "outputs": []
    },
    {
      "cell_type": "markdown",
      "metadata": {
        "id": "zhGJF9gNHoz0",
        "colab_type": "text"
      },
      "source": [
        "We can compose filters to obtain more complex patterns"
      ]
    },
    {
      "cell_type": "code",
      "metadata": {
        "id": "k9ETAdFKHoz1",
        "colab_type": "code",
        "colab": {}
      },
      "source": [
        "rots = straights + diags\n",
        "corrs_cross = [correlate(cross, rot) for rot in rots]\n",
        "plots(corrs_cross)"
      ],
      "execution_count": 0,
      "outputs": []
    },
    {
      "cell_type": "code",
      "metadata": {
        "id": "5GnSnG1HHoz5",
        "colab_type": "code",
        "colab": {}
      },
      "source": [
        "rots = straights + diags\n",
        "corrs = [correlate(images[5000], rot) for rot in rots]\n",
        "plots(corrs)"
      ],
      "execution_count": 0,
      "outputs": []
    },
    {
      "cell_type": "markdown",
      "metadata": {
        "id": "plV6mfsjHoz-",
        "colab_type": "text"
      },
      "source": [
        "Next we illustrate the effect of downsampling.\n",
        "We select the most basic downsampling technique: __max pooling__. We keep only the maximum value for sliding windows of size ```7x7```.\n",
        "__Max pooling__ is a handy technique with a few useful perks:\n",
        "- since it selects the maximum values it ensures invariance to translations\n",
        "- reducing the size is helpful since data becomes more compact and easier to compare\n",
        "- we will see later in this course that since max pooling reduces the size of our images, the operations performed later on in the network have bigger receptive field / concern a bigger patch in the input image and allow the discovery of higher level patterns."
      ]
    },
    {
      "cell_type": "code",
      "metadata": {
        "id": "QfR3u9FYHo0E",
        "colab_type": "code",
        "colab": {}
      },
      "source": [
        "import skimage\n",
        "\n",
        "from skimage.measure import block_reduce\n",
        "\n",
        "def pool(im): return block_reduce(im, (7,7), np.max)\n",
        "\n",
        "plots([pool(im) for im in corrs])"
      ],
      "execution_count": 0,
      "outputs": []
    },
    {
      "cell_type": "markdown",
      "metadata": {
        "id": "MY6Yw-XQHo0P",
        "colab_type": "text"
      },
      "source": [
        "## 4. A simple classifier"
      ]
    },
    {
      "cell_type": "markdown",
      "metadata": {
        "id": "GK6uj_26Ho0R",
        "colab_type": "text"
      },
      "source": [
        "In this section we will construct a basic classifier similar to k-nearest neighbors.\n",
        "Our classifier will tell us whether a given image depicts a _one_ or an _eight_.\n",
        "\n",
        "To this end we select a set of training images depicting _eights_ and _ones_, we convolve them with our set of filters, pool them and average them for each class and filter. We will thus obtain a set of _representative_ signatures for _eights_ and for _ones_. \n",
        "Given a new test image we compute its features by convolution and pooling with the same filters and then compare them with the _representative_ features. The class with the most _similar_ features is chosen as prediction."
      ]
    },
    {
      "cell_type": "markdown",
      "metadata": {
        "id": "jyc9VagHHo0S",
        "colab_type": "text"
      },
      "source": [
        "We fetch all images from the _eight_ class and from the _one_ class."
      ]
    },
    {
      "cell_type": "code",
      "metadata": {
        "id": "ogJld-3qJDpW",
        "colab_type": "code",
        "colab": {}
      },
      "source": [
        "n=len(images)"
      ],
      "execution_count": 0,
      "outputs": []
    },
    {
      "cell_type": "code",
      "metadata": {
        "id": "Itlgssc9Ho0U",
        "colab_type": "code",
        "colab": {}
      },
      "source": [
        "eights=[images[i] for i in range(n) if labels[i]==8]\n",
        "ones=[images[i] for i in range(n) if labels[i]==1]"
      ],
      "execution_count": 0,
      "outputs": []
    },
    {
      "cell_type": "code",
      "metadata": {
        "id": "RGY2P44IHo0X",
        "colab_type": "code",
        "colab": {}
      },
      "source": [
        "len(eights), len(ones)"
      ],
      "execution_count": 0,
      "outputs": []
    },
    {
      "cell_type": "code",
      "metadata": {
        "id": "CFmNNrKAHo0f",
        "colab_type": "code",
        "colab": {}
      },
      "source": [
        "plots(eights[:5])\n",
        "plots(ones[:5])"
      ],
      "execution_count": 0,
      "outputs": []
    },
    {
      "cell_type": "markdown",
      "metadata": {
        "id": "3Mxs-x1pHo0l",
        "colab_type": "text"
      },
      "source": [
        "We keep the first 1000 digits for the test set."
      ]
    },
    {
      "cell_type": "code",
      "metadata": {
        "id": "MEA8brOGHo0n",
        "colab_type": "code",
        "colab": {}
      },
      "source": [
        "raws8 =  np.mean(eights[1000:],axis=0)"
      ],
      "execution_count": 0,
      "outputs": []
    },
    {
      "cell_type": "code",
      "metadata": {
        "id": "H-IBmFQOHo01",
        "colab_type": "code",
        "colab": {}
      },
      "source": [
        "plot(raws8)"
      ],
      "execution_count": 0,
      "outputs": []
    },
    {
      "cell_type": "code",
      "metadata": {
        "id": "Aa3a1Le2Ho07",
        "colab_type": "code",
        "colab": {}
      },
      "source": [
        "raws1 =  np.mean(ones[1000:],axis=0)"
      ],
      "execution_count": 0,
      "outputs": []
    },
    {
      "cell_type": "code",
      "metadata": {
        "id": "NIWCe_GWHo1A",
        "colab_type": "code",
        "colab": {}
      },
      "source": [
        "plot(raws1)"
      ],
      "execution_count": 0,
      "outputs": []
    },
    {
      "cell_type": "code",
      "metadata": {
        "id": "3ZML33QNHo1G",
        "colab_type": "code",
        "colab": {}
      },
      "source": [
        "# sum of squared errors\n",
        "def sse(a,b): return ((a-b)**2).sum()\n",
        "\n",
        "def is8_raw_n2(im): return 1 if sse(im,raws1) > sse(im,raws8) else 0"
      ],
      "execution_count": 0,
      "outputs": []
    },
    {
      "cell_type": "code",
      "metadata": {
        "id": "bJCB6UnOHo1M",
        "colab_type": "code",
        "colab": {}
      },
      "source": [
        "[np.array([is8_raw_n2(im) for im in ims]).sum() for ims in [eights[:1000],ones[:1000]]]"
      ],
      "execution_count": 0,
      "outputs": []
    },
    {
      "cell_type": "code",
      "metadata": {
        "id": "FszIlo_kHo1W",
        "colab_type": "code",
        "colab": {}
      },
      "source": [
        "[np.array([(1-is8_raw_n2(im)) for im in ims]).sum() for ims in [eights[:1000],ones[:1000]]]"
      ],
      "execution_count": 0,
      "outputs": []
    },
    {
      "cell_type": "markdown",
      "metadata": {
        "id": "CFUntUqdHo1e",
        "colab_type": "text"
      },
      "source": [
        "![precision recall](https://upload.wikimedia.org/wikipedia/commons/thumb/2/26/Precisionrecall.svg/1024px-Precisionrecall.svg.png)"
      ]
    },
    {
      "cell_type": "code",
      "metadata": {
        "id": "aaYe8malHo1f",
        "colab_type": "code",
        "colab": {}
      },
      "source": [
        "Precision_8 = 912/(912+27)\n",
        "Recall_8 = 912/1000\n",
        "Precision_1 = 973/(973+88)\n",
        "Recall_1 = 973/1000\n",
        "\n",
        "print('precision 8:', Precision_8, 'recall 8:', Recall_8)\n",
        "print('precision 1:', Precision_1, 'recall 1:', Recall_1)\n",
        "print('accuracy :', (Recall_1+Recall_8)/2)"
      ],
      "execution_count": 0,
      "outputs": []
    },
    {
      "cell_type": "markdown",
      "metadata": {
        "id": "Ud1VbsiRHo1s",
        "colab_type": "text"
      },
      "source": [
        "We now build a classifier with convolutions.\n",
        "\n",
        "We keep 1000 images of _eight_ for the test set and use the remaining ones for the training: we convolve them with our bank of filters, perform max pooling on the responses and store them in ```pool8```."
      ]
    },
    {
      "cell_type": "code",
      "metadata": {
        "id": "ptgnsYPmHo1u",
        "colab_type": "code",
        "colab": {}
      },
      "source": [
        "pool8 = [np.array([pool(correlate(im, rot)) for im in eights[1000:]]) for rot in rots]"
      ],
      "execution_count": 0,
      "outputs": []
    },
    {
      "cell_type": "code",
      "metadata": {
        "id": "UoxKz3LNHo10",
        "colab_type": "code",
        "colab": {}
      },
      "source": [
        "len(pool8), pool8[0].shape"
      ],
      "execution_count": 0,
      "outputs": []
    },
    {
      "cell_type": "markdown",
      "metadata": {
        "id": "hUSDBnm9Ho13",
        "colab_type": "text"
      },
      "source": [
        "We plot the result of the first filter+pooling on the first 5 _eights_ in our set. "
      ]
    },
    {
      "cell_type": "code",
      "metadata": {
        "id": "zlqkFm1RHo14",
        "colab_type": "code",
        "colab": {}
      },
      "source": [
        "plots(pool8[0][0:5])"
      ],
      "execution_count": 0,
      "outputs": []
    },
    {
      "cell_type": "markdown",
      "metadata": {
        "id": "5i4oiuoeHo17",
        "colab_type": "text"
      },
      "source": [
        "For the 3 first _eightts_ in our set, we plot the result of the 8 filters+pooling"
      ]
    },
    {
      "cell_type": "code",
      "metadata": {
        "id": "Av_HAmtJHo17",
        "colab_type": "code",
        "colab": {}
      },
      "source": [
        "plots([pool8[i][0] for i in range(8)])\n",
        "plots([pool8[i][1] for i in range(8)])\n",
        "plots([pool8[i][2] for i in range(8)])\n",
        "plots([pool8[i][3] for i in range(8)])"
      ],
      "execution_count": 0,
      "outputs": []
    },
    {
      "cell_type": "markdown",
      "metadata": {
        "id": "zqDZeWY6Ho1-",
        "colab_type": "text"
      },
      "source": [
        "We normalize the data in order to smoothen activations and bring them to similar ranges of values"
      ]
    },
    {
      "cell_type": "code",
      "metadata": {
        "id": "D5wmCZY9Ho2A",
        "colab_type": "code",
        "colab": {}
      },
      "source": [
        "def normalize(arr): return (arr-arr.mean())/arr.std()"
      ],
      "execution_count": 0,
      "outputs": []
    },
    {
      "cell_type": "markdown",
      "metadata": {
        "id": "5-bzBjC6Ho2D",
        "colab_type": "text"
      },
      "source": [
        "Next we compute the average _eight_ by averaging all responses for each filter from _rots_."
      ]
    },
    {
      "cell_type": "code",
      "metadata": {
        "id": "Ldr9Cpx5Ho2D",
        "colab_type": "code",
        "colab": {}
      },
      "source": [
        "filts8 = np.array([ims.mean(axis=0) for ims in pool8])\n",
        "filts8 = normalize(filts8)"
      ],
      "execution_count": 0,
      "outputs": []
    },
    {
      "cell_type": "markdown",
      "metadata": {
        "id": "oZt78eGSHo2H",
        "colab_type": "text"
      },
      "source": [
        "We should obtain a set of canonical _eights_ responses for each filter."
      ]
    },
    {
      "cell_type": "code",
      "metadata": {
        "id": "_UdpsK6AHo2K",
        "colab_type": "code",
        "colab": {}
      },
      "source": [
        "plots(filts8)"
      ],
      "execution_count": 0,
      "outputs": []
    },
    {
      "cell_type": "markdown",
      "metadata": {
        "id": "4HaAjI_uHo2O",
        "colab_type": "text"
      },
      "source": [
        "We proceed similarly with training samples from the _one_ class and plot the canonical _ones_."
      ]
    },
    {
      "cell_type": "code",
      "metadata": {
        "id": "e6baq8YKHo2P",
        "colab_type": "code",
        "colab": {}
      },
      "source": [
        "pool1 = [np.array([pool(correlate(im, rot)) for im in ones[1000:]]) for rot in rots]\n",
        "filts1 = np.array([ims.mean(axis=0) for ims in pool1])\n",
        "filts1 = normalize(filts1)"
      ],
      "execution_count": 0,
      "outputs": []
    },
    {
      "cell_type": "code",
      "metadata": {
        "id": "eq2CtFfAHo2T",
        "colab_type": "code",
        "colab": {}
      },
      "source": [
        "plots(filts1)"
      ],
      "execution_count": 0,
      "outputs": []
    },
    {
      "cell_type": "markdown",
      "metadata": {
        "id": "Bu97H3bNHo2Z",
        "colab_type": "text"
      },
      "source": [
        "Do you notice any differences between ```filts8``` and ```filts1```? Which ones?"
      ]
    },
    {
      "cell_type": "markdown",
      "metadata": {
        "id": "Krvaio26Ho2a",
        "colab_type": "text"
      },
      "source": [
        "We define a function that correlates a given image with all filters from ```rots``` and max pools the responses."
      ]
    },
    {
      "cell_type": "code",
      "metadata": {
        "id": "kgnZzimPHo2a",
        "colab_type": "code",
        "colab": {}
      },
      "source": [
        "def pool_corr(im): return np.array([pool(correlate(im, rot)) for rot in rots])"
      ],
      "execution_count": 0,
      "outputs": []
    },
    {
      "cell_type": "code",
      "metadata": {
        "id": "2vFjsSxcHo2c",
        "colab_type": "code",
        "colab": {}
      },
      "source": [
        "plots(pool_corr(eights[1000]))"
      ],
      "execution_count": 0,
      "outputs": []
    },
    {
      "cell_type": "code",
      "metadata": {
        "id": "Td0bFQ04Ho2j",
        "colab_type": "code",
        "colab": {}
      },
      "source": [
        "#check \n",
        "plots([pool8[i][0] for i in range(8)])\n",
        "np.allclose(pool_corr(eights[1000]),[pool8[i][0] for i in range(8)])"
      ],
      "execution_count": 0,
      "outputs": []
    },
    {
      "cell_type": "code",
      "metadata": {
        "id": "x2cJdyL2Ho2u",
        "colab_type": "code",
        "colab": {}
      },
      "source": [
        "# function used for a voting based classifier that will indicate which one of the \n",
        "# two classes is most likely given the sse distances\n",
        "# n2 comes from norm2\n",
        "# is8_n2 returns 1 if it thinks it's an eight and 0 otherwise\n",
        "def is8_n2(im): return 1 if sse(pool_corr(im),filts1) > sse(pool_corr(im),filts8) else 0"
      ],
      "execution_count": 0,
      "outputs": []
    },
    {
      "cell_type": "markdown",
      "metadata": {
        "id": "SDFMHV3nHo2y",
        "colab_type": "text"
      },
      "source": [
        "We perform a check to see if our function actually works. We correlate the an image of _eight_ with ```filts8``` and ```filts1```. It should give smaller error for the _eights_."
      ]
    },
    {
      "cell_type": "code",
      "metadata": {
        "id": "C_eFq1EWHo2z",
        "colab_type": "code",
        "colab": {}
      },
      "source": [
        "sse(pool_corr(eights[0]), filts8), sse(pool_corr(eights[0]), filts1)"
      ],
      "execution_count": 0,
      "outputs": []
    },
    {
      "cell_type": "code",
      "metadata": {
        "id": "yNINKzvKHo24",
        "colab_type": "code",
        "colab": {}
      },
      "source": [
        "plot(eights[0])"
      ],
      "execution_count": 0,
      "outputs": []
    },
    {
      "cell_type": "markdown",
      "metadata": {
        "id": "roCmorVtHo29",
        "colab_type": "text"
      },
      "source": [
        "We now test our classifier on the 1000 images of _eights_ and 1000 images of _ones_"
      ]
    },
    {
      "cell_type": "code",
      "metadata": {
        "id": "qyn22NsLHo2-",
        "colab_type": "code",
        "colab": {}
      },
      "source": [
        "[np.array([is8_n2(im) for im in ims]).sum() for ims in [eights[:1000],ones[:1000]]]"
      ],
      "execution_count": 0,
      "outputs": []
    },
    {
      "cell_type": "markdown",
      "metadata": {
        "id": "qMNwT2BFHo3G",
        "colab_type": "text"
      },
      "source": [
        "It said in 969 cases it is an _eight_ and 37 case it is a _one_"
      ]
    },
    {
      "cell_type": "markdown",
      "metadata": {
        "id": "OQa5eFzLHo3J",
        "colab_type": "text"
      },
      "source": [
        "Let's now test the opposite, ie it's not an _eight_ , it's not a _one_"
      ]
    },
    {
      "cell_type": "code",
      "metadata": {
        "id": "TEPN_aPbHo3K",
        "colab_type": "code",
        "colab": {}
      },
      "source": [
        "[np.array([(1-is8_n2(im)) for im in ims]).sum() for ims in [eights[:1000],ones[:1000]]]"
      ],
      "execution_count": 0,
      "outputs": []
    },
    {
      "cell_type": "code",
      "metadata": {
        "id": "FO4sLIjSHo3O",
        "colab_type": "code",
        "colab": {}
      },
      "source": [
        "Precision_8 = 969/(969+37)\n",
        "Recall_8 = 969/1000\n",
        "Precision_1 = 963/(963+31)\n",
        "Recall_1 = 963/1000\n",
        "\n",
        "print('precision 8:', Precision_8, 'recall 8:', Recall_8)\n",
        "print('precision 1:', Precision_1, 'recall 1:', Recall_1)\n",
        "print('accuracy :', (Recall_1+Recall_8)/2)"
      ],
      "execution_count": 0,
      "outputs": []
    },
    {
      "cell_type": "markdown",
      "metadata": {
        "id": "ngpIY7gnHo3Q",
        "colab_type": "text"
      },
      "source": [
        "We improved the accuracy while reducing the embedding size from a $28\\times 28 = 784$ vector to a $4\\times 4\\times 8 = 128$ vector."
      ]
    },
    {
      "cell_type": "markdown",
      "metadata": {
        "id": "MYhst9B1Ho3R",
        "colab_type": "text"
      },
      "source": [
        "Let's test the our simple classifier with a new distance"
      ]
    },
    {
      "cell_type": "code",
      "metadata": {
        "id": "ow2vpzyzHo3R",
        "colab_type": "code",
        "colab": {}
      },
      "source": [
        "# sum of absolute differences\n",
        "def n1(a,b): return (np.fabs(a-b)).sum()\n",
        "\n",
        "# is8_n1 returns 1 if it thinks it's an eight and 0 otherwise\n",
        "def is8_n1(im): return 1 if n1(pool_corr(im),filts1) > n1(pool_corr(im),filts8) else 0"
      ],
      "execution_count": 0,
      "outputs": []
    },
    {
      "cell_type": "code",
      "metadata": {
        "id": "_siBxUPGHo3T",
        "colab_type": "code",
        "colab": {}
      },
      "source": [
        "[np.array([is8_n1(im) for im in ims]).sum() for ims in [eights[:1000],ones[:1000]]]"
      ],
      "execution_count": 0,
      "outputs": []
    },
    {
      "cell_type": "code",
      "metadata": {
        "id": "zL8_T1IyHo3X",
        "colab_type": "code",
        "colab": {}
      },
      "source": [
        "[np.array([(1-is8_n1(im)) for im in ims]).sum() for ims in [eights[:1000],ones[:1000]]]"
      ],
      "execution_count": 0,
      "outputs": []
    },
    {
      "cell_type": "markdown",
      "metadata": {
        "id": "yoy--n6IHo3b",
        "colab_type": "text"
      },
      "source": [
        "We have successfully built a classifier for _eights_ and _ones_ using features extract with a bank of pre-defined features and a set of training samples. We will improved it during the next lectures.\n",
        "\n",
        "#### Questions\n",
        "- What are the advantages of this method?\n",
        "- What are the weak points of this method?\n",
        "- How can we improve it?"
      ]
    },
    {
      "cell_type": "markdown",
      "metadata": {
        "collapsed": true,
        "id": "wpNdvNN1Ho3c",
        "colab_type": "text"
      },
      "source": [
        "### A few useful ressources about convolutions:\n",
        "1. [Convolution animations](https://github.com/vdumoulin/conv_arithmetic/blob/master/README.md)\n",
        "2. [Interactive image kernels](http://setosa.io/ev/image-kernels/)\n",
        "3. [CS231n: Convolutional Neural Networks](http://cs231n.github.io/convolutional-networks/)"
      ]
    },
    {
      "cell_type": "markdown",
      "metadata": {
        "collapsed": true,
        "id": "Y_mBZHv9Ho3d",
        "colab_type": "text"
      },
      "source": [
        "## 5. Practicals: improving classification with Convolutional Neural Net\n",
        "\n",
        "You will now build a neural net that will learn the weights of the filters.\n",
        "\n",
        "The first layer of your network will be a convolutional layer with $8$ filters of size $3\\times 3$ as we did above. This will produce a (once flatten) a vector of size $128 = 3\\times 3\\times 8$. From this vector, you need to predict if the corresponding input is a $1$ or a $8$. So you are back to a classification problem or logistic regression, i.e. from there you can apply the solution of previous homework!\n",
        "\n",
        "You need to fill the code written below to construct your CNN. You will need to look for documentation about [torch.nn](https://pytorch.org/docs/stable/nn.html) in the Pytorch doc."
      ]
    },
    {
      "cell_type": "code",
      "metadata": {
        "id": "F4ADp7YLHo3d",
        "colab_type": "code",
        "colab": {}
      },
      "source": [
        "import torch.nn as nn\n",
        "import torch.nn.functional as F\n",
        "\n",
        "class classifier(nn.Module):\n",
        "    \n",
        "    def __init__(self):\n",
        "        super(classifier, self).__init__()\n",
        "        # fill the missing entries below\n",
        "        self.conv1 = nn.Conv2d(in_channels=1, out_channels=8, kernel_size=3, padding=?)\n",
        "        self.fc = nn.Linear(in_features=128, out_features=2)\n",
        "        \n",
        "    def forward(self,x):\n",
        "        # implement your network here, use F.max_pool2d, F.log_softmax and do not forget to flatten your vector\n",
        "        x = self.conv1(x)\n",
        "        #\n",
        "        # Your code here\n",
        "        #\n",
        "        #\n",
        "        return x"
      ],
      "execution_count": 0,
      "outputs": []
    },
    {
      "cell_type": "code",
      "metadata": {
        "id": "5YinNMu0Ho3g",
        "colab_type": "code",
        "colab": {}
      },
      "source": [
        "conv_class = classifier()"
      ],
      "execution_count": 0,
      "outputs": []
    },
    {
      "cell_type": "markdown",
      "metadata": {
        "id": "EapjD0UQHo3k",
        "colab_type": "text"
      },
      "source": [
        "Your code should work fine on a batch of 3 images."
      ]
    },
    {
      "cell_type": "code",
      "metadata": {
        "id": "EtN49qaUHo3p",
        "colab_type": "code",
        "colab": {}
      },
      "source": [
        "batch_3images = train_set.data[0:2].type(torch.FloatTensor).resize_(3, 1, 28, 28)\n",
        "conv_class(batch_3images)"
      ],
      "execution_count": 0,
      "outputs": []
    },
    {
      "cell_type": "markdown",
      "metadata": {
        "id": "5s841xShHo3u",
        "colab_type": "text"
      },
      "source": [
        "The following lines of code implement a data loader for the train set and the test set. No modification is needed."
      ]
    },
    {
      "cell_type": "code",
      "metadata": {
        "id": "iO_mo1CaHo3u",
        "colab_type": "code",
        "colab": {}
      },
      "source": [
        "bs = 64\n",
        "\n",
        "l8 = np.array(0)\n",
        "eights_dataset = [[torch.from_numpy(e.astype(np.float32)).unsqueeze(0), torch.from_numpy(l8.astype(np.int64))] for e in eights]\n",
        "l1 = np.array(1)\n",
        "ones_dataset = [[torch.from_numpy(e.astype(np.float32)).unsqueeze(0), torch.from_numpy(l1.astype(np.int64))] for e in ones]\n",
        "train_dataset = eights_dataset[1000:] + ones_dataset[1000:]\n",
        "test_dataset = eights_dataset[:1000] + ones_dataset[:1000]\n",
        "\n",
        "train_loader = torch.utils.data.DataLoader(train_dataset,\n",
        "    batch_size=bs, shuffle=True)\n",
        "test_loader = torch.utils.data.DataLoader(test_dataset,\n",
        "    batch_size=bs, shuffle=True)"
      ],
      "execution_count": 0,
      "outputs": []
    },
    {
      "cell_type": "markdown",
      "metadata": {
        "id": "LVzpT2LvHo3x",
        "colab_type": "text"
      },
      "source": [
        "You need now to code the training loop. Store the loss and accuracy for each epoch."
      ]
    },
    {
      "cell_type": "code",
      "metadata": {
        "id": "jsu7KRMIHo3y",
        "colab_type": "code",
        "colab": {}
      },
      "source": [
        "def train(model,data_loader,loss_fn,optimizer,n_epochs=1):\n",
        "    model.train(True)\n",
        "    loss_train = np.zeros(n_epochs)\n",
        "    acc_train = np.zeros(n_epochs)\n",
        "    for epoch_num in range(n_epochs):\n",
        "        running_corrects = 0.0\n",
        "        running_loss = 0.0\n",
        "        size = 0\n",
        "\n",
        "        for data in data_loader:\n",
        "            inputs, labels = data\n",
        "            bs = labels.size(0)\n",
        "                \n",
        "            #\n",
        "            #\n",
        "            # Your code here\n",
        "            #\n",
        "            #\n",
        "            size += bs\n",
        "        epoch_loss = running_loss.item() / size\n",
        "        epoch_acc = running_corrects.item() / size\n",
        "        loss_train[epoch_num] = epoch_loss\n",
        "        acc_train[epoch_num] = epoch_acc\n",
        "        print('Train - Loss: {:.4f} Acc: {:.4f}'.format(epoch_loss, epoch_acc))\n",
        "      return loss_train, acc_train"
      ],
      "execution_count": 0,
      "outputs": []
    },
    {
      "cell_type": "code",
      "metadata": {
        "id": "5Es_nmD2Ho34",
        "colab_type": "code",
        "colab": {}
      },
      "source": [
        "conv_class = classifier()\n",
        "# choose the appropriate loss\n",
        "loss_fn = \n",
        "# your SGD optimizer\n",
        "learning_rate = 1e-3\n",
        "optimizer_cl = \n",
        "# and train for 10 epochs\n",
        "l_t, a_t = train(conv_class,train_loader,loss_fn,optimizer_cl,n_epochs = 10)"
      ],
      "execution_count": 0,
      "outputs": []
    },
    {
      "cell_type": "markdown",
      "metadata": {
        "id": "JPG9BbRKHo39",
        "colab_type": "text"
      },
      "source": [
        "Let's learn for 10 more epochs"
      ]
    },
    {
      "cell_type": "code",
      "metadata": {
        "id": "80ABV57nHo3-",
        "colab_type": "code",
        "colab": {}
      },
      "source": [
        "l_t1, a_t1 = train(conv_class,train_loader,loss_fn,optimizer_cl,n_epochs = 10)"
      ],
      "execution_count": 0,
      "outputs": []
    },
    {
      "cell_type": "markdown",
      "metadata": {
        "id": "P960YqN0Ho4J",
        "colab_type": "text"
      },
      "source": [
        "Our network seems to learn but we now need to check its accuracy on the test set."
      ]
    },
    {
      "cell_type": "code",
      "metadata": {
        "id": "f_ttkHKAHo4K",
        "colab_type": "code",
        "colab": {}
      },
      "source": [
        "def test(model,data_loader):\n",
        "    model.train(False)\n",
        "\n",
        "    running_corrects = 0.0\n",
        "    running_loss = 0.0\n",
        "    size = 0\n",
        "\n",
        "    for data in data_loader:\n",
        "        inputs, labels = data\n",
        "            \n",
        "        bs = labels.size(0)\n",
        "        #\n",
        "        # Your code here\n",
        "        #\n",
        "        size += bs\n",
        "\n",
        "    print('Test - Loss: {:.4f} Acc: {:.4f}'.format(running_loss / size, running_corrects.item() / size))"
      ],
      "execution_count": 0,
      "outputs": []
    },
    {
      "cell_type": "code",
      "metadata": {
        "id": "nNB9RU20Ho4M",
        "colab_type": "code",
        "colab": {}
      },
      "source": [
        "test(conv_class,test_loader)"
      ],
      "execution_count": 0,
      "outputs": []
    },
    {
      "cell_type": "markdown",
      "metadata": {
        "id": "1ZUVmjBOHo4O",
        "colab_type": "text"
      },
      "source": [
        "Change the optimizer to Adam."
      ]
    },
    {
      "cell_type": "code",
      "metadata": {
        "id": "eqLRDPTxHo4P",
        "colab_type": "code",
        "colab": {}
      },
      "source": [
        ""
      ],
      "execution_count": 0,
      "outputs": []
    },
    {
      "cell_type": "markdown",
      "metadata": {
        "id": "VnXvEogNHo4S",
        "colab_type": "text"
      },
      "source": [
        "How many parameters did your network learn?"
      ]
    },
    {
      "cell_type": "code",
      "metadata": {
        "id": "Qd5JSwZDHo4S",
        "colab_type": "code",
        "colab": {}
      },
      "source": [
        ""
      ],
      "execution_count": 0,
      "outputs": []
    },
    {
      "cell_type": "markdown",
      "metadata": {
        "id": "lfxpzNo8Ho4U",
        "colab_type": "text"
      },
      "source": [
        "You can see them as follows:"
      ]
    },
    {
      "cell_type": "code",
      "metadata": {
        "id": "XkpdG05OHo4U",
        "colab_type": "code",
        "colab": {}
      },
      "source": [
        "for m in conv_class.children():\n",
        "    print('weights :', m.weight.data)\n",
        "    print('bias :', m.bias.data)"
      ],
      "execution_count": 0,
      "outputs": []
    },
    {
      "cell_type": "code",
      "metadata": {
        "id": "rjXp3y5HHo4W",
        "colab_type": "code",
        "colab": {}
      },
      "source": [
        "for m in conv_class.children():\n",
        "    T_w = m.weight.data.numpy()\n",
        "    T_b = m.bias.data.numpy()\n",
        "    break"
      ],
      "execution_count": 0,
      "outputs": []
    },
    {
      "cell_type": "code",
      "metadata": {
        "id": "S-g2xTm-Ho4X",
        "colab_type": "code",
        "colab": {}
      },
      "source": [
        "plots([T_w[i][0] for i in range(8)])"
      ],
      "execution_count": 0,
      "outputs": []
    },
    {
      "cell_type": "code",
      "metadata": {
        "id": "PlvjNVKhHo4Z",
        "colab_type": "code",
        "colab": {}
      },
      "source": [
        "T_b"
      ],
      "execution_count": 0,
      "outputs": []
    },
    {
      "cell_type": "code",
      "metadata": {
        "id": "XORiuyWzHo4a",
        "colab_type": "code",
        "colab": {}
      },
      "source": [
        ""
      ],
      "execution_count": 0,
      "outputs": []
    }
  ]
}
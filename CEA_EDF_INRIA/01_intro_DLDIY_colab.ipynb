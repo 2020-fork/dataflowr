{
 "cells": [
  {
   "cell_type": "markdown",
   "metadata": {
    "colab_type": "text",
    "id": "view-in-github"
   },
   "source": [
    "<a href=\"https://colab.research.google.com/github/mlelarge/dataflowr/blob/master/01_intro_DLDIY_colab.ipynb\" target=\"_parent\"><img src=\"https://colab.research.google.com/assets/colab-badge.svg\" alt=\"Open In Colab\"/></a>"
   ]
  },
  {
   "cell_type": "markdown",
   "metadata": {
    "colab_type": "text",
    "id": "-SvfKxAGCdhF"
   },
   "source": [
    "# Using CNN for dogs vs cats"
   ]
  },
  {
   "cell_type": "markdown",
   "metadata": {
    "colab_type": "text",
    "id": "VI1VQlwECdhG"
   },
   "source": [
    "We are going to create a model to enter the [Dogs vs Cats](https://www.kaggle.com/c/dogs-vs-cats-redux-kernels-edition) competition at Kaggle."
   ]
  },
  {
   "cell_type": "markdown",
   "metadata": {
    "colab_type": "text",
    "id": "dyhW08piCdhH"
   },
   "source": [
    "There are 25,000 labelled dog and cat photos available for training, and 12,500 in the test set that we have to try to label for this competition. According to the Kaggle web-site, when this competition was launched (end of 2013): *\"**State of the art**: The current literature suggests machine classifiers can score above 80% accuracy on this task\"*. So if you can beat 80%, then you will be at the cutting edge as of 2013!"
   ]
  },
  {
   "cell_type": "markdown",
   "metadata": {
    "colab_type": "text",
    "id": "uFXJDuj3C01w"
   },
   "source": [
    "## Colab preparation"
   ]
  },
  {
   "cell_type": "code",
   "execution_count": 0,
   "metadata": {
    "colab": {},
    "colab_type": "code",
    "id": "NcRY9-oUCdhJ"
   },
   "outputs": [],
   "source": [
    "# to install pytorch on colab\n",
    "#from os import path\n",
    "#from wheel.pep425tags import get_abbr_impl, get_impl_ver, get_abi_tag\n",
    "#platform = '{}{}-{}'.format(get_abbr_impl(), get_impl_ver(), get_abi_tag())\n",
    "\n",
    "#accelerator = 'cu80' if path.exists('/opt/bin/nvidia-smi') else 'cpu'\n",
    "\n",
    "#!pip install -q http://download.pytorch.org/whl/{accelerator}/torch-1.0.0-{platform}-linux_x86_64.whl torchvision"
   ]
  },
  {
   "cell_type": "code",
   "execution_count": 0,
   "metadata": {
    "colab": {},
    "colab_type": "code",
    "id": "edhumzlSDB5h"
   },
   "outputs": [],
   "source": [
    "#!pip install -U bcolz"
   ]
  },
  {
   "cell_type": "code",
   "execution_count": 0,
   "metadata": {
    "colab": {},
    "colab_type": "code",
    "id": "2Os2SV8vDEai"
   },
   "outputs": [],
   "source": [
    "#!pip install Pillow==4.0.0"
   ]
  },
  {
   "cell_type": "markdown",
   "metadata": {
    "colab_type": "text",
    "id": "h4dAhx8-CdhM"
   },
   "source": [
    "##  Imports"
   ]
  },
  {
   "cell_type": "code",
   "execution_count": 1,
   "metadata": {
    "colab": {},
    "colab_type": "code",
    "id": "6oU4Z_DPCdhM"
   },
   "outputs": [],
   "source": [
    "#from PIL import Image\n",
    "import numpy as np\n",
    "import matplotlib.pyplot as plt\n",
    "import os\n",
    "import torch\n",
    "import torch.nn as nn\n",
    "import torchvision\n",
    "from torchvision import models,transforms,datasets\n",
    "#import bcolz\n",
    "import time\n",
    "%matplotlib inline"
   ]
  },
  {
   "cell_type": "code",
   "execution_count": 2,
   "metadata": {
    "colab": {},
    "colab_type": "code",
    "id": "A66_r51xCdhS"
   },
   "outputs": [
    {
     "data": {
      "text/plain": [
       "'1.0.0'"
      ]
     },
     "execution_count": 2,
     "metadata": {},
     "output_type": "execute_result"
    }
   ],
   "source": [
    "torch.__version__"
   ]
  },
  {
   "cell_type": "code",
   "execution_count": 3,
   "metadata": {
    "colab": {},
    "colab_type": "code",
    "id": "KN3FFTFhHQyi"
   },
   "outputs": [
    {
     "data": {
      "text/plain": [
       "'3.6.7 (default, Oct 21 2018, 08:08:16) \\n[GCC 8.2.0]'"
      ]
     },
     "execution_count": 3,
     "metadata": {},
     "output_type": "execute_result"
    }
   ],
   "source": [
    "import sys\n",
    "sys.version"
   ]
  },
  {
   "cell_type": "markdown",
   "metadata": {
    "colab_type": "text",
    "id": "tuej9DPjCdhX"
   },
   "source": [
    "Check if GPU is available and if not change the [runtime](https://jovianlin.io/pytorch-with-gpu-in-google-colab/)."
   ]
  },
  {
   "cell_type": "code",
   "execution_count": 4,
   "metadata": {
    "colab": {},
    "colab_type": "code",
    "id": "t56d0zbFCdhY"
   },
   "outputs": [
    {
     "name": "stdout",
     "output_type": "stream",
     "text": [
      "Using gpu: True \n"
     ]
    }
   ],
   "source": [
    "device = torch.device(\"cuda:0\" if torch.cuda.is_available() else \"cpu\")\n",
    "\n",
    "print('Using gpu: %s ' % torch.cuda.is_available())"
   ]
  },
  {
   "cell_type": "markdown",
   "metadata": {
    "colab_type": "text",
    "id": "dDLlOjT5Et4p"
   },
   "source": [
    "## Downloading the data"
   ]
  },
  {
   "cell_type": "markdown",
   "metadata": {
    "colab_type": "text",
    "id": "FSmB5oKYCdhc"
   },
   "source": [
    "You can download the full dataset from Kaggle directly.\n",
    "\n",
    "Alternatively, Jeremy Howard provides a direct link to the catvsdogs [dataset](http://files.fast.ai/data/dogscats.zip). He's separated the cats and dogs into separate folders and created a validation folder as well. You'll need this folder structure to run VGG.\n",
    "\n",
    "For test purpose (or if you run on cpu), you should use the (small) sample directory."
   ]
  },
  {
   "cell_type": "code",
   "execution_count": 0,
   "metadata": {
    "colab": {},
    "colab_type": "code",
    "id": "Rnn5pLK6EyJK"
   },
   "outputs": [],
   "source": [
    "%mkdir data\n",
    "%cd /content/data/\n",
    "!wget http://files.fast.ai/data/dogscats.zip"
   ]
  },
  {
   "cell_type": "code",
   "execution_count": 0,
   "metadata": {
    "colab": {},
    "colab_type": "code",
    "id": "BTobJ9vTE37J"
   },
   "outputs": [],
   "source": [
    "!unzip dogscats.zip"
   ]
  },
  {
   "cell_type": "code",
   "execution_count": 0,
   "metadata": {
    "colab": {},
    "colab_type": "code",
    "id": "XsMtmnCbCdhd"
   },
   "outputs": [],
   "source": [
    "%ls"
   ]
  },
  {
   "cell_type": "code",
   "execution_count": 0,
   "metadata": {
    "colab": {},
    "colab_type": "code",
    "id": "S5OW01WzCdhu"
   },
   "outputs": [],
   "source": [
    "%cd dogscats/\n",
    "%ls"
   ]
  },
  {
   "cell_type": "markdown",
   "metadata": {
    "colab_type": "text",
    "id": "Mkj3DZjpCdha"
   },
   "source": [
    "## Data processing"
   ]
  },
  {
   "cell_type": "code",
   "execution_count": 0,
   "metadata": {
    "colab": {},
    "colab_type": "code",
    "id": "iasXk_FKCdhy"
   },
   "outputs": [],
   "source": [
    "%cd .."
   ]
  },
  {
   "cell_type": "code",
   "execution_count": 5,
   "metadata": {
    "colab": {},
    "colab_type": "code",
    "id": "MJRnJgGOCdh4"
   },
   "outputs": [],
   "source": [
    "data_dir = '/home/public/dogscats'#'/content/data/dogscats'"
   ]
  },
  {
   "cell_type": "markdown",
   "metadata": {
    "colab_type": "text",
    "id": "U3lE0cvyCdh8"
   },
   "source": [
    "```datasets``` is a class of the ```torchvision``` package (see [torchvision.datasets](http://pytorch.org/docs/master/torchvision/datasets.html)) and deals with data loading. It integrates a multi-threaded loader that fetches images from the disk, groups them in mini-batches and serves them continously to the GPU right after each _forward_/_backward_ pass through the network.\n",
    "\n",
    "Images needs a bit of preparation before passing them throught the network. They need to have all the same size $224\\times 224 \\times 3$ plus some extra formatting done below by the normalize transform (explained later)."
   ]
  },
  {
   "cell_type": "code",
   "execution_count": 6,
   "metadata": {
    "colab": {},
    "colab_type": "code",
    "id": "8t4vokNrF19p"
   },
   "outputs": [],
   "source": [
    "normalize = transforms.Normalize(mean=[0.485, 0.456, 0.406], std=[0.229, 0.224, 0.225])\n",
    "\n",
    "vgg_format = transforms.Compose([\n",
    "                transforms.CenterCrop(224),\n",
    "                transforms.ToTensor(),\n",
    "                normalize,\n",
    "            ])"
   ]
  },
  {
   "cell_type": "code",
   "execution_count": 7,
   "metadata": {
    "colab": {},
    "colab_type": "code",
    "id": "l8LMReVECdh-"
   },
   "outputs": [],
   "source": [
    "dsets = {x: datasets.ImageFolder(os.path.join(data_dir, x), vgg_format)\n",
    "         for x in ['train', 'valid']}"
   ]
  },
  {
   "cell_type": "code",
   "execution_count": 8,
   "metadata": {
    "colab": {},
    "colab_type": "code",
    "id": "pMh7kjEBCdiC"
   },
   "outputs": [
    {
     "data": {
      "text/plain": [
       "'/home/public/dogscats/train'"
      ]
     },
     "execution_count": 8,
     "metadata": {},
     "output_type": "execute_result"
    }
   ],
   "source": [
    "os.path.join(data_dir,'train')"
   ]
  },
  {
   "cell_type": "markdown",
   "metadata": {
    "colab_type": "text",
    "id": "VNyS0TyeKwdO"
   },
   "source": [
    "Interactive help on jupyter notebook thanks to `?`"
   ]
  },
  {
   "cell_type": "code",
   "execution_count": 10,
   "metadata": {
    "colab": {},
    "colab_type": "code",
    "id": "WX5pkMX4CdiF"
   },
   "outputs": [],
   "source": [
    "?datasets.ImageFolder"
   ]
  },
  {
   "cell_type": "markdown",
   "metadata": {
    "colab_type": "text",
    "id": "oYmIGNEjKwdR"
   },
   "source": [
    "We see that `datasets.ImageFolder` has attributes: classes, class_to_idx, imgs.\n",
    "\n",
    "Let see what they are?"
   ]
  },
  {
   "cell_type": "code",
   "execution_count": 9,
   "metadata": {
    "colab": {},
    "colab_type": "code",
    "id": "m9ifn_R7CdiH"
   },
   "outputs": [
    {
     "data": {
      "text/plain": [
       "['cats', 'dogs']"
      ]
     },
     "execution_count": 9,
     "metadata": {},
     "output_type": "execute_result"
    }
   ],
   "source": [
    "dsets['train'].classes"
   ]
  },
  {
   "cell_type": "code",
   "execution_count": 10,
   "metadata": {
    "colab": {},
    "colab_type": "code",
    "id": "TB6sTwFuCdiK"
   },
   "outputs": [
    {
     "data": {
      "text/plain": [
       "{'cats': 0, 'dogs': 1}"
      ]
     },
     "execution_count": 10,
     "metadata": {},
     "output_type": "execute_result"
    }
   ],
   "source": [
    "dsets['train'].class_to_idx"
   ]
  },
  {
   "cell_type": "code",
   "execution_count": 11,
   "metadata": {
    "colab": {},
    "colab_type": "code",
    "id": "y9ECrD2ACdiO"
   },
   "outputs": [
    {
     "data": {
      "text/plain": [
       "[('/home/public/dogscats/train/cats/cat.0.jpg', 0),\n",
       " ('/home/public/dogscats/train/cats/cat.1.jpg', 0),\n",
       " ('/home/public/dogscats/train/cats/cat.10.jpg', 0),\n",
       " ('/home/public/dogscats/train/cats/cat.100.jpg', 0),\n",
       " ('/home/public/dogscats/train/cats/cat.1000.jpg', 0)]"
      ]
     },
     "execution_count": 11,
     "metadata": {},
     "output_type": "execute_result"
    }
   ],
   "source": [
    "dsets['train'].imgs[:5]"
   ]
  },
  {
   "cell_type": "code",
   "execution_count": 12,
   "metadata": {
    "colab": {},
    "colab_type": "code",
    "id": "WefhjZb2CdiQ"
   },
   "outputs": [
    {
     "data": {
      "text/plain": [
       "{'train': 23000, 'valid': 2000}"
      ]
     },
     "execution_count": 12,
     "metadata": {},
     "output_type": "execute_result"
    }
   ],
   "source": [
    "dset_sizes = {x: len(dsets[x]) for x in ['train', 'valid']}\n",
    "dset_sizes"
   ]
  },
  {
   "cell_type": "code",
   "execution_count": 13,
   "metadata": {
    "colab": {},
    "colab_type": "code",
    "id": "SCLV1YgaCdiT"
   },
   "outputs": [],
   "source": [
    "dset_classes = dsets['train'].classes"
   ]
  },
  {
   "cell_type": "markdown",
   "metadata": {
    "colab_type": "text",
    "id": "Zy52-XhACdiX"
   },
   "source": [
    "The ```torchvision``` packages allows complex pre-processing/transforms of the input data (_e.g._ normalization, cropping, flipping, jittering). A sequence of transforms can be grouped in a pipeline with the help of the ```torchvision.transforms.Compose``` function, see [torchvision.transforms](http://pytorch.org/docs/master/torchvision/transforms.html)"
   ]
  },
  {
   "cell_type": "markdown",
   "metadata": {
    "colab_type": "text",
    "id": "iphL57PhKwdh"
   },
   "source": [
    "The magic help `?` allows you to retrieve function you defined and forgot!"
   ]
  },
  {
   "cell_type": "code",
   "execution_count": 16,
   "metadata": {
    "colab": {},
    "colab_type": "code",
    "id": "X_ARYwraCdiY"
   },
   "outputs": [],
   "source": [
    "?vgg_format"
   ]
  },
  {
   "cell_type": "code",
   "execution_count": 14,
   "metadata": {
    "colab": {},
    "colab_type": "code",
    "id": "tWnJQiWgGP_R"
   },
   "outputs": [],
   "source": [
    "def shuffle_valtrain(x):\n",
    "    if x == 'train':\n",
    "        return True\n",
    "    else:\n",
    "        return False"
   ]
  },
  {
   "cell_type": "code",
   "execution_count": 15,
   "metadata": {
    "colab": {},
    "colab_type": "code",
    "id": "8KQj0Zm3Cdic"
   },
   "outputs": [],
   "source": [
    "dset_loaders = {x: torch.utils.data.DataLoader(dsets[x], batch_size=64,\n",
    "                                               shuffle=shuffle_valtrain(x), num_workers=6)\n",
    "                for x in ['train', 'valid']}"
   ]
  },
  {
   "cell_type": "code",
   "execution_count": 19,
   "metadata": {
    "colab": {},
    "colab_type": "code",
    "id": "Iern_6GNCdie"
   },
   "outputs": [],
   "source": [
    "?torch.utils.data.DataLoader"
   ]
  },
  {
   "cell_type": "code",
   "execution_count": 16,
   "metadata": {
    "colab": {},
    "colab_type": "code",
    "id": "wN1BKHfDCdig"
   },
   "outputs": [],
   "source": [
    "dataset_valid = torch.utils.data.DataLoader(dsets['valid'], batch_size=5, shuffle=True, num_workers=6)"
   ]
  },
  {
   "cell_type": "code",
   "execution_count": 17,
   "metadata": {
    "colab": {},
    "colab_type": "code",
    "id": "Z4Be7lSLCdik"
   },
   "outputs": [
    {
     "name": "stdout",
     "output_type": "stream",
     "text": [
      "1,2,3,4,5,6,7,8,9,10,11,12,13,14,15,16,17,18,19,20,21,22,23,24,25,26,27,28,29,30,31,32,33,34,35,36,37,38,39,40,41,42,43,44,45,46,47,48,49,50,51,52,53,54,55,56,57,58,59,60,61,62,63,64,65,66,67,68,69,70,71,72,73,74,75,76,77,78,79,80,81,82,83,84,85,86,87,88,89,90,91,92,93,94,95,96,97,98,99,100,101,102,103,104,105,106,107,108,109,110,111,112,113,114,115,116,117,118,119,120,121,122,123,124,125,126,127,128,129,130,131,132,133,134,135,136,137,138,139,140,141,142,143,144,145,146,147,148,149,150,151,152,153,154,155,156,157,158,159,160,161,162,163,164,165,166,167,168,169,170,171,172,173,174,175,176,177,178,179,180,181,182,183,184,185,186,187,188,189,190,191,192,193,194,195,196,197,198,199,200,201,202,203,204,205,206,207,208,209,210,211,212,213,214,215,216,217,218,219,220,221,222,223,224,225,226,227,228,229,230,231,232,233,234,235,236,237,238,239,240,241,242,243,244,245,246,247,248,249,250,251,252,253,254,255,256,257,258,259,260,261,262,263,264,265,266,267,268,269,270,271,272,273,274,275,276,277,278,279,280,281,282,283,284,285,286,287,288,289,290,291,292,293,294,295,296,297,298,299,300,301,302,303,304,305,306,307,308,309,310,311,312,313,314,315,316,317,318,319,320,321,322,323,324,325,326,327,328,329,330,331,332,333,334,335,336,337,338,339,340,341,342,343,344,345,346,347,348,349,350,351,352,353,354,355,356,357,358,359,360,361,362,363,364,365,366,367,368,369,370,371,372,373,374,375,376,377,378,379,380,381,382,383,384,385,386,387,388,389,390,391,392,393,394,395,396,397,398,399,400,"
     ]
    }
   ],
   "source": [
    "count = 1\n",
    "for data in dataset_valid:\n",
    "    print(count, end=',')\n",
    "    if count == 1:\n",
    "        inputs_try,labels_try = data\n",
    "    count +=1"
   ]
  },
  {
   "cell_type": "code",
   "execution_count": 18,
   "metadata": {
    "colab": {},
    "colab_type": "code",
    "id": "3BvxQqfzCdiq"
   },
   "outputs": [
    {
     "data": {
      "text/plain": [
       "tensor([1, 0, 0, 1, 0])"
      ]
     },
     "execution_count": 18,
     "metadata": {},
     "output_type": "execute_result"
    }
   ],
   "source": [
    "labels_try"
   ]
  },
  {
   "cell_type": "code",
   "execution_count": 19,
   "metadata": {
    "colab": {},
    "colab_type": "code",
    "id": "MLNsfqc8Cdis"
   },
   "outputs": [
    {
     "data": {
      "text/plain": [
       "torch.Size([5, 3, 224, 224])"
      ]
     },
     "execution_count": 19,
     "metadata": {},
     "output_type": "execute_result"
    }
   ],
   "source": [
    "inputs_try.shape"
   ]
  },
  {
   "cell_type": "markdown",
   "metadata": {
    "colab_type": "text",
    "id": "vsaL21ouKwd9"
   },
   "source": [
    "A small function to display images:"
   ]
  },
  {
   "cell_type": "code",
   "execution_count": 20,
   "metadata": {
    "colab": {},
    "colab_type": "code",
    "id": "346yl-gbcLLm"
   },
   "outputs": [],
   "source": [
    "def imshow(inp, title=None):\n",
    "#   Imshow for Tensor.\n",
    "    inp = inp.numpy().transpose((1, 2, 0))\n",
    "    mean = np.array([0.485, 0.456, 0.406])\n",
    "    std = np.array([0.229, 0.224, 0.225])\n",
    "    inp = np.clip(std * inp + mean, 0,1)\n",
    "    plt.imshow(inp)\n",
    "    if title is not None:\n",
    "        plt.title(title)\n",
    "    plt.pause(0.001)  # pause a bit so that plots are updated"
   ]
  },
  {
   "cell_type": "code",
   "execution_count": 21,
   "metadata": {
    "colab": {},
    "colab_type": "code",
    "id": "IJbW-QzGCdiv"
   },
   "outputs": [
    {
     "data": {
      "image/png": "[encoded data removed]",
      "text/plain": [
       "<Figure size 432x288 with 1 Axes>"
      ]
     },
     "metadata": {
      "needs_background": "light"
     },
     "output_type": "display_data"
    }
   ],
   "source": [
    "# Make a grid from batch\n",
    "out = torchvision.utils.make_grid(inputs_try)\n",
    "\n",
    "imshow(out, title=[dset_classes[x] for x in labels_try])"
   ]
  },
  {
   "cell_type": "markdown",
   "metadata": {
    "colab_type": "text",
    "id": "8ZK7nRSWKweH"
   },
   "source": [
    "What is an image for your computer?"
   ]
  },
  {
   "cell_type": "code",
   "execution_count": 22,
   "metadata": {
    "colab": {},
    "colab_type": "code",
    "id": "hrzxYMXXCdix"
   },
   "outputs": [
    {
     "data": {
      "text/plain": [
       "tensor([[[[-1.3473, -1.4329, -1.4329,  ..., -1.8097, -1.8782, -1.8782],\n",
       "          [-1.2959, -1.6213, -1.3302,  ..., -1.8097, -1.8953, -1.8953],\n",
       "          [-1.4500, -1.6042, -1.5528,  ..., -1.8097, -1.8610, -1.9124],\n",
       "          ...,\n",
       "          [ 1.7865,  1.8208,  1.6838,  ...,  0.0741,  0.2282,  0.2796],\n",
       "          [ 1.8037,  1.8208,  1.5810,  ...,  0.1083,  0.2453,  0.3138],\n",
       "          [ 1.8037,  1.7694,  1.4440,  ...,  0.0912,  0.2111,  0.3138]],\n",
       "\n",
       "         [[-1.1779, -1.3354, -1.3880,  ..., -1.6331, -1.7381, -1.7381],\n",
       "          [-1.1253, -1.4755, -1.2479,  ..., -1.6331, -1.7556, -1.7556],\n",
       "          [-1.2829, -1.4580, -1.4405,  ..., -1.6331, -1.7206, -1.7731],\n",
       "          ...,\n",
       "          [ 2.0259,  2.0084,  1.7808,  ...,  0.0301,  0.1877,  0.1877],\n",
       "          [ 2.0084,  1.9909,  1.6583,  ...,  0.0651,  0.2052,  0.2227],\n",
       "          [ 1.9734,  1.9209,  1.5182,  ...,  0.0476,  0.1702,  0.2227]],\n",
       "\n",
       "         [[-0.7936, -0.9678, -1.0376,  ..., -1.2990, -1.3861, -1.4210],\n",
       "          [-0.7413, -1.1247, -0.9156,  ..., -1.2990, -1.4036, -1.4384],\n",
       "          [-0.8981, -1.1073, -1.1247,  ..., -1.2990, -1.3687, -1.4559],\n",
       "          ...,\n",
       "          [ 2.2914,  2.2566,  1.9777,  ...,  0.0953,  0.2522,  0.2522],\n",
       "          [ 2.2043,  2.1694,  1.8208,  ...,  0.1302,  0.2696,  0.2871],\n",
       "          [ 2.1520,  2.0648,  1.6640,  ...,  0.1128,  0.2348,  0.2871]]],\n",
       "\n",
       "\n",
       "        [[[ 1.6495,  1.6838,  1.2899,  ...,  2.0605,  2.0605,  2.0605],\n",
       "          [ 1.4954,  1.2899,  0.8447,  ...,  2.0605,  2.0948,  2.1633],\n",
       "          [ 1.4098,  0.8618,  0.4508,  ...,  2.0948,  2.1462,  2.2318],\n",
       "          ...,\n",
       "          [ 1.6324,  1.7180,  1.8722,  ..., -1.4158, -1.6213, -1.6213],\n",
       "          [ 2.2489,  2.2489,  2.1804,  ..., -1.6042, -1.6898, -1.7240],\n",
       "          [ 2.2489,  2.2489,  2.2489,  ..., -1.5870, -1.6555, -1.7412]],\n",
       "\n",
       "         [[-1.6155, -1.3529, -1.5280,  ..., -1.2654, -1.1779, -1.0903],\n",
       "          [-1.5280, -1.4580, -1.5980,  ..., -1.2829, -1.2129, -1.1253],\n",
       "          [-1.4230, -1.6331, -1.7031,  ..., -1.3004, -1.2479, -1.1078],\n",
       "          ...,\n",
       "          [-1.1078, -1.1604, -1.2304,  ..., -1.6506, -1.8606, -1.8606],\n",
       "          [-1.3179, -1.3354, -1.4055,  ..., -1.7031, -1.7731, -1.8081],\n",
       "          [-1.4055, -1.3529, -1.2829,  ..., -1.7381, -1.8081, -1.8431]],\n",
       "\n",
       "         [[-0.5844, -0.3230, -0.5147,  ..., -0.4101, -0.3927, -0.3753],\n",
       "          [-0.6018, -0.5670, -0.7413,  ..., -0.4275, -0.4101, -0.3230],\n",
       "          [-0.5670, -0.8284, -0.9330,  ..., -0.4275, -0.3753, -0.2881],\n",
       "          ...,\n",
       "          [-0.4973, -0.4973, -0.4973,  ..., -1.5256, -1.7347, -1.7347],\n",
       "          [-0.2881, -0.3055, -0.4101,  ..., -1.5081, -1.5779, -1.6127],\n",
       "          [-0.3753, -0.3230, -0.2881,  ..., -1.5256, -1.5953, -1.6476]]],\n",
       "\n",
       "\n",
       "        [[[-1.9980, -2.0152, -2.0152,  ...,  0.8104,  0.9303,  1.0502],\n",
       "          [-1.9809, -2.0152, -1.9980,  ...,  0.9474,  0.9303,  1.0331],\n",
       "          [-1.9638, -1.9638, -1.9467,  ...,  1.0331,  0.9988,  0.9988],\n",
       "          ...,\n",
       "          [ 1.4612,  1.4783,  1.5125,  ...,  0.4679,  0.2111,  0.2624],\n",
       "          [ 1.4783,  1.4098,  1.3584,  ...,  0.2111,  0.1597,  0.3823],\n",
       "          [ 1.5125,  1.5125,  1.4783,  ...,  0.2796,  0.2111,  0.3994]],\n",
       "\n",
       "         [[-1.9307, -1.9132, -1.9132,  ...,  0.2227,  0.3452,  0.4678],\n",
       "          [-1.9657, -1.9482, -1.9307,  ...,  0.3627,  0.3452,  0.4503],\n",
       "          [-1.9657, -1.9657, -1.9482,  ...,  0.4503,  0.3627,  0.3627],\n",
       "          ...,\n",
       "          [ 1.3256,  1.3256,  1.3606,  ..., -0.2675, -0.5301, -0.4776],\n",
       "          [ 1.3431,  1.2556,  1.2031,  ..., -0.5301, -0.5826, -0.3550],\n",
       "          [ 1.3782,  1.3606,  1.3256,  ..., -0.4601, -0.5301, -0.3375]],\n",
       "\n",
       "         [[-1.7696, -1.7696, -1.7696,  ...,  0.4614,  0.5834,  0.7054],\n",
       "          [-1.7870, -1.7870, -1.7696,  ...,  0.6182,  0.6008,  0.7054],\n",
       "          [-1.7870, -1.7870, -1.7696,  ...,  0.7054,  0.6356,  0.6356],\n",
       "          ...,\n",
       "          [ 1.2631,  1.2980,  1.3677,  ..., -0.6541, -0.9156, -0.8633],\n",
       "          [ 1.2805,  1.2282,  1.2108,  ..., -0.9156, -0.9678, -0.7413],\n",
       "          [ 1.3154,  1.3328,  1.2980,  ..., -0.8458, -0.9156, -0.7238]]],\n",
       "\n",
       "\n",
       "        [[[-2.1179, -2.1179, -2.1179,  ..., -2.1179, -2.1179, -2.1179],\n",
       "          [-2.1179, -2.1179, -2.1179,  ..., -2.1179, -2.1179, -2.1179],\n",
       "          [-2.1179, -2.1179, -2.1179,  ..., -2.1179, -2.1179, -2.1179],\n",
       "          ...,\n",
       "          [-2.1179, -2.1179, -2.1179,  ..., -2.1179, -2.1179, -2.1179],\n",
       "          [-2.1179, -2.1179, -2.1179,  ..., -2.1179, -2.1179, -2.1179],\n",
       "          [-2.1179, -2.1179, -2.1179,  ..., -2.1179, -2.1179, -2.1179]],\n",
       "\n",
       "         [[-2.0357, -2.0357, -2.0357,  ..., -2.0357, -2.0357, -2.0357],\n",
       "          [-2.0357, -2.0357, -2.0357,  ..., -2.0357, -2.0357, -2.0357],\n",
       "          [-2.0357, -2.0357, -2.0357,  ..., -2.0357, -2.0357, -2.0357],\n",
       "          ...,\n",
       "          [-2.0357, -2.0357, -2.0357,  ..., -2.0357, -2.0357, -2.0357],\n",
       "          [-2.0357, -2.0357, -2.0357,  ..., -2.0357, -2.0357, -2.0357],\n",
       "          [-2.0357, -2.0357, -2.0357,  ..., -2.0357, -2.0357, -2.0357]],\n",
       "\n",
       "         [[-1.8044, -1.8044, -1.8044,  ..., -1.8044, -1.8044, -1.8044],\n",
       "          [-1.8044, -1.8044, -1.8044,  ..., -1.8044, -1.8044, -1.8044],\n",
       "          [-1.8044, -1.8044, -1.8044,  ..., -1.8044, -1.8044, -1.8044],\n",
       "          ...,\n",
       "          [-1.8044, -1.8044, -1.8044,  ..., -1.8044, -1.8044, -1.8044],\n",
       "          [-1.8044, -1.8044, -1.8044,  ..., -1.8044, -1.8044, -1.8044],\n",
       "          [-1.8044, -1.8044, -1.8044,  ..., -1.8044, -1.8044, -1.8044]]],\n",
       "\n",
       "\n",
       "        [[[-1.0219, -1.0219, -1.0219,  ..., -1.1932, -1.0219, -1.0904],\n",
       "          [-1.0219, -1.0219, -1.0219,  ..., -1.2788, -1.2617, -1.2788],\n",
       "          [-1.0219, -1.0219, -1.0219,  ..., -1.3302, -1.3302, -1.3130],\n",
       "          ...,\n",
       "          [-0.2513, -0.2513, -0.2513,  ..., -0.7650, -0.8678, -0.8335],\n",
       "          [-0.2342, -0.2342, -0.2342,  ..., -0.9192, -1.0733, -1.0562],\n",
       "          [-0.2342, -0.2342, -0.2342,  ..., -1.0219, -1.1589, -1.1247]],\n",
       "\n",
       "         [[-1.5630, -1.5630, -1.5630,  ..., -1.4580, -1.2829, -1.3704],\n",
       "          [-1.5630, -1.5630, -1.5630,  ..., -1.5455, -1.5280, -1.5630],\n",
       "          [-1.5630, -1.5630, -1.5630,  ..., -1.5980, -1.5980, -1.5980],\n",
       "          ...,\n",
       "          [-1.2829, -1.2829, -1.2829,  ..., -1.1253, -1.1954, -1.1604],\n",
       "          [-1.2654, -1.2654, -1.2654,  ..., -1.2129, -1.3704, -1.3179],\n",
       "          [-1.2654, -1.2654, -1.2654,  ..., -1.2829, -1.3880, -1.3529]],\n",
       "\n",
       "         [[-1.6127, -1.6127, -1.6127,  ..., -1.1421, -0.9678, -1.0898],\n",
       "          [-1.6127, -1.6127, -1.6127,  ..., -1.2293, -1.2119, -1.2816],\n",
       "          [-1.6127, -1.6127, -1.6127,  ..., -1.2816, -1.2816, -1.3164],\n",
       "          ...,\n",
       "          [-1.6127, -1.6127, -1.6127,  ..., -1.0550, -1.0898, -1.0550],\n",
       "          [-1.5953, -1.5953, -1.5953,  ..., -1.0898, -1.2467, -1.1770],\n",
       "          [-1.5953, -1.5953, -1.5953,  ..., -1.1421, -1.2293, -1.1944]]]])"
      ]
     },
     "execution_count": 22,
     "metadata": {},
     "output_type": "execute_result"
    }
   ],
   "source": [
    "inputs_try"
   ]
  },
  {
   "cell_type": "code",
   "execution_count": 23,
   "metadata": {
    "colab": {},
    "colab_type": "code",
    "id": "2HvFNWJICdiz"
   },
   "outputs": [
    {
     "data": {
      "image/png": "[encoded data removed]",
      "text/plain": [
       "<Figure size 432x288 with 1 Axes>"
      ]
     },
     "metadata": {
      "needs_background": "light"
     },
     "output_type": "display_data"
    }
   ],
   "source": [
    "# Get a batch of training data\n",
    "inputs, classes = next(iter(dset_loaders['train']))\n",
    "\n",
    "n_images = 8\n",
    "\n",
    "# Make a grid from batch\n",
    "out = torchvision.utils.make_grid(inputs[0:n_images])\n",
    "\n",
    "imshow(out, title=[dset_classes[x] for x in classes[0:n_images]])"
   ]
  },
  {
   "cell_type": "code",
   "execution_count": 24,
   "metadata": {
    "colab": {},
    "colab_type": "code",
    "id": "iUrTGlTpCdi5"
   },
   "outputs": [
    {
     "data": {
      "image/png": "[encoded data removed]",
      "text/plain": [
       "<Figure size 432x288 with 1 Axes>"
      ]
     },
     "metadata": {
      "needs_background": "light"
     },
     "output_type": "display_data"
    }
   ],
   "source": [
    "# Get a batch of validation data\n",
    "inputs, classes = next(iter(dset_loaders['valid']))\n",
    "\n",
    "n_images = 8\n",
    "\n",
    "# Make a grid from batch\n",
    "out = torchvision.utils.make_grid(inputs[0:n_images])\n",
    "\n",
    "imshow(out, title=[dset_classes[x] for x in classes[0:n_images]])"
   ]
  },
  {
   "cell_type": "markdown",
   "metadata": {
    "colab_type": "text",
    "id": "LOvkYiROCdi7"
   },
   "source": [
    "## Creating VGG Model"
   ]
  },
  {
   "cell_type": "markdown",
   "metadata": {
    "colab_type": "text",
    "id": "BO5LAG4bCdi7"
   },
   "source": [
    "The torchvision module comes with a zoo of popular CNN architectures which are already trained on [ImageNet](http://www.image-net.org/) (1.2M training images). When called the first time, if ```pretrained=True``` the model is fetched over the internet and downloaded to ```~/.torch/models```.\n",
    "For next calls, the model will be directly read from there."
   ]
  },
  {
   "cell_type": "code",
   "execution_count": 25,
   "metadata": {
    "colab": {},
    "colab_type": "code",
    "id": "K9PsHjXgCdi9"
   },
   "outputs": [],
   "source": [
    "model_vgg = models.vgg16(pretrained=True)"
   ]
  },
  {
   "cell_type": "markdown",
   "metadata": {
    "colab_type": "text",
    "id": "VBzGe2mlCdi-"
   },
   "source": [
    "We will first use VGG Model without any modification. In order to interpret the results, we need to import the 1000 ImageNet categories, available at: [https://s3.amazonaws.com/deep-learning-models/image-models/imagenet_class_index.json](https://s3.amazonaws.com/deep-learning-models/image-models/imagenet_class_index.json)"
   ]
  },
  {
   "cell_type": "code",
   "execution_count": 26,
   "metadata": {
    "colab": {},
    "colab_type": "code",
    "id": "qhvs0ki_Cdi_"
   },
   "outputs": [
    {
     "name": "stdout",
     "output_type": "stream",
     "text": [
      "--2019-06-21 17:07:49--  https://s3.amazonaws.com/deep-learning-models/image-models/imagenet_class_index.json\n",
      "Resolving s3.amazonaws.com (s3.amazonaws.com)... 52.216.20.35\n",
      "Connecting to s3.amazonaws.com (s3.amazonaws.com)|52.216.20.35|:443... connected.\n",
      "HTTP request sent, awaiting response... 200 OK\n",
      "Length: 35363 (35K) [application/octet-stream]\n",
      "Saving to: 'imagenet_class_index.json'\n",
      "\n",
      "imagenet_class_inde 100%[===================>]  34.53K  --.-KB/s    in 0.1s    \n",
      "\n",
      "2019-06-21 17:07:50 (343 KB/s) - 'imagenet_class_index.json' saved [35363/35363]\n",
      "\n"
     ]
    }
   ],
   "source": [
    "!wget https://s3.amazonaws.com/deep-learning-models/image-models/imagenet_class_index.json"
   ]
  },
  {
   "cell_type": "code",
   "execution_count": 28,
   "metadata": {
    "colab": {},
    "colab_type": "code",
    "id": "Hppljqo5CdjC"
   },
   "outputs": [],
   "source": [
    "import json\n",
    "\n",
    "fpath = '/home/mlelarge/dataflowr/CEA_EDF_INRIA/imagenet_class_index.json'#'/content/data/imagenet_class_index.json'\n",
    "\n",
    "with open(fpath) as f:\n",
    "    class_dict = json.load(f)\n",
    "dic_imagenet = [class_dict[str(i)][1] for i in range(len(class_dict))]"
   ]
  },
  {
   "cell_type": "code",
   "execution_count": 29,
   "metadata": {
    "colab": {},
    "colab_type": "code",
    "id": "QATvAFILCdjF"
   },
   "outputs": [
    {
     "data": {
      "text/plain": [
       "['tench', 'goldfish', 'great_white_shark', 'tiger_shark']"
      ]
     },
     "execution_count": 29,
     "metadata": {},
     "output_type": "execute_result"
    }
   ],
   "source": [
    "dic_imagenet[:4]"
   ]
  },
  {
   "cell_type": "code",
   "execution_count": 30,
   "metadata": {
    "colab": {},
    "colab_type": "code",
    "id": "p6QQhwruCdjI"
   },
   "outputs": [],
   "source": [
    "inputs_try , labels_try = inputs_try.to(device), labels_try.to(device)\n",
    "\n",
    "model_vgg = model_vgg.to(device)"
   ]
  },
  {
   "cell_type": "code",
   "execution_count": 31,
   "metadata": {
    "colab": {},
    "colab_type": "code",
    "id": "epMB0UF9CdjM"
   },
   "outputs": [],
   "source": [
    "outputs_try = model_vgg(inputs_try)"
   ]
  },
  {
   "cell_type": "code",
   "execution_count": 32,
   "metadata": {
    "colab": {},
    "colab_type": "code",
    "id": "dOlx7YcPCdjO"
   },
   "outputs": [
    {
     "data": {
      "text/plain": [
       "tensor([[-3.3150, -2.9287,  1.0550,  ..., -3.3468,  0.3990,  5.4064],\n",
       "        [-3.8645, -0.7666, -1.9593,  ..., -4.5360, -0.1169,  4.3768],\n",
       "        [-1.9598,  3.2900, -0.2257,  ..., -2.9543,  4.0222,  3.6820],\n",
       "        [ 2.2399, -1.3162, -0.0210,  ..., -2.7409,  3.4174,  0.0644],\n",
       "        [-4.5814, -1.3731, -2.3619,  ..., -7.1378,  2.1135,  9.5251]],\n",
       "       device='cuda:0', grad_fn=<AddmmBackward>)"
      ]
     },
     "execution_count": 32,
     "metadata": {},
     "output_type": "execute_result"
    }
   ],
   "source": [
    "outputs_try"
   ]
  },
  {
   "cell_type": "code",
   "execution_count": 33,
   "metadata": {},
   "outputs": [
    {
     "data": {
      "text/plain": [
       "torch.Size([5, 1000])"
      ]
     },
     "execution_count": 33,
     "metadata": {},
     "output_type": "execute_result"
    }
   ],
   "source": [
    "outputs_try.shape"
   ]
  },
  {
   "cell_type": "code",
   "execution_count": 34,
   "metadata": {
    "colab": {},
    "colab_type": "code",
    "id": "MCIxHN2QCdjT"
   },
   "outputs": [],
   "source": [
    "m_softm = nn.Softmax(dim=1)\n",
    "probs = m_softm(outputs_try)\n",
    "vals_try,preds_try = torch.max(probs,dim=1)"
   ]
  },
  {
   "cell_type": "code",
   "execution_count": 35,
   "metadata": {},
   "outputs": [
    {
     "data": {
      "text/plain": [
       "tensor([1.0000, 1.0000, 1.0000, 1.0000, 1.0000], device='cuda:0',\n",
       "       grad_fn=<SumBackward2>)"
      ]
     },
     "execution_count": 35,
     "metadata": {},
     "output_type": "execute_result"
    }
   ],
   "source": [
    "torch.sum(probs,1)"
   ]
  },
  {
   "cell_type": "code",
   "execution_count": 36,
   "metadata": {
    "colab": {},
    "colab_type": "code",
    "id": "CvGbb2bQCdjZ"
   },
   "outputs": [
    {
     "data": {
      "text/plain": [
       "tensor([0.9444, 0.2769, 0.1937, 0.4585, 0.5356], device='cuda:0',\n",
       "       grad_fn=<MaxBackward0>)"
      ]
     },
     "execution_count": 36,
     "metadata": {},
     "output_type": "execute_result"
    }
   ],
   "source": [
    "vals_try"
   ]
  },
  {
   "cell_type": "code",
   "execution_count": 37,
   "metadata": {
    "colab": {},
    "colab_type": "code",
    "id": "0TUdNKCJCdjc"
   },
   "outputs": [
    {
     "name": "stdout",
     "output_type": "stream",
     "text": [
      "['Italian_greyhound', 'schipperke', 'hamster', 'Rottweiler', 'Siamese_cat']\n"
     ]
    }
   ],
   "source": [
    "print([dic_imagenet[i] for i in preds_try.data])"
   ]
  },
  {
   "cell_type": "code",
   "execution_count": 38,
   "metadata": {
    "colab": {},
    "colab_type": "code",
    "id": "jtzuHob9Cdjf"
   },
   "outputs": [
    {
     "data": {
      "image/png": "[encoded data removed]",
      "text/plain": [
       "<Figure size 432x288 with 1 Axes>"
      ]
     },
     "metadata": {
      "needs_background": "light"
     },
     "output_type": "display_data"
    }
   ],
   "source": [
    "out = torchvision.utils.make_grid(inputs_try.data.cpu())\n",
    "\n",
    "imshow(out, title=[dset_classes[x] for x in labels_try.data.cpu()])"
   ]
  },
  {
   "cell_type": "markdown",
   "metadata": {
    "colab_type": "text",
    "id": "f3Bktt5PCdjh"
   },
   "source": [
    "### Modifying the last layer and setting the gradient false to all layers"
   ]
  },
  {
   "cell_type": "code",
   "execution_count": 39,
   "metadata": {
    "colab": {},
    "colab_type": "code",
    "id": "L8kr3-tjCdji"
   },
   "outputs": [
    {
     "name": "stdout",
     "output_type": "stream",
     "text": [
      "VGG(\n",
      "  (features): Sequential(\n",
      "    (0): Conv2d(3, 64, kernel_size=(3, 3), stride=(1, 1), padding=(1, 1))\n",
      "    (1): ReLU(inplace)\n",
      "    (2): Conv2d(64, 64, kernel_size=(3, 3), stride=(1, 1), padding=(1, 1))\n",
      "    (3): ReLU(inplace)\n",
      "    (4): MaxPool2d(kernel_size=2, stride=2, padding=0, dilation=1, ceil_mode=False)\n",
      "    (5): Conv2d(64, 128, kernel_size=(3, 3), stride=(1, 1), padding=(1, 1))\n",
      "    (6): ReLU(inplace)\n",
      "    (7): Conv2d(128, 128, kernel_size=(3, 3), stride=(1, 1), padding=(1, 1))\n",
      "    (8): ReLU(inplace)\n",
      "    (9): MaxPool2d(kernel_size=2, stride=2, padding=0, dilation=1, ceil_mode=False)\n",
      "    (10): Conv2d(128, 256, kernel_size=(3, 3), stride=(1, 1), padding=(1, 1))\n",
      "    (11): ReLU(inplace)\n",
      "    (12): Conv2d(256, 256, kernel_size=(3, 3), stride=(1, 1), padding=(1, 1))\n",
      "    (13): ReLU(inplace)\n",
      "    (14): Conv2d(256, 256, kernel_size=(3, 3), stride=(1, 1), padding=(1, 1))\n",
      "    (15): ReLU(inplace)\n",
      "    (16): MaxPool2d(kernel_size=2, stride=2, padding=0, dilation=1, ceil_mode=False)\n",
      "    (17): Conv2d(256, 512, kernel_size=(3, 3), stride=(1, 1), padding=(1, 1))\n",
      "    (18): ReLU(inplace)\n",
      "    (19): Conv2d(512, 512, kernel_size=(3, 3), stride=(1, 1), padding=(1, 1))\n",
      "    (20): ReLU(inplace)\n",
      "    (21): Conv2d(512, 512, kernel_size=(3, 3), stride=(1, 1), padding=(1, 1))\n",
      "    (22): ReLU(inplace)\n",
      "    (23): MaxPool2d(kernel_size=2, stride=2, padding=0, dilation=1, ceil_mode=False)\n",
      "    (24): Conv2d(512, 512, kernel_size=(3, 3), stride=(1, 1), padding=(1, 1))\n",
      "    (25): ReLU(inplace)\n",
      "    (26): Conv2d(512, 512, kernel_size=(3, 3), stride=(1, 1), padding=(1, 1))\n",
      "    (27): ReLU(inplace)\n",
      "    (28): Conv2d(512, 512, kernel_size=(3, 3), stride=(1, 1), padding=(1, 1))\n",
      "    (29): ReLU(inplace)\n",
      "    (30): MaxPool2d(kernel_size=2, stride=2, padding=0, dilation=1, ceil_mode=False)\n",
      "  )\n",
      "  (classifier): Sequential(\n",
      "    (0): Linear(in_features=25088, out_features=4096, bias=True)\n",
      "    (1): ReLU(inplace)\n",
      "    (2): Dropout(p=0.5)\n",
      "    (3): Linear(in_features=4096, out_features=4096, bias=True)\n",
      "    (4): ReLU(inplace)\n",
      "    (5): Dropout(p=0.5)\n",
      "    (6): Linear(in_features=4096, out_features=1000, bias=True)\n",
      "  )\n",
      ")\n"
     ]
    }
   ],
   "source": [
    "print(model_vgg)"
   ]
  },
  {
   "cell_type": "markdown",
   "metadata": {
    "colab_type": "text",
    "id": "IXoMW73MCdjl"
   },
   "source": [
    "We'll learn about what these different blocks do later in the course. For now, it's enough to know that:\n",
    "\n",
    "- Convolution layers are for finding small to medium size patterns in images -- analyzing the images locally\n",
    "- Dense (fully connected) layers are for combining patterns across an image -- analyzing the images globally\n",
    "- Pooling layers downsample -- in order to reduce image size and to improve invariance of learned features"
   ]
  },
  {
   "cell_type": "markdown",
   "metadata": {
    "colab_type": "text",
    "id": "hA2f5FRuCdjm"
   },
   "source": [
    "![vgg16](https://mlelarge.github.io/dataflowr/Notebooks/vgg16.png)"
   ]
  },
  {
   "cell_type": "markdown",
   "metadata": {
    "colab_type": "text",
    "id": "SK6lfAzfCdjn"
   },
   "source": [
    "In this practical example, our goal is to use the already trained model and just change the number of output classes. To this end we replace the last ```nn.Linear``` layer trained for 1000 classes to ones with 2 classes. In order to freeze the weights of the other layers during training, we set the field ```required_grad=False```. In this manner no gradient will be computed for them during backprop and hence no update in the weights. Only the weights for the 2 class layer will be updated."
   ]
  },
  {
   "cell_type": "code",
   "execution_count": 40,
   "metadata": {
    "colab": {},
    "colab_type": "code",
    "id": "rQwRKKC-Cdjo"
   },
   "outputs": [],
   "source": [
    "for param in model_vgg.parameters():\n",
    "    param.requires_grad = False\n",
    "model_vgg.classifier._modules['6'] = nn.Linear(4096, 2)\n",
    "model_vgg.classifier._modules['7'] = torch.nn.LogSoftmax(dim = 1)"
   ]
  },
  {
   "cell_type": "markdown",
   "metadata": {
    "colab_type": "text",
    "id": "qAr5tj2NKwfF"
   },
   "source": [
    "PyTorch documentation for [LogSoftmax](https://pytorch.org/docs/stable/nn.html#logsoftmax)"
   ]
  },
  {
   "cell_type": "code",
   "execution_count": 41,
   "metadata": {
    "colab": {},
    "colab_type": "code",
    "id": "jJ3OenJpCdjp"
   },
   "outputs": [
    {
     "name": "stdout",
     "output_type": "stream",
     "text": [
      "Sequential(\n",
      "  (0): Linear(in_features=25088, out_features=4096, bias=True)\n",
      "  (1): ReLU(inplace)\n",
      "  (2): Dropout(p=0.5)\n",
      "  (3): Linear(in_features=4096, out_features=4096, bias=True)\n",
      "  (4): ReLU(inplace)\n",
      "  (5): Dropout(p=0.5)\n",
      "  (6): Linear(in_features=4096, out_features=2, bias=True)\n",
      "  (7): LogSoftmax()\n",
      ")\n"
     ]
    }
   ],
   "source": [
    "print(model_vgg.classifier)"
   ]
  },
  {
   "cell_type": "code",
   "execution_count": 43,
   "metadata": {
    "colab": {},
    "colab_type": "code",
    "id": "9ITZFX2MCdju"
   },
   "outputs": [],
   "source": [
    "model_vgg = model_vgg.to(device)"
   ]
  },
  {
   "cell_type": "markdown",
   "metadata": {
    "colab_type": "text",
    "id": "hMAwUx7QCdjv"
   },
   "source": [
    "### Calculating preconvoluted features"
   ]
  },
  {
   "cell_type": "code",
   "execution_count": 44,
   "metadata": {
    "colab": {},
    "colab_type": "code",
    "id": "iWZ0BguiCdjw"
   },
   "outputs": [],
   "source": [
    "def preconvfeat(dataset):\n",
    "    conv_features = []\n",
    "    labels_list = []\n",
    "    for data in dataset:\n",
    "        inputs,labels = data\n",
    "        inputs = inputs.to(device)\n",
    "        labels = labels.to(device)\n",
    "        # if you find code like below on internet (or in this course!):\n",
    "        # Variable is a PyTorch v0.3 recollection...\n",
    "        # it should still run with newer versions of PyTorch\n",
    "        #if use_gpu:\n",
    "        #    inputs , labels = Variable(inputs.cuda()),Variable(labels.cuda())\n",
    "        #else:\n",
    "        #    inputs , labels = Variable(inputs),Variable(labels)\n",
    "        \n",
    "        x = model_vgg.features(inputs)\n",
    "        conv_features.extend(x.data.cpu().numpy())\n",
    "        labels_list.extend(labels.data.cpu().numpy())\n",
    "    conv_features = np.concatenate([[feat] for feat in conv_features])\n",
    "    return (conv_features,labels_list)"
   ]
  },
  {
   "cell_type": "code",
   "execution_count": 45,
   "metadata": {
    "colab": {},
    "colab_type": "code",
    "id": "UHxk_fBaCdjx"
   },
   "outputs": [],
   "source": [
    "x_try = model_vgg.features(inputs_try)"
   ]
  },
  {
   "cell_type": "code",
   "execution_count": 46,
   "metadata": {
    "colab": {},
    "colab_type": "code",
    "id": "4_XDasbkCdj0"
   },
   "outputs": [],
   "source": [
    "?x_try"
   ]
  },
  {
   "cell_type": "code",
   "execution_count": 47,
   "metadata": {
    "colab": {},
    "colab_type": "code",
    "id": "XoKGJ-4iCdj2"
   },
   "outputs": [
    {
     "data": {
      "text/plain": [
       "torch.Size([5, 512, 7, 7])"
      ]
     },
     "execution_count": 47,
     "metadata": {},
     "output_type": "execute_result"
    }
   ],
   "source": [
    "x_try.data.shape"
   ]
  },
  {
   "cell_type": "code",
   "execution_count": 48,
   "metadata": {
    "colab": {},
    "colab_type": "code",
    "id": "KX0SqD0CCdj4"
   },
   "outputs": [
    {
     "data": {
      "text/plain": [
       "25088"
      ]
     },
     "execution_count": 48,
     "metadata": {},
     "output_type": "execute_result"
    }
   ],
   "source": [
    "7*7*512"
   ]
  },
  {
   "cell_type": "code",
   "execution_count": 49,
   "metadata": {
    "colab": {},
    "colab_type": "code",
    "id": "pbAyXnwgCdj6"
   },
   "outputs": [
    {
     "data": {
      "text/plain": [
       "tensor([1, 0, 0, 1, 0], device='cuda:0')"
      ]
     },
     "execution_count": 49,
     "metadata": {},
     "output_type": "execute_result"
    }
   ],
   "source": [
    "labels_try"
   ]
  },
  {
   "cell_type": "code",
   "execution_count": 50,
   "metadata": {
    "colab": {},
    "colab_type": "code",
    "id": "bs_NwTKcCdj8"
   },
   "outputs": [
    {
     "data": {
      "text/plain": [
       "tensor([1, 0, 0, 1, 0], device='cuda:0')"
      ]
     },
     "execution_count": 50,
     "metadata": {},
     "output_type": "execute_result"
    }
   ],
   "source": [
    "labels_try.data"
   ]
  },
  {
   "cell_type": "code",
   "execution_count": 51,
   "metadata": {
    "colab": {},
    "colab_type": "code",
    "id": "AHYRm_z8Cdj-"
   },
   "outputs": [
    {
     "name": "stdout",
     "output_type": "stream",
     "text": [
      "CPU times: user 27.7 s, sys: 16.2 s, total: 43.9 s\n",
      "Wall time: 1min 22s\n"
     ]
    }
   ],
   "source": [
    "%%time\n",
    "conv_feat_train,labels_train = preconvfeat(dset_loaders['train'])"
   ]
  },
  {
   "cell_type": "code",
   "execution_count": 52,
   "metadata": {
    "colab": {},
    "colab_type": "code",
    "id": "lNAc7zX9CdkB"
   },
   "outputs": [
    {
     "name": "stdout",
     "output_type": "stream",
     "text": [
      "CPU times: user 2.49 s, sys: 1.81 s, total: 4.3 s\n",
      "Wall time: 4.83 s\n"
     ]
    }
   ],
   "source": [
    "%%time\n",
    "conv_feat_val,labels_val = preconvfeat(dset_loaders['valid'])"
   ]
  },
  {
   "cell_type": "code",
   "execution_count": 0,
   "metadata": {
    "colab": {},
    "colab_type": "code",
    "id": "3-APvzkACdkD"
   },
   "outputs": [],
   "source": [
    "def save_array(fname, arr):\n",
    "    c=bcolz.carray(arr, rootdir=fname, mode='w')\n",
    "    c.flush()\n",
    "def load_array(fname):\n",
    "    return bcolz.open(fname)[:]\n",
    "\n",
    "\n",
    "%mkdir /content/data/dogscats/vgg16\n"
   ]
  },
  {
   "cell_type": "code",
   "execution_count": 0,
   "metadata": {
    "colab": {},
    "colab_type": "code",
    "id": "AWadFbvtCdkF"
   },
   "outputs": [],
   "source": [
    "save_array(os.path.join(data_dir,'vgg16','feat_train.bc'),conv_feat_train)\n",
    "save_array(os.path.join(data_dir,'vgg16','labels_train.bc'),labels_train)\n",
    "save_array(os.path.join(data_dir,'vgg16','feat_val.bc'),conv_feat_val)\n",
    "save_array(os.path.join(data_dir,'vgg16','labels_val.bc'),labels_val)"
   ]
  },
  {
   "cell_type": "markdown",
   "metadata": {
    "colab_type": "text",
    "id": "pyjlrH4wCdkH"
   },
   "source": [
    "### Uploading Precomputed features\n",
    "\n",
    "This section will allow you to store the precomputed features on your Google drive for later use."
   ]
  },
  {
   "cell_type": "code",
   "execution_count": 0,
   "metadata": {
    "colab": {},
    "colab_type": "code",
    "id": "27gRV8KiJw6H"
   },
   "outputs": [],
   "source": [
    "%cd /content/data/dogscats/\n",
    "!zip -r vgg16 vgg16/*"
   ]
  },
  {
   "cell_type": "code",
   "execution_count": 0,
   "metadata": {
    "colab": {},
    "colab_type": "code",
    "id": "de4y59inJx_p"
   },
   "outputs": [],
   "source": [
    "!pip install -U -q PyDrive\n",
    "\n",
    "from pydrive.auth import GoogleAuth\n",
    "from pydrive.drive import GoogleDrive\n",
    "from google.colab import auth\n",
    "from oauth2client.client import GoogleCredentials\n",
    "\n",
    "# 1. Authenticate and create the PyDrive client.\n",
    "auth.authenticate_user()\n",
    "gauth = GoogleAuth()\n",
    "gauth.credentials = GoogleCredentials.get_application_default()\n",
    "drive = GoogleDrive(gauth)"
   ]
  },
  {
   "cell_type": "code",
   "execution_count": 0,
   "metadata": {
    "colab": {},
    "colab_type": "code",
    "id": "JIaZyCpcJ1Hd"
   },
   "outputs": [],
   "source": [
    "upload = drive.CreateFile({'title': 'vgg16_drive.zip'})\n",
    "upload.SetContentFile('vgg16.zip')\n",
    "upload.Upload()\n",
    "print('Uploaded file with ID {}'.format(upload.get('id')))"
   ]
  },
  {
   "cell_type": "code",
   "execution_count": 53,
   "metadata": {
    "colab": {},
    "colab_type": "code",
    "id": "rCxGfgBHCdkJ"
   },
   "outputs": [
    {
     "data": {
      "text/plain": [
       "(23000, 512, 7, 7)"
      ]
     },
     "execution_count": 53,
     "metadata": {},
     "output_type": "execute_result"
    }
   ],
   "source": [
    "conv_feat_train.shape"
   ]
  },
  {
   "cell_type": "markdown",
   "metadata": {
    "colab_type": "text",
    "id": "fU9vWWT2CdkN"
   },
   "source": [
    "## Training fully connected module"
   ]
  },
  {
   "cell_type": "markdown",
   "metadata": {
    "colab_type": "text",
    "id": "qqp2u3IXCdkO"
   },
   "source": [
    "### Creating loss function and optimizer\n",
    "\n",
    "PyTorch documentation for [NLLLoss](https://pytorch.org/docs/stable/nn.html#nllloss) and the [torch.optim module](https://pytorch.org/docs/stable/optim.html#module-torch.optim)"
   ]
  },
  {
   "cell_type": "code",
   "execution_count": 54,
   "metadata": {
    "colab": {},
    "colab_type": "code",
    "id": "oP1F4yb8CdkO"
   },
   "outputs": [],
   "source": [
    "criterion = nn.NLLLoss()\n",
    "lr = 0.01\n",
    "optimizer_vgg = torch.optim.SGD(model_vgg.classifier[6].parameters(),lr = lr)"
   ]
  },
  {
   "cell_type": "markdown",
   "metadata": {
    "colab_type": "text",
    "id": "NUSxP3BZCdkP"
   },
   "source": [
    "### Creating Data generator"
   ]
  },
  {
   "cell_type": "code",
   "execution_count": 55,
   "metadata": {
    "colab": {},
    "colab_type": "code",
    "id": "KQxZBVOGCdkQ"
   },
   "outputs": [],
   "source": [
    "def data_gen(conv_feat,labels,batch_size=64,shuffle=True):\n",
    "    labels = np.array(labels)\n",
    "    if shuffle:\n",
    "        index = np.random.permutation(len(conv_feat))\n",
    "        conv_feat = conv_feat[index]\n",
    "        labels = labels[index]\n",
    "    for idx in range(0,len(conv_feat),batch_size):\n",
    "        yield(conv_feat[idx:idx+batch_size],labels[idx:idx+batch_size])"
   ]
  },
  {
   "cell_type": "markdown",
   "metadata": {
    "colab_type": "text",
    "id": "tenuLj67CdkS"
   },
   "source": [
    "### Training the model"
   ]
  },
  {
   "cell_type": "code",
   "execution_count": 56,
   "metadata": {
    "colab": {},
    "colab_type": "code",
    "id": "7nNAUibjCdkS"
   },
   "outputs": [],
   "source": [
    "def train_model(model,size,conv_feat=None,labels=None,epochs=1,optimizer=None,train=True,shuffle=True):\n",
    "    if train:\n",
    "        model.train()\n",
    "    else:\n",
    "        model.eval()\n",
    "        \n",
    "    for epoch in range(epochs):\n",
    "        batches = data_gen(conv_feat=conv_feat,labels=labels,shuffle=shuffle)\n",
    "        total = 0\n",
    "        running_loss = 0.0\n",
    "        running_corrects = 0\n",
    "        for inputs,classes in batches:\n",
    "            inputs , classes = torch.from_numpy(inputs).to(device), torch.from_numpy(classes).to(device)\n",
    "                            \n",
    "            inputs = inputs.view(inputs.size(0), -1)\n",
    "            outputs = model(inputs)\n",
    "            loss = criterion(outputs,classes)           \n",
    "            if train:\n",
    "                if optimizer is None:\n",
    "                    raise ValueError('Pass optimizer for train mode')\n",
    "                optimizer = optimizer\n",
    "                optimizer.zero_grad()\n",
    "                loss.backward()\n",
    "                optimizer.step()\n",
    "            _,preds = torch.max(outputs.data,1)\n",
    "            # statistics\n",
    "            running_loss += loss.data.item()\n",
    "            running_corrects += torch.sum(preds == classes.data)\n",
    "        epoch_loss = running_loss / size\n",
    "        epoch_acc = running_corrects.data.item() / size\n",
    "        print('Loss: {:.4f} Acc: {:.4f}'.format(\n",
    "                     epoch_loss, epoch_acc))\n",
    "    "
   ]
  },
  {
   "cell_type": "code",
   "execution_count": 58,
   "metadata": {
    "colab": {},
    "colab_type": "code",
    "id": "_Jts2jK1CdkV",
    "scrolled": false
   },
   "outputs": [
    {
     "name": "stdout",
     "output_type": "stream",
     "text": [
      "Loss: 0.0012 Acc: 0.9710\n",
      "Loss: 0.0009 Acc: 0.9765\n",
      "Loss: 0.0009 Acc: 0.9783\n",
      "Loss: 0.0008 Acc: 0.9796\n",
      "Loss: 0.0008 Acc: 0.9793\n",
      "Loss: 0.0008 Acc: 0.9792\n",
      "Loss: 0.0008 Acc: 0.9799\n",
      "Loss: 0.0008 Acc: 0.9793\n",
      "Loss: 0.0008 Acc: 0.9807\n",
      "Loss: 0.0008 Acc: 0.9810\n",
      "CPU times: user 11.3 s, sys: 3.31 s, total: 14.6 s\n",
      "Wall time: 15.1 s\n"
     ]
    }
   ],
   "source": [
    "%%time\n",
    "(train_model(model=model_vgg.classifier.to(device),size=dset_sizes['train'],conv_feat=conv_feat_train,labels=labels_train,\n",
    "            epochs=10,optimizer=optimizer_vgg,train=True,shuffle=True))"
   ]
  },
  {
   "cell_type": "code",
   "execution_count": 60,
   "metadata": {
    "colab": {},
    "colab_type": "code",
    "id": "y3JjYayKCdkW"
   },
   "outputs": [
    {
     "name": "stdout",
     "output_type": "stream",
     "text": [
      "Loss: 0.0005 Acc: 0.9870\n"
     ]
    }
   ],
   "source": [
    "train_model(conv_feat=conv_feat_val,labels=labels_val,model=model_vgg.classifier.to(device)\n",
    "            ,size=dset_sizes['valid'],train=False,shuffle=False)"
   ]
  },
  {
   "cell_type": "code",
   "execution_count": 61,
   "metadata": {
    "colab": {},
    "colab_type": "code",
    "id": "Cn6cIwZNCdkY"
   },
   "outputs": [
    {
     "data": {
      "image/png": "[encoded data removed]",
      "text/plain": [
       "<Figure size 432x288 with 1 Axes>"
      ]
     },
     "metadata": {
      "needs_background": "light"
     },
     "output_type": "display_data"
    }
   ],
   "source": [
    "# Get a batch of training data\n",
    "inputs, classes = next(iter(dset_loaders['valid']))\n",
    "\n",
    "out = torchvision.utils.make_grid(inputs[0:n_images])\n",
    "\n",
    "imshow(out, title=[dset_classes[x] for x in classes[0:n_images]])"
   ]
  },
  {
   "cell_type": "code",
   "execution_count": 63,
   "metadata": {
    "colab": {},
    "colab_type": "code",
    "id": "Ghkbm7ByCdke"
   },
   "outputs": [
    {
     "name": "stdout",
     "output_type": "stream",
     "text": [
      "tensor([[9.8828e-01, 1.1721e-02],\n",
      "        [1.0000e+00, 2.6087e-09],\n",
      "        [9.9966e-01, 3.3647e-04],\n",
      "        [1.0000e+00, 1.6850e-06],\n",
      "        [9.9965e-01, 3.4613e-04],\n",
      "        [1.0000e+00, 4.5228e-06],\n",
      "        [9.9985e-01, 1.4719e-04],\n",
      "        [1.0000e+00, 2.2202e-07]], device='cuda:0', grad_fn=<ExpBackward>)\n"
     ]
    }
   ],
   "source": [
    "inputs = torch.from_numpy(conv_feat_val[:n_images])\n",
    "inputs = inputs.view(inputs.size(0), -1)\n",
    "outputs = model_vgg.classifier(inputs.to(device))\n",
    "print(torch.exp(outputs))"
   ]
  },
  {
   "cell_type": "code",
   "execution_count": 64,
   "metadata": {
    "colab": {},
    "colab_type": "code",
    "id": "F1qdUtvjCdkg"
   },
   "outputs": [
    {
     "data": {
      "text/plain": [
       "[0, 0, 0, 0, 0, 0, 0, 0]"
      ]
     },
     "execution_count": 64,
     "metadata": {},
     "output_type": "execute_result"
    }
   ],
   "source": [
    "labels_val[:n_images]"
   ]
  },
  {
   "cell_type": "code",
   "execution_count": 0,
   "metadata": {
    "colab": {},
    "colab_type": "code",
    "id": "Fl5_aK0uOjSG"
   },
   "outputs": [],
   "source": []
  },
  {
   "cell_type": "markdown",
   "metadata": {
    "colab_type": "text",
    "id": "hjwIo3gbsGMx"
   },
   "source": [
    "# Conclusion\n",
    "\n",
    "What did we do in the end? A simple logistic regression! If the connection is unclear, we'll explain it on a much simpler example in the next course. \n",
    "\n",
    "We probably killed a fly with a sledge hammer.\n",
    "\n",
    "![mouche](https://mlelarge.github.io/dataflowr-web/images/mouche.jpg)\n",
    "\n",
    "In our case, the sledge hammer is VGG pretrained on Imagenet, a dataset containing a lot of pictures of cats and dogs. Indeed, we saw that without modification the network was able to predict dog and cat breeds. Hence it is not very surprising that the features computed by VGG are very accurate for our classification task. In the end, we need to learn only the parameters of the last linear layer, i.e. 8194 parameters (do not forget the bias $2\\times 4096+2$). Indeed, this can be done on CPU without any problem.\n",
    "\n",
    "Nevertheless, this example is still instructive as it shows all the necessary steps in a deep learning project. Here we did not struggle with the learning process of a deep network, but we did all the preliminary engineering tasks: dowloading a dataset, setting up the environment to use a GPU, preparing the data, computing the features with a pretrained VGG, saving them on your drive so that you can use them for a later experiment... These steps are essential in any deep learning project and a necessary requirement before having fun playing with network architectures and understanding the learning process."
   ]
  },
  {
   "cell_type": "code",
   "execution_count": 0,
   "metadata": {
    "colab": {},
    "colab_type": "code",
    "id": "_NhP9XMbuK1A"
   },
   "outputs": [],
   "source": []
  }
 ],
 "metadata": {
  "accelerator": "GPU",
  "colab": {
   "include_colab_link": true,
   "name": "01_intro_DLDIY_colab.ipynb",
   "private_outputs": true,
   "provenance": [],
   "version": "0.3.2"
  },
  "kernelspec": {
   "display_name": "Python 3",
   "language": "python",
   "name": "python3"
  },
  "language_info": {
   "codemirror_mode": {
    "name": "ipython",
    "version": 3
   },
   "file_extension": ".py",
   "mimetype": "text/x-python",
   "name": "python",
   "nbconvert_exporter": "python",
   "pygments_lexer": "ipython3",
   "version": "3.6.7"
  }
 },
 "nbformat": 4,
 "nbformat_minor": 1
}

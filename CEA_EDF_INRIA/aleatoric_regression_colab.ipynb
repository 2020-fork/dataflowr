{
  "nbformat": 4,
  "nbformat_minor": 0,
  "metadata": {
    "colab": {
      "name": "aleatoric_regression.ipynb",
      "version": "0.3.2",
      "provenance": [],
      "include_colab_link": true
    },
    "language_info": {
      "codemirror_mode": {
        "name": "ipython",
        "version": 3
      },
      "file_extension": ".py",
      "mimetype": "text/x-python",
      "name": "python",
      "nbconvert_exporter": "python",
      "pygments_lexer": "ipython3",
      "version": "3.7.3"
    },
    "kernelspec": {
      "display_name": "Python 3",
      "language": "python",
      "name": "python3"
    }
  },
  "cells": [
    {
      "cell_type": "markdown",
      "metadata": {
        "id": "view-in-github",
        "colab_type": "text"
      },
      "source": [
        "<a href=\"https://colab.research.google.com/github/mlelarge/dataflowr/blob/master/CEA_EDF_INRIA/aleatoric_regression_colab.ipynb\" target=\"_parent\"><img src=\"https://colab.research.google.com/assets/colab-badge.svg\" alt=\"Open In Colab\"/></a>"
      ]
    },
    {
      "cell_type": "markdown",
      "metadata": {
        "id": "xnj4XU2aE2kO",
        "colab_type": "text"
      },
      "source": [
        "# Aleatoric regression"
      ]
    },
    {
      "cell_type": "code",
      "metadata": {
        "id": "OaOS9uR1E2kR",
        "colab_type": "code",
        "colab": {}
      },
      "source": [
        "%matplotlib inline\n",
        "\n",
        "import numpy as np\n",
        "import torch\n",
        "import math\n",
        "import matplotlib.pyplot as plt\n",
        "import imageio\n",
        "\n",
        "import torch\n",
        "import torch.nn as nn\n",
        "import torch.nn.functional as F\n",
        "import torch.optim as optim\n",
        "from torchvision import datasets, transforms\n",
        "from torchvision.utils import make_grid\n",
        "from tqdm import tqdm, trange\n",
        "\n",
        "import seaborn as sns\n"
      ],
      "execution_count": 0,
      "outputs": []
    },
    {
      "cell_type": "markdown",
      "metadata": {
        "id": "2IaBfC4dE2kV",
        "colab_type": "text"
      },
      "source": [
        "## Helper functions"
      ]
    },
    {
      "cell_type": "code",
      "metadata": {
        "id": "TxRREopXE2kV",
        "colab_type": "code",
        "colab": {}
      },
      "source": [
        "def normalize(image):\n",
        "    \"\"\"Takes a tensor of 3 dimensions (height, width, colors) and normalizes it's values\n",
        "    to be between 0 and 1 so it's suitable for displaying as an image.\"\"\"\n",
        "    image = image.astype(np.float32)\n",
        "    return (image - image.min()) / (image.max() - image.min() + 1e-5)\n",
        "\n",
        "\n",
        "def display_images(images, titles=None, cols=5, interpolation=None, cmap=\"Greys_r\"):\n",
        "    \"\"\"\n",
        "    images: A list of images. I can be either:\n",
        "        - A list of Numpy arrays. Each array represents an image.\n",
        "        - A list of lists of Numpy arrays. In this case, the images in\n",
        "          the inner lists are concatentated to make one image.\n",
        "    \"\"\"\n",
        "    titles = titles or [\"\"] * len(images)\n",
        "    rows = math.ceil(len(images) / cols)\n",
        "    height_ratio = 1.2 * (rows/cols) * (0.5 if type(images[0]) is not np.ndarray else 1)\n",
        "    plt.figure(figsize=(15, 15 * height_ratio), dpi=200)\n",
        "    i = 1\n",
        "    for image, title in zip(images, titles):\n",
        "        plt.subplot(rows, cols, i)\n",
        "        plt.axis(\"off\")\n",
        "        # Is image a list? If so, merge them into one image.\n",
        "        if type(image) is not np.ndarray:\n",
        "            image = [normalize(g) for g in image]\n",
        "            image = np.concatenate(image, axis=1)\n",
        "        else:\n",
        "            image = normalize(image)\n",
        "        plt.title(title, fontsize=12)\n",
        "        plt.imshow(image, cmap=cmap, interpolation=interpolation)\n",
        "        i += 1\n",
        "\n",
        "        \n",
        "def show(img,cmap='viridis'):\n",
        "    npimg = img.numpy()\n",
        "    plt.imshow(np.transpose(npimg, (1,2,0)), interpolation='nearest', cmap=cmap)"
      ],
      "execution_count": 0,
      "outputs": []
    },
    {
      "cell_type": "code",
      "metadata": {
        "id": "RT43ZKLoE2kZ",
        "colab_type": "code",
        "colab": {}
      },
      "source": [
        "def uncertainity_estimate_2d(X, model, iters, l2, dropout_p=0.5, decay=1e-6):\n",
        "    outputs = [model(X).cpu().data for i in range(iters)]\n",
        "    outputs = torch.stack(outputs)\n",
        "    y_mean = outputs.mean(dim=0)\n",
        "    y_variance = outputs.var(dim=0)\n",
        "    tau = l2 * (1. - dropout_p) / (2. * iters * decay)\n",
        "    y_variance += (1. / tau)\n",
        "    y_std = np.sqrt(y_variance)\n",
        "    return y_mean, y_std\n"
      ],
      "execution_count": 0,
      "outputs": []
    },
    {
      "cell_type": "code",
      "metadata": {
        "id": "QQ36HKsSE2kc",
        "colab_type": "code",
        "colab": {}
      },
      "source": [
        "DEVICE = torch.device(\"cuda\" if torch.cuda.is_available() else \"cpu\")\n",
        "LOADER_KWARGS = {'num_workers': 1, 'pin_memory': True} if torch.cuda.is_available() else {}"
      ],
      "execution_count": 0,
      "outputs": []
    },
    {
      "cell_type": "code",
      "metadata": {
        "id": "eN6LHpaqE2ke",
        "colab_type": "code",
        "colab": {}
      },
      "source": [
        "BATCH_SIZE = 128\n",
        "TEST_BATCH_SIZE = 5\n",
        "\n",
        "train_loader = torch.utils.data.DataLoader(\n",
        "    datasets.MNIST(\n",
        "        './mnist', train=True, download=True,\n",
        "        transform=transforms.ToTensor()),\n",
        "    batch_size=BATCH_SIZE, shuffle=True, **LOADER_KWARGS)\n",
        "test_loader = torch.utils.data.DataLoader(\n",
        "    datasets.MNIST(\n",
        "        './mnist', train=False, download=True,\n",
        "        transform=transforms.ToTensor()),\n",
        "    batch_size=TEST_BATCH_SIZE, shuffle=False, **LOADER_KWARGS)\n",
        "\n",
        "\n",
        "TRAIN_SIZE = len(train_loader.dataset)\n",
        "TEST_SIZE = len(test_loader.dataset)\n",
        "NUM_BATCHES = len(train_loader)\n",
        "NUM_TEST_BATCHES = len(test_loader)\n",
        "\n",
        "CLASSES = 10\n",
        "TRAIN_EPOCHS = 10 #20\n",
        "SAMPLES = 2\n",
        "TEST_SAMPLES = 10"
      ],
      "execution_count": 0,
      "outputs": []
    },
    {
      "cell_type": "code",
      "metadata": {
        "id": "lwkLkCbxE2kh",
        "colab_type": "code",
        "colab": {}
      },
      "source": [
        "class AutoEncoderAleatoric(nn.Module):\n",
        "    def __init__(self, p=0.5):\n",
        "        self.dropout_p = p\n",
        "        super(AutoEncoderAleatoric, self).__init__()\n",
        "        self.encoder = nn.Sequential(\n",
        "            nn.Linear(28 * 28, 128),\n",
        "            nn.ReLU(True),\n",
        "            nn.Linear(128, 64),\n",
        "            nn.ReLU(True), \n",
        "            nn.Linear(64, 12), \n",
        "            nn.ReLU(True), \n",
        "            nn.Linear(12, 3))\n",
        "        \n",
        "        self.decoder = nn.Sequential(\n",
        "            nn.Linear(3, 12),\n",
        "            nn.ReLU(True),\n",
        "            nn.Dropout(p=self.dropout_p),\n",
        "            nn.Linear(12, 64),\n",
        "            nn.ReLU(True),\n",
        "            nn.Dropout(p=self.dropout_p),\n",
        "            nn.Linear(64, 128),\n",
        "            nn.ReLU(True), \n",
        "            nn.Dropout(p=self.dropout_p),\n",
        "            nn.Linear(128, 128), \n",
        "            nn.Tanh())\n",
        "        \n",
        "        self.fc_pred =  nn.Linear(128, 28 * 28)\n",
        "        self.fc_logvar =  nn.Linear(128, 28 * 28)\n",
        "\n",
        "\n",
        "    def forward(self, x):\n",
        "        x = x.view(-1, 28*28)\n",
        "        x = self.encoder(x)\n",
        "        x = self.decoder(x)\n",
        "        pred = torch.tanh(self.fc_pred(x))\n",
        "        logvar = F.softplus(self.fc_logvar(x))\n",
        "        return pred, logvar\n"
      ],
      "execution_count": 0,
      "outputs": []
    },
    {
      "cell_type": "code",
      "metadata": {
        "id": "bSDp6emIE2kk",
        "colab_type": "code",
        "colab": {}
      },
      "source": [
        "model = AutoEncoderAleatoric(p=0.1).to(DEVICE)"
      ],
      "execution_count": 0,
      "outputs": []
    },
    {
      "cell_type": "code",
      "metadata": {
        "id": "6cFcZu3FE2kn",
        "colab_type": "code",
        "colab": {}
      },
      "source": [
        "def gaussian_log_loss(output, target, logvar):\n",
        "    term1 = -0.5*torch.exp(-logvar)*(target - output)**2\n",
        "    term2 = 0.5*logvar\n",
        "    return (term1 + term2).sum()\n"
      ],
      "execution_count": 0,
      "outputs": []
    },
    {
      "cell_type": "code",
      "metadata": {
        "id": "hz3Oi_sfE2kp",
        "colab_type": "code",
        "colab": {}
      },
      "source": [
        "def train_autoencoder(model, optimizer, criterion, epoch):\n",
        "    model.train()\n",
        "    for batch_idx, (data, target) in enumerate(tqdm(train_loader)):\n",
        "#     for batch_idx, (data, target) in enumerate(train_loader):\n",
        "        data = data.view(data.size(0), -1)\n",
        "        data, target = data.to(DEVICE), target.to(DEVICE)\n",
        "        model.zero_grad()\n",
        "        out, logvar = model(data)\n",
        "        loss = criterion(out, data, logvar)\n",
        "        loss.backward()\n",
        "        optimizer.step()\n",
        "     \n",
        "    print('epoch [{}], loss:{:.4f}'.format(epoch, loss.data.item()))\n"
      ],
      "execution_count": 0,
      "outputs": []
    },
    {
      "cell_type": "code",
      "metadata": {
        "id": "rcBrm00qE2ku",
        "colab_type": "code",
        "colab": {},
        "outputId": "962d2808-90b2-4391-875d-974f97f6291c"
      },
      "source": [
        "TRAIN_EPOCHS = 5 #20\n",
        "criterion = gaussian_log_loss\n",
        "optimizer = torch.optim.Adam(model.parameters(), lr=1e-3)\n",
        "\n",
        "for epoch in range(TRAIN_EPOCHS):\n",
        "    train_autoencoder(model, optimizer, criterion, epoch)"
      ],
      "execution_count": 0,
      "outputs": [
        {
          "output_type": "stream",
          "text": [
            "\n",
            "\n",
            "\n",
            "\n",
            "\n",
            "  0%|          | 0/469 [00:00<?, ?it/s]\u001b[A\u001b[A\u001b[A\u001b[A\u001b[A\n",
            "\n",
            "\n",
            "\n",
            "\n",
            "  0%|          | 1/469 [00:00<02:45,  2.82it/s]\u001b[A\u001b[A\u001b[A\u001b[A\u001b[A"
          ],
          "name": "stderr"
        },
        {
          "output_type": "stream",
          "text": [
            "torch.Size([128, 784]) torch.Size([128, 784])\n"
          ],
          "name": "stdout"
        },
        {
          "output_type": "stream",
          "text": [
            "\n",
            "\n",
            "\n",
            "\n",
            "\n",
            "  0%|          | 2/469 [00:00<02:22,  3.28it/s]\u001b[A\u001b[A\u001b[A\u001b[A\u001b[A"
          ],
          "name": "stderr"
        },
        {
          "output_type": "stream",
          "text": [
            "torch.Size([128, 784]) torch.Size([128, 784])\n",
            "torch.Size([128, 784]) torch.Size([128, 784])\n"
          ],
          "name": "stdout"
        },
        {
          "output_type": "stream",
          "text": [
            "\n",
            "\n",
            "\n",
            "\n",
            "\n",
            "  1%|          | 5/469 [00:00<01:48,  4.28it/s]\u001b[A\u001b[A\u001b[A\u001b[A\u001b[A"
          ],
          "name": "stderr"
        },
        {
          "output_type": "stream",
          "text": [
            "torch.Size([128, 784]) torch.Size([128, 784])\n",
            "torch.Size([128, 784]) torch.Size([128, 784])\n"
          ],
          "name": "stdout"
        },
        {
          "output_type": "stream",
          "text": [
            "\n",
            "\n",
            "\n",
            "\n",
            "\n",
            "  1%|▏         | 6/469 [00:00<01:42,  4.52it/s]\u001b[A\u001b[A\u001b[A\u001b[A\u001b[A"
          ],
          "name": "stderr"
        },
        {
          "output_type": "stream",
          "text": [
            "torch.Size([128, 784]) torch.Size([128, 784])\n",
            "torch.Size([128, 784]) torch.Size([128, 784])\n",
            "torch.Size([128, 784]) torch.Size([128, 784])\n"
          ],
          "name": "stdout"
        },
        {
          "output_type": "stream",
          "text": [
            "\n",
            "\n",
            "\n",
            "\n",
            "\n",
            "  2%|▏         | 8/469 [00:01<01:25,  5.40it/s]\u001b[A\u001b[A\u001b[A\u001b[A\u001b[A\n",
            "\n",
            "\n",
            "\n",
            "\n",
            "  2%|▏         | 10/469 [00:01<01:13,  6.26it/s]\u001b[A\u001b[A\u001b[A\u001b[A\u001b[A"
          ],
          "name": "stderr"
        },
        {
          "output_type": "stream",
          "text": [
            "torch.Size([128, 784]) torch.Size([128, 784])\n",
            "torch.Size([128, 784]) torch.Size([128, 784])\n"
          ],
          "name": "stdout"
        },
        {
          "output_type": "stream",
          "text": [
            "\n",
            "\n",
            "\n",
            "\n",
            "\n",
            "  2%|▏         | 11/469 [00:01<01:19,  5.79it/s]\u001b[A\u001b[A\u001b[A\u001b[A\u001b[A\n",
            "\n",
            "\n",
            "\n",
            "\n",
            "  3%|▎         | 12/469 [00:01<01:09,  6.59it/s]\u001b[A\u001b[A\u001b[A\u001b[A\u001b[A"
          ],
          "name": "stderr"
        },
        {
          "output_type": "stream",
          "text": [
            "torch.Size([128, 784]) torch.Size([128, 784])\n",
            "torch.Size([128, 784]) torch.Size([128, 784])\n",
            "torch.Size([128, 784]) torch.Size([128, 784])\n"
          ],
          "name": "stdout"
        },
        {
          "output_type": "stream",
          "text": [
            "\n",
            "\n",
            "\n",
            "\n",
            "\n",
            "  3%|▎         | 14/469 [00:01<01:08,  6.68it/s]\u001b[A\u001b[A\u001b[A\u001b[A\u001b[A"
          ],
          "name": "stderr"
        },
        {
          "output_type": "stream",
          "text": [
            "torch.Size([128, 784]) torch.Size([128, 784])\n"
          ],
          "name": "stdout"
        },
        {
          "output_type": "stream",
          "text": [
            "\n",
            "\n",
            "\n",
            "\n",
            "\n",
            "  3%|▎         | 15/469 [00:02<01:41,  4.49it/s]\u001b[A\u001b[A\u001b[A\u001b[A\u001b[A\n",
            "\n",
            "\n",
            "\n",
            "\n",
            "  3%|▎         | 16/469 [00:02<01:25,  5.31it/s]\u001b[A\u001b[A\u001b[A\u001b[A\u001b[A"
          ],
          "name": "stderr"
        },
        {
          "output_type": "stream",
          "text": [
            "torch.Size([128, 784]) torch.Size([128, 784])\n",
            "torch.Size([128, 784]) torch.Size([128, 784])\n",
            "torch.Size([128, 784]) torch.Size([128, 784])\n"
          ],
          "name": "stdout"
        },
        {
          "output_type": "stream",
          "text": [
            "\n",
            "\n",
            "\n",
            "\n",
            "\n",
            "  4%|▍         | 18/469 [00:02<01:25,  5.25it/s]\u001b[A\u001b[A\u001b[A\u001b[A\u001b[A"
          ],
          "name": "stderr"
        },
        {
          "output_type": "stream",
          "text": [
            "torch.Size([128, 784]) torch.Size([128, 784])\n",
            "torch.Size([128, 784]) torch.Size([128, 784])\n",
            "torch.Size([128, 784]) torch.Size([128, 784])\n"
          ],
          "name": "stdout"
        },
        {
          "output_type": "stream",
          "text": [
            "\n",
            "\n",
            "\n",
            "\n",
            "\n",
            "  4%|▍         | 20/469 [00:03<01:14,  6.04it/s]\u001b[A\u001b[A\u001b[A\u001b[A\u001b[A\n",
            "\n",
            "\n",
            "\n",
            "\n",
            "  4%|▍         | 21/469 [00:03<01:19,  5.64it/s]\u001b[A\u001b[A\u001b[A\u001b[A\u001b[A\n",
            "\n",
            "\n",
            "\n",
            "\n",
            "  5%|▍         | 22/469 [00:03<01:08,  6.49it/s]\u001b[A\u001b[A\u001b[A\u001b[A\u001b[A"
          ],
          "name": "stderr"
        },
        {
          "output_type": "stream",
          "text": [
            "torch.Size([128, 784]) torch.Size([128, 784])\n",
            "torch.Size([128, 784]) torch.Size([128, 784])\n",
            "torch.Size([128, 784]) torch.Size([128, 784])\n",
            "torch.Size([128, 784]) torch.Size([128, 784])\n"
          ],
          "name": "stdout"
        },
        {
          "output_type": "stream",
          "text": [
            "\n",
            "\n",
            "\n",
            "\n",
            "\n",
            "  5%|▌         | 24/469 [00:03<01:07,  6.64it/s]\u001b[A\u001b[A\u001b[A\u001b[A\u001b[A\n",
            "\n",
            "\n",
            "\n",
            "\n",
            "  5%|▌         | 25/469 [00:03<01:04,  6.89it/s]\u001b[A\u001b[A\u001b[A\u001b[A\u001b[A"
          ],
          "name": "stderr"
        },
        {
          "output_type": "stream",
          "text": [
            "torch.Size([128, 784]) torch.Size([128, 784])\n",
            "torch.Size([128, 784]) torch.Size([128, 784])\n"
          ],
          "name": "stdout"
        },
        {
          "output_type": "stream",
          "text": [
            "\n",
            "\n",
            "\n",
            "\n",
            "\n",
            "  6%|▌         | 26/469 [00:04<01:09,  6.33it/s]\u001b[A\u001b[A\u001b[A\u001b[A\u001b[A"
          ],
          "name": "stderr"
        },
        {
          "output_type": "stream",
          "text": [
            "torch.Size([128, 784]) torch.Size([128, 784])\n"
          ],
          "name": "stdout"
        },
        {
          "output_type": "error",
          "ename": "KeyboardInterrupt",
          "evalue": "",
          "traceback": [
            "\u001b[0;31m---------------------------------------------------------------------------\u001b[0m",
            "\u001b[0;31mKeyboardInterrupt\u001b[0m                         Traceback (most recent call last)",
            "\u001b[0;32m<ipython-input-70-c8ec0ebc1270>\u001b[0m in \u001b[0;36m<module>\u001b[0;34m\u001b[0m\n\u001b[1;32m      4\u001b[0m \u001b[0;34m\u001b[0m\u001b[0m\n\u001b[1;32m      5\u001b[0m \u001b[0;32mfor\u001b[0m \u001b[0mepoch\u001b[0m \u001b[0;32min\u001b[0m \u001b[0mrange\u001b[0m\u001b[0;34m(\u001b[0m\u001b[0mTRAIN_EPOCHS\u001b[0m\u001b[0;34m)\u001b[0m\u001b[0;34m:\u001b[0m\u001b[0;34m\u001b[0m\u001b[0;34m\u001b[0m\u001b[0m\n\u001b[0;32m----> 6\u001b[0;31m     \u001b[0mtrain_autoencoder\u001b[0m\u001b[0;34m(\u001b[0m\u001b[0mmodel\u001b[0m\u001b[0;34m,\u001b[0m \u001b[0moptimizer\u001b[0m\u001b[0;34m,\u001b[0m \u001b[0mcriterion\u001b[0m\u001b[0;34m,\u001b[0m \u001b[0mepoch\u001b[0m\u001b[0;34m)\u001b[0m\u001b[0;34m\u001b[0m\u001b[0;34m\u001b[0m\u001b[0m\n\u001b[0m",
            "\u001b[0;32m<ipython-input-69-3e25d229869d>\u001b[0m in \u001b[0;36mtrain_autoencoder\u001b[0;34m(model, optimizer, criterion, epoch)\u001b[0m\n\u001b[1;32m      1\u001b[0m \u001b[0;32mdef\u001b[0m \u001b[0mtrain_autoencoder\u001b[0m\u001b[0;34m(\u001b[0m\u001b[0mmodel\u001b[0m\u001b[0;34m,\u001b[0m \u001b[0moptimizer\u001b[0m\u001b[0;34m,\u001b[0m \u001b[0mcriterion\u001b[0m\u001b[0;34m,\u001b[0m \u001b[0mepoch\u001b[0m\u001b[0;34m)\u001b[0m\u001b[0;34m:\u001b[0m\u001b[0;34m\u001b[0m\u001b[0;34m\u001b[0m\u001b[0m\n\u001b[1;32m      2\u001b[0m     \u001b[0mmodel\u001b[0m\u001b[0;34m.\u001b[0m\u001b[0mtrain\u001b[0m\u001b[0;34m(\u001b[0m\u001b[0;34m)\u001b[0m\u001b[0;34m\u001b[0m\u001b[0;34m\u001b[0m\u001b[0m\n\u001b[0;32m----> 3\u001b[0;31m     \u001b[0;32mfor\u001b[0m \u001b[0mbatch_idx\u001b[0m\u001b[0;34m,\u001b[0m \u001b[0;34m(\u001b[0m\u001b[0mdata\u001b[0m\u001b[0;34m,\u001b[0m \u001b[0mtarget\u001b[0m\u001b[0;34m)\u001b[0m \u001b[0;32min\u001b[0m \u001b[0menumerate\u001b[0m\u001b[0;34m(\u001b[0m\u001b[0mtqdm\u001b[0m\u001b[0;34m(\u001b[0m\u001b[0mtrain_loader\u001b[0m\u001b[0;34m)\u001b[0m\u001b[0;34m)\u001b[0m\u001b[0;34m:\u001b[0m\u001b[0;34m\u001b[0m\u001b[0;34m\u001b[0m\u001b[0m\n\u001b[0m\u001b[1;32m      4\u001b[0m \u001b[0;31m#     for batch_idx, (data, target) in enumerate(train_loader):\u001b[0m\u001b[0;34m\u001b[0m\u001b[0;34m\u001b[0m\u001b[0;34m\u001b[0m\u001b[0m\n\u001b[1;32m      5\u001b[0m         \u001b[0mdata\u001b[0m \u001b[0;34m=\u001b[0m \u001b[0mdata\u001b[0m\u001b[0;34m.\u001b[0m\u001b[0mview\u001b[0m\u001b[0;34m(\u001b[0m\u001b[0mdata\u001b[0m\u001b[0;34m.\u001b[0m\u001b[0msize\u001b[0m\u001b[0;34m(\u001b[0m\u001b[0;36m0\u001b[0m\u001b[0;34m)\u001b[0m\u001b[0;34m,\u001b[0m \u001b[0;34m-\u001b[0m\u001b[0;36m1\u001b[0m\u001b[0;34m)\u001b[0m\u001b[0;34m\u001b[0m\u001b[0;34m\u001b[0m\u001b[0m\n",
            "\u001b[0;32m~/miniconda/lib/python3.7/site-packages/tqdm/_tqdm.py\u001b[0m in \u001b[0;36m__iter__\u001b[0;34m(self)\u001b[0m\n\u001b[1;32m   1003\u001b[0m                 \"\"\"), fp_write=getattr(self.fp, 'write', sys.stderr.write))\n\u001b[1;32m   1004\u001b[0m \u001b[0;34m\u001b[0m\u001b[0m\n\u001b[0;32m-> 1005\u001b[0;31m             \u001b[0;32mfor\u001b[0m \u001b[0mobj\u001b[0m \u001b[0;32min\u001b[0m \u001b[0miterable\u001b[0m\u001b[0;34m:\u001b[0m\u001b[0;34m\u001b[0m\u001b[0;34m\u001b[0m\u001b[0m\n\u001b[0m\u001b[1;32m   1006\u001b[0m                 \u001b[0;32myield\u001b[0m \u001b[0mobj\u001b[0m\u001b[0;34m\u001b[0m\u001b[0;34m\u001b[0m\u001b[0m\n\u001b[1;32m   1007\u001b[0m                 \u001b[0;31m# Update and possibly print the progressbar.\u001b[0m\u001b[0;34m\u001b[0m\u001b[0;34m\u001b[0m\u001b[0;34m\u001b[0m\u001b[0m\n",
            "\u001b[0;32m~/miniconda/lib/python3.7/site-packages/torch/utils/data/dataloader.py\u001b[0m in \u001b[0;36m__next__\u001b[0;34m(self)\u001b[0m\n\u001b[1;32m    574\u001b[0m         \u001b[0;32mwhile\u001b[0m \u001b[0;32mTrue\u001b[0m\u001b[0;34m:\u001b[0m\u001b[0;34m\u001b[0m\u001b[0;34m\u001b[0m\u001b[0m\n\u001b[1;32m    575\u001b[0m             \u001b[0;32massert\u001b[0m \u001b[0;34m(\u001b[0m\u001b[0;32mnot\u001b[0m \u001b[0mself\u001b[0m\u001b[0;34m.\u001b[0m\u001b[0mshutdown\u001b[0m \u001b[0;32mand\u001b[0m \u001b[0mself\u001b[0m\u001b[0;34m.\u001b[0m\u001b[0mbatches_outstanding\u001b[0m \u001b[0;34m>\u001b[0m \u001b[0;36m0\u001b[0m\u001b[0;34m)\u001b[0m\u001b[0;34m\u001b[0m\u001b[0;34m\u001b[0m\u001b[0m\n\u001b[0;32m--> 576\u001b[0;31m             \u001b[0midx\u001b[0m\u001b[0;34m,\u001b[0m \u001b[0mbatch\u001b[0m \u001b[0;34m=\u001b[0m \u001b[0mself\u001b[0m\u001b[0;34m.\u001b[0m\u001b[0m_get_batch\u001b[0m\u001b[0;34m(\u001b[0m\u001b[0;34m)\u001b[0m\u001b[0;34m\u001b[0m\u001b[0;34m\u001b[0m\u001b[0m\n\u001b[0m\u001b[1;32m    577\u001b[0m             \u001b[0mself\u001b[0m\u001b[0;34m.\u001b[0m\u001b[0mbatches_outstanding\u001b[0m \u001b[0;34m-=\u001b[0m \u001b[0;36m1\u001b[0m\u001b[0;34m\u001b[0m\u001b[0;34m\u001b[0m\u001b[0m\n\u001b[1;32m    578\u001b[0m             \u001b[0;32mif\u001b[0m \u001b[0midx\u001b[0m \u001b[0;34m!=\u001b[0m \u001b[0mself\u001b[0m\u001b[0;34m.\u001b[0m\u001b[0mrcvd_idx\u001b[0m\u001b[0;34m:\u001b[0m\u001b[0;34m\u001b[0m\u001b[0;34m\u001b[0m\u001b[0m\n",
            "\u001b[0;32m~/miniconda/lib/python3.7/site-packages/torch/utils/data/dataloader.py\u001b[0m in \u001b[0;36m_get_batch\u001b[0;34m(self)\u001b[0m\n\u001b[1;32m    541\u001b[0m         \u001b[0;32melif\u001b[0m \u001b[0mself\u001b[0m\u001b[0;34m.\u001b[0m\u001b[0mpin_memory\u001b[0m\u001b[0;34m:\u001b[0m\u001b[0;34m\u001b[0m\u001b[0;34m\u001b[0m\u001b[0m\n\u001b[1;32m    542\u001b[0m             \u001b[0;32mwhile\u001b[0m \u001b[0mself\u001b[0m\u001b[0;34m.\u001b[0m\u001b[0mpin_memory_thread\u001b[0m\u001b[0;34m.\u001b[0m\u001b[0mis_alive\u001b[0m\u001b[0;34m(\u001b[0m\u001b[0;34m)\u001b[0m\u001b[0;34m:\u001b[0m\u001b[0;34m\u001b[0m\u001b[0;34m\u001b[0m\u001b[0m\n\u001b[0;32m--> 543\u001b[0;31m                 \u001b[0msuccess\u001b[0m\u001b[0;34m,\u001b[0m \u001b[0mdata\u001b[0m \u001b[0;34m=\u001b[0m \u001b[0mself\u001b[0m\u001b[0;34m.\u001b[0m\u001b[0m_try_get_batch\u001b[0m\u001b[0;34m(\u001b[0m\u001b[0;34m)\u001b[0m\u001b[0;34m\u001b[0m\u001b[0;34m\u001b[0m\u001b[0m\n\u001b[0m\u001b[1;32m    544\u001b[0m                 \u001b[0;32mif\u001b[0m \u001b[0msuccess\u001b[0m\u001b[0;34m:\u001b[0m\u001b[0;34m\u001b[0m\u001b[0;34m\u001b[0m\u001b[0m\n\u001b[1;32m    545\u001b[0m                     \u001b[0;32mreturn\u001b[0m \u001b[0mdata\u001b[0m\u001b[0;34m\u001b[0m\u001b[0;34m\u001b[0m\u001b[0m\n",
            "\u001b[0;32m~/miniconda/lib/python3.7/site-packages/torch/utils/data/dataloader.py\u001b[0m in \u001b[0;36m_try_get_batch\u001b[0;34m(self, timeout)\u001b[0m\n\u001b[1;32m    509\u001b[0m         \u001b[0;31m#   (bool: whether successfully get data, any: data if successful else None)\u001b[0m\u001b[0;34m\u001b[0m\u001b[0;34m\u001b[0m\u001b[0;34m\u001b[0m\u001b[0m\n\u001b[1;32m    510\u001b[0m         \u001b[0;32mtry\u001b[0m\u001b[0;34m:\u001b[0m\u001b[0;34m\u001b[0m\u001b[0;34m\u001b[0m\u001b[0m\n\u001b[0;32m--> 511\u001b[0;31m             \u001b[0mdata\u001b[0m \u001b[0;34m=\u001b[0m \u001b[0mself\u001b[0m\u001b[0;34m.\u001b[0m\u001b[0mdata_queue\u001b[0m\u001b[0;34m.\u001b[0m\u001b[0mget\u001b[0m\u001b[0;34m(\u001b[0m\u001b[0mtimeout\u001b[0m\u001b[0;34m=\u001b[0m\u001b[0mtimeout\u001b[0m\u001b[0;34m)\u001b[0m\u001b[0;34m\u001b[0m\u001b[0;34m\u001b[0m\u001b[0m\n\u001b[0m\u001b[1;32m    512\u001b[0m             \u001b[0;32mreturn\u001b[0m \u001b[0;34m(\u001b[0m\u001b[0;32mTrue\u001b[0m\u001b[0;34m,\u001b[0m \u001b[0mdata\u001b[0m\u001b[0;34m)\u001b[0m\u001b[0;34m\u001b[0m\u001b[0;34m\u001b[0m\u001b[0m\n\u001b[1;32m    513\u001b[0m         \u001b[0;32mexcept\u001b[0m \u001b[0mException\u001b[0m \u001b[0;32mas\u001b[0m \u001b[0me\u001b[0m\u001b[0;34m:\u001b[0m\u001b[0;34m\u001b[0m\u001b[0;34m\u001b[0m\u001b[0m\n",
            "\u001b[0;32m~/miniconda/lib/python3.7/queue.py\u001b[0m in \u001b[0;36mget\u001b[0;34m(self, block, timeout)\u001b[0m\n\u001b[1;32m    177\u001b[0m                     \u001b[0;32mif\u001b[0m \u001b[0mremaining\u001b[0m \u001b[0;34m<=\u001b[0m \u001b[0;36m0.0\u001b[0m\u001b[0;34m:\u001b[0m\u001b[0;34m\u001b[0m\u001b[0;34m\u001b[0m\u001b[0m\n\u001b[1;32m    178\u001b[0m                         \u001b[0;32mraise\u001b[0m \u001b[0mEmpty\u001b[0m\u001b[0;34m\u001b[0m\u001b[0;34m\u001b[0m\u001b[0m\n\u001b[0;32m--> 179\u001b[0;31m                     \u001b[0mself\u001b[0m\u001b[0;34m.\u001b[0m\u001b[0mnot_empty\u001b[0m\u001b[0;34m.\u001b[0m\u001b[0mwait\u001b[0m\u001b[0;34m(\u001b[0m\u001b[0mremaining\u001b[0m\u001b[0;34m)\u001b[0m\u001b[0;34m\u001b[0m\u001b[0;34m\u001b[0m\u001b[0m\n\u001b[0m\u001b[1;32m    180\u001b[0m             \u001b[0mitem\u001b[0m \u001b[0;34m=\u001b[0m \u001b[0mself\u001b[0m\u001b[0;34m.\u001b[0m\u001b[0m_get\u001b[0m\u001b[0;34m(\u001b[0m\u001b[0;34m)\u001b[0m\u001b[0;34m\u001b[0m\u001b[0;34m\u001b[0m\u001b[0m\n\u001b[1;32m    181\u001b[0m             \u001b[0mself\u001b[0m\u001b[0;34m.\u001b[0m\u001b[0mnot_full\u001b[0m\u001b[0;34m.\u001b[0m\u001b[0mnotify\u001b[0m\u001b[0;34m(\u001b[0m\u001b[0;34m)\u001b[0m\u001b[0;34m\u001b[0m\u001b[0;34m\u001b[0m\u001b[0m\n",
            "\u001b[0;32m~/miniconda/lib/python3.7/threading.py\u001b[0m in \u001b[0;36mwait\u001b[0;34m(self, timeout)\u001b[0m\n\u001b[1;32m    298\u001b[0m             \u001b[0;32melse\u001b[0m\u001b[0;34m:\u001b[0m\u001b[0;34m\u001b[0m\u001b[0;34m\u001b[0m\u001b[0m\n\u001b[1;32m    299\u001b[0m                 \u001b[0;32mif\u001b[0m \u001b[0mtimeout\u001b[0m \u001b[0;34m>\u001b[0m \u001b[0;36m0\u001b[0m\u001b[0;34m:\u001b[0m\u001b[0;34m\u001b[0m\u001b[0;34m\u001b[0m\u001b[0m\n\u001b[0;32m--> 300\u001b[0;31m                     \u001b[0mgotit\u001b[0m \u001b[0;34m=\u001b[0m \u001b[0mwaiter\u001b[0m\u001b[0;34m.\u001b[0m\u001b[0macquire\u001b[0m\u001b[0;34m(\u001b[0m\u001b[0;32mTrue\u001b[0m\u001b[0;34m,\u001b[0m \u001b[0mtimeout\u001b[0m\u001b[0;34m)\u001b[0m\u001b[0;34m\u001b[0m\u001b[0;34m\u001b[0m\u001b[0m\n\u001b[0m\u001b[1;32m    301\u001b[0m                 \u001b[0;32melse\u001b[0m\u001b[0;34m:\u001b[0m\u001b[0;34m\u001b[0m\u001b[0;34m\u001b[0m\u001b[0m\n\u001b[1;32m    302\u001b[0m                     \u001b[0mgotit\u001b[0m \u001b[0;34m=\u001b[0m \u001b[0mwaiter\u001b[0m\u001b[0;34m.\u001b[0m\u001b[0macquire\u001b[0m\u001b[0;34m(\u001b[0m\u001b[0;32mFalse\u001b[0m\u001b[0;34m)\u001b[0m\u001b[0;34m\u001b[0m\u001b[0;34m\u001b[0m\u001b[0m\n",
            "\u001b[0;31mKeyboardInterrupt\u001b[0m: "
          ]
        }
      ]
    },
    {
      "cell_type": "code",
      "metadata": {
        "id": "FW7VCCtEE2k0",
        "colab_type": "code",
        "colab": {},
        "outputId": "695895ce-1ebc-4932-9573-6a1da3da5420"
      },
      "source": [
        "mnist_sample, mnist_target = iter(test_loader).next()\n",
        "mnist_sample = mnist_sample.to(DEVICE)\n",
        "print(mnist_target)\n",
        "# sns.set_style(\"dark\")\n",
        "show(make_grid(mnist_sample.cpu()))"
      ],
      "execution_count": 0,
      "outputs": [
        {
          "output_type": "stream",
          "text": [
            "tensor([7, 2, 1, 0, 4])\n"
          ],
          "name": "stdout"
        },
        {
          "output_type": "stream",
          "text": [
            "Traceback (most recent call last):\n",
            "  File \"/home/docker_user/miniconda/lib/python3.7/multiprocessing/queues.py\", line 242, in _feed\n",
            "    send_bytes(obj)\n",
            "  File \"/home/docker_user/miniconda/lib/python3.7/multiprocessing/connection.py\", line 200, in send_bytes\n",
            "    self._send_bytes(m[offset:offset + size])\n",
            "  File \"/home/docker_user/miniconda/lib/python3.7/multiprocessing/connection.py\", line 404, in _send_bytes\n",
            "    self._send(header + buf)\n",
            "  File \"/home/docker_user/miniconda/lib/python3.7/multiprocessing/connection.py\", line 368, in _send\n",
            "    n = write(self._handle, buf)\n",
            "BrokenPipeError: [Errno 32] Broken pipe\n",
            "Exception in thread QueueFeederThread:\n",
            "Traceback (most recent call last):\n",
            "  File \"/home/docker_user/miniconda/lib/python3.7/multiprocessing/queues.py\", line 232, in _feed\n",
            "    close()\n",
            "  File \"/home/docker_user/miniconda/lib/python3.7/multiprocessing/connection.py\", line 177, in close\n",
            "    self._close()\n",
            "  File \"/home/docker_user/miniconda/lib/python3.7/multiprocessing/connection.py\", line 361, in _close\n",
            "    _close(self._handle)\n",
            "OSError: [Errno 9] Bad file descriptor\n",
            "\n",
            "During handling of the above exception, another exception occurred:\n",
            "\n",
            "Traceback (most recent call last):\n",
            "  File \"/home/docker_user/miniconda/lib/python3.7/threading.py\", line 917, in _bootstrap_inner\n",
            "    self.run()\n",
            "  File \"/home/docker_user/miniconda/lib/python3.7/threading.py\", line 865, in run\n",
            "    self._target(*self._args, **self._kwargs)\n",
            "  File \"/home/docker_user/miniconda/lib/python3.7/multiprocessing/queues.py\", line 263, in _feed\n",
            "    queue_sem.release()\n",
            "ValueError: semaphore or lock released too many times\n",
            "\n"
          ],
          "name": "stderr"
        },
        {
          "output_type": "display_data",
          "data": {
            "image/png": "[encoded data removed]",
            "text/plain": [
              "<Figure size 432x288 with 1 Axes>"
            ]
          },
          "metadata": {
            "tags": [],
            "needs_background": "light"
          }
        }
      ]
    },
    {
      "cell_type": "code",
      "metadata": {
        "id": "ydLgSyrOE2k4",
        "colab_type": "code",
        "colab": {},
        "outputId": "e85dce15-6ad8-495a-f46e-cd64c34c8c3e"
      },
      "source": [
        "out, logvar = model(mnist_sample)\n",
        "out = out.detach().cpu()\n",
        "out = out.view(-1, 1, 28,28)\n",
        "logvar = logvar.detach().cpu()\n",
        "logvar = logvar.view(-1, 1, 28,28)\n",
        "print(out.size())\n",
        "show(make_grid(out))"
      ],
      "execution_count": 0,
      "outputs": [
        {
          "output_type": "stream",
          "text": [
            "Clipping input data to the valid range for imshow with RGB data ([0..1] for floats or [0..255] for integers).\n"
          ],
          "name": "stderr"
        },
        {
          "output_type": "stream",
          "text": [
            "torch.Size([5, 784]) torch.Size([5, 784])\n",
            "torch.Size([5, 1, 28, 28])\n"
          ],
          "name": "stdout"
        },
        {
          "output_type": "display_data",
          "data": {
            "image/png": "[encoded data removed]",
            "text/plain": [
              "<Figure size 432x288 with 1 Axes>"
            ]
          },
          "metadata": {
            "tags": [],
            "needs_background": "light"
          }
        }
      ]
    },
    {
      "cell_type": "code",
      "metadata": {
        "id": "sQIvMh1uE2k7",
        "colab_type": "code",
        "colab": {},
        "outputId": "c04271e3-15ad-4746-bf2e-821594aeb395"
      },
      "source": [
        "x = mnist_sample[1,:,:,:]\n",
        "y_mean, y_std = out[1,:,:,:], torch.exp(logvar[1,:,:,:])\n",
        "\n",
        "res_list = [x.cpu().view(28,28).numpy(), y_mean.view(28,28).numpy(), y_std.view(28,28).numpy()]\n",
        "print(res_list[0].shape)\n",
        "display_images(res_list, titles=['input','mean', 'std'], cols=len(res_list), interpolation=None, cmap=\"viridis\")"
      ],
      "execution_count": 0,
      "outputs": [
        {
          "output_type": "stream",
          "text": [
            "(28, 28)\n"
          ],
          "name": "stdout"
        },
        {
          "output_type": "display_data",
          "data": {
            "image/png": "[encoded data removed]",
            "text/plain": [
              "<Figure size 3000x1200 with 3 Axes>"
            ]
          },
          "metadata": {
            "tags": [],
            "needs_background": "light"
          }
        }
      ]
    },
    {
      "cell_type": "markdown",
      "metadata": {
        "id": "pYMhCjywE2k-",
        "colab_type": "text"
      },
      "source": [
        "## Out of domain samples"
      ]
    },
    {
      "cell_type": "code",
      "metadata": {
        "id": "4FD2Ynb0E2k_",
        "colab_type": "code",
        "colab": {},
        "outputId": "422ca501-e572-4043-8c61-debd31698454"
      },
      "source": [
        "kmnist_loader = torch.utils.data.DataLoader(\n",
        "    datasets.KMNIST('./kmnist', train=False, download=True, transform=transforms.ToTensor()), batch_size=5, shuffle=False)"
      ],
      "execution_count": 0,
      "outputs": [
        {
          "output_type": "stream",
          "text": [
            "\n",
            "0it [00:00, ?it/s]\u001b[A"
          ],
          "name": "stderr"
        },
        {
          "output_type": "stream",
          "text": [
            "Downloading http://codh.rois.ac.jp/kmnist/dataset/kmnist/train-images-idx3-ubyte.gz to ./kmnist/KMNIST/raw/train-images-idx3-ubyte.gz\n"
          ],
          "name": "stdout"
        },
        {
          "output_type": "stream",
          "text": [
            "\n",
            "  0%|          | 0/18165135 [00:00<?, ?it/s]\u001b[A\n",
            "  0%|          | 16384/18165135 [00:01<04:36, 65702.80it/s]\u001b[A\n",
            "  0%|          | 40960/18165135 [00:01<04:08, 72853.06it/s]\u001b[A\n",
            "  1%|          | 98304/18165135 [00:01<03:17, 91550.08it/s]\u001b[A\n",
            "  1%|          | 204800/18165135 [00:01<02:30, 119660.40it/s]\u001b[A\n",
            "  2%|▏         | 352256/18165135 [00:02<01:53, 157188.28it/s]\u001b[A\n",
            "  3%|▎         | 516096/18165135 [00:02<01:26, 203481.02it/s]\u001b[A\n",
            "  4%|▎         | 671744/18165135 [00:02<01:08, 254864.68it/s]\u001b[A\n",
            "  5%|▍         | 835584/18165135 [00:02<00:55, 311823.28it/s]\u001b[A\n",
            "  6%|▌         | 999424/18165135 [00:03<00:46, 369431.14it/s]\u001b[A\n",
            "  6%|▋         | 1155072/18165135 [00:03<00:40, 420994.49it/s]\u001b[A\n",
            "  7%|▋         | 1318912/18165135 [00:03<00:35, 470600.93it/s]\u001b[A\n",
            "  8%|▊         | 1482752/18165135 [00:03<00:32, 513085.19it/s]\u001b[A\n",
            "  9%|▉         | 1646592/18165135 [00:04<00:30, 547737.61it/s]\u001b[A\n",
            " 10%|▉         | 1802240/18165135 [00:04<00:28, 568781.45it/s]\u001b[A\n",
            " 11%|█         | 1966080/18165135 [00:04<00:27, 590994.71it/s]\u001b[A\n",
            " 12%|█▏        | 2129920/18165135 [00:04<00:26, 607556.69it/s]\u001b[A\n",
            " 13%|█▎        | 2285568/18165135 [00:05<00:25, 612713.85it/s]\u001b[A\n",
            " 13%|█▎        | 2449408/18165135 [00:05<00:25, 623702.51it/s]\u001b[A\n",
            " 14%|█▍        | 2613248/18165135 [00:05<00:24, 630741.42it/s]\u001b[A\n",
            " 15%|█▌        | 2768896/18165135 [00:05<00:24, 627085.52it/s]\u001b[A\n",
            " 16%|█▌        | 2932736/18165135 [00:06<00:24, 634105.22it/s]\u001b[A\n",
            " 17%|█▋        | 3096576/18165135 [00:06<00:23, 639302.15it/s]\u001b[A\n",
            " 18%|█▊        | 3260416/18165135 [00:06<00:23, 641187.91it/s]\u001b[A\n",
            " 19%|█▉        | 3416064/18165135 [00:06<00:23, 637009.28it/s]\u001b[A\n",
            " 20%|█▉        | 3579904/18165135 [00:07<00:22, 641142.53it/s]\u001b[A\n",
            " 21%|██        | 3743744/18165135 [00:07<00:22, 642940.91it/s]\u001b[A\n",
            " 21%|██▏       | 3899392/18165135 [00:07<00:22, 637765.84it/s]\u001b[A\n",
            " 22%|██▏       | 4063232/18165135 [00:07<00:21, 641502.72it/s]\u001b[A\n",
            " 23%|██▎       | 4227072/18165135 [00:08<00:21, 643270.46it/s]\u001b[A\n",
            " 24%|██▍       | 4390912/18165135 [00:08<00:21, 645385.67it/s]\u001b[A\n",
            " 25%|██▌       | 4546560/18165135 [00:08<00:21, 639528.96it/s]\u001b[A\n",
            " 26%|██▌       | 4710400/18165135 [00:08<00:20, 643071.59it/s]\u001b[A\n",
            " 27%|██▋       | 4874240/18165135 [00:09<00:20, 643895.91it/s]\u001b[A\n",
            " 28%|██▊       | 5029888/18165135 [00:09<00:20, 639070.91it/s]\u001b[A\n",
            " 29%|██▊       | 5193728/18165135 [00:09<00:20, 642334.21it/s]\u001b[A\n",
            " 29%|██▉       | 5357568/18165135 [00:09<00:19, 643426.14it/s]\u001b[A\n",
            " 30%|███       | 5513216/18165135 [00:10<00:19, 638420.09it/s]\u001b[A\n",
            " 31%|███▏      | 5677056/18165135 [00:10<00:19, 642151.85it/s]\u001b[A\n",
            " 32%|███▏      | 5840896/18165135 [00:10<00:19, 645084.49it/s]\u001b[A\n",
            " 33%|███▎      | 6004736/18165135 [00:10<00:18, 644882.48it/s]\u001b[A\n",
            " 34%|███▍      | 6160384/18165135 [00:11<00:18, 638067.50it/s]\u001b[A\n",
            " 35%|███▍      | 6324224/18165135 [00:11<00:18, 641525.48it/s]\u001b[A\n",
            " 36%|███▌      | 6488064/18165135 [00:11<00:18, 644735.51it/s]\u001b[A\n",
            " 37%|███▋      | 6643712/18165135 [00:11<00:18, 637499.54it/s]\u001b[A\n",
            " 37%|███▋      | 6807552/18165135 [00:12<00:17, 641442.51it/s]\u001b[A\n",
            " 38%|███▊      | 6971392/18165135 [00:12<00:17, 644573.99it/s]\u001b[A\n",
            " 39%|███▉      | 7127040/18165135 [00:12<00:17, 637425.03it/s]\u001b[A\n",
            " 40%|████      | 7290880/18165135 [00:12<00:16, 641230.08it/s]\u001b[A\n",
            " 41%|████      | 7454720/18165135 [00:13<00:16, 644485.46it/s]\u001b[A\n",
            " 42%|████▏     | 7618560/18165135 [00:13<00:16, 646744.89it/s]\u001b[A\n",
            " 43%|████▎     | 7774208/18165135 [00:13<00:16, 638439.30it/s]\u001b[A\n",
            " 44%|████▎     | 7938048/18165135 [00:14<00:15, 642178.41it/s]\u001b[A\n",
            " 45%|████▍     | 8101888/18165135 [00:14<00:15, 645535.75it/s]\u001b[A\n",
            " 45%|████▌     | 8257536/18165135 [00:14<00:15, 638043.63it/s]\u001b[A\n",
            " 46%|████▋     | 8421376/18165135 [00:14<00:15, 641843.64it/s]\u001b[A\n",
            " 47%|████▋     | 8585216/18165135 [00:15<00:14, 644809.56it/s]\u001b[A\n",
            " 48%|████▊     | 8749056/18165135 [00:15<00:14, 646997.07it/s]\u001b[A\n",
            " 49%|████▉     | 8904704/18165135 [00:15<00:14, 638503.18it/s]\u001b[A\n",
            " 50%|████▉     | 9068544/18165135 [00:15<00:14, 642659.51it/s]\u001b[A\n",
            " 50%|█████     | 9150464/18165135 [00:15<00:16, 547457.43it/s]\u001b[A\n",
            " 51%|█████     | 9306112/18165135 [00:16<00:15, 566986.02it/s]\u001b[A\n",
            " 52%|█████▏    | 9469952/18165135 [00:16<00:14, 589659.88it/s]\u001b[A\n",
            " 53%|█████▎    | 9633792/18165135 [00:16<00:14, 606213.17it/s]\u001b[A\n",
            " 54%|█████▍    | 9789440/18165135 [00:16<00:13, 611549.05it/s]\u001b[A\n",
            " 55%|█████▍    | 9953280/18165135 [00:17<00:13, 622735.60it/s]\u001b[A\n",
            " 56%|█████▌    | 10117120/18165135 [00:17<00:12, 630070.74it/s]\u001b[A\n",
            " 57%|█████▋    | 10280960/18165135 [00:17<00:12, 636725.65it/s]\u001b[A\n",
            " 57%|█████▋    | 10436608/18165135 [00:17<00:12, 632693.16it/s]\u001b[A\n",
            " 58%|█████▊    | 10600448/18165135 [00:18<00:11, 637335.99it/s]\u001b[A\n",
            " 59%|█████▉    | 10764288/18165135 [00:18<00:11, 641744.33it/s]\u001b[A\n",
            " 60%|██████    | 10919936/18165135 [00:18<00:11, 636501.89it/s]\u001b[A\n",
            " 61%|██████    | 11083776/18165135 [00:18<00:11, 640141.93it/s]\u001b[A\n",
            " 62%|██████▏   | 11247616/18165135 [00:19<00:10, 643121.02it/s]\u001b[A\n",
            " 63%|██████▎   | 11411456/18165135 [00:19<00:10, 645877.34it/s]\u001b[A\n",
            " 64%|██████▎   | 11567104/18165135 [00:19<00:10, 638471.57it/s]\u001b[A\n",
            " 65%|██████▍   | 11730944/18165135 [00:19<00:10, 642066.62it/s]\u001b[A\n",
            " 65%|██████▌   | 11886592/18165135 [00:20<00:08, 779031.48it/s]\u001b[A\n",
            " 66%|██████▌   | 11984896/18165135 [00:20<00:09, 660269.33it/s]\u001b[A\n",
            " 66%|██████▋   | 12066816/18165135 [00:20<00:11, 553255.56it/s]\u001b[A\n",
            " 67%|██████▋   | 12214272/18165135 [00:20<00:10, 565680.40it/s]\u001b[A\n",
            " 68%|██████▊   | 12378112/18165135 [00:20<00:09, 588957.44it/s]\u001b[A\n",
            " 69%|██████▉   | 12533760/18165135 [00:21<00:09, 598173.99it/s]\u001b[A\n",
            " 70%|██████▉   | 12697600/18165135 [00:21<00:08, 612842.72it/s]\u001b[A\n",
            " 71%|███████   | 12861440/18165135 [00:21<00:08, 623990.55it/s]\u001b[A\n",
            " 72%|███████▏  | 13025280/18165135 [00:21<00:08, 631603.29it/s]\u001b[A\n",
            " 73%|███████▎  | 13180928/18165135 [00:22<00:07, 628381.78it/s]\u001b[A\n",
            " 73%|███████▎  | 13344768/18165135 [00:22<00:07, 635134.07it/s]\u001b[A\n",
            " 74%|███████▍  | 13508608/18165135 [00:22<00:07, 640089.83it/s]\u001b[A\n",
            " 75%|███████▌  | 13664256/18165135 [00:23<00:07, 634139.70it/s]\u001b[A\n",
            " 76%|███████▌  | 13828096/18165135 [00:23<00:06, 638748.18it/s]\u001b[A\n",
            " 77%|███████▋  | 13991936/18165135 [00:23<00:06, 642651.26it/s]\u001b[A\n",
            " 78%|███████▊  | 14155776/18165135 [00:23<00:06, 644455.71it/s]\u001b[A\n",
            " 79%|███████▉  | 14311424/18165135 [00:24<00:06, 637174.23it/s]\u001b[A\n",
            " 80%|███████▉  | 14475264/18165135 [00:24<00:05, 641236.16it/s]\u001b[A\n",
            " 81%|████████  | 14639104/18165135 [00:24<00:05, 644296.34it/s]\u001b[A\n",
            " 81%|████████▏ | 14794752/18165135 [00:24<00:05, 636592.93it/s]\u001b[A\n",
            " 82%|████████▏ | 14958592/18165135 [00:25<00:05, 640996.44it/s]\u001b[A\n",
            " 83%|████████▎ | 15122432/18165135 [00:25<00:04, 644078.92it/s]\u001b[A\n",
            " 84%|████████▍ | 15278080/18165135 [00:25<00:04, 636901.82it/s]\u001b[A\n",
            " 85%|████████▌ | 15441920/18165135 [00:25<00:04, 640779.58it/s]\u001b[A\n",
            " 86%|████████▌ | 15605760/18165135 [00:26<00:03, 644076.64it/s]\u001b[A\n",
            " 87%|████████▋ | 15769600/18165135 [00:26<00:03, 645957.88it/s]\u001b[A\n",
            " 88%|████████▊ | 15925248/18165135 [00:26<00:03, 638048.13it/s]\u001b[A\n",
            " 89%|████████▊ | 16089088/18165135 [00:26<00:03, 642185.48it/s]\u001b[A\n",
            " 89%|████████▉ | 16252928/18165135 [00:27<00:02, 645121.51it/s]\u001b[A\n",
            " 90%|█████████ | 16408576/18165135 [00:27<00:02, 636896.08it/s]\u001b[A\n",
            " 91%|█████████ | 16572416/18165135 [00:27<00:02, 640790.75it/s]\u001b[A\n",
            " 92%|█████████▏| 16736256/18165135 [00:27<00:02, 644053.03it/s]\u001b[A\n",
            " 93%|█████████▎| 16891904/18165135 [00:28<00:01, 636834.52it/s]\u001b[A\n",
            " 94%|█████████▍| 17055744/18165135 [00:28<00:01, 640681.54it/s]\u001b[A\n",
            " 95%|█████████▍| 17219584/18165135 [00:28<00:01, 644005.67it/s]\u001b[A\n",
            " 96%|█████████▌| 17383424/18165135 [00:28<00:01, 646347.14it/s]\u001b[A\n",
            " 97%|█████████▋| 17539072/18165135 [00:29<00:00, 637746.74it/s]\u001b[A\n",
            " 97%|█████████▋| 17702912/18165135 [00:29<00:00, 642148.82it/s]\u001b[A\n",
            " 98%|█████████▊| 17866752/18165135 [00:29<00:00, 644817.77it/s]\u001b[A\n",
            " 99%|█████████▉| 18022400/18165135 [00:29<00:00, 637370.60it/s]\u001b[A"
          ],
          "name": "stderr"
        },
        {
          "output_type": "stream",
          "text": [
            "Extracting ./kmnist/KMNIST/raw/train-images-idx3-ubyte.gz\n"
          ],
          "name": "stdout"
        },
        {
          "output_type": "stream",
          "text": [
            "\n",
            "\n",
            "0it [00:00, ?it/s]\u001b[A\u001b[A"
          ],
          "name": "stderr"
        },
        {
          "output_type": "stream",
          "text": [
            "Downloading http://codh.rois.ac.jp/kmnist/dataset/kmnist/train-labels-idx1-ubyte.gz to ./kmnist/KMNIST/raw/train-labels-idx1-ubyte.gz\n"
          ],
          "name": "stdout"
        },
        {
          "output_type": "stream",
          "text": [
            "\n",
            "\n",
            "  0%|          | 0/29497 [00:00<?, ?it/s]\u001b[A\u001b[A\n",
            "\n",
            "32768it [00:00, 38685.72it/s]            \u001b[A\u001b[A\n",
            "\n",
            "0it [00:00, ?it/s]\u001b[A\u001b[A"
          ],
          "name": "stderr"
        },
        {
          "output_type": "stream",
          "text": [
            "Extracting ./kmnist/KMNIST/raw/train-labels-idx1-ubyte.gz\n",
            "Downloading http://codh.rois.ac.jp/kmnist/dataset/kmnist/t10k-images-idx3-ubyte.gz to ./kmnist/KMNIST/raw/t10k-images-idx3-ubyte.gz\n"
          ],
          "name": "stdout"
        },
        {
          "output_type": "stream",
          "text": [
            "\n",
            "\n",
            "  0%|          | 0/3041136 [00:06<?, ?it/s]\u001b[A\u001b[A\n",
            "\n",
            " 40%|███▉      | 1204224/3041136 [00:06<00:00, 12010466.40it/s]\u001b[A\u001b[A\n",
            "\n",
            " 78%|███████▊  | 2383872/3041136 [00:06<00:00, 11906036.96it/s]\u001b[A\u001b[A\n",
            "\n",
            "3047424it [00:06, 466399.54it/s]                               \u001b[A\u001b[A\n",
            "18169856it [00:42, 637370.60it/s]                              \u001b[A"
          ],
          "name": "stderr"
        },
        {
          "output_type": "stream",
          "text": [
            "Extracting ./kmnist/KMNIST/raw/t10k-images-idx3-ubyte.gz\n"
          ],
          "name": "stdout"
        },
        {
          "output_type": "stream",
          "text": [
            "\n",
            "\n",
            "0it [00:00, ?it/s]\u001b[A\u001b[A"
          ],
          "name": "stderr"
        },
        {
          "output_type": "stream",
          "text": [
            "Downloading http://codh.rois.ac.jp/kmnist/dataset/kmnist/t10k-labels-idx1-ubyte.gz to ./kmnist/KMNIST/raw/t10k-labels-idx1-ubyte.gz\n"
          ],
          "name": "stdout"
        },
        {
          "output_type": "stream",
          "text": [
            "\n",
            "\n",
            "  0%|          | 0/5120 [00:00<?, ?it/s]\u001b[A\u001b[A\n",
            "\n",
            "8192it [00:00, 11515.48it/s]            \u001b[A\u001b[A"
          ],
          "name": "stderr"
        },
        {
          "output_type": "stream",
          "text": [
            "Extracting ./kmnist/KMNIST/raw/t10k-labels-idx1-ubyte.gz\n",
            "Processing...\n",
            "Done!\n"
          ],
          "name": "stdout"
        }
      ]
    },
    {
      "cell_type": "code",
      "metadata": {
        "id": "Q4WPES8CE2lC",
        "colab_type": "code",
        "colab": {},
        "outputId": "c6326948-e7b4-4793-96a1-a3760af4d559"
      },
      "source": [
        "kmnist_sample, kmnist_target = iter(kmnist_loader).next()\n",
        "kmnist_sample = kmnist_sample.to(DEVICE)\n",
        "print(kmnist_target)\n",
        "# sns.set_style(\"dark\")\n",
        "show(make_grid(kmnist_sample.cpu()))"
      ],
      "execution_count": 0,
      "outputs": [
        {
          "output_type": "stream",
          "text": [
            "tensor([2, 9, 3, 8, 3])\n"
          ],
          "name": "stdout"
        },
        {
          "output_type": "display_data",
          "data": {
            "image/png": "[encoded data removed]",
            "text/plain": [
              "<Figure size 432x288 with 1 Axes>"
            ]
          },
          "metadata": {
            "tags": [],
            "needs_background": "light"
          }
        }
      ]
    },
    {
      "cell_type": "code",
      "metadata": {
        "id": "38OHYXZPE2lG",
        "colab_type": "code",
        "colab": {},
        "outputId": "ddccf943-ca8d-47dd-c14d-ff38e2bf4da0"
      },
      "source": [
        "out, logvar = model(kmnist_sample)\n",
        "out = out.detach().cpu()\n",
        "out = out.view(-1, 1, 28,28)\n",
        "logvar = logvar.detach().cpu()\n",
        "logvar = logvar.view(-1, 1, 28,28)\n",
        "print(out.size())\n",
        "show(make_grid(out))"
      ],
      "execution_count": 0,
      "outputs": [
        {
          "output_type": "stream",
          "text": [
            "Clipping input data to the valid range for imshow with RGB data ([0..1] for floats or [0..255] for integers).\n"
          ],
          "name": "stderr"
        },
        {
          "output_type": "stream",
          "text": [
            "torch.Size([5, 784]) torch.Size([5, 784])\n",
            "torch.Size([5, 1, 28, 28])\n"
          ],
          "name": "stdout"
        },
        {
          "output_type": "display_data",
          "data": {
            "image/png": "[encoded data removed]",
            "text/plain": [
              "<Figure size 432x288 with 1 Axes>"
            ]
          },
          "metadata": {
            "tags": [],
            "needs_background": "light"
          }
        }
      ]
    },
    {
      "cell_type": "code",
      "metadata": {
        "id": "LucqxP4mE2lK",
        "colab_type": "code",
        "colab": {},
        "outputId": "95edb113-1f09-4d25-d8df-459ac285b4b5"
      },
      "source": [
        "x = kmnist_sample[1,:,:,:]\n",
        "y_mean, y_std = out[1,:,:,:], torch.exp(logvar[1,:,:,:])\n",
        "\n",
        "res_list = [x.cpu().view(28,28).numpy(), y_mean.view(28,28).numpy(), y_std.view(28,28).numpy()]\n",
        "print(res_list[0].shape)\n",
        "display_images(res_list, titles=['input','mean', 'std'], cols=len(res_list), interpolation=None, cmap=\"viridis\")"
      ],
      "execution_count": 0,
      "outputs": [
        {
          "output_type": "stream",
          "text": [
            "(28, 28)\n"
          ],
          "name": "stdout"
        },
        {
          "output_type": "display_data",
          "data": {
            "image/png": "[encoded data removed]",
            "text/plain": [
              "<Figure size 3000x1200 with 3 Axes>"
            ]
          },
          "metadata": {
            "tags": [],
            "needs_background": "light"
          }
        }
      ]
    },
    {
      "cell_type": "code",
      "metadata": {
        "id": "vtsAhXOTE2lR",
        "colab_type": "code",
        "colab": {}
      },
      "source": [
        ""
      ],
      "execution_count": 0,
      "outputs": []
    }
  ]
}
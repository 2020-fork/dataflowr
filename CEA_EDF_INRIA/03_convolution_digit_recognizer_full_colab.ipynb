{
  "nbformat": 4,
  "nbformat_minor": 0,
  "metadata": {
    "colab": {
      "name": "03_convolution-digit-recognizer_full_colab.ipynb",
      "version": "0.3.2",
      "provenance": [],
      "include_colab_link": true
    },
    "language_info": {
      "codemirror_mode": {
        "name": "ipython",
        "version": 3
      },
      "file_extension": ".py",
      "mimetype": "text/x-python",
      "name": "python",
      "nbconvert_exporter": "python",
      "pygments_lexer": "ipython3",
      "version": "3.6.8"
    },
    "kernelspec": {
      "display_name": "Python 3",
      "language": "python",
      "name": "python3"
    }
  },
  "cells": [
    {
      "cell_type": "markdown",
      "metadata": {
        "id": "view-in-github",
        "colab_type": "text"
      },
      "source": [
        "<a href=\"https://colab.research.google.com/github/mlelarge/dataflowr/blob/master/CEA_EDF_INRIA/03_convolution_digit_recognizer_full_colab.ipynb\" target=\"_parent\"><img src=\"https://colab.research.google.com/assets/colab-badge.svg\" alt=\"Open In Colab\"/></a>"
      ]
    },
    {
      "cell_type": "markdown",
      "metadata": {
        "id": "CUiFyiXKHovB",
        "colab_type": "text"
      },
      "source": [
        "# Convolutions by examples\n",
        "\n",
        "### Acknowledgement\n",
        "\n",
        "Code from Sections 1 to 3 taken from [fastai: lesson 0](http://course.fast.ai/lessons/lesson0.html)"
      ]
    },
    {
      "cell_type": "markdown",
      "metadata": {
        "id": "7v7DN_UKHovE",
        "colab_type": "text"
      },
      "source": [
        "## 1. Preparations"
      ]
    },
    {
      "cell_type": "code",
      "metadata": {
        "id": "eQmaHvupHovF",
        "colab_type": "code",
        "colab": {}
      },
      "source": [
        "%matplotlib inline\n",
        "import math,sys,os,numpy as np\n",
        "from numpy.linalg import norm\n",
        "from matplotlib import pyplot as plt"
      ],
      "execution_count": 0,
      "outputs": []
    },
    {
      "cell_type": "code",
      "metadata": {
        "id": "lkRdumG1HovK",
        "colab_type": "code",
        "colab": {}
      },
      "source": [
        "import torch\n",
        "import torchvision\n",
        "from torchvision import models,transforms,datasets"
      ],
      "execution_count": 0,
      "outputs": []
    },
    {
      "cell_type": "markdown",
      "metadata": {
        "id": "3JlQUj5IHovP",
        "colab_type": "text"
      },
      "source": [
        "Download MNIST data on disk and convert it to pytorch compatible formating.\n",
        "\n",
        "```torchvision.datasets``` features support (download, formatting) for a collection of popular datasets. The list of available datasets in ```torchvision``` can be found [here](http://pytorch.org/docs/master/torchvision/datasets.html).\n",
        "\n",
        "Note that the download is performed only once. The function will always check first if the data is already on disk.\n"
      ]
    },
    {
      "cell_type": "code",
      "metadata": {
        "id": "Bv9h8isvHovQ",
        "colab_type": "code",
        "colab": {
          "base_uri": "https://localhost:8080/",
          "height": 332
        },
        "outputId": "84d3321f-c473-47d4-f972-71e2f481499a"
      },
      "source": [
        "root_dir = '/content/data/MNIST/'\n",
        "torchvision.datasets.MNIST(root=root_dir,download=True)"
      ],
      "execution_count": 3,
      "outputs": [
        {
          "output_type": "stream",
          "text": [
            "\r0it [00:00, ?it/s]"
          ],
          "name": "stderr"
        },
        {
          "output_type": "stream",
          "text": [
            "Downloading http://yann.lecun.com/exdb/mnist/train-images-idx3-ubyte.gz to /content/data/MNIST/MNIST/raw/train-images-idx3-ubyte.gz\n"
          ],
          "name": "stdout"
        },
        {
          "output_type": "stream",
          "text": [
            "9920512it [00:01, 9057548.29it/s]                            \n"
          ],
          "name": "stderr"
        },
        {
          "output_type": "stream",
          "text": [
            "Extracting /content/data/MNIST/MNIST/raw/train-images-idx3-ubyte.gz\n"
          ],
          "name": "stdout"
        },
        {
          "output_type": "stream",
          "text": [
            "  0%|          | 0/28881 [00:00<?, ?it/s]"
          ],
          "name": "stderr"
        },
        {
          "output_type": "stream",
          "text": [
            "Downloading http://yann.lecun.com/exdb/mnist/train-labels-idx1-ubyte.gz to /content/data/MNIST/MNIST/raw/train-labels-idx1-ubyte.gz\n"
          ],
          "name": "stdout"
        },
        {
          "output_type": "stream",
          "text": [
            "32768it [00:00, 135832.73it/s]           \n",
            "  0%|          | 0/1648877 [00:00<?, ?it/s]"
          ],
          "name": "stderr"
        },
        {
          "output_type": "stream",
          "text": [
            "Extracting /content/data/MNIST/MNIST/raw/train-labels-idx1-ubyte.gz\n",
            "Downloading http://yann.lecun.com/exdb/mnist/t10k-images-idx3-ubyte.gz to /content/data/MNIST/MNIST/raw/t10k-images-idx3-ubyte.gz\n"
          ],
          "name": "stdout"
        },
        {
          "output_type": "stream",
          "text": [
            "1654784it [00:00, 2566279.50it/s]                           \n",
            "0it [00:00, ?it/s]"
          ],
          "name": "stderr"
        },
        {
          "output_type": "stream",
          "text": [
            "Extracting /content/data/MNIST/MNIST/raw/t10k-images-idx3-ubyte.gz\n",
            "Downloading http://yann.lecun.com/exdb/mnist/t10k-labels-idx1-ubyte.gz to /content/data/MNIST/MNIST/raw/t10k-labels-idx1-ubyte.gz\n"
          ],
          "name": "stdout"
        },
        {
          "output_type": "stream",
          "text": [
            "8192it [00:00, 51573.93it/s]            "
          ],
          "name": "stderr"
        },
        {
          "output_type": "stream",
          "text": [
            "Extracting /content/data/MNIST/MNIST/raw/t10k-labels-idx1-ubyte.gz\n",
            "Processing...\n",
            "Done!\n"
          ],
          "name": "stdout"
        },
        {
          "output_type": "stream",
          "text": [
            "\n"
          ],
          "name": "stderr"
        },
        {
          "output_type": "execute_result",
          "data": {
            "text/plain": [
              "Dataset MNIST\n",
              "    Number of datapoints: 60000\n",
              "    Root location: /content/data/MNIST/\n",
              "    Split: Train"
            ]
          },
          "metadata": {
            "tags": []
          },
          "execution_count": 3
        }
      ]
    },
    {
      "cell_type": "markdown",
      "metadata": {
        "id": "XW1c2YmiHovW",
        "colab_type": "text"
      },
      "source": [
        "MNIST datasets consists of small images of hand-written digits. The images are grayscale and have size 28 x 28. There are 60,000 training images and 10,000 testing images."
      ]
    },
    {
      "cell_type": "code",
      "metadata": {
        "id": "p9MA5fqrHovZ",
        "colab_type": "code",
        "colab": {}
      },
      "source": [
        "train_set = torchvision.datasets.MNIST(root=root_dir, train=True, download=True)"
      ],
      "execution_count": 0,
      "outputs": []
    },
    {
      "cell_type": "markdown",
      "metadata": {
        "id": "yaLXqwxaHovg",
        "colab_type": "text"
      },
      "source": [
        "Define and initialize a data loader for the MNIST data already downloaded on disk."
      ]
    },
    {
      "cell_type": "code",
      "metadata": {
        "id": "uEyTgg0THovj",
        "colab_type": "code",
        "colab": {}
      },
      "source": [
        "MNIST_dataset = torch.utils.data.DataLoader(train_set, batch_size=1, shuffle=True, num_workers=1)"
      ],
      "execution_count": 0,
      "outputs": []
    },
    {
      "cell_type": "markdown",
      "metadata": {
        "id": "f12CxE8XHovo",
        "colab_type": "text"
      },
      "source": [
        "For the current notebook, since we are doing no training, we can format data as _numpy ndarrays_ which are easier to plot in matplotlib. The same operations can be easily performed on _pytorch Tensors_."
      ]
    },
    {
      "cell_type": "code",
      "metadata": {
        "id": "_UnuFlpWHovq",
        "colab_type": "code",
        "colab": {}
      },
      "source": [
        "images = train_set.data.numpy().astype(np.float32)/255\n",
        "labels = train_set.targets.numpy()"
      ],
      "execution_count": 0,
      "outputs": []
    },
    {
      "cell_type": "code",
      "metadata": {
        "id": "RpkGWiaqHovz",
        "colab_type": "code",
        "colab": {
          "base_uri": "https://localhost:8080/",
          "height": 34
        },
        "outputId": "a6b22829-3ca4-4ae4-b842-104134de0394"
      },
      "source": [
        "print(images.shape,labels.shape)"
      ],
      "execution_count": 13,
      "outputs": [
        {
          "output_type": "stream",
          "text": [
            "(60000, 28, 28) (60000,)\n"
          ],
          "name": "stdout"
        }
      ]
    },
    {
      "cell_type": "markdown",
      "metadata": {
        "id": "HYSO4Wc4HowH",
        "colab_type": "text"
      },
      "source": [
        "## 2. Data visualization"
      ]
    },
    {
      "cell_type": "markdown",
      "metadata": {
        "id": "tPtQoS_-HowJ",
        "colab_type": "text"
      },
      "source": [
        "For convenience we define a few functions for formatting and plotting our image data"
      ]
    },
    {
      "cell_type": "code",
      "metadata": {
        "id": "F3lsBB7ZHowK",
        "colab_type": "code",
        "colab": {}
      },
      "source": [
        "# plot multiple images\n",
        "def plots(ims, interp=False, titles=None):\n",
        "    ims=np.array(ims)\n",
        "    mn,mx=ims.min(),ims.max()\n",
        "    f = plt.figure(figsize=(12,24))\n",
        "    for i in range(len(ims)):\n",
        "        sp=f.add_subplot(1, len(ims), i+1)\n",
        "        if not titles is None: sp.set_title(titles[i], fontsize=18)\n",
        "        plt.imshow(ims[i], interpolation=None if interp else 'none', vmin=mn,vmax=mx)\n",
        "\n",
        "# plot a single image\n",
        "def plot(im, interp=False):\n",
        "    f = plt.figure(figsize=(3,6), frameon=True)\n",
        "    plt.imshow(im, interpolation=None if interp else 'none')\n",
        "\n",
        "plt.gray()\n",
        "plt.close()"
      ],
      "execution_count": 0,
      "outputs": []
    },
    {
      "cell_type": "code",
      "metadata": {
        "id": "vfxlah5eHowW",
        "colab_type": "code",
        "colab": {
          "base_uri": "https://localhost:8080/",
          "height": 219
        },
        "outputId": "7b3d4439-666e-4ed1-d193-054dd9de2dcd"
      },
      "source": [
        "plot(images[5000])"
      ],
      "execution_count": 15,
      "outputs": [
        {
          "output_type": "display_data",
          "data": {
            "image/png": "[encoded data removed]",
            "text/plain": [
              "<Figure size 216x432 with 1 Axes>"
            ]
          },
          "metadata": {
            "tags": []
          }
        }
      ]
    },
    {
      "cell_type": "code",
      "metadata": {
        "id": "VY5890I1Howd",
        "colab_type": "code",
        "colab": {
          "base_uri": "https://localhost:8080/",
          "height": 34
        },
        "outputId": "6d1e8398-d84d-444b-cbdc-00c9451def6f"
      },
      "source": [
        "labels[5000]"
      ],
      "execution_count": 16,
      "outputs": [
        {
          "output_type": "execute_result",
          "data": {
            "text/plain": [
              "7"
            ]
          },
          "metadata": {
            "tags": []
          },
          "execution_count": 16
        }
      ]
    },
    {
      "cell_type": "code",
      "metadata": {
        "id": "OEWipA5iHown",
        "colab_type": "code",
        "colab": {
          "base_uri": "https://localhost:8080/",
          "height": 183
        },
        "outputId": "f8e14cf1-516e-4fb3-9c70-462bbe91b329"
      },
      "source": [
        "plots(images[5000:5005], titles=labels[5000:5005])"
      ],
      "execution_count": 17,
      "outputs": [
        {
          "output_type": "display_data",
          "data": {
            "image/png": "[encoded data removed]",
            "text/plain": [
              "<Figure size 864x1728 with 5 Axes>"
            ]
          },
          "metadata": {
            "tags": []
          }
        }
      ]
    },
    {
      "cell_type": "markdown",
      "metadata": {
        "id": "ABg2l01JHoyL",
        "colab_type": "text"
      },
      "source": [
        "## 3. Filters and convolutions"
      ]
    },
    {
      "cell_type": "markdown",
      "metadata": {
        "id": "unXh3clNHoyM",
        "colab_type": "text"
      },
      "source": [
        "Here is a simple 3x3 filter, ie a 3x3 matrix (see [Sobel operator](https://en.wikipedia.org/wiki/Sobel_operator) for more examples)"
      ]
    },
    {
      "cell_type": "code",
      "metadata": {
        "id": "OWiIsQ38HoyP",
        "colab_type": "code",
        "colab": {
          "base_uri": "https://localhost:8080/",
          "height": 219
        },
        "outputId": "2ed74b6b-d367-4d0b-89dd-022eb6c902e4"
      },
      "source": [
        "top=[[-1,-1,-1],\n",
        "     [ 1, 1, 1],\n",
        "     [ 0, 0, 0]]\n",
        "\n",
        "plot(top)"
      ],
      "execution_count": 18,
      "outputs": [
        {
          "output_type": "display_data",
          "data": {
            "image/png": "[encoded data removed]",
            "text/plain": [
              "<Figure size 216x432 with 1 Axes>"
            ]
          },
          "metadata": {
            "tags": []
          }
        }
      ]
    },
    {
      "cell_type": "code",
      "metadata": {
        "id": "p3TmBjakHoye",
        "colab_type": "code",
        "colab": {}
      },
      "source": [
        "cross = np.zeros((28,28))\n",
        "cross += np.eye(28)\n",
        "for i in range(4):\n",
        "    cross[12+i,:] = np.ones(28)\n",
        "    cross[:,12+i] = np.ones(28)"
      ],
      "execution_count": 0,
      "outputs": []
    },
    {
      "cell_type": "code",
      "metadata": {
        "id": "jipouDFOHoyn",
        "colab_type": "code",
        "colab": {
          "base_uri": "https://localhost:8080/",
          "height": 219
        },
        "outputId": "3d5e0f62-522e-4436-b45f-e5c68658423b"
      },
      "source": [
        "plot(cross)"
      ],
      "execution_count": 20,
      "outputs": [
        {
          "output_type": "display_data",
          "data": {
            "image/png": "[encoded data removed]",
            "text/plain": [
              "<Figure size 216x432 with 1 Axes>"
            ]
          },
          "metadata": {
            "tags": []
          }
        }
      ]
    },
    {
      "cell_type": "markdown",
      "metadata": {
        "id": "g0j7I3OKHoyt",
        "colab_type": "text"
      },
      "source": [
        "In some fields, convolution or filtering can be better understood as _correlations_. \n",
        "In practice we slide the filter matrix over the image (a bigger matrix) always selecting patches from the image with the same size as the filter. We compute the dot product between the filter and the image patch and store the scalar response which reflects the degree of similarity/correlation between the filter and image patch."
      ]
    },
    {
      "cell_type": "code",
      "metadata": {
        "id": "iiqsEThMHoyu",
        "colab_type": "code",
        "colab": {}
      },
      "source": [
        "from scipy.ndimage.filters import convolve, correlate\n",
        "\n",
        "corr_cross = correlate(cross,top)"
      ],
      "execution_count": 0,
      "outputs": []
    },
    {
      "cell_type": "code",
      "metadata": {
        "id": "zXc6nlfYHoyx",
        "colab_type": "code",
        "colab": {
          "base_uri": "https://localhost:8080/",
          "height": 219
        },
        "outputId": "2b59d15e-aac5-41f6-f9f7-660a9dd87ca9"
      },
      "source": [
        "plot(corr_cross)"
      ],
      "execution_count": 22,
      "outputs": [
        {
          "output_type": "display_data",
          "data": {
            "image/png": "[encoded data removed]",
            "text/plain": [
              "<Figure size 216x432 with 1 Axes>"
            ]
          },
          "metadata": {
            "tags": []
          }
        }
      ]
    },
    {
      "cell_type": "code",
      "metadata": {
        "id": "5mi2j-hFHoy3",
        "colab_type": "code",
        "colab": {}
      },
      "source": [
        "?correlate"
      ],
      "execution_count": 0,
      "outputs": []
    },
    {
      "cell_type": "code",
      "metadata": {
        "id": "bPAEi-4gHoy-",
        "colab_type": "code",
        "colab": {
          "base_uri": "https://localhost:8080/",
          "height": 219
        },
        "outputId": "35fb0606-4ed3-434b-a83c-7ae63338d75e"
      },
      "source": [
        "# to see the role of padding\n",
        "corr_cross = correlate(cross,top, mode='constant')\n",
        "plot(corr_cross)"
      ],
      "execution_count": 24,
      "outputs": [
        {
          "output_type": "display_data",
          "data": {
            "image/png": "[encoded data removed]",
            "text/plain": [
              "<Figure size 216x432 with 1 Axes>"
            ]
          },
          "metadata": {
            "tags": []
          }
        }
      ]
    },
    {
      "cell_type": "code",
      "metadata": {
        "id": "iSTy0Ka1HozC",
        "colab_type": "code",
        "colab": {
          "base_uri": "https://localhost:8080/",
          "height": 219
        },
        "outputId": "f9e1e7da-96af-45c6-af3f-6e0e728da69d"
      },
      "source": [
        "corrtop = correlate(images[5000], top)\n",
        "plot(corrtop)"
      ],
      "execution_count": 25,
      "outputs": [
        {
          "output_type": "display_data",
          "data": {
            "image/png": "[encoded data removed]",
            "text/plain": [
              "<Figure size 216x432 with 1 Axes>"
            ]
          },
          "metadata": {
            "tags": []
          }
        }
      ]
    },
    {
      "cell_type": "markdown",
      "metadata": {
        "id": "6kp8ArumHozJ",
        "colab_type": "text"
      },
      "source": [
        "By rotating the filter with 90 degrees and calling the ```convolve``` function we get the same response as with the previously called ```correlate``` function."
      ]
    },
    {
      "cell_type": "code",
      "metadata": {
        "id": "K2m8hh6XHozL",
        "colab_type": "code",
        "colab": {
          "base_uri": "https://localhost:8080/",
          "height": 69
        },
        "outputId": "3911ab52-e03f-4ab3-a141-1c9cff3b5b25"
      },
      "source": [
        "np.rot90(top, 1)"
      ],
      "execution_count": 26,
      "outputs": [
        {
          "output_type": "execute_result",
          "data": {
            "text/plain": [
              "array([[-1,  1,  0],\n",
              "       [-1,  1,  0],\n",
              "       [-1,  1,  0]])"
            ]
          },
          "metadata": {
            "tags": []
          },
          "execution_count": 26
        }
      ]
    },
    {
      "cell_type": "code",
      "metadata": {
        "scrolled": true,
        "id": "MBratD5iHozV",
        "colab_type": "code",
        "colab": {
          "base_uri": "https://localhost:8080/",
          "height": 236
        },
        "outputId": "796c04dc-823a-4455-d307-936273e1f91b"
      },
      "source": [
        "convtop = convolve(images[5000], np.rot90(top,2))\n",
        "plot(convtop)\n",
        "np.allclose(convtop, corrtop)"
      ],
      "execution_count": 27,
      "outputs": [
        {
          "output_type": "execute_result",
          "data": {
            "text/plain": [
              "True"
            ]
          },
          "metadata": {
            "tags": []
          },
          "execution_count": 27
        },
        {
          "output_type": "display_data",
          "data": {
            "image/png": "[encoded data removed]",
            "text/plain": [
              "<Figure size 216x432 with 1 Axes>"
            ]
          },
          "metadata": {
            "tags": []
          }
        }
      ]
    },
    {
      "cell_type": "markdown",
      "metadata": {
        "id": "XqFCxFXoHozd",
        "colab_type": "text"
      },
      "source": [
        "Let's generate a few more variants of our simple 3x3 filter"
      ]
    },
    {
      "cell_type": "code",
      "metadata": {
        "id": "A48nt8YqHoze",
        "colab_type": "code",
        "colab": {
          "base_uri": "https://localhost:8080/",
          "height": 197
        },
        "outputId": "cc3b26c7-8588-4826-ecb6-0e264aecda6b"
      },
      "source": [
        "straights=[np.rot90(top,i) for i in range(4)]\n",
        "plots(straights)"
      ],
      "execution_count": 28,
      "outputs": [
        {
          "output_type": "display_data",
          "data": {
            "image/png": "[encoded data removed]",
            "text/plain": [
              "<Figure size 864x1728 with 4 Axes>"
            ]
          },
          "metadata": {
            "tags": []
          }
        }
      ]
    },
    {
      "cell_type": "markdown",
      "metadata": {
        "id": "cv5eeO7gHozn",
        "colab_type": "text"
      },
      "source": [
        "We proceed similarly to generate a set of filters with a different behavior"
      ]
    },
    {
      "cell_type": "code",
      "metadata": {
        "id": "xhJFADUoHozr",
        "colab_type": "code",
        "colab": {
          "base_uri": "https://localhost:8080/",
          "height": 197
        },
        "outputId": "d46adcd7-03a2-4462-c9dd-1b61aefea428"
      },
      "source": [
        "br=[[ 0, 0, 1],\n",
        "    [ 0, 1,-1.5],\n",
        "    [ 1,-1.5, 0]]\n",
        "\n",
        "diags = [np.rot90(br,i) for i in range(4)]\n",
        "plots(diags)"
      ],
      "execution_count": 29,
      "outputs": [
        {
          "output_type": "display_data",
          "data": {
            "image/png": "[encoded data removed]",
            "text/plain": [
              "<Figure size 864x1728 with 4 Axes>"
            ]
          },
          "metadata": {
            "tags": []
          }
        }
      ]
    },
    {
      "cell_type": "markdown",
      "metadata": {
        "id": "zhGJF9gNHoz0",
        "colab_type": "text"
      },
      "source": [
        "We can compose filters to obtain more complex patterns"
      ]
    },
    {
      "cell_type": "code",
      "metadata": {
        "id": "k9ETAdFKHoz1",
        "colab_type": "code",
        "colab": {
          "base_uri": "https://localhost:8080/",
          "height": 123
        },
        "outputId": "13f71fb7-7477-42d7-b792-b3719cb9b744"
      },
      "source": [
        "rots = straights + diags\n",
        "corrs_cross = [correlate(cross, rot) for rot in rots]\n",
        "plots(corrs_cross)"
      ],
      "execution_count": 30,
      "outputs": [
        {
          "output_type": "display_data",
          "data": {
            "image/png": "[encoded data removed]",
            "text/plain": [
              "<Figure size 864x1728 with 8 Axes>"
            ]
          },
          "metadata": {
            "tags": []
          }
        }
      ]
    },
    {
      "cell_type": "code",
      "metadata": {
        "id": "5GnSnG1HHoz5",
        "colab_type": "code",
        "colab": {
          "base_uri": "https://localhost:8080/",
          "height": 123
        },
        "outputId": "c89a8aa9-d43b-4ae5-d914-0dcf61be1f8b"
      },
      "source": [
        "rots = straights + diags\n",
        "corrs = [correlate(images[5000], rot) for rot in rots]\n",
        "plots(corrs)"
      ],
      "execution_count": 31,
      "outputs": [
        {
          "output_type": "display_data",
          "data": {
            "image/png": "[encoded data removed]",
            "text/plain": [
              "<Figure size 864x1728 with 8 Axes>"
            ]
          },
          "metadata": {
            "tags": []
          }
        }
      ]
    },
    {
      "cell_type": "markdown",
      "metadata": {
        "id": "plV6mfsjHoz-",
        "colab_type": "text"
      },
      "source": [
        "Next we illustrate the effect of downsampling.\n",
        "We select the most basic downsampling technique: __max pooling__. We keep only the maximum value for sliding windows of size ```7x7```.\n",
        "__Max pooling__ is a handy technique with a few useful perks:\n",
        "- since it selects the maximum values it ensures invariance to translations\n",
        "- reducing the size is helpful since data becomes more compact and easier to compare\n",
        "- we will see later in this course that since max pooling reduces the size of our images, the operations performed later on in the network have bigger receptive field / concern a bigger patch in the input image and allow the discovery of higher level patterns."
      ]
    },
    {
      "cell_type": "code",
      "metadata": {
        "id": "QfR3u9FYHo0E",
        "colab_type": "code",
        "colab": {
          "base_uri": "https://localhost:8080/",
          "height": 123
        },
        "outputId": "badb768d-7c4c-490c-9ec8-7b3f8d839eff"
      },
      "source": [
        "import skimage\n",
        "\n",
        "from skimage.measure import block_reduce\n",
        "\n",
        "def pool(im): return block_reduce(im, (7,7), np.max)\n",
        "\n",
        "plots([pool(im) for im in corrs])"
      ],
      "execution_count": 33,
      "outputs": [
        {
          "output_type": "display_data",
          "data": {
            "image/png": "[encoded data removed]",
            "text/plain": [
              "<Figure size 864x1728 with 8 Axes>"
            ]
          },
          "metadata": {
            "tags": []
          }
        }
      ]
    },
    {
      "cell_type": "markdown",
      "metadata": {
        "id": "MY6Yw-XQHo0P",
        "colab_type": "text"
      },
      "source": [
        "## 4. A simple classifier"
      ]
    },
    {
      "cell_type": "markdown",
      "metadata": {
        "id": "GK6uj_26Ho0R",
        "colab_type": "text"
      },
      "source": [
        "In this section we will construct a basic classifier similar to k-nearest neighbors.\n",
        "Our classifier will tell us whether a given image depicts a _one_ or an _eight_.\n",
        "\n",
        "To this end we select a set of training images depicting _eights_ and _ones_, we convolve them with our set of filters, pool them and average them for each class and filter. We will thus obtain a set of _representative_ signatures for _eights_ and for _ones_. \n",
        "Given a new test image we compute its features by convolution and pooling with the same filters and then compare them with the _representative_ features. The class with the most _similar_ features is chosen as prediction."
      ]
    },
    {
      "cell_type": "markdown",
      "metadata": {
        "id": "jyc9VagHHo0S",
        "colab_type": "text"
      },
      "source": [
        "We fetch all images from the _eight_ class and from the _one_ class."
      ]
    },
    {
      "cell_type": "code",
      "metadata": {
        "id": "ogJld-3qJDpW",
        "colab_type": "code",
        "colab": {}
      },
      "source": [
        "n=len(images)"
      ],
      "execution_count": 0,
      "outputs": []
    },
    {
      "cell_type": "code",
      "metadata": {
        "id": "Itlgssc9Ho0U",
        "colab_type": "code",
        "colab": {}
      },
      "source": [
        "eights=[images[i] for i in range(n) if labels[i]==8]\n",
        "ones=[images[i] for i in range(n) if labels[i]==1]"
      ],
      "execution_count": 0,
      "outputs": []
    },
    {
      "cell_type": "code",
      "metadata": {
        "id": "RGY2P44IHo0X",
        "colab_type": "code",
        "colab": {
          "base_uri": "https://localhost:8080/",
          "height": 34
        },
        "outputId": "d3ce1414-a951-48d2-c0bc-d141aa97c9e6"
      },
      "source": [
        "len(eights), len(ones)"
      ],
      "execution_count": 39,
      "outputs": [
        {
          "output_type": "execute_result",
          "data": {
            "text/plain": [
              "(5851, 6742)"
            ]
          },
          "metadata": {
            "tags": []
          },
          "execution_count": 39
        }
      ]
    },
    {
      "cell_type": "code",
      "metadata": {
        "id": "CFmNNrKAHo0f",
        "colab_type": "code",
        "colab": {
          "base_uri": "https://localhost:8080/",
          "height": 317
        },
        "outputId": "d6eef5e4-5384-42c6-dcdc-0db285bb6eb8"
      },
      "source": [
        "plots(eights[:5])\n",
        "plots(ones[:5])"
      ],
      "execution_count": 40,
      "outputs": [
        {
          "output_type": "display_data",
          "data": {
            "image/png": "[encoded data removed]",
            "text/plain": [
              "<Figure size 864x1728 with 5 Axes>"
            ]
          },
          "metadata": {
            "tags": []
          }
        },
        {
          "output_type": "display_data",
          "data": {
            "image/png": "[encoded data removed]",
            "text/plain": [
              "<Figure size 864x1728 with 5 Axes>"
            ]
          },
          "metadata": {
            "tags": []
          }
        }
      ]
    },
    {
      "cell_type": "markdown",
      "metadata": {
        "id": "3Mxs-x1pHo0l",
        "colab_type": "text"
      },
      "source": [
        "We keep the first 1000 digits for the test set."
      ]
    },
    {
      "cell_type": "code",
      "metadata": {
        "id": "MEA8brOGHo0n",
        "colab_type": "code",
        "colab": {}
      },
      "source": [
        "raws8 =  np.mean(eights[1000:],axis=0)"
      ],
      "execution_count": 0,
      "outputs": []
    },
    {
      "cell_type": "code",
      "metadata": {
        "id": "H-IBmFQOHo01",
        "colab_type": "code",
        "colab": {
          "base_uri": "https://localhost:8080/",
          "height": 219
        },
        "outputId": "08214c2a-8892-41d9-9671-abb044357d64"
      },
      "source": [
        "plot(raws8)"
      ],
      "execution_count": 42,
      "outputs": [
        {
          "output_type": "display_data",
          "data": {
            "image/png": "[encoded data removed]",
            "text/plain": [
              "<Figure size 216x432 with 1 Axes>"
            ]
          },
          "metadata": {
            "tags": []
          }
        }
      ]
    },
    {
      "cell_type": "code",
      "metadata": {
        "id": "Aa3a1Le2Ho07",
        "colab_type": "code",
        "colab": {}
      },
      "source": [
        "raws1 =  np.mean(ones[1000:],axis=0)"
      ],
      "execution_count": 0,
      "outputs": []
    },
    {
      "cell_type": "code",
      "metadata": {
        "id": "NIWCe_GWHo1A",
        "colab_type": "code",
        "colab": {
          "base_uri": "https://localhost:8080/",
          "height": 219
        },
        "outputId": "441f2c88-b94e-489a-d9b5-0933792d5a30"
      },
      "source": [
        "plot(raws1)"
      ],
      "execution_count": 44,
      "outputs": [
        {
          "output_type": "display_data",
          "data": {
            "image/png": "[encoded data removed]",
            "text/plain": [
              "<Figure size 216x432 with 1 Axes>"
            ]
          },
          "metadata": {
            "tags": []
          }
        }
      ]
    },
    {
      "cell_type": "code",
      "metadata": {
        "id": "3ZML33QNHo1G",
        "colab_type": "code",
        "colab": {}
      },
      "source": [
        "# sum of squared errors\n",
        "def sse(a,b): return ((a-b)**2).sum()\n",
        "\n",
        "def is8_raw_n2(im): return 1 if sse(im,raws1) > sse(im,raws8) else 0"
      ],
      "execution_count": 0,
      "outputs": []
    },
    {
      "cell_type": "code",
      "metadata": {
        "id": "bJCB6UnOHo1M",
        "colab_type": "code",
        "colab": {
          "base_uri": "https://localhost:8080/",
          "height": 34
        },
        "outputId": "05c8b03b-ae3a-4a59-8aac-df472730163c"
      },
      "source": [
        "[np.array([is8_raw_n2(im) for im in ims]).sum() for ims in [eights[:1000],ones[:1000]]]"
      ],
      "execution_count": 46,
      "outputs": [
        {
          "output_type": "execute_result",
          "data": {
            "text/plain": [
              "[912, 27]"
            ]
          },
          "metadata": {
            "tags": []
          },
          "execution_count": 46
        }
      ]
    },
    {
      "cell_type": "code",
      "metadata": {
        "id": "FszIlo_kHo1W",
        "colab_type": "code",
        "colab": {
          "base_uri": "https://localhost:8080/",
          "height": 34
        },
        "outputId": "81c46c8b-410e-4a37-ec4c-1986e8e4a270"
      },
      "source": [
        "[np.array([(1-is8_raw_n2(im)) for im in ims]).sum() for ims in [eights[:1000],ones[:1000]]]"
      ],
      "execution_count": 47,
      "outputs": [
        {
          "output_type": "execute_result",
          "data": {
            "text/plain": [
              "[88, 973]"
            ]
          },
          "metadata": {
            "tags": []
          },
          "execution_count": 47
        }
      ]
    },
    {
      "cell_type": "markdown",
      "metadata": {
        "id": "CFUntUqdHo1e",
        "colab_type": "text"
      },
      "source": [
        "![precision recall](https://upload.wikimedia.org/wikipedia/commons/thumb/2/26/Precisionrecall.svg/1024px-Precisionrecall.svg.png)"
      ]
    },
    {
      "cell_type": "code",
      "metadata": {
        "id": "aaYe8malHo1f",
        "colab_type": "code",
        "colab": {
          "base_uri": "https://localhost:8080/",
          "height": 69
        },
        "outputId": "0c637282-ca79-4354-8f84-97ac394f8d71"
      },
      "source": [
        "Precision_8 = 912/(912+27)\n",
        "Recall_8 = 912/1000\n",
        "Precision_1 = 973/(973+88)\n",
        "Recall_1 = 973/1000\n",
        "\n",
        "print('precision 8:', Precision_8, 'recall 8:', Recall_8)\n",
        "print('precision 1:', Precision_1, 'recall 1:', Recall_1)\n",
        "print('accuracy :', (Recall_1+Recall_8)/2)"
      ],
      "execution_count": 48,
      "outputs": [
        {
          "output_type": "stream",
          "text": [
            "precision 8: 0.9712460063897763 recall 8: 0.912\n",
            "precision 1: 0.9170593779453345 recall 1: 0.973\n",
            "accuracy : 0.9425\n"
          ],
          "name": "stdout"
        }
      ]
    },
    {
      "cell_type": "markdown",
      "metadata": {
        "id": "Ud1VbsiRHo1s",
        "colab_type": "text"
      },
      "source": [
        "We now build a classifier with convolutions.\n",
        "\n",
        "We keep 1000 images of _eight_ for the test set and use the remaining ones for the training: we convolve them with our bank of filters, perform max pooling on the responses and store them in ```pool8```."
      ]
    },
    {
      "cell_type": "code",
      "metadata": {
        "id": "ptgnsYPmHo1u",
        "colab_type": "code",
        "colab": {}
      },
      "source": [
        "pool8 = [np.array([pool(correlate(im, rot)) for im in eights[1000:]]) for rot in rots]"
      ],
      "execution_count": 0,
      "outputs": []
    },
    {
      "cell_type": "code",
      "metadata": {
        "id": "UoxKz3LNHo10",
        "colab_type": "code",
        "colab": {
          "base_uri": "https://localhost:8080/",
          "height": 34
        },
        "outputId": "30245abe-b252-42df-da25-e15eab61fd91"
      },
      "source": [
        "len(pool8), pool8[0].shape"
      ],
      "execution_count": 50,
      "outputs": [
        {
          "output_type": "execute_result",
          "data": {
            "text/plain": [
              "(8, (4851, 4, 4))"
            ]
          },
          "metadata": {
            "tags": []
          },
          "execution_count": 50
        }
      ]
    },
    {
      "cell_type": "markdown",
      "metadata": {
        "id": "hUSDBnm9Ho13",
        "colab_type": "text"
      },
      "source": [
        "We plot the result of the first filter+pooling on the first 5 _eights_ in our set. "
      ]
    },
    {
      "cell_type": "code",
      "metadata": {
        "id": "zlqkFm1RHo14",
        "colab_type": "code",
        "colab": {
          "base_uri": "https://localhost:8080/",
          "height": 167
        },
        "outputId": "f924b2b8-bedc-4711-c63e-93a0f8228e5a"
      },
      "source": [
        "plots(pool8[0][0:5])"
      ],
      "execution_count": 51,
      "outputs": [
        {
          "output_type": "display_data",
          "data": {
            "image/png": "[encoded data removed]",
            "text/plain": [
              "<Figure size 864x1728 with 5 Axes>"
            ]
          },
          "metadata": {
            "tags": []
          }
        }
      ]
    },
    {
      "cell_type": "markdown",
      "metadata": {
        "id": "5i4oiuoeHo17",
        "colab_type": "text"
      },
      "source": [
        "For the 3 first _eightts_ in our set, we plot the result of the 8 filters+pooling"
      ]
    },
    {
      "cell_type": "code",
      "metadata": {
        "id": "Av_HAmtJHo17",
        "colab_type": "code",
        "colab": {
          "base_uri": "https://localhost:8080/",
          "height": 441
        },
        "outputId": "58e7c5bd-5186-46c4-8ef1-6331c3007df8"
      },
      "source": [
        "plots([pool8[i][0] for i in range(8)])\n",
        "plots([pool8[i][1] for i in range(8)])\n",
        "plots([pool8[i][2] for i in range(8)])\n",
        "plots([pool8[i][3] for i in range(8)])"
      ],
      "execution_count": 52,
      "outputs": [
        {
          "output_type": "display_data",
          "data": {
            "image/png": "[encoded data removed]",
            "text/plain": [
              "<Figure size 864x1728 with 8 Axes>"
            ]
          },
          "metadata": {
            "tags": []
          }
        },
        {
          "output_type": "display_data",
          "data": {
            "image/png": "[encoded data removed]",
            "text/plain": [
              "<Figure size 864x1728 with 8 Axes>"
            ]
          },
          "metadata": {
            "tags": []
          }
        },
        {
          "output_type": "display_data",
          "data": {
            "image/png": "[encoded data removed]",
            "text/plain": [
              "<Figure size 864x1728 with 8 Axes>"
            ]
          },
          "metadata": {
            "tags": []
          }
        },
        {
          "output_type": "display_data",
          "data": {
            "image/png": "[encoded data removed]",
            "text/plain": [
              "<Figure size 864x1728 with 8 Axes>"
            ]
          },
          "metadata": {
            "tags": []
          }
        }
      ]
    },
    {
      "cell_type": "markdown",
      "metadata": {
        "id": "zqDZeWY6Ho1-",
        "colab_type": "text"
      },
      "source": [
        "We normalize the data in order to smoothen activations and bring them to similar ranges of values"
      ]
    },
    {
      "cell_type": "code",
      "metadata": {
        "id": "D5wmCZY9Ho2A",
        "colab_type": "code",
        "colab": {}
      },
      "source": [
        "def normalize(arr): return (arr-arr.mean())/arr.std()"
      ],
      "execution_count": 0,
      "outputs": []
    },
    {
      "cell_type": "markdown",
      "metadata": {
        "id": "5-bzBjC6Ho2D",
        "colab_type": "text"
      },
      "source": [
        "Next we compute the average _eight_ by averaging all responses for each filter from _rots_."
      ]
    },
    {
      "cell_type": "code",
      "metadata": {
        "id": "Ldr9Cpx5Ho2D",
        "colab_type": "code",
        "colab": {}
      },
      "source": [
        "filts8 = np.array([ims.mean(axis=0) for ims in pool8])\n",
        "filts8 = normalize(filts8)"
      ],
      "execution_count": 0,
      "outputs": []
    },
    {
      "cell_type": "markdown",
      "metadata": {
        "id": "oZt78eGSHo2H",
        "colab_type": "text"
      },
      "source": [
        "We should obtain a set of canonical _eights_ responses for each filter."
      ]
    },
    {
      "cell_type": "code",
      "metadata": {
        "id": "_UdpsK6AHo2K",
        "colab_type": "code",
        "colab": {
          "base_uri": "https://localhost:8080/",
          "height": 123
        },
        "outputId": "5e641bf5-e5dc-4670-9aa1-bd1a359c9a63"
      },
      "source": [
        "plots(filts8)"
      ],
      "execution_count": 55,
      "outputs": [
        {
          "output_type": "display_data",
          "data": {
            "image/png": "[encoded data removed]",
            "text/plain": [
              "<Figure size 864x1728 with 8 Axes>"
            ]
          },
          "metadata": {
            "tags": []
          }
        }
      ]
    },
    {
      "cell_type": "markdown",
      "metadata": {
        "id": "4HaAjI_uHo2O",
        "colab_type": "text"
      },
      "source": [
        "We proceed similarly with training samples from the _one_ class and plot the canonical _ones_."
      ]
    },
    {
      "cell_type": "code",
      "metadata": {
        "id": "e6baq8YKHo2P",
        "colab_type": "code",
        "colab": {}
      },
      "source": [
        "pool1 = [np.array([pool(correlate(im, rot)) for im in ones[1000:]]) for rot in rots]\n",
        "filts1 = np.array([ims.mean(axis=0) for ims in pool1])\n",
        "filts1 = normalize(filts1)"
      ],
      "execution_count": 0,
      "outputs": []
    },
    {
      "cell_type": "code",
      "metadata": {
        "id": "eq2CtFfAHo2T",
        "colab_type": "code",
        "colab": {
          "base_uri": "https://localhost:8080/",
          "height": 123
        },
        "outputId": "9741f043-dc2b-440e-de8f-27baa6ba1c7b"
      },
      "source": [
        "plots(filts1)"
      ],
      "execution_count": 57,
      "outputs": [
        {
          "output_type": "display_data",
          "data": {
            "image/png": "[encoded data removed]",
            "text/plain": [
              "<Figure size 864x1728 with 8 Axes>"
            ]
          },
          "metadata": {
            "tags": []
          }
        }
      ]
    },
    {
      "cell_type": "markdown",
      "metadata": {
        "id": "Bu97H3bNHo2Z",
        "colab_type": "text"
      },
      "source": [
        "Do you notice any differences between ```filts8``` and ```filts1```? Which ones?"
      ]
    },
    {
      "cell_type": "markdown",
      "metadata": {
        "id": "Krvaio26Ho2a",
        "colab_type": "text"
      },
      "source": [
        "We define a function that correlates a given image with all filters from ```rots``` and max pools the responses."
      ]
    },
    {
      "cell_type": "code",
      "metadata": {
        "id": "kgnZzimPHo2a",
        "colab_type": "code",
        "colab": {}
      },
      "source": [
        "def pool_corr(im): return np.array([pool(correlate(im, rot)) for rot in rots])"
      ],
      "execution_count": 0,
      "outputs": []
    },
    {
      "cell_type": "code",
      "metadata": {
        "id": "2vFjsSxcHo2c",
        "colab_type": "code",
        "colab": {
          "base_uri": "https://localhost:8080/",
          "height": 123
        },
        "outputId": "1286f0a6-6a55-470c-f32f-4780088d8eb8"
      },
      "source": [
        "plots(pool_corr(eights[1000]))"
      ],
      "execution_count": 59,
      "outputs": [
        {
          "output_type": "display_data",
          "data": {
            "image/png": "[encoded data removed]",
            "text/plain": [
              "<Figure size 864x1728 with 8 Axes>"
            ]
          },
          "metadata": {
            "tags": []
          }
        }
      ]
    },
    {
      "cell_type": "code",
      "metadata": {
        "id": "Td0bFQ04Ho2j",
        "colab_type": "code",
        "colab": {
          "base_uri": "https://localhost:8080/",
          "height": 140
        },
        "outputId": "17012683-4c25-4e59-bcc6-b8392207448d"
      },
      "source": [
        "#check \n",
        "plots([pool8[i][0] for i in range(8)])\n",
        "np.allclose(pool_corr(eights[1000]),[pool8[i][0] for i in range(8)])"
      ],
      "execution_count": 60,
      "outputs": [
        {
          "output_type": "execute_result",
          "data": {
            "text/plain": [
              "True"
            ]
          },
          "metadata": {
            "tags": []
          },
          "execution_count": 60
        },
        {
          "output_type": "display_data",
          "data": {
            "image/png": "[encoded data removed]",
            "text/plain": [
              "<Figure size 864x1728 with 8 Axes>"
            ]
          },
          "metadata": {
            "tags": []
          }
        }
      ]
    },
    {
      "cell_type": "code",
      "metadata": {
        "id": "x2cJdyL2Ho2u",
        "colab_type": "code",
        "colab": {}
      },
      "source": [
        "# function used for a voting based classifier that will indicate which one of the \n",
        "# two classes is most likely given the sse distances\n",
        "# n2 comes from norm2\n",
        "# is8_n2 returns 1 if it thinks it's an eight and 0 otherwise\n",
        "def is8_n2(im): return 1 if sse(pool_corr(im),filts1) > sse(pool_corr(im),filts8) else 0"
      ],
      "execution_count": 0,
      "outputs": []
    },
    {
      "cell_type": "markdown",
      "metadata": {
        "id": "SDFMHV3nHo2y",
        "colab_type": "text"
      },
      "source": [
        "We perform a check to see if our function actually works. We correlate the an image of _eight_ with ```filts8``` and ```filts1```. It should give smaller error for the _eights_."
      ]
    },
    {
      "cell_type": "code",
      "metadata": {
        "id": "C_eFq1EWHo2z",
        "colab_type": "code",
        "colab": {
          "base_uri": "https://localhost:8080/",
          "height": 34
        },
        "outputId": "fa216392-49f9-48f1-8f86-272b9f88d4d5"
      },
      "source": [
        "sse(pool_corr(eights[0]), filts8), sse(pool_corr(eights[0]), filts1)"
      ],
      "execution_count": 62,
      "outputs": [
        {
          "output_type": "execute_result",
          "data": {
            "text/plain": [
              "(103.67323, 126.09805)"
            ]
          },
          "metadata": {
            "tags": []
          },
          "execution_count": 62
        }
      ]
    },
    {
      "cell_type": "code",
      "metadata": {
        "id": "yNINKzvKHo24",
        "colab_type": "code",
        "colab": {
          "base_uri": "https://localhost:8080/",
          "height": 219
        },
        "outputId": "993139f8-5c47-4103-bbf2-0e452504a636"
      },
      "source": [
        "plot(eights[0])"
      ],
      "execution_count": 63,
      "outputs": [
        {
          "output_type": "display_data",
          "data": {
            "image/png": "[encoded data removed]",
            "text/plain": [
              "<Figure size 216x432 with 1 Axes>"
            ]
          },
          "metadata": {
            "tags": []
          }
        }
      ]
    },
    {
      "cell_type": "markdown",
      "metadata": {
        "id": "roCmorVtHo29",
        "colab_type": "text"
      },
      "source": [
        "We now test our classifier on the 1000 images of _eights_ and 1000 images of _ones_"
      ]
    },
    {
      "cell_type": "code",
      "metadata": {
        "id": "qyn22NsLHo2-",
        "colab_type": "code",
        "colab": {
          "base_uri": "https://localhost:8080/",
          "height": 34
        },
        "outputId": "23a4f121-b368-4936-b492-b6d52c9401a1"
      },
      "source": [
        "[np.array([is8_n2(im) for im in ims]).sum() for ims in [eights[:1000],ones[:1000]]]"
      ],
      "execution_count": 64,
      "outputs": [
        {
          "output_type": "execute_result",
          "data": {
            "text/plain": [
              "[969, 37]"
            ]
          },
          "metadata": {
            "tags": []
          },
          "execution_count": 64
        }
      ]
    },
    {
      "cell_type": "markdown",
      "metadata": {
        "id": "qMNwT2BFHo3G",
        "colab_type": "text"
      },
      "source": [
        "It said in 969 cases it is an _eight_ and 37 case it is a _one_"
      ]
    },
    {
      "cell_type": "markdown",
      "metadata": {
        "id": "OQa5eFzLHo3J",
        "colab_type": "text"
      },
      "source": [
        "Let's now test the opposite, ie it's not an _eight_ , it's not a _one_"
      ]
    },
    {
      "cell_type": "code",
      "metadata": {
        "id": "TEPN_aPbHo3K",
        "colab_type": "code",
        "colab": {
          "base_uri": "https://localhost:8080/",
          "height": 34
        },
        "outputId": "2da95bd6-8c28-41c9-95a7-49bc983f2d55"
      },
      "source": [
        "[np.array([(1-is8_n2(im)) for im in ims]).sum() for ims in [eights[:1000],ones[:1000]]]"
      ],
      "execution_count": 65,
      "outputs": [
        {
          "output_type": "execute_result",
          "data": {
            "text/plain": [
              "[31, 963]"
            ]
          },
          "metadata": {
            "tags": []
          },
          "execution_count": 65
        }
      ]
    },
    {
      "cell_type": "code",
      "metadata": {
        "id": "FO4sLIjSHo3O",
        "colab_type": "code",
        "colab": {
          "base_uri": "https://localhost:8080/",
          "height": 69
        },
        "outputId": "aacdd4ce-0473-43db-eec6-feff6aca61b2"
      },
      "source": [
        "Precision_8 = 969/(969+37)\n",
        "Recall_8 = 969/1000\n",
        "Precision_1 = 963/(963+31)\n",
        "Recall_1 = 963/1000\n",
        "\n",
        "print('precision 8:', Precision_8, 'recall 8:', Recall_8)\n",
        "print('precision 1:', Precision_1, 'recall 1:', Recall_1)\n",
        "print('accuracy :', (Recall_1+Recall_8)/2)"
      ],
      "execution_count": 66,
      "outputs": [
        {
          "output_type": "stream",
          "text": [
            "precision 8: 0.963220675944334 recall 8: 0.969\n",
            "precision 1: 0.9688128772635815 recall 1: 0.963\n",
            "accuracy : 0.966\n"
          ],
          "name": "stdout"
        }
      ]
    },
    {
      "cell_type": "markdown",
      "metadata": {
        "id": "ngpIY7gnHo3Q",
        "colab_type": "text"
      },
      "source": [
        "We improved the accuracy while reducing the embedding size from a $28\\times 28 = 784$ vector to a $4\\times 4\\times 8 = 128$ vector."
      ]
    },
    {
      "cell_type": "markdown",
      "metadata": {
        "id": "MYhst9B1Ho3R",
        "colab_type": "text"
      },
      "source": [
        "Let's test the our simple classifier with a new distance"
      ]
    },
    {
      "cell_type": "code",
      "metadata": {
        "id": "ow2vpzyzHo3R",
        "colab_type": "code",
        "colab": {}
      },
      "source": [
        "# sum of absolute differences\n",
        "def n1(a,b): return (np.fabs(a-b)).sum()\n",
        "\n",
        "# is8_n1 returns 1 if it thinks it's an eight and 0 otherwise\n",
        "def is8_n1(im): return 1 if n1(pool_corr(im),filts1) > n1(pool_corr(im),filts8) else 0"
      ],
      "execution_count": 0,
      "outputs": []
    },
    {
      "cell_type": "code",
      "metadata": {
        "id": "_siBxUPGHo3T",
        "colab_type": "code",
        "colab": {
          "base_uri": "https://localhost:8080/",
          "height": 34
        },
        "outputId": "8c837942-d442-467b-e25a-3fc0736187a3"
      },
      "source": [
        "[np.array([is8_n1(im) for im in ims]).sum() for ims in [eights[:1000],ones[:1000]]]"
      ],
      "execution_count": 68,
      "outputs": [
        {
          "output_type": "execute_result",
          "data": {
            "text/plain": [
              "[941, 31]"
            ]
          },
          "metadata": {
            "tags": []
          },
          "execution_count": 68
        }
      ]
    },
    {
      "cell_type": "code",
      "metadata": {
        "id": "zL8_T1IyHo3X",
        "colab_type": "code",
        "colab": {
          "base_uri": "https://localhost:8080/",
          "height": 34
        },
        "outputId": "0e47dd65-0eb9-41d6-923a-aa88965ed333"
      },
      "source": [
        "[np.array([(1-is8_n1(im)) for im in ims]).sum() for ims in [eights[:1000],ones[:1000]]]"
      ],
      "execution_count": 69,
      "outputs": [
        {
          "output_type": "execute_result",
          "data": {
            "text/plain": [
              "[59, 969]"
            ]
          },
          "metadata": {
            "tags": []
          },
          "execution_count": 69
        }
      ]
    },
    {
      "cell_type": "markdown",
      "metadata": {
        "id": "yoy--n6IHo3b",
        "colab_type": "text"
      },
      "source": [
        "We have successfully built a classifier for _eights_ and _ones_ using features extract with a bank of pre-defined features and a set of training samples. We will improved it during the next lectures.\n",
        "\n",
        "#### Questions\n",
        "- What are the advantages of this method?\n",
        "- What are the weak points of this method?\n",
        "- How can we improve it?"
      ]
    },
    {
      "cell_type": "markdown",
      "metadata": {
        "collapsed": true,
        "id": "wpNdvNN1Ho3c",
        "colab_type": "text"
      },
      "source": [
        "### A few useful ressources about convolutions:\n",
        "1. [Convolution animations](https://github.com/vdumoulin/conv_arithmetic/blob/master/README.md)\n",
        "2. [Interactive image kernels](http://setosa.io/ev/image-kernels/)\n",
        "3. [CS231n: Convolutional Neural Networks](http://cs231n.github.io/convolutional-networks/)"
      ]
    },
    {
      "cell_type": "markdown",
      "metadata": {
        "collapsed": true,
        "id": "Y_mBZHv9Ho3d",
        "colab_type": "text"
      },
      "source": [
        "## 5. Practicals: improving classification with Convolutional Neural Net\n",
        "\n",
        "You will now build a neural net that will learn the weights of the filters.\n",
        "\n",
        "The first layer of your network will be a convolutional layer with $8$ filters of size $3\\times 3$ as we did above. This will produce a (once flatten) a vector of size $128 = 3\\times 3\\times 8$. From this vector, you need to predict if the corresponding input is a $1$ or a $8$. So you are back to a classification problem or logistic regression, i.e. from there you can apply the solution of previous homework!\n",
        "\n",
        "You need to fill the code written below to construct your CNN. You will need to look for documentation about [torch.nn](https://pytorch.org/docs/stable/nn.html) in the Pytorch doc."
      ]
    },
    {
      "cell_type": "code",
      "metadata": {
        "id": "F4ADp7YLHo3d",
        "colab_type": "code",
        "colab": {}
      },
      "source": [
        "import torch.nn as nn\n",
        "import torch.nn.functional as F\n",
        "\n",
        "class classifier(nn.Module):\n",
        "    \n",
        "    def __init__(self):\n",
        "        super(classifier, self).__init__()\n",
        "        self.conv1 = nn.Conv2d(in_channels=1, out_channels=8, kernel_size=3, padding=1)\n",
        "        self.fc = nn.Linear(in_features=128, out_features=2)\n",
        "        \n",
        "    def forward(self,x):\n",
        "        x = self.conv1(x)\n",
        "        x = F.max_pool2d(x, kernel_size=7, stride=7)\n",
        "        x = x.view(-1, 4*4*8)\n",
        "        x = self.fc(x)\n",
        "        return F.log_softmax(x, dim=1)"
      ],
      "execution_count": 0,
      "outputs": []
    },
    {
      "cell_type": "code",
      "metadata": {
        "id": "5YinNMu0Ho3g",
        "colab_type": "code",
        "colab": {}
      },
      "source": [
        "conv_class = classifier()"
      ],
      "execution_count": 0,
      "outputs": []
    },
    {
      "cell_type": "markdown",
      "metadata": {
        "id": "EapjD0UQHo3k",
        "colab_type": "text"
      },
      "source": [
        "Your code should work fine on a batch of 3 images."
      ]
    },
    {
      "cell_type": "code",
      "metadata": {
        "id": "EtN49qaUHo3p",
        "colab_type": "code",
        "colab": {
          "base_uri": "https://localhost:8080/",
          "height": 69
        },
        "outputId": "5a40f613-6090-4179-fa0c-367c3a9a247a"
      },
      "source": [
        "batch_3images = train_set.data[0:2].type(torch.FloatTensor).resize_(3, 1, 28, 28)\n",
        "conv_class(batch_3images)"
      ],
      "execution_count": 73,
      "outputs": [
        {
          "output_type": "execute_result",
          "data": {
            "text/plain": [
              "tensor([[ 0.0000e+00, -5.0499e+01],\n",
              "        [ 0.0000e+00, -3.1515e+01],\n",
              "        [-1.5361e+30,  0.0000e+00]], grad_fn=<LogSoftmaxBackward>)"
            ]
          },
          "metadata": {
            "tags": []
          },
          "execution_count": 73
        }
      ]
    },
    {
      "cell_type": "markdown",
      "metadata": {
        "id": "5s841xShHo3u",
        "colab_type": "text"
      },
      "source": [
        "The following lines of code implement a data loader for the train set and the test set. No modification is needed."
      ]
    },
    {
      "cell_type": "code",
      "metadata": {
        "id": "iO_mo1CaHo3u",
        "colab_type": "code",
        "colab": {}
      },
      "source": [
        "bs = 64\n",
        "\n",
        "l8 = np.array(0)\n",
        "eights_dataset = [[torch.from_numpy(e.astype(np.float32)).unsqueeze(0), torch.from_numpy(l8.astype(np.int64))] for e in eights]\n",
        "l1 = np.array(1)\n",
        "ones_dataset = [[torch.from_numpy(e.astype(np.float32)).unsqueeze(0), torch.from_numpy(l1.astype(np.int64))] for e in ones]\n",
        "train_dataset = eights_dataset[1000:] + ones_dataset[1000:]\n",
        "test_dataset = eights_dataset[:1000] + ones_dataset[:1000]\n",
        "\n",
        "train_loader = torch.utils.data.DataLoader(train_dataset,\n",
        "    batch_size=bs, shuffle=True)\n",
        "test_loader = torch.utils.data.DataLoader(test_dataset,\n",
        "    batch_size=bs, shuffle=True)"
      ],
      "execution_count": 0,
      "outputs": []
    },
    {
      "cell_type": "markdown",
      "metadata": {
        "id": "LVzpT2LvHo3x",
        "colab_type": "text"
      },
      "source": [
        "You need now to code the training loop. Store the loss and accuracy for each epoch."
      ]
    },
    {
      "cell_type": "code",
      "metadata": {
        "id": "jsu7KRMIHo3y",
        "colab_type": "code",
        "colab": {}
      },
      "source": [
        "def train(model,data_loader,loss_fn,optimizer,n_epochs=1):\n",
        "    model.train(True)\n",
        "    loss_train = np.zeros(n_epochs)\n",
        "    acc_train = np.zeros(n_epochs)\n",
        "    for epoch_num in range(n_epochs):\n",
        "        running_corrects = 0.0\n",
        "        running_loss = 0.0\n",
        "        size = 0\n",
        "\n",
        "        for data in data_loader:\n",
        "            inputs, labels = data\n",
        "            bs = labels.size(0)\n",
        "                \n",
        "            outputs = model(inputs)\n",
        "            loss = loss_fn(outputs,labels)       \n",
        "            optimizer.zero_grad()\n",
        "            loss.backward()\n",
        "            optimizer.step()\n",
        "            _,preds = torch.max(outputs,1)\n",
        "            running_corrects += torch.sum(preds == labels.data.type(torch.LongTensor))\n",
        "            running_loss += loss.data\n",
        "            size += bs\n",
        "        epoch_loss = running_loss.item() / size\n",
        "        epoch_acc = running_corrects.item() / size\n",
        "        loss_train[epoch_num] = epoch_loss\n",
        "        acc_train[epoch_num] = epoch_acc\n",
        "        print('Train - Loss: {:.4f} Acc: {:.4f}'.format(epoch_loss, epoch_acc))\n",
        "        test(model,test_loader)\n",
        "    return loss_train, acc_train"
      ],
      "execution_count": 0,
      "outputs": []
    },
    {
      "cell_type": "code",
      "metadata": {
        "id": "5Es_nmD2Ho34",
        "colab_type": "code",
        "colab": {
          "base_uri": "https://localhost:8080/",
          "height": 367
        },
        "outputId": "61e42295-eae8-4666-c57b-63b14e2e7fe2"
      },
      "source": [
        "conv_class = classifier()\n",
        "loss_fn = nn.NLLLoss()\n",
        "learning_rate = 1e-3\n",
        "#optimizer_cl = torch.optim.SGD(conv_class.parameters(), lr=learning_rate)\n",
        "optimizer_cl = torch.optim.Adam(conv_class.parameters(), lr=learning_rate)\n",
        "l_t, a_t = train(conv_class,train_loader,loss_fn,optimizer_cl,n_epochs = 10)"
      ],
      "execution_count": 82,
      "outputs": [
        {
          "output_type": "stream",
          "text": [
            "Train - Loss: 0.0057 Acc: 0.9194\n",
            "Test - Loss: 0.0023 Acc: 0.9780\n",
            "Train - Loss: 0.0014 Acc: 0.9809\n",
            "Test - Loss: 0.0010 Acc: 0.9885\n",
            "Train - Loss: 0.0008 Acc: 0.9886\n",
            "Test - Loss: 0.0007 Acc: 0.9885\n",
            "Train - Loss: 0.0006 Acc: 0.9907\n",
            "Test - Loss: 0.0006 Acc: 0.9890\n",
            "Train - Loss: 0.0005 Acc: 0.9922\n",
            "Test - Loss: 0.0006 Acc: 0.9905\n",
            "Train - Loss: 0.0004 Acc: 0.9932\n",
            "Test - Loss: 0.0005 Acc: 0.9905\n",
            "Train - Loss: 0.0003 Acc: 0.9939\n",
            "Test - Loss: 0.0005 Acc: 0.9910\n",
            "Train - Loss: 0.0003 Acc: 0.9943\n",
            "Test - Loss: 0.0004 Acc: 0.9905\n",
            "Train - Loss: 0.0003 Acc: 0.9950\n",
            "Test - Loss: 0.0004 Acc: 0.9905\n",
            "Train - Loss: 0.0003 Acc: 0.9951\n",
            "Test - Loss: 0.0004 Acc: 0.9925\n"
          ],
          "name": "stdout"
        }
      ]
    },
    {
      "cell_type": "markdown",
      "metadata": {
        "id": "JPG9BbRKHo39",
        "colab_type": "text"
      },
      "source": [
        "Let's learn for 10 more epochs"
      ]
    },
    {
      "cell_type": "code",
      "metadata": {
        "id": "80ABV57nHo3-",
        "colab_type": "code",
        "colab": {
          "base_uri": "https://localhost:8080/",
          "height": 367
        },
        "outputId": "c30b56ac-df9b-458f-e641-4336485ba5f8"
      },
      "source": [
        "l_t1, a_t1 = train(conv_class,train_loader,loss_fn,optimizer_cl,n_epochs = 10)"
      ],
      "execution_count": 83,
      "outputs": [
        {
          "output_type": "stream",
          "text": [
            "Train - Loss: 0.0002 Acc: 0.9954\n",
            "Test - Loss: 0.0003 Acc: 0.9920\n",
            "Train - Loss: 0.0002 Acc: 0.9953\n",
            "Test - Loss: 0.0003 Acc: 0.9925\n",
            "Train - Loss: 0.0002 Acc: 0.9961\n",
            "Test - Loss: 0.0003 Acc: 0.9935\n",
            "Train - Loss: 0.0002 Acc: 0.9958\n",
            "Test - Loss: 0.0003 Acc: 0.9925\n",
            "Train - Loss: 0.0002 Acc: 0.9957\n",
            "Test - Loss: 0.0003 Acc: 0.9925\n",
            "Train - Loss: 0.0002 Acc: 0.9963\n",
            "Test - Loss: 0.0004 Acc: 0.9915\n",
            "Train - Loss: 0.0002 Acc: 0.9967\n",
            "Test - Loss: 0.0003 Acc: 0.9935\n",
            "Train - Loss: 0.0002 Acc: 0.9968\n",
            "Test - Loss: 0.0003 Acc: 0.9930\n",
            "Train - Loss: 0.0002 Acc: 0.9971\n",
            "Test - Loss: 0.0002 Acc: 0.9945\n",
            "Train - Loss: 0.0002 Acc: 0.9971\n",
            "Test - Loss: 0.0003 Acc: 0.9935\n"
          ],
          "name": "stdout"
        }
      ]
    },
    {
      "cell_type": "markdown",
      "metadata": {
        "id": "P960YqN0Ho4J",
        "colab_type": "text"
      },
      "source": [
        "Our network seems to learn but we now need to check its accuracy on the test set."
      ]
    },
    {
      "cell_type": "code",
      "metadata": {
        "id": "f_ttkHKAHo4K",
        "colab_type": "code",
        "colab": {}
      },
      "source": [
        "def test(model,data_loader):\n",
        "    model.train(False)\n",
        "\n",
        "    running_corrects = 0.0\n",
        "    running_loss = 0.0\n",
        "    size = 0\n",
        "\n",
        "    for data in data_loader:\n",
        "        inputs, labels = data\n",
        "            \n",
        "        bs = labels.size(0)\n",
        "        #print(bs)\n",
        "                \n",
        "        outputs = model(inputs)\n",
        "            #print(outputs)\n",
        "        classes = labels == 1\n",
        "            #print(classes)\n",
        "        loss = loss_fn(outputs,classes.type(torch.LongTensor)) \n",
        "        _,preds = torch.max(outputs,1)\n",
        "            #print(preds)\n",
        "            #print(classes)\n",
        "        running_corrects += torch.sum(preds == classes.data.type(torch.LongTensor))\n",
        "        running_loss += loss.data\n",
        "        size += bs\n",
        "\n",
        "    print('Test - Loss: {:.4f} Acc: {:.4f}'.format(running_loss / size, running_corrects.item() / size))"
      ],
      "execution_count": 0,
      "outputs": []
    },
    {
      "cell_type": "code",
      "metadata": {
        "id": "nNB9RU20Ho4M",
        "colab_type": "code",
        "colab": {
          "base_uri": "https://localhost:8080/",
          "height": 34
        },
        "outputId": "17bbb73d-887b-4d53-9ca5-b8909969dde4"
      },
      "source": [
        "test(conv_class,test_loader)"
      ],
      "execution_count": 84,
      "outputs": [
        {
          "output_type": "stream",
          "text": [
            "Test - Loss: 0.0003 Acc: 0.9935\n"
          ],
          "name": "stdout"
        }
      ]
    },
    {
      "cell_type": "markdown",
      "metadata": {
        "id": "1ZUVmjBOHo4O",
        "colab_type": "text"
      },
      "source": [
        "Change the optimizer to Adam."
      ]
    },
    {
      "cell_type": "code",
      "metadata": {
        "id": "eqLRDPTxHo4P",
        "colab_type": "code",
        "colab": {}
      },
      "source": [
        ""
      ],
      "execution_count": 0,
      "outputs": []
    },
    {
      "cell_type": "markdown",
      "metadata": {
        "id": "VnXvEogNHo4S",
        "colab_type": "text"
      },
      "source": [
        "How many parameters did your network learn?"
      ]
    },
    {
      "cell_type": "code",
      "metadata": {
        "id": "Qd5JSwZDHo4S",
        "colab_type": "code",
        "colab": {}
      },
      "source": [
        ""
      ],
      "execution_count": 0,
      "outputs": []
    },
    {
      "cell_type": "markdown",
      "metadata": {
        "id": "lfxpzNo8Ho4U",
        "colab_type": "text"
      },
      "source": [
        "You can see them as follows:"
      ]
    },
    {
      "cell_type": "code",
      "metadata": {
        "id": "XkpdG05OHo4U",
        "colab_type": "code",
        "colab": {
          "base_uri": "https://localhost:8080/",
          "height": 1627
        },
        "outputId": "be062bde-7f65-4fd5-a644-e24485593684"
      },
      "source": [
        "for m in conv_class.children():\n",
        "    print('weights :', m.weight.data)\n",
        "    print('bias :', m.bias.data)"
      ],
      "execution_count": 85,
      "outputs": [
        {
          "output_type": "stream",
          "text": [
            "weights : tensor([[[[-0.5901, -0.1806,  0.4880],\n",
            "          [-0.4562,  0.4061,  0.3312],\n",
            "          [ 0.2772,  0.3811,  0.4771]]],\n",
            "\n",
            "\n",
            "        [[[ 0.2956,  0.2065, -0.5052],\n",
            "          [ 0.0025,  0.3835, -0.2636],\n",
            "          [-0.3954,  0.4933,  0.2982]]],\n",
            "\n",
            "\n",
            "        [[[ 0.6946,  0.5701, -0.3938],\n",
            "          [ 0.5309,  0.4773, -0.8774],\n",
            "          [ 0.3900,  0.3320, -0.3544]]],\n",
            "\n",
            "\n",
            "        [[[ 0.5948,  0.4121, -0.6861],\n",
            "          [ 0.2634,  0.2125, -0.3930],\n",
            "          [ 0.4531,  0.5398, -0.3691]]],\n",
            "\n",
            "\n",
            "        [[[-0.6465, -0.5841, -0.1572],\n",
            "          [-0.0644,  0.0801,  0.5414],\n",
            "          [ 0.5621,  0.5311, -0.0345]]],\n",
            "\n",
            "\n",
            "        [[[ 0.2485, -0.3964, -0.1535],\n",
            "          [ 0.2760,  0.0076, -0.3907],\n",
            "          [ 0.2631,  0.0778,  0.6549]]],\n",
            "\n",
            "\n",
            "        [[[ 0.4246,  0.3110,  0.4876],\n",
            "          [ 0.1608,  0.0720,  0.1918],\n",
            "          [-0.4012, -0.8792,  0.0813]]],\n",
            "\n",
            "\n",
            "        [[[ 0.1009, -0.2489, -0.1433],\n",
            "          [ 0.2837, -0.5069,  0.0806],\n",
            "          [ 0.4072,  0.1486,  0.3629]]]])\n",
            "bias : tensor([-0.2230, -0.4543, -0.0690,  0.3568,  0.1028, -0.3309, -0.5206, -0.5857])\n",
            "weights : tensor([[ 1.3705e-01,  9.7321e-02, -1.2386e-01, -2.0467e-01,  2.2096e-01,\n",
            "         -1.1071e-01, -3.4981e-02,  1.3377e-01,  2.0382e-01, -1.7541e-01,\n",
            "          7.9958e-02, -3.2223e-01, -2.0851e-01, -1.1875e-01,  2.0738e-01,\n",
            "          2.5501e-01,  2.2511e-01,  1.0332e-01,  3.0010e-01,  9.4949e-02,\n",
            "          2.0117e-01,  7.7527e-01,  4.6328e-01,  2.6196e-01,  5.2565e-02,\n",
            "          7.6386e-01,  3.8092e-01,  1.6141e-01,  1.4330e-01,  6.8060e-01,\n",
            "         -7.5644e-02,  5.6794e-02, -9.6148e-02, -2.5624e-01, -1.8087e-01,\n",
            "         -1.2838e-01,  8.0647e-02,  1.8888e-01, -3.5017e-01,  1.2893e-01,\n",
            "          1.6530e-01,  1.8789e-01, -1.6255e-01,  9.5198e-02, -2.2134e-01,\n",
            "          7.4233e-02,  1.8815e-01, -6.3600e-02, -2.7378e-01, -2.0523e-01,\n",
            "         -1.8763e-01, -1.8395e-01, -1.8393e-01,  2.4253e-01, -2.1317e-01,\n",
            "          1.5935e-01, -2.3085e-01,  2.1914e-01, -7.6495e-02, -3.1449e-02,\n",
            "         -2.4143e-01,  9.5635e-02,  4.7875e-03, -2.2380e-01, -2.8996e-01,\n",
            "          2.6504e-01,  7.6301e-02, -1.9460e-02, -2.4518e-02,  1.0841e-02,\n",
            "          3.8757e-01,  2.8917e-01, -3.5177e-01,  1.0096e-01,  1.7028e-03,\n",
            "         -4.7526e-01, -4.5723e-01,  1.5778e-01,  8.5577e-02, -2.8558e-01,\n",
            "          1.6836e-01,  2.9492e-01,  4.4835e-01,  1.9710e-01,  3.0642e-01,\n",
            "          4.8809e-01,  5.8423e-01,  4.6522e-01, -9.8462e-02,  1.5090e-01,\n",
            "          9.0609e-02,  3.3376e-02, -1.3486e-01,  5.0398e-01,  3.5076e-02,\n",
            "          2.0321e-01,  9.2091e-02, -6.3269e-02,  8.0501e-01,  2.4780e-01,\n",
            "          1.1638e-01,  3.5986e-01,  6.7149e-01,  3.8490e-01,  2.4874e-01,\n",
            "          9.2323e-01,  6.8924e-01,  1.1327e-01, -6.6528e-02,  5.6792e-02,\n",
            "          6.0524e-02, -2.1172e-02,  2.2880e-01,  4.1026e-01,  6.2945e-01,\n",
            "          1.8592e-01,  1.7901e-01,  4.9854e-01,  9.3303e-01,  4.1548e-01,\n",
            "          1.5864e-01,  1.6145e-01,  1.2542e-01,  8.5221e-02,  1.6191e-01,\n",
            "          3.3890e-01,  2.9416e-02,  1.2589e-01],\n",
            "        [-9.3272e-02,  1.1615e-02,  1.7967e-01,  1.2265e-01, -1.4369e-01,\n",
            "          1.9297e-01, -8.9061e-02, -2.4053e-01, -1.1114e-01,  2.1066e-01,\n",
            "         -4.0321e-02,  2.1173e-01,  1.7495e-01,  1.3909e-01, -1.5569e-01,\n",
            "         -3.6263e-01, -1.9951e-01, -1.3953e-01, -2.6526e-01, -1.0528e-02,\n",
            "         -1.4304e-01, -7.4476e-01, -5.0838e-01, -3.3263e-01, -1.8854e-02,\n",
            "         -6.5256e-01, -3.8647e-01, -1.5832e-01, -1.3001e-01, -7.2344e-01,\n",
            "          7.6678e-02, -1.6654e-01,  2.0032e-01,  2.0222e-01,  2.0243e-01,\n",
            "          8.4466e-02, -1.5991e-01, -2.0654e-01,  2.5971e-01, -7.4427e-02,\n",
            "         -1.3059e-01, -2.0497e-01,  2.5310e-01,  3.4470e-02,  1.9547e-01,\n",
            "         -6.7384e-02, -2.8547e-01,  5.5021e-02,  2.9547e-01,  1.6229e-01,\n",
            "          2.5201e-01,  1.6241e-01,  2.0976e-01, -2.5338e-01,  2.4213e-01,\n",
            "         -1.2187e-01,  2.3026e-01, -1.4743e-01,  2.0022e-01,  5.0616e-02,\n",
            "          1.9068e-01, -7.9664e-02, -9.1006e-02,  1.1673e-01,  2.4755e-01,\n",
            "         -1.3587e-01, -1.9573e-02,  7.2439e-02,  1.0182e-01, -7.4560e-02,\n",
            "         -3.9124e-01, -1.5935e-01,  2.0837e-01, -2.4326e-02, -1.0070e-01,\n",
            "          5.3259e-01,  4.7778e-01, -8.5061e-02, -1.7729e-01,  2.4975e-01,\n",
            "         -2.3150e-01, -3.4289e-01, -3.7342e-01, -2.0218e-01, -2.4795e-01,\n",
            "         -4.4515e-01, -6.1585e-01, -4.7291e-01,  1.3889e-01, -3.2271e-01,\n",
            "          6.9716e-03, -2.0133e-02,  5.9284e-02, -4.5071e-01, -3.2644e-02,\n",
            "         -1.9879e-01, -1.9381e-01,  5.6926e-02, -7.7117e-01, -1.0306e-01,\n",
            "         -2.5895e-01, -3.1975e-01, -6.2745e-01, -3.0129e-01, -3.4929e-01,\n",
            "         -8.4351e-01, -7.1512e-01, -1.3399e-01,  1.2696e-01, -8.9595e-02,\n",
            "         -8.9599e-02,  6.3023e-04, -1.2394e-01, -3.9566e-01, -5.6927e-01,\n",
            "         -3.5901e-01, -1.5336e-01, -5.4624e-01, -9.0822e-01, -5.0387e-01,\n",
            "         -1.4089e-01, -3.0979e-01, -1.8270e-01, -1.6251e-02, -1.2442e-01,\n",
            "         -4.6710e-01, -1.1469e-01, -1.3089e-01]])\n",
            "bias : tensor([-0.1388,  0.1146])\n"
          ],
          "name": "stdout"
        }
      ]
    },
    {
      "cell_type": "code",
      "metadata": {
        "id": "rjXp3y5HHo4W",
        "colab_type": "code",
        "colab": {}
      },
      "source": [
        "for m in conv_class.children():\n",
        "    T_w = m.weight.data.numpy()\n",
        "    T_b = m.bias.data.numpy()\n",
        "    break"
      ],
      "execution_count": 0,
      "outputs": []
    },
    {
      "cell_type": "code",
      "metadata": {
        "id": "S-g2xTm-Ho4X",
        "colab_type": "code",
        "colab": {
          "base_uri": "https://localhost:8080/",
          "height": 123
        },
        "outputId": "2d65c316-fe40-4020-9284-6e66965cb73e"
      },
      "source": [
        "plots([T_w[i][0] for i in range(8)])"
      ],
      "execution_count": 87,
      "outputs": [
        {
          "output_type": "display_data",
          "data": {
            "image/png": "[encoded data removed]",
            "text/plain": [
              "<Figure size 864x1728 with 8 Axes>"
            ]
          },
          "metadata": {
            "tags": []
          }
        }
      ]
    },
    {
      "cell_type": "code",
      "metadata": {
        "id": "PlvjNVKhHo4Z",
        "colab_type": "code",
        "colab": {
          "base_uri": "https://localhost:8080/",
          "height": 52
        },
        "outputId": "8e480ef2-3baf-411c-aa6a-7954a6544900"
      },
      "source": [
        "T_b"
      ],
      "execution_count": 88,
      "outputs": [
        {
          "output_type": "execute_result",
          "data": {
            "text/plain": [
              "array([-0.2230461 , -0.454333  , -0.06900841,  0.356765  ,  0.10276112,\n",
              "       -0.3308682 , -0.52058285, -0.5856613 ], dtype=float32)"
            ]
          },
          "metadata": {
            "tags": []
          },
          "execution_count": 88
        }
      ]
    },
    {
      "cell_type": "code",
      "metadata": {
        "id": "XORiuyWzHo4a",
        "colab_type": "code",
        "colab": {}
      },
      "source": [
        ""
      ],
      "execution_count": 0,
      "outputs": []
    }
  ]
}
{
  "nbformat": 4,
  "nbformat_minor": 0,
  "metadata": {
    "colab": {
      "name": "03_collaborative_filtering_colab.ipynb",
      "version": "0.3.2",
      "provenance": [],
      "toc_visible": true,
      "include_colab_link": true
    },
    "language_info": {
      "codemirror_mode": {
        "name": "ipython",
        "version": 3
      },
      "file_extension": ".py",
      "mimetype": "text/x-python",
      "name": "python",
      "nbconvert_exporter": "python",
      "pygments_lexer": "ipython3",
      "version": "3.6.7"
    },
    "kernelspec": {
      "display_name": "Python 3",
      "language": "python",
      "name": "python3"
    }
  },
  "cells": [
    {
      "cell_type": "markdown",
      "metadata": {
        "id": "view-in-github",
        "colab_type": "text"
      },
      "source": [
        "<a href=\"https://colab.research.google.com/github/mlelarge/dataflowr/blob/master/CEA_EDF_INRIA/03_collaborative_filtering_full_colab.ipynb\" target=\"_parent\"><img src=\"https://colab.research.google.com/assets/colab-badge.svg\" alt=\"Open In Colab\"/></a>"
      ]
    },
    {
      "cell_type": "markdown",
      "metadata": {
        "id": "cKEoXRSzUUCv",
        "colab_type": "text"
      },
      "source": [
        "# Collaborative filtering\n",
        "-----\n",
        "\n",
        "In this example, we'll build a quick explicit feedback recommender system: that is, a model that takes into account explicit feedback signals (like ratings) to recommend new content.\n",
        "\n",
        "We'll use an approach first made popular by the [Netflix prize](http://www.netflixprize.com/) contest: [matrix factorization](https://datajobs.com/data-science-repo/Recommender-Systems-[Netflix].pdf). \n",
        "\n",
        "The basic idea is very simple:\n",
        "\n",
        "1. Start with user-item-rating triplets, conveying the information that user _i_ gave some item _j_ rating _r_.\n",
        "2. Represent both users and items as high-dimensional vectors of numbers. For example, a user could be represented by `[0.3, -1.2, 0.5]` and an item by `[1.0, -0.3, -0.6]`.\n",
        "3. The representations should be chosen so that, when we multiplied together (via [dot products](https://en.wikipedia.org/wiki/Dot_product)), we can recover the original ratings.\n",
        "4. The utility of the model then is derived from the fact that if we multiply the user vector of a user with the item vector of some item they _have not_ rated, we hope to obtain a predicition for the rating they would have given to it had they seen it.\n",
        "\n",
        "![collaborative filtering](http://ampcamp.berkeley.edu/big-data-mini-course/img/matrix_factorization.png)\n",
        "source:[ampcamp.berkeley](http://ampcamp.berkeley.edu/big-data-mini-course/movie-recommendation-with-mllib.html)"
      ]
    },
    {
      "cell_type": "markdown",
      "metadata": {
        "id": "OeHGO4qbUUC4",
        "colab_type": "text"
      },
      "source": [
        "## 1. Preparations"
      ]
    },
    {
      "cell_type": "code",
      "metadata": {
        "id": "frj5rX9wUUC_",
        "colab_type": "code",
        "colab": {}
      },
      "source": [
        "%matplotlib inline\n",
        "import matplotlib.pyplot as plt\n",
        "import numpy as np\n",
        "import os.path as op\n",
        "\n",
        "from zipfile import ZipFile\n",
        "try:\n",
        "    from urllib.request import urlretrieve\n",
        "except ImportError:  # Python 2 compat\n",
        "    from urllib import urlretrieve\n",
        "\n",
        "# this line need to be changed:\n",
        "data_folder = '/content/'\n",
        "\n",
        "ML_100K_URL = \"http://files.grouplens.org/datasets/movielens/ml-100k.zip\"\n",
        "ML_100K_FILENAME = op.join(data_folder,ML_100K_URL.rsplit('/', 1)[1])\n",
        "ML_100K_FOLDER = op.join(data_folder,'ml-100k')"
      ],
      "execution_count": 0,
      "outputs": []
    },
    {
      "cell_type": "markdown",
      "metadata": {
        "id": "pK7DyF_ZUUDQ",
        "colab_type": "text"
      },
      "source": [
        "We start with importing a famous dataset, the [Movielens 100k dataset](https://grouplens.org/datasets/movielens/100k/). It contains 100,000 ratings (between 1 and 5) given to 1683 movies by 944 users:"
      ]
    },
    {
      "cell_type": "code",
      "metadata": {
        "id": "tKfA7pagUUDT",
        "colab_type": "code",
        "colab": {
          "base_uri": "https://localhost:8080/",
          "height": 52
        },
        "outputId": "c5079707-fd57-40c2-b77b-cc0838027401"
      },
      "source": [
        "if not op.exists(ML_100K_FILENAME):\n",
        "    print('Downloading %s to %s...' % (ML_100K_URL, ML_100K_FILENAME))\n",
        "    urlretrieve(ML_100K_URL, ML_100K_FILENAME)\n",
        "\n",
        "if not op.exists(ML_100K_FOLDER):\n",
        "    print('Extracting %s to %s...' % (ML_100K_FILENAME, ML_100K_FOLDER))\n",
        "    ZipFile(ML_100K_FILENAME).extractall(data_folder)"
      ],
      "execution_count": 4,
      "outputs": [
        {
          "output_type": "stream",
          "text": [
            "Downloading http://files.grouplens.org/datasets/movielens/ml-100k.zip to /content/ml-100k.zip...\n",
            "Extracting /content/ml-100k.zip to /content/ml-100k...\n"
          ],
          "name": "stdout"
        }
      ]
    },
    {
      "cell_type": "markdown",
      "metadata": {
        "id": "LKXSFZpUUUDl",
        "colab_type": "text"
      },
      "source": [
        "Other datasets, see: [Movielens](https://grouplens.org/datasets/movielens/)"
      ]
    },
    {
      "cell_type": "markdown",
      "metadata": {
        "id": "hHgLg4jBUUDp",
        "colab_type": "text"
      },
      "source": [
        "## 2. Data analysis and formating"
      ]
    },
    {
      "cell_type": "markdown",
      "metadata": {
        "id": "ZlGyPSBpUUDt",
        "colab_type": "text"
      },
      "source": [
        "[Python Data Analysis Library](http://pandas.pydata.org/)"
      ]
    },
    {
      "cell_type": "code",
      "metadata": {
        "id": "QFRB1aAPUUDy",
        "colab_type": "code",
        "colab": {
          "base_uri": "https://localhost:8080/",
          "height": 204
        },
        "outputId": "b329ce78-f00b-40cd-ce6b-7622a24e6ee9"
      },
      "source": [
        "import pandas as pd\n",
        "\n",
        "all_ratings = pd.read_csv(op.join(ML_100K_FOLDER, 'u.data'), sep='\\t',\n",
        "                          names=[\"user_id\", \"item_id\", \"ratings\", \"timestamp\"])\n",
        "all_ratings.head()"
      ],
      "execution_count": 5,
      "outputs": [
        {
          "output_type": "execute_result",
          "data": {
            "text/html": [
              "<div>\n",
              "<style scoped>\n",
              "    .dataframe tbody tr th:only-of-type {\n",
              "        vertical-align: middle;\n",
              "    }\n",
              "\n",
              "    .dataframe tbody tr th {\n",
              "        vertical-align: top;\n",
              "    }\n",
              "\n",
              "    .dataframe thead th {\n",
              "        text-align: right;\n",
              "    }\n",
              "</style>\n",
              "<table border=\"1\" class=\"dataframe\">\n",
              "  <thead>\n",
              "    <tr style=\"text-align: right;\">\n",
              "      <th></th>\n",
              "      <th>user_id</th>\n",
              "      <th>item_id</th>\n",
              "      <th>ratings</th>\n",
              "      <th>timestamp</th>\n",
              "    </tr>\n",
              "  </thead>\n",
              "  <tbody>\n",
              "    <tr>\n",
              "      <th>0</th>\n",
              "      <td>196</td>\n",
              "      <td>242</td>\n",
              "      <td>3</td>\n",
              "      <td>881250949</td>\n",
              "    </tr>\n",
              "    <tr>\n",
              "      <th>1</th>\n",
              "      <td>186</td>\n",
              "      <td>302</td>\n",
              "      <td>3</td>\n",
              "      <td>891717742</td>\n",
              "    </tr>\n",
              "    <tr>\n",
              "      <th>2</th>\n",
              "      <td>22</td>\n",
              "      <td>377</td>\n",
              "      <td>1</td>\n",
              "      <td>878887116</td>\n",
              "    </tr>\n",
              "    <tr>\n",
              "      <th>3</th>\n",
              "      <td>244</td>\n",
              "      <td>51</td>\n",
              "      <td>2</td>\n",
              "      <td>880606923</td>\n",
              "    </tr>\n",
              "    <tr>\n",
              "      <th>4</th>\n",
              "      <td>166</td>\n",
              "      <td>346</td>\n",
              "      <td>1</td>\n",
              "      <td>886397596</td>\n",
              "    </tr>\n",
              "  </tbody>\n",
              "</table>\n",
              "</div>"
            ],
            "text/plain": [
              "   user_id  item_id  ratings  timestamp\n",
              "0      196      242        3  881250949\n",
              "1      186      302        3  891717742\n",
              "2       22      377        1  878887116\n",
              "3      244       51        2  880606923\n",
              "4      166      346        1  886397596"
            ]
          },
          "metadata": {
            "tags": []
          },
          "execution_count": 5
        }
      ]
    },
    {
      "cell_type": "markdown",
      "metadata": {
        "id": "enyJuYhUUUEL",
        "colab_type": "text"
      },
      "source": [
        "Let's check out a few macro-stats of our dataset"
      ]
    },
    {
      "cell_type": "code",
      "metadata": {
        "id": "3M7-jinQUUEO",
        "colab_type": "code",
        "colab": {
          "base_uri": "https://localhost:8080/",
          "height": 34
        },
        "outputId": "495a7d6f-48db-40af-824d-d7c862b89e9a"
      },
      "source": [
        "#number of entries\n",
        "len(all_ratings)"
      ],
      "execution_count": 6,
      "outputs": [
        {
          "output_type": "execute_result",
          "data": {
            "text/plain": [
              "100000"
            ]
          },
          "metadata": {
            "tags": []
          },
          "execution_count": 6
        }
      ]
    },
    {
      "cell_type": "code",
      "metadata": {
        "id": "ofVcE781UUEa",
        "colab_type": "code",
        "colab": {
          "base_uri": "https://localhost:8080/",
          "height": 174
        },
        "outputId": "79af38a0-ece2-460c-87cc-0ae2bd9f99de"
      },
      "source": [
        "all_ratings['ratings'].describe()"
      ],
      "execution_count": 7,
      "outputs": [
        {
          "output_type": "execute_result",
          "data": {
            "text/plain": [
              "count    100000.000000\n",
              "mean          3.529860\n",
              "std           1.125674\n",
              "min           1.000000\n",
              "25%           3.000000\n",
              "50%           4.000000\n",
              "75%           4.000000\n",
              "max           5.000000\n",
              "Name: ratings, dtype: float64"
            ]
          },
          "metadata": {
            "tags": []
          },
          "execution_count": 7
        }
      ]
    },
    {
      "cell_type": "code",
      "metadata": {
        "id": "tCdV2qzMUUEk",
        "colab_type": "code",
        "colab": {
          "base_uri": "https://localhost:8080/",
          "height": 34
        },
        "outputId": "cfa970ef-d7de-428d-8d73-b56d2b5cf3dd"
      },
      "source": [
        "# number of unique rating values\n",
        "len(all_ratings['ratings'].unique())"
      ],
      "execution_count": 8,
      "outputs": [
        {
          "output_type": "execute_result",
          "data": {
            "text/plain": [
              "5"
            ]
          },
          "metadata": {
            "tags": []
          },
          "execution_count": 8
        }
      ]
    },
    {
      "cell_type": "code",
      "metadata": {
        "id": "zU9vARwJUUEs",
        "colab_type": "code",
        "colab": {
          "base_uri": "https://localhost:8080/",
          "height": 174
        },
        "outputId": "d167e2dd-8067-470d-a344-4ecce0b23d72"
      },
      "source": [
        "all_ratings['user_id'].describe()"
      ],
      "execution_count": 9,
      "outputs": [
        {
          "output_type": "execute_result",
          "data": {
            "text/plain": [
              "count    100000.00000\n",
              "mean        462.48475\n",
              "std         266.61442\n",
              "min           1.00000\n",
              "25%         254.00000\n",
              "50%         447.00000\n",
              "75%         682.00000\n",
              "max         943.00000\n",
              "Name: user_id, dtype: float64"
            ]
          },
          "metadata": {
            "tags": []
          },
          "execution_count": 9
        }
      ]
    },
    {
      "cell_type": "code",
      "metadata": {
        "id": "P1QoS71CUUE7",
        "colab_type": "code",
        "colab": {
          "base_uri": "https://localhost:8080/",
          "height": 34
        },
        "outputId": "e28f26c8-73c4-488c-a980-9d08b0c85fc8"
      },
      "source": [
        "# number of unique users\n",
        "total_user_id = len(all_ratings['user_id'].unique())\n",
        "print(total_user_id)"
      ],
      "execution_count": 10,
      "outputs": [
        {
          "output_type": "stream",
          "text": [
            "943\n"
          ],
          "name": "stdout"
        }
      ]
    },
    {
      "cell_type": "code",
      "metadata": {
        "id": "l3gfokbNUUFH",
        "colab_type": "code",
        "colab": {
          "base_uri": "https://localhost:8080/",
          "height": 174
        },
        "outputId": "3999ada6-09d2-481b-c4ae-f7a9c8b33f52"
      },
      "source": [
        "all_ratings['item_id'].describe()"
      ],
      "execution_count": 11,
      "outputs": [
        {
          "output_type": "execute_result",
          "data": {
            "text/plain": [
              "count    100000.000000\n",
              "mean        425.530130\n",
              "std         330.798356\n",
              "min           1.000000\n",
              "25%         175.000000\n",
              "50%         322.000000\n",
              "75%         631.000000\n",
              "max        1682.000000\n",
              "Name: item_id, dtype: float64"
            ]
          },
          "metadata": {
            "tags": []
          },
          "execution_count": 11
        }
      ]
    },
    {
      "cell_type": "code",
      "metadata": {
        "id": "pE6-aj0KUUFY",
        "colab_type": "code",
        "colab": {
          "base_uri": "https://localhost:8080/",
          "height": 34
        },
        "outputId": "3f4f2e7f-6a4d-4153-abb2-a6627d9bcb02"
      },
      "source": [
        "# number of unique rated items\n",
        "total_item_id = len(all_ratings['item_id'].unique())\n",
        "print(total_item_id)"
      ],
      "execution_count": 12,
      "outputs": [
        {
          "output_type": "stream",
          "text": [
            "1682\n"
          ],
          "name": "stdout"
        }
      ]
    },
    {
      "cell_type": "markdown",
      "metadata": {
        "id": "Ur4bjuniUUFj",
        "colab_type": "text"
      },
      "source": [
        "For spliting the data into _train_ and _test_ we'll be using a pre-defined function from [scikit-learn](http://scikit-learn.org/stable/)"
      ]
    },
    {
      "cell_type": "code",
      "metadata": {
        "id": "ZT5oxhoGUUFm",
        "colab_type": "code",
        "colab": {}
      },
      "source": [
        "from sklearn.model_selection import train_test_split\n",
        "\n",
        "ratings_train, ratings_test = train_test_split(\n",
        "    all_ratings, test_size=0.2, random_state=42)\n",
        "\n",
        "user_id_train = ratings_train['user_id']\n",
        "item_id_train = ratings_train['item_id']\n",
        "rating_train = ratings_train['ratings']\n",
        "\n",
        "user_id_test = ratings_test['user_id']\n",
        "item_id_test = ratings_test['item_id']\n",
        "rating_test = ratings_test['ratings']"
      ],
      "execution_count": 0,
      "outputs": []
    },
    {
      "cell_type": "code",
      "metadata": {
        "id": "aLem0iAjUUFs",
        "colab_type": "code",
        "colab": {
          "base_uri": "https://localhost:8080/",
          "height": 34
        },
        "outputId": "767d5cbd-cab3-4b9d-c69e-e0f6d22022af"
      },
      "source": [
        "len(user_id_train)"
      ],
      "execution_count": 14,
      "outputs": [
        {
          "output_type": "execute_result",
          "data": {
            "text/plain": [
              "80000"
            ]
          },
          "metadata": {
            "tags": []
          },
          "execution_count": 14
        }
      ]
    },
    {
      "cell_type": "code",
      "metadata": {
        "id": "45HhGRbFUUF2",
        "colab_type": "code",
        "colab": {
          "base_uri": "https://localhost:8080/",
          "height": 34
        },
        "outputId": "75716114-9457-44fc-fbf8-5456d7a8f98e"
      },
      "source": [
        "len(user_id_train.unique())"
      ],
      "execution_count": 15,
      "outputs": [
        {
          "output_type": "execute_result",
          "data": {
            "text/plain": [
              "943"
            ]
          },
          "metadata": {
            "tags": []
          },
          "execution_count": 15
        }
      ]
    },
    {
      "cell_type": "code",
      "metadata": {
        "id": "z9m6gSoKUUF_",
        "colab_type": "code",
        "colab": {
          "base_uri": "https://localhost:8080/",
          "height": 34
        },
        "outputId": "2f2d119c-f0de-46ae-c4a1-de3aba124d30"
      },
      "source": [
        "len(item_id_train.unique())"
      ],
      "execution_count": 16,
      "outputs": [
        {
          "output_type": "execute_result",
          "data": {
            "text/plain": [
              "1653"
            ]
          },
          "metadata": {
            "tags": []
          },
          "execution_count": 16
        }
      ]
    },
    {
      "cell_type": "markdown",
      "metadata": {
        "id": "Vmx1YZmTUUGG",
        "colab_type": "text"
      },
      "source": [
        "We see that all the movies are not rated in the train set."
      ]
    },
    {
      "cell_type": "code",
      "metadata": {
        "id": "TOY6YCqPUUGI",
        "colab_type": "code",
        "colab": {
          "base_uri": "https://localhost:8080/",
          "height": 122
        },
        "outputId": "3766eecb-9ef5-4d99-edec-0efab7c09bf8"
      },
      "source": [
        "user_id_train.iloc[:5]"
      ],
      "execution_count": 17,
      "outputs": [
        {
          "output_type": "execute_result",
          "data": {
            "text/plain": [
              "75220    807\n",
              "48955    474\n",
              "44966    463\n",
              "13568    139\n",
              "92727    621\n",
              "Name: user_id, dtype: int64"
            ]
          },
          "metadata": {
            "tags": []
          },
          "execution_count": 17
        }
      ]
    },
    {
      "cell_type": "code",
      "metadata": {
        "id": "6ZCYvrYhUUGP",
        "colab_type": "code",
        "colab": {
          "base_uri": "https://localhost:8080/",
          "height": 122
        },
        "outputId": "033bf630-f6ee-4425-c0dd-38d6769c267d"
      },
      "source": [
        "item_id_train.iloc[:5]"
      ],
      "execution_count": 18,
      "outputs": [
        {
          "output_type": "execute_result",
          "data": {
            "text/plain": [
              "75220    1411\n",
              "48955     659\n",
              "44966     268\n",
              "13568     286\n",
              "92727     751\n",
              "Name: item_id, dtype: int64"
            ]
          },
          "metadata": {
            "tags": []
          },
          "execution_count": 18
        }
      ]
    },
    {
      "cell_type": "code",
      "metadata": {
        "id": "qZsssRYSUUGW",
        "colab_type": "code",
        "colab": {
          "base_uri": "https://localhost:8080/",
          "height": 122
        },
        "outputId": "57fd3d0f-0376-4e4b-cc23-8b0588ea0610"
      },
      "source": [
        "rating_train.iloc[:5]"
      ],
      "execution_count": 19,
      "outputs": [
        {
          "output_type": "execute_result",
          "data": {
            "text/plain": [
              "75220    1\n",
              "48955    5\n",
              "44966    4\n",
              "13568    4\n",
              "92727    4\n",
              "Name: ratings, dtype: int64"
            ]
          },
          "metadata": {
            "tags": []
          },
          "execution_count": 19
        }
      ]
    },
    {
      "cell_type": "markdown",
      "metadata": {
        "id": "Q7JF-d05UUGc",
        "colab_type": "text"
      },
      "source": [
        "## 3. The model\n",
        "\n",
        "We can feed our dataset to the `FactorizationModel` class - a sklearn-like object that allows us to train and evaluate the explicit factorization models.\n",
        "\n",
        "Internally, the model uses the `Model_dot`(class to represents users and items. It's composed of a 4 `embedding` layers:\n",
        "\n",
        "- a `(num_users x latent_dim)` embedding layer to represent users,\n",
        "- a `(num_items x latent_dim)` embedding layer to represent items,\n",
        "- a `(num_users x 1)` embedding layer to represent user biases, and\n",
        "- a `(num_items x 1)` embedding layer to represent item biases."
      ]
    },
    {
      "cell_type": "code",
      "metadata": {
        "id": "tsrfFi1QUUGd",
        "colab_type": "code",
        "colab": {}
      },
      "source": [
        "import torch.nn as nn\n",
        "import torch"
      ],
      "execution_count": 0,
      "outputs": []
    },
    {
      "cell_type": "markdown",
      "metadata": {
        "id": "Vaf7-kdnUUGh",
        "colab_type": "text"
      },
      "source": [
        "Let's generate [Embeddings](http://pytorch.org/docs/master/nn.html#embedding) for the users, _i.e._ a fixed-sized vector describing the user"
      ]
    },
    {
      "cell_type": "code",
      "metadata": {
        "id": "2iu-1X4AUUGi",
        "colab_type": "code",
        "colab": {
          "base_uri": "https://localhost:8080/",
          "height": 174
        },
        "outputId": "2ca60446-116b-4dc7-d4d4-c43c524bed62"
      },
      "source": [
        "embedding_dim = 3\n",
        "embedding_user = nn.Embedding(total_user_id, embedding_dim)\n",
        "input = torch.LongTensor([[1,2,4,5],[4,3,2,0]])\n",
        "embedding_user(input)"
      ],
      "execution_count": 21,
      "outputs": [
        {
          "output_type": "execute_result",
          "data": {
            "text/plain": [
              "tensor([[[-0.1832, -0.9930,  2.5870],\n",
              "         [ 1.1143,  0.9589, -0.7250],\n",
              "         [-0.3251, -1.6406, -0.3944],\n",
              "         [ 0.9714, -0.1434, -0.0922]],\n",
              "\n",
              "        [[-0.3251, -1.6406, -0.3944],\n",
              "         [ 1.4056,  0.3354, -0.0237],\n",
              "         [ 1.1143,  0.9589, -0.7250],\n",
              "         [ 0.6052,  0.8300,  0.9265]]], grad_fn=<EmbeddingBackward>)"
            ]
          },
          "metadata": {
            "tags": []
          },
          "execution_count": 21
        }
      ]
    },
    {
      "cell_type": "markdown",
      "metadata": {
        "id": "HpkKu7PVUUGp",
        "colab_type": "text"
      },
      "source": [
        "We will use some custom embeddings and dataloader"
      ]
    },
    {
      "cell_type": "code",
      "metadata": {
        "id": "eB6_y1nMUUGq",
        "colab_type": "code",
        "colab": {}
      },
      "source": [
        "class ScaledEmbedding(nn.Embedding):\n",
        "    \"\"\"\n",
        "    Embedding layer that initialises its values\n",
        "    to using a normal variable scaled by the inverse\n",
        "    of the emedding dimension.\n",
        "    \"\"\"\n",
        "\n",
        "    def reset_parameters(self):\n",
        "        \"\"\"\n",
        "        Initialize parameters.\n",
        "        \"\"\"\n",
        "\n",
        "        self.weight.data.normal_(0, 1.0 / self.embedding_dim)\n",
        "        if self.padding_idx is not None:\n",
        "            self.weight.data[self.padding_idx].fill_(0)\n",
        "\n",
        "\n",
        "class ZeroEmbedding(nn.Embedding):\n",
        "    \"\"\"\n",
        "    Used for biases.\n",
        "    \"\"\"\n",
        "\n",
        "    def reset_parameters(self):\n",
        "        \"\"\"\n",
        "        Initialize parameters.\n",
        "        \"\"\"\n",
        "\n",
        "        self.weight.data.zero_()\n",
        "        if self.padding_idx is not None:\n",
        "            self.weight.data[self.padding_idx].fill_(0)"
      ],
      "execution_count": 0,
      "outputs": []
    },
    {
      "cell_type": "code",
      "metadata": {
        "id": "ktXRW3-4UUGt",
        "colab_type": "code",
        "colab": {}
      },
      "source": [
        "class DotModel(nn.Module):\n",
        "    \n",
        "    def __init__(self,\n",
        "                 num_users,\n",
        "                 num_items,\n",
        "                 embedding_dim=32):\n",
        "        \n",
        "        super(DotModel, self).__init__()\n",
        "        \n",
        "        self.embedding_dim = embedding_dim\n",
        "        \n",
        "        self.user_embeddings = ScaledEmbedding(num_users, embedding_dim)\n",
        "        self.item_embeddings = ScaledEmbedding(num_items, embedding_dim)\n",
        "        self.user_biases = ZeroEmbedding(num_users, 1)\n",
        "        self.item_biases = ZeroEmbedding(num_items, 1)\n",
        "                \n",
        "        \n",
        "    def forward(self, user_ids, item_ids):\n",
        "        \n",
        "        user_embedding = self.user_embeddings(user_ids)\n",
        "        item_embedding = self.item_embeddings(item_ids)\n",
        "\n",
        "        user_embedding = user_embedding.squeeze()\n",
        "        item_embedding = item_embedding.squeeze()\n",
        "\n",
        "        user_bias = self.user_biases(user_ids).squeeze()\n",
        "        item_bias = self.item_biases(item_ids).squeeze()\n",
        "\n",
        "        dot = (user_embedding * item_embedding).sum(1)\n",
        "\n",
        "        return dot + user_bias + item_bias\n"
      ],
      "execution_count": 0,
      "outputs": []
    },
    {
      "cell_type": "code",
      "metadata": {
        "id": "Lr_nC6eSUUGx",
        "colab_type": "code",
        "colab": {}
      },
      "source": [
        "def gpu(tensor, gpu=False):\n",
        "\n",
        "    if gpu:\n",
        "        return tensor.cuda()\n",
        "    else:\n",
        "        return tensor\n"
      ],
      "execution_count": 0,
      "outputs": []
    },
    {
      "cell_type": "code",
      "metadata": {
        "id": "CYeBlERRUUG0",
        "colab_type": "code",
        "colab": {}
      },
      "source": [
        "def shuffle(*arrays):\n",
        "\n",
        "    random_state = np.random.RandomState()\n",
        "    shuffle_indices = np.arange(len(arrays[0]))\n",
        "    random_state.shuffle(shuffle_indices)\n",
        "\n",
        "    if len(arrays) == 1:\n",
        "        return arrays[0][shuffle_indices]\n",
        "    else:\n",
        "        return tuple(x[shuffle_indices] for x in arrays)"
      ],
      "execution_count": 0,
      "outputs": []
    },
    {
      "cell_type": "code",
      "metadata": {
        "id": "OmlQTG2FUUG4",
        "colab_type": "code",
        "colab": {}
      },
      "source": [
        "def minibatch(batch_size, *tensors):\n",
        "\n",
        "    if len(tensors) == 1:\n",
        "        tensor = tensors[0]\n",
        "        for i in range(0, len(tensor), batch_size):\n",
        "            yield tensor[i:i + batch_size]\n",
        "    else:\n",
        "        for i in range(0, len(tensors[0]), batch_size):\n",
        "            yield tuple(x[i:i + batch_size] for x in tensors)\n",
        "\n",
        "\n",
        "def regression_loss(predicted_ratings, observed_ratings):\n",
        "    return ((observed_ratings - predicted_ratings) ** 2).mean()"
      ],
      "execution_count": 0,
      "outputs": []
    },
    {
      "cell_type": "code",
      "metadata": {
        "id": "2ekPPr7SUUG7",
        "colab_type": "code",
        "colab": {}
      },
      "source": [
        "import imp\n",
        "import numpy as np\n",
        "\n",
        "import torch.optim as optim\n",
        "\n",
        "class FactorizationModel(object):\n",
        "    \n",
        "    def __init__(self,\n",
        "                 embedding_dim=32,\n",
        "                 n_iter=10,\n",
        "                 batch_size=256,\n",
        "                 l2=0.0,\n",
        "                 learning_rate=1e-2,\n",
        "                 use_cuda=False,\n",
        "                 net=None,\n",
        "                 num_users=None,\n",
        "                 num_items=None, \n",
        "                 random_state=None):\n",
        "        \n",
        "        self._embedding_dim = embedding_dim\n",
        "        self._n_iter = n_iter\n",
        "        self._learning_rate = learning_rate\n",
        "        self._batch_size = batch_size\n",
        "        self._l2 = l2\n",
        "        self._use_cuda = use_cuda\n",
        "        \n",
        "        self._num_users = num_users\n",
        "        self._num_items = num_items\n",
        "        self._net = net\n",
        "        self._optimizer = None\n",
        "        self._loss_func = None\n",
        "        self._random_state = random_state or np.random.RandomState()\n",
        "             \n",
        "        \n",
        "    def _initialize(self):\n",
        "        if self._net is None:\n",
        "            self._net = gpu(DotModel(self._num_users, self._num_items, self._embedding_dim),self._use_cuda)\n",
        "        \n",
        "        self._optimizer = optim.Adam(\n",
        "                self._net.parameters(),\n",
        "                lr=self._learning_rate,\n",
        "                weight_decay=self._l2\n",
        "            )\n",
        "        \n",
        "        self._loss_func = regression_loss\n",
        "    \n",
        "    @property\n",
        "    def _initialized(self):\n",
        "        return self._optimizer is not None\n",
        "    \n",
        "    def __repr__(self):\n",
        "        return _repr_model(self)\n",
        "    \n",
        "    def fit(self, user_ids, item_ids, ratings, verbose=True):\n",
        "        \n",
        "        user_ids = user_ids.astype(np.int64)\n",
        "        item_ids = item_ids.astype(np.int64)\n",
        "        \n",
        "        if not self._initialized:\n",
        "            self._initialize()\n",
        "            \n",
        "        for epoch_num in range(self._n_iter):\n",
        "            users, items, ratingss = shuffle(user_ids,\n",
        "                                            item_ids,\n",
        "                                            ratings)\n",
        "\n",
        "            user_ids_tensor = gpu(torch.from_numpy(users),\n",
        "                                  self._use_cuda)\n",
        "            item_ids_tensor = gpu(torch.from_numpy(items),\n",
        "                                  self._use_cuda)\n",
        "            ratings_tensor = gpu(torch.from_numpy(ratingss),\n",
        "                                 self._use_cuda)\n",
        "            epoch_loss = 0.0\n",
        "\n",
        "            for (minibatch_num,\n",
        "                 (batch_user,\n",
        "                  batch_item,\n",
        "                  batch_rating)) in enumerate(minibatch(self._batch_size,\n",
        "                                                         user_ids_tensor,\n",
        "                                                         item_ids_tensor,\n",
        "                                                         ratings_tensor)):\n",
        "                \n",
        "                \n",
        "        \n",
        "                predictions = self._net(batch_user, batch_item)\n",
        "\n",
        "                self._optimizer.zero_grad()\n",
        "                \n",
        "                loss = self._loss_func(predictions,batch_rating)\n",
        "                \n",
        "                epoch_loss = epoch_loss + loss.data.item()\n",
        "                \n",
        "                loss.backward()\n",
        "                self._optimizer.step()\n",
        "                \n",
        "            \n",
        "            epoch_loss = epoch_loss / (minibatch_num + 1)\n",
        "\n",
        "            if verbose:\n",
        "                print('Epoch {}: loss {}'.format(epoch_num, epoch_loss))\n",
        "        \n",
        "            if np.isnan(epoch_loss) or epoch_loss == 0.0:\n",
        "                raise ValueError('Degenerate epoch loss: {}'\n",
        "                                 .format(epoch_loss))\n",
        "    \n",
        "    \n",
        "    def test(self,user_ids, item_ids, ratings):\n",
        "        self._net.train(False)\n",
        "        user_ids = user_ids.astype(np.int64)\n",
        "        item_ids = item_ids.astype(np.int64)\n",
        "        \n",
        "        user_ids_tensor = gpu(torch.from_numpy(user_ids),\n",
        "                                  self._use_cuda)\n",
        "        item_ids_tensor = gpu(torch.from_numpy(item_ids),\n",
        "                                  self._use_cuda)\n",
        "        ratings_tensor = gpu(torch.from_numpy(ratings),\n",
        "                                 self._use_cuda)\n",
        "               \n",
        "        predictions = self._net(user_ids_tensor, item_ids_tensor)\n",
        "        \n",
        "        loss = self._loss_func(ratings_tensor, predictions)\n",
        "        return loss.data.item()\n",
        "      \n",
        "    def predict(self,user_ids, item_ids):\n",
        "        self._net.train(False)\n",
        "        user_ids = user_ids.astype(np.int64)\n",
        "        item_ids = item_ids.astype(np.int64)\n",
        "        \n",
        "        user_ids_tensor = gpu(torch.from_numpy(user_ids),\n",
        "                                  self._use_cuda)\n",
        "        item_ids_tensor = gpu(torch.from_numpy(item_ids),\n",
        "                                  self._use_cuda)\n",
        "               \n",
        "        predictions = self._net(user_ids_tensor, item_ids_tensor)\n",
        "        return predictions.data\n",
        "      "
      ],
      "execution_count": 0,
      "outputs": []
    },
    {
      "cell_type": "code",
      "metadata": {
        "id": "qGuzPUNrUUG_",
        "colab_type": "code",
        "colab": {}
      },
      "source": [
        "model = FactorizationModel(embedding_dim=128,  # latent dimensionality\n",
        "                                   n_iter=10,  # number of epochs of training\n",
        "                                   batch_size=1024,  # minibatch size\n",
        "                                   learning_rate=1e-3,\n",
        "                                   l2=1e-9,  # strength of L2 regularization\n",
        "                                   use_cuda=torch.cuda.is_available(),\n",
        "                                   num_users=total_user_id+1,\n",
        "                                   num_items=total_item_id+1)"
      ],
      "execution_count": 0,
      "outputs": []
    },
    {
      "cell_type": "code",
      "metadata": {
        "id": "mMKyTn4QUUHC",
        "colab_type": "code",
        "colab": {}
      },
      "source": [
        "user_ids_train_np = user_id_train.values.astype(np.int32)\n",
        "item_ids_train_np = item_id_train.values.astype(np.int32)\n",
        "ratings_train_np = rating_train.values.astype(np.float32)"
      ],
      "execution_count": 0,
      "outputs": []
    },
    {
      "cell_type": "code",
      "metadata": {
        "id": "2Bd2CIosUUHJ",
        "colab_type": "code",
        "colab": {
          "base_uri": "https://localhost:8080/",
          "height": 192
        },
        "outputId": "b555b7b7-4e65-4b9c-fdaa-365d08dee5f2"
      },
      "source": [
        "model.fit(user_ids_train_np, item_ids_train_np, ratings_train_np)"
      ],
      "execution_count": 73,
      "outputs": [
        {
          "output_type": "stream",
          "text": [
            "Epoch 0: loss 13.094120001491111\n",
            "Epoch 1: loss 7.326523219482808\n",
            "Epoch 2: loss 1.7837381996685946\n",
            "Epoch 3: loss 1.0725114843513393\n",
            "Epoch 4: loss 0.9416675303555742\n",
            "Epoch 5: loss 0.8899725079536438\n",
            "Epoch 6: loss 0.8588055575950236\n",
            "Epoch 7: loss 0.8409514283832116\n",
            "Epoch 8: loss 0.822383515442474\n",
            "Epoch 9: loss 0.8128750746763205\n"
          ],
          "name": "stdout"
        }
      ]
    },
    {
      "cell_type": "code",
      "metadata": {
        "id": "W9BIV9WaUUHN",
        "colab_type": "code",
        "colab": {
          "base_uri": "https://localhost:8080/",
          "height": 122
        },
        "outputId": "6cc675f2-8e85-4655-d256-05b1fb660c0f"
      },
      "source": [
        "print(model._net)"
      ],
      "execution_count": 74,
      "outputs": [
        {
          "output_type": "stream",
          "text": [
            "DotModel(\n",
            "  (user_embeddings): ScaledEmbedding(944, 128)\n",
            "  (item_embeddings): ScaledEmbedding(1683, 128)\n",
            "  (user_biases): ZeroEmbedding(944, 1)\n",
            "  (item_biases): ZeroEmbedding(1683, 1)\n",
            ")\n"
          ],
          "name": "stdout"
        }
      ]
    },
    {
      "cell_type": "code",
      "metadata": {
        "id": "HKyc7Bg5UUHR",
        "colab_type": "code",
        "colab": {
          "base_uri": "https://localhost:8080/",
          "height": 34
        },
        "outputId": "86b20e53-7086-4f4f-fc38-fc356e18a280"
      },
      "source": [
        "user_ids_test_np = user_id_test.values.astype(np.int64)\n",
        "item_ids_test_np = item_id_test.values.astype(np.int64)\n",
        "ratings_test_np = rating_test.values.astype(np.float32)\n",
        "model.test(user_ids_test_np, item_ids_test_np, ratings_test_np  )"
      ],
      "execution_count": 75,
      "outputs": [
        {
          "output_type": "execute_result",
          "data": {
            "text/plain": [
              "0.8743864297866821"
            ]
          },
          "metadata": {
            "tags": []
          },
          "execution_count": 75
        }
      ]
    },
    {
      "cell_type": "code",
      "metadata": {
        "id": "Ltvw1o_dVjbm",
        "colab_type": "code",
        "colab": {
          "base_uri": "https://localhost:8080/",
          "height": 69
        },
        "outputId": "94d0e435-55e6-483d-8d72-31ce42acce02"
      },
      "source": [
        "from sklearn.metrics import mean_squared_error\n",
        "from sklearn.metrics import mean_absolute_error\n",
        "\n",
        "test_preds = model.predict(user_ids_test_np, item_ids_test_np)\n",
        "print(\"Final test RMSE: %0.3f\" % np.sqrt(mean_squared_error(test_preds, rating_test)))\n",
        "print(\"Final test MAE: %0.3f\" % mean_absolute_error(test_preds, rating_test))"
      ],
      "execution_count": 77,
      "outputs": [
        {
          "output_type": "stream",
          "text": [
            "tensor([3.6889, 3.7649, 3.6159,  ..., 3.8305, 3.5982, 3.1344])\n",
            "Final test RMSE: 0.935\n",
            "Final test MAE: 0.735\n"
          ],
          "name": "stdout"
        }
      ]
    },
    {
      "cell_type": "markdown",
      "metadata": {
        "id": "yXVIF75IUUHW",
        "colab_type": "text"
      },
      "source": [
        "You can compare with [Surprise](https://github.com/NicolasHug/Surprise)"
      ]
    },
    {
      "cell_type": "markdown",
      "metadata": {
        "id": "MwQ3gXyuUUHY",
        "colab_type": "text"
      },
      "source": [
        "## 4. Best and worst movies"
      ]
    },
    {
      "cell_type": "markdown",
      "metadata": {
        "id": "RxwaryZZUUHY",
        "colab_type": "text"
      },
      "source": [
        "Getting the name of the movies (there must be a better way, please provide alternate solutions!)"
      ]
    },
    {
      "cell_type": "code",
      "metadata": {
        "id": "I-hyp9IpUUHa",
        "colab_type": "code",
        "colab": {
          "base_uri": "https://localhost:8080/",
          "height": 270
        },
        "outputId": "e68f70da-835a-4665-f174-39acfb74ae7b"
      },
      "source": [
        "df = pd.read_csv(op.join(ML_100K_FOLDER, 'u.item'), sep='|', names=['item_id', 'item_name','date','','','','','','','','','','','','','','','','','','','','',''],encoding = \"ISO-8859-1\")\n",
        "movies_names = df.loc[:,['item_id', 'item_name']]\n",
        "movies_names = movies_names.set_index(['item_id'])\n",
        "movies_names.head()"
      ],
      "execution_count": 78,
      "outputs": [
        {
          "output_type": "stream",
          "text": [
            "/usr/local/lib/python3.6/dist-packages/pandas/io/parsers.py:702: UserWarning: Duplicate names specified. This will raise an error in the future.\n",
            "  return _read(filepath_or_buffer, kwds)\n"
          ],
          "name": "stderr"
        },
        {
          "output_type": "execute_result",
          "data": {
            "text/html": [
              "<div>\n",
              "<style scoped>\n",
              "    .dataframe tbody tr th:only-of-type {\n",
              "        vertical-align: middle;\n",
              "    }\n",
              "\n",
              "    .dataframe tbody tr th {\n",
              "        vertical-align: top;\n",
              "    }\n",
              "\n",
              "    .dataframe thead th {\n",
              "        text-align: right;\n",
              "    }\n",
              "</style>\n",
              "<table border=\"1\" class=\"dataframe\">\n",
              "  <thead>\n",
              "    <tr style=\"text-align: right;\">\n",
              "      <th></th>\n",
              "      <th>item_name</th>\n",
              "    </tr>\n",
              "    <tr>\n",
              "      <th>item_id</th>\n",
              "      <th></th>\n",
              "    </tr>\n",
              "  </thead>\n",
              "  <tbody>\n",
              "    <tr>\n",
              "      <th>1</th>\n",
              "      <td>Toy Story (1995)</td>\n",
              "    </tr>\n",
              "    <tr>\n",
              "      <th>2</th>\n",
              "      <td>GoldenEye (1995)</td>\n",
              "    </tr>\n",
              "    <tr>\n",
              "      <th>3</th>\n",
              "      <td>Four Rooms (1995)</td>\n",
              "    </tr>\n",
              "    <tr>\n",
              "      <th>4</th>\n",
              "      <td>Get Shorty (1995)</td>\n",
              "    </tr>\n",
              "    <tr>\n",
              "      <th>5</th>\n",
              "      <td>Copycat (1995)</td>\n",
              "    </tr>\n",
              "  </tbody>\n",
              "</table>\n",
              "</div>"
            ],
            "text/plain": [
              "                 item_name\n",
              "item_id                   \n",
              "1         Toy Story (1995)\n",
              "2         GoldenEye (1995)\n",
              "3        Four Rooms (1995)\n",
              "4        Get Shorty (1995)\n",
              "5           Copycat (1995)"
            ]
          },
          "metadata": {
            "tags": []
          },
          "execution_count": 78
        }
      ]
    },
    {
      "cell_type": "code",
      "metadata": {
        "id": "B8aAYBuhUUHf",
        "colab_type": "code",
        "colab": {}
      },
      "source": [
        "item_bias_np = model._net.item_biases.weight.data.cpu().numpy()"
      ],
      "execution_count": 0,
      "outputs": []
    },
    {
      "cell_type": "code",
      "metadata": {
        "id": "ZhtanoCiUUHi",
        "colab_type": "code",
        "colab": {}
      },
      "source": [
        "movies_names['biases'] = pd.Series(item_bias_np[1:].T[0], index=movies_names.index)"
      ],
      "execution_count": 0,
      "outputs": []
    },
    {
      "cell_type": "code",
      "metadata": {
        "id": "2TAx4Tz6UUHk",
        "colab_type": "code",
        "colab": {
          "base_uri": "https://localhost:8080/",
          "height": 235
        },
        "outputId": "d77578bc-ecf5-4098-df6a-d4ae5f5d6fd4"
      },
      "source": [
        "movies_names.head()"
      ],
      "execution_count": 81,
      "outputs": [
        {
          "output_type": "execute_result",
          "data": {
            "text/html": [
              "<div>\n",
              "<style scoped>\n",
              "    .dataframe tbody tr th:only-of-type {\n",
              "        vertical-align: middle;\n",
              "    }\n",
              "\n",
              "    .dataframe tbody tr th {\n",
              "        vertical-align: top;\n",
              "    }\n",
              "\n",
              "    .dataframe thead th {\n",
              "        text-align: right;\n",
              "    }\n",
              "</style>\n",
              "<table border=\"1\" class=\"dataframe\">\n",
              "  <thead>\n",
              "    <tr style=\"text-align: right;\">\n",
              "      <th></th>\n",
              "      <th>item_name</th>\n",
              "      <th>biases</th>\n",
              "    </tr>\n",
              "    <tr>\n",
              "      <th>item_id</th>\n",
              "      <th></th>\n",
              "      <th></th>\n",
              "    </tr>\n",
              "  </thead>\n",
              "  <tbody>\n",
              "    <tr>\n",
              "      <th>1</th>\n",
              "      <td>Toy Story (1995)</td>\n",
              "      <td>0.132117</td>\n",
              "    </tr>\n",
              "    <tr>\n",
              "      <th>2</th>\n",
              "      <td>GoldenEye (1995)</td>\n",
              "      <td>0.101034</td>\n",
              "    </tr>\n",
              "    <tr>\n",
              "      <th>3</th>\n",
              "      <td>Four Rooms (1995)</td>\n",
              "      <td>0.100352</td>\n",
              "    </tr>\n",
              "    <tr>\n",
              "      <th>4</th>\n",
              "      <td>Get Shorty (1995)</td>\n",
              "      <td>0.115437</td>\n",
              "    </tr>\n",
              "    <tr>\n",
              "      <th>5</th>\n",
              "      <td>Copycat (1995)</td>\n",
              "      <td>0.107443</td>\n",
              "    </tr>\n",
              "  </tbody>\n",
              "</table>\n",
              "</div>"
            ],
            "text/plain": [
              "                 item_name    biases\n",
              "item_id                             \n",
              "1         Toy Story (1995)  0.132117\n",
              "2         GoldenEye (1995)  0.101034\n",
              "3        Four Rooms (1995)  0.100352\n",
              "4        Get Shorty (1995)  0.115437\n",
              "5           Copycat (1995)  0.107443"
            ]
          },
          "metadata": {
            "tags": []
          },
          "execution_count": 81
        }
      ]
    },
    {
      "cell_type": "code",
      "metadata": {
        "id": "gn8gcmQjUUHo",
        "colab_type": "code",
        "colab": {
          "base_uri": "https://localhost:8080/",
          "height": 34
        },
        "outputId": "4cf3c5c3-a1a7-4525-ccd9-1f796e987ee4"
      },
      "source": [
        "movies_names.shape"
      ],
      "execution_count": 82,
      "outputs": [
        {
          "output_type": "execute_result",
          "data": {
            "text/plain": [
              "(1682, 2)"
            ]
          },
          "metadata": {
            "tags": []
          },
          "execution_count": 82
        }
      ]
    },
    {
      "cell_type": "code",
      "metadata": {
        "id": "Q6ZmJYIdUUHt",
        "colab_type": "code",
        "colab": {
          "base_uri": "https://localhost:8080/",
          "height": 34
        },
        "outputId": "5edd4b8a-93f9-4214-917e-6bb540abee42"
      },
      "source": [
        "indices_item_train = np.sort(item_id_train.unique())\n",
        "movies_names = movies_names.loc[indices_item_train]\n",
        "movies_names.shape"
      ],
      "execution_count": 83,
      "outputs": [
        {
          "output_type": "execute_result",
          "data": {
            "text/plain": [
              "(1653, 2)"
            ]
          },
          "metadata": {
            "tags": []
          },
          "execution_count": 83
        }
      ]
    },
    {
      "cell_type": "code",
      "metadata": {
        "id": "iUqELsLPUUH1",
        "colab_type": "code",
        "colab": {}
      },
      "source": [
        "movies_names = movies_names.sort_values(ascending=False,by=['biases'])"
      ],
      "execution_count": 0,
      "outputs": []
    },
    {
      "cell_type": "markdown",
      "metadata": {
        "id": "7TG247DXUUH4",
        "colab_type": "text"
      },
      "source": [
        "Best movies"
      ]
    },
    {
      "cell_type": "code",
      "metadata": {
        "id": "ZzQGi5VIUUH5",
        "colab_type": "code",
        "colab": {
          "base_uri": "https://localhost:8080/",
          "height": 390
        },
        "outputId": "efcdd01d-3c9f-4b4f-88f3-b2a2b59b5b33"
      },
      "source": [
        "movies_names.head(10)"
      ],
      "execution_count": 85,
      "outputs": [
        {
          "output_type": "execute_result",
          "data": {
            "text/html": [
              "<div>\n",
              "<style scoped>\n",
              "    .dataframe tbody tr th:only-of-type {\n",
              "        vertical-align: middle;\n",
              "    }\n",
              "\n",
              "    .dataframe tbody tr th {\n",
              "        vertical-align: top;\n",
              "    }\n",
              "\n",
              "    .dataframe thead th {\n",
              "        text-align: right;\n",
              "    }\n",
              "</style>\n",
              "<table border=\"1\" class=\"dataframe\">\n",
              "  <thead>\n",
              "    <tr style=\"text-align: right;\">\n",
              "      <th></th>\n",
              "      <th>item_name</th>\n",
              "      <th>biases</th>\n",
              "    </tr>\n",
              "    <tr>\n",
              "      <th>item_id</th>\n",
              "      <th></th>\n",
              "      <th></th>\n",
              "    </tr>\n",
              "  </thead>\n",
              "  <tbody>\n",
              "    <tr>\n",
              "      <th>302</th>\n",
              "      <td>L.A. Confidential (1997)</td>\n",
              "      <td>0.159430</td>\n",
              "    </tr>\n",
              "    <tr>\n",
              "      <th>313</th>\n",
              "      <td>Titanic (1997)</td>\n",
              "      <td>0.155881</td>\n",
              "    </tr>\n",
              "    <tr>\n",
              "      <th>272</th>\n",
              "      <td>Good Will Hunting (1997)</td>\n",
              "      <td>0.155545</td>\n",
              "    </tr>\n",
              "    <tr>\n",
              "      <th>315</th>\n",
              "      <td>Apt Pupil (1998)</td>\n",
              "      <td>0.155507</td>\n",
              "    </tr>\n",
              "    <tr>\n",
              "      <th>603</th>\n",
              "      <td>Rear Window (1954)</td>\n",
              "      <td>0.148910</td>\n",
              "    </tr>\n",
              "    <tr>\n",
              "      <th>316</th>\n",
              "      <td>As Good As It Gets (1997)</td>\n",
              "      <td>0.145957</td>\n",
              "    </tr>\n",
              "    <tr>\n",
              "      <th>269</th>\n",
              "      <td>Full Monty, The (1997)</td>\n",
              "      <td>0.145842</td>\n",
              "    </tr>\n",
              "    <tr>\n",
              "      <th>50</th>\n",
              "      <td>Star Wars (1977)</td>\n",
              "      <td>0.145774</td>\n",
              "    </tr>\n",
              "    <tr>\n",
              "      <th>258</th>\n",
              "      <td>Contact (1997)</td>\n",
              "      <td>0.144823</td>\n",
              "    </tr>\n",
              "    <tr>\n",
              "      <th>127</th>\n",
              "      <td>Godfather, The (1972)</td>\n",
              "      <td>0.144485</td>\n",
              "    </tr>\n",
              "  </tbody>\n",
              "</table>\n",
              "</div>"
            ],
            "text/plain": [
              "                         item_name    biases\n",
              "item_id                                     \n",
              "302       L.A. Confidential (1997)  0.159430\n",
              "313                 Titanic (1997)  0.155881\n",
              "272       Good Will Hunting (1997)  0.155545\n",
              "315               Apt Pupil (1998)  0.155507\n",
              "603             Rear Window (1954)  0.148910\n",
              "316      As Good As It Gets (1997)  0.145957\n",
              "269         Full Monty, The (1997)  0.145842\n",
              "50                Star Wars (1977)  0.145774\n",
              "258                 Contact (1997)  0.144823\n",
              "127          Godfather, The (1972)  0.144485"
            ]
          },
          "metadata": {
            "tags": []
          },
          "execution_count": 85
        }
      ]
    },
    {
      "cell_type": "markdown",
      "metadata": {
        "id": "Y3fHTO-eUUH_",
        "colab_type": "text"
      },
      "source": [
        "Worse movies"
      ]
    },
    {
      "cell_type": "code",
      "metadata": {
        "id": "1-EhFYOwUUIA",
        "colab_type": "code",
        "colab": {
          "base_uri": "https://localhost:8080/",
          "height": 390
        },
        "outputId": "70543bab-a681-4efd-898e-5f4bf9dec271"
      },
      "source": [
        "movies_names.tail(10)"
      ],
      "execution_count": 86,
      "outputs": [
        {
          "output_type": "execute_result",
          "data": {
            "text/html": [
              "<div>\n",
              "<style scoped>\n",
              "    .dataframe tbody tr th:only-of-type {\n",
              "        vertical-align: middle;\n",
              "    }\n",
              "\n",
              "    .dataframe tbody tr th {\n",
              "        vertical-align: top;\n",
              "    }\n",
              "\n",
              "    .dataframe thead th {\n",
              "        text-align: right;\n",
              "    }\n",
              "</style>\n",
              "<table border=\"1\" class=\"dataframe\">\n",
              "  <thead>\n",
              "    <tr style=\"text-align: right;\">\n",
              "      <th></th>\n",
              "      <th>item_name</th>\n",
              "      <th>biases</th>\n",
              "    </tr>\n",
              "    <tr>\n",
              "      <th>item_id</th>\n",
              "      <th></th>\n",
              "      <th></th>\n",
              "    </tr>\n",
              "  </thead>\n",
              "  <tbody>\n",
              "    <tr>\n",
              "      <th>1618</th>\n",
              "      <td>King of New York (1990)</td>\n",
              "      <td>0.029075</td>\n",
              "    </tr>\n",
              "    <tr>\n",
              "      <th>1661</th>\n",
              "      <td>New Age, The (1994)</td>\n",
              "      <td>0.028254</td>\n",
              "    </tr>\n",
              "    <tr>\n",
              "      <th>1621</th>\n",
              "      <td>Butterfly Kiss (1995)</td>\n",
              "      <td>0.028239</td>\n",
              "    </tr>\n",
              "    <tr>\n",
              "      <th>1491</th>\n",
              "      <td>Tough and Deadly (1995)</td>\n",
              "      <td>0.027506</td>\n",
              "    </tr>\n",
              "    <tr>\n",
              "      <th>1654</th>\n",
              "      <td>Chairman of the Board (1998)</td>\n",
              "      <td>0.027342</td>\n",
              "    </tr>\n",
              "    <tr>\n",
              "      <th>1494</th>\n",
              "      <td>Mostro, Il (1994)</td>\n",
              "      <td>0.026660</td>\n",
              "    </tr>\n",
              "    <tr>\n",
              "      <th>1486</th>\n",
              "      <td>Girl in the Cadillac (1995)</td>\n",
              "      <td>0.026268</td>\n",
              "    </tr>\n",
              "    <tr>\n",
              "      <th>1146</th>\n",
              "      <td>Calendar Girl (1993)</td>\n",
              "      <td>0.024206</td>\n",
              "    </tr>\n",
              "    <tr>\n",
              "      <th>599</th>\n",
              "      <td>Police Story 4: Project S (Chao ji ji hua) (1993)</td>\n",
              "      <td>0.023872</td>\n",
              "    </tr>\n",
              "    <tr>\n",
              "      <th>1659</th>\n",
              "      <td>Getting Away With Murder (1996)</td>\n",
              "      <td>0.023857</td>\n",
              "    </tr>\n",
              "  </tbody>\n",
              "</table>\n",
              "</div>"
            ],
            "text/plain": [
              "                                                 item_name    biases\n",
              "item_id                                                             \n",
              "1618                               King of New York (1990)  0.029075\n",
              "1661                                   New Age, The (1994)  0.028254\n",
              "1621                                 Butterfly Kiss (1995)  0.028239\n",
              "1491                               Tough and Deadly (1995)  0.027506\n",
              "1654                          Chairman of the Board (1998)  0.027342\n",
              "1494                                     Mostro, Il (1994)  0.026660\n",
              "1486                           Girl in the Cadillac (1995)  0.026268\n",
              "1146                                  Calendar Girl (1993)  0.024206\n",
              "599      Police Story 4: Project S (Chao ji ji hua) (1993)  0.023872\n",
              "1659                       Getting Away With Murder (1996)  0.023857"
            ]
          },
          "metadata": {
            "tags": []
          },
          "execution_count": 86
        }
      ]
    },
    {
      "cell_type": "markdown",
      "metadata": {
        "id": "XwOYSxcZUUII",
        "colab_type": "text"
      },
      "source": [
        "## 5. SPOTLIGHT\n",
        "\n",
        "The code written above is a simplified version of [SPOTLIGHT](https://github.com/maciejkula/spotlight)"
      ]
    },
    {
      "cell_type": "markdown",
      "metadata": {
        "id": "-nPXmJ_nUUIJ",
        "colab_type": "text"
      },
      "source": [
        "Once you installed it with: `conda install -c maciejkula -c pytorch spotlight=0.1.5`, you can compare the results..."
      ]
    },
    {
      "cell_type": "code",
      "metadata": {
        "id": "aCEqMg9WUUIK",
        "colab_type": "code",
        "colab": {}
      },
      "source": [
        ""
      ],
      "execution_count": 0,
      "outputs": []
    }
  ]
}
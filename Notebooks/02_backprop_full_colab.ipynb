{
  "nbformat": 4,
  "nbformat_minor": 0,
  "metadata": {
    "kernelspec": {
      "name": "python3",
      "display_name": "Python 3"
    },
    "language_info": {
      "codemirror_mode": {
        "name": "ipython",
        "version": 3
      },
      "file_extension": ".py",
      "mimetype": "text/x-python",
      "name": "python",
      "nbconvert_exporter": "python",
      "pygments_lexer": "ipython3",
      "version": "3.6.8"
    },
    "colab": {
      "name": "02_backprop_full_colab.ipynb",
      "provenance": [],
      "include_colab_link": true
    }
  },
  "cells": [
    {
      "cell_type": "markdown",
      "metadata": {
        "id": "view-in-github",
        "colab_type": "text"
      },
      "source": [
        "<a href=\"https://colab.research.google.com/github/mlelarge/dataflowr/blob/master/Notebooks/02_backprop_full_colab.ipynb\" target=\"_parent\"><img src=\"https://colab.research.google.com/assets/colab-badge.svg\" alt=\"Open In Colab\"/></a>"
      ]
    },
    {
      "cell_type": "markdown",
      "metadata": {
        "id": "8FM8CQHKcfhx",
        "colab_type": "text"
      },
      "source": [
        "# Simple implementation of backprop\n",
        "\n",
        "Here we implement a simple backpropagation algorithm with `numpy` for the following problem:\n",
        "\n",
        "We generate points $(x_i,y_i)$ where $y_i= \\exp(w^*x_i+b^*)$, i.e $y^*_i$ is obtained by applying a deterministic function to $x_i$ with parameters $w^*$ and $b^*$. Our goal is to recover the parameters $w^*$ and $b^*$ from the observations $(x_i,y_i)$.\n",
        "\n",
        "To do this, we use SGD to minimize $\\sum_i(y^i - \\exp(w x_i+b))^2$ with respect to $w$ and $b$.\n"
      ]
    },
    {
      "cell_type": "code",
      "metadata": {
        "id": "z-62DGjicfh3",
        "colab_type": "code",
        "colab": {}
      },
      "source": [
        "import numpy as np\n",
        "import matplotlib.pyplot as plt"
      ],
      "execution_count": 0,
      "outputs": []
    },
    {
      "cell_type": "code",
      "metadata": {
        "id": "SQlF4jhfcfiD",
        "colab_type": "code",
        "colab": {}
      },
      "source": [
        "w, b = 0.5, 2\n",
        "xx = np.arange(0,1,.01)\n",
        "yy = np.exp(w*xx+b)"
      ],
      "execution_count": 0,
      "outputs": []
    },
    {
      "cell_type": "code",
      "metadata": {
        "id": "4OIvcmsqcfiL",
        "colab_type": "code",
        "colab": {
          "base_uri": "https://localhost:8080/",
          "height": 286
        },
        "outputId": "c4218768-6d18-4a0f-9c53-fda30326d6eb"
      },
      "source": [
        "plt.plot(yy)"
      ],
      "execution_count": 3,
      "outputs": [
        {
          "output_type": "execute_result",
          "data": {
            "text/plain": [
              "[<matplotlib.lines.Line2D at 0x7fd32a634908>]"
            ]
          },
          "metadata": {
            "tags": []
          },
          "execution_count": 3
        },
        {
          "output_type": "display_data",
          "data": {
            "image/png": "[encoded data removed]",
            "text/plain": [
              "<Figure size 432x288 with 1 Axes>"
            ]
          },
          "metadata": {
            "tags": []
          }
        }
      ]
    },
    {
      "cell_type": "markdown",
      "metadata": {
        "id": "siSZvSBBcfiW",
        "colab_type": "text"
      },
      "source": [
        "Following what we just saw in the course, you need to implement each of the basic operations: `(.*w), (.+b), exp(.)` with a forward method, a backward method and a step method."
      ]
    },
    {
      "cell_type": "code",
      "metadata": {
        "id": "PeY2DlqNcfiZ",
        "colab_type": "code",
        "colab": {}
      },
      "source": [
        "class add_bias(object):\n",
        "    def __init__(self,b):\n",
        "        # initialize with a bias b\n",
        "        self.b = b\n",
        "        \n",
        "    def forward(self, x):\n",
        "        # return the result of adding the bias\n",
        "        return x+self.b\n",
        "    \n",
        "    def backward(self,grad):\n",
        "        # save the gradient (to update the bias in the step method) and return the gradient backward\n",
        "        self.grad = grad\n",
        "        return self.grad\n",
        "    \n",
        "    def step(self, learning_rate):\n",
        "        # update the bias\n",
        "        self.b -= learning_rate*self.grad\n",
        "    \n",
        "class multiplication_weight(object):\n",
        "    def __init__(self, w):\n",
        "        # initialize with a weight w\n",
        "        self.w = w\n",
        "        \n",
        "    def forward(self, x):\n",
        "        # return the result of multiplying by weight\n",
        "        self.saved_x = x\n",
        "        return self.w*x\n",
        "        \n",
        "    def backward(self,grad):\n",
        "        # save the gradient and return the gradient backward\n",
        "        self.grad = self.saved_x*grad\n",
        "        return self.grad\n",
        "    \n",
        "    def step(self, learning_rate):\n",
        "        # update the weight\n",
        "        self.w -= learning_rate*self.grad\n",
        "\n",
        "class my_exp(object):\n",
        "    # no parameter\n",
        "    def forward(self, x):\n",
        "        # return exp(x)\n",
        "        self.saved_exp = np.exp(x)\n",
        "        return np.exp(x)\n",
        "    \n",
        "    def backward(self,grad):\n",
        "        # return the gradient backward\n",
        "        return self.saved_exp*grad\n",
        "    \n",
        "    def step(self, learning_rate):\n",
        "        # any parameter to update?\n",
        "        pass"
      ],
      "execution_count": 0,
      "outputs": []
    },
    {
      "cell_type": "markdown",
      "metadata": {
        "id": "koymOfVlcfih",
        "colab_type": "text"
      },
      "source": [
        "Now, you will need to compose sequentially these operations and here you need to code a class composing operations. This class will have a forward, a backward and a step method and also a compute_loss method."
      ]
    },
    {
      "cell_type": "code",
      "metadata": {
        "id": "EM5M8GCecfik",
        "colab_type": "code",
        "colab": {}
      },
      "source": [
        "class my_composition(object):\n",
        "    def __init__(self, layers):\n",
        "        # initialize with all the operations (called layers here!) in the right order...\n",
        "        self.layers = layers\n",
        "        \n",
        "    def forward(self, x):\n",
        "        # apply the forward method of each layer\n",
        "        for layer in self.layers:\n",
        "            x = layer.forward(x)\n",
        "        return x\n",
        "    \n",
        "    def compute_loss(self,y, y_est):\n",
        "        # use the L2 loss\n",
        "        # return the loss and save the gradient of the loss\n",
        "        self.loss_grad  = 2*(y-y_est)\n",
        "        return (y-y_est)**2\n",
        "    \n",
        "    def backward(self):\n",
        "        # apply backprop sequentially, starting from the gradient of the loss\n",
        "        current_grad = self.loss_grad\n",
        "        for layer in reversed(self.layers):\n",
        "            current_grad = layer.backward(current_grad)\n",
        "    \n",
        "    def step(self, learning_rate):\n",
        "        # apply the step method of each layer\n",
        "        for layer in self.layers:\n",
        "            layer.step(learning_rate)"
      ],
      "execution_count": 0,
      "outputs": []
    },
    {
      "cell_type": "markdown",
      "metadata": {
        "id": "Hs1M-kebcfir",
        "colab_type": "text"
      },
      "source": [
        "Now you need to code the 'training' loop. Keep track of the loss, weight and bias computed at each epoch."
      ]
    },
    {
      "cell_type": "code",
      "metadata": {
        "id": "IWJgoCEKcfiu",
        "colab_type": "code",
        "colab": {}
      },
      "source": [
        "my_fit = my_composition([multiplication_weight(1),add_bias(1), my_exp()])\n",
        "learning_rate = 1e-4\n",
        "losses =[]\n",
        "ws = []\n",
        "bs = []\n",
        "for i in range(5000):\n",
        "    # take a random indice\n",
        "    j = np.random.randint(1, len(xx))\n",
        "    # you can compare with\n",
        "    #j = i % len(xx)\n",
        "    # compute the estimated value of y with the current values of the parameters\n",
        "    y_est = my_fit.forward(xx[j])\n",
        "    # compute the loss and save it\n",
        "    loss = my_fit.compute_loss(y_est,yy[j])\n",
        "    losses.append(loss)\n",
        "    # update the parameters and save them\n",
        "    my_fit.backward()\n",
        "    my_fit.step(learning_rate)\n",
        "    ws.append(my_fit.layers[0].w)\n",
        "    bs.append(my_fit.layers[1].b)"
      ],
      "execution_count": 0,
      "outputs": []
    },
    {
      "cell_type": "code",
      "metadata": {
        "id": "V7mp0eEEcfi2",
        "colab_type": "code",
        "colab": {
          "base_uri": "https://localhost:8080/",
          "height": 34
        },
        "outputId": "2aed3a0b-a7ea-4b94-a27a-6a98fd31b47c"
      },
      "source": [
        "my_fit.layers[0].w"
      ],
      "execution_count": 7,
      "outputs": [
        {
          "output_type": "execute_result",
          "data": {
            "text/plain": [
              "0.5053348108157413"
            ]
          },
          "metadata": {
            "tags": []
          },
          "execution_count": 7
        }
      ]
    },
    {
      "cell_type": "code",
      "metadata": {
        "id": "t54ayZNDcfi9",
        "colab_type": "code",
        "colab": {
          "base_uri": "https://localhost:8080/",
          "height": 34
        },
        "outputId": "36486a4a-7f7c-43d9-abb3-853e81782057"
      },
      "source": [
        "my_fit.layers[1].b"
      ],
      "execution_count": 8,
      "outputs": [
        {
          "output_type": "execute_result",
          "data": {
            "text/plain": [
              "1.9967109086883414"
            ]
          },
          "metadata": {
            "tags": []
          },
          "execution_count": 8
        }
      ]
    },
    {
      "cell_type": "code",
      "metadata": {
        "id": "4Gqz5CxzcfjG",
        "colab_type": "code",
        "colab": {
          "base_uri": "https://localhost:8080/",
          "height": 286
        },
        "outputId": "fcf646c7-0b4c-427d-f141-ac50dd8ef533"
      },
      "source": [
        "plt.plot(losses)"
      ],
      "execution_count": 9,
      "outputs": [
        {
          "output_type": "execute_result",
          "data": {
            "text/plain": [
              "[<matplotlib.lines.Line2D at 0x7fd30ae3cbe0>]"
            ]
          },
          "metadata": {
            "tags": []
          },
          "execution_count": 9
        },
        {
          "output_type": "display_data",
          "data": {
            "image/png": "[encoded data removed]",
            "text/plain": [
              "<Figure size 432x288 with 1 Axes>"
            ]
          },
          "metadata": {
            "tags": []
          }
        }
      ]
    },
    {
      "cell_type": "code",
      "metadata": {
        "id": "kaHnaX8jcfjN",
        "colab_type": "code",
        "colab": {
          "base_uri": "https://localhost:8080/",
          "height": 286
        },
        "outputId": "7cb6d6e2-6d95-4bf3-b380-239bed66d99e"
      },
      "source": [
        "plt.plot(bs)"
      ],
      "execution_count": 10,
      "outputs": [
        {
          "output_type": "execute_result",
          "data": {
            "text/plain": [
              "[<matplotlib.lines.Line2D at 0x7fd30ae31828>]"
            ]
          },
          "metadata": {
            "tags": []
          },
          "execution_count": 10
        },
        {
          "output_type": "display_data",
          "data": {
            "image/png": "[encoded data removed]",
            "text/plain": [
              "<Figure size 432x288 with 1 Axes>"
            ]
          },
          "metadata": {
            "tags": []
          }
        }
      ]
    },
    {
      "cell_type": "code",
      "metadata": {
        "id": "ch28XtPUcfjV",
        "colab_type": "code",
        "colab": {
          "base_uri": "https://localhost:8080/",
          "height": 286
        },
        "outputId": "614c99e6-534a-40f4-e69c-694aea86325e"
      },
      "source": [
        "plt.plot(ws)"
      ],
      "execution_count": 11,
      "outputs": [
        {
          "output_type": "execute_result",
          "data": {
            "text/plain": [
              "[<matplotlib.lines.Line2D at 0x7fd30acf9908>]"
            ]
          },
          "metadata": {
            "tags": []
          },
          "execution_count": 11
        },
        {
          "output_type": "display_data",
          "data": {
            "image/png": "[encoded data removed]",
            "text/plain": [
              "<Figure size 432x288 with 1 Axes>"
            ]
          },
          "metadata": {
            "tags": []
          }
        }
      ]
    },
    {
      "cell_type": "code",
      "metadata": {
        "id": "OZsDj5KGcrRR",
        "colab_type": "code",
        "colab": {}
      },
      "source": [
        ""
      ],
      "execution_count": 0,
      "outputs": []
    }
  ]
}
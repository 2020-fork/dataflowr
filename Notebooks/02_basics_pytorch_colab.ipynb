{
  "nbformat": 4,
  "nbformat_minor": 0,
  "metadata": {
    "kernelspec": {
      "name": "python3",
      "display_name": "Python 3"
    },
    "language_info": {
      "codemirror_mode": {
        "name": "ipython",
        "version": 3
      },
      "file_extension": ".py",
      "mimetype": "text/x-python",
      "name": "python",
      "nbconvert_exporter": "python",
      "pygments_lexer": "ipython3",
      "version": "3.7.3"
    },
    "colab": {
      "name": "02_basics_pytorch_correction.ipynb",
      "provenance": [],
      "include_colab_link": true
    },
    "accelerator": "GPU"
  },
  "cells": [
    {
      "cell_type": "markdown",
      "metadata": {
        "id": "view-in-github",
        "colab_type": "text"
      },
      "source": [
        "<a href=\"https://colab.research.google.com/github/mlelarge/dataflowr/blob/master/Notebooks/02_basics_pytorch_colab.ipynb\" target=\"_parent\"><img src=\"https://colab.research.google.com/assets/colab-badge.svg\" alt=\"Open In Colab\"/></a>"
      ]
    },
    {
      "cell_type": "markdown",
      "metadata": {
        "id": "YmJE2a4N8We0",
        "colab_type": "text"
      },
      "source": [
        "# Torch basics"
      ]
    },
    {
      "cell_type": "code",
      "metadata": {
        "id": "zOgNQwiv8We1",
        "colab_type": "code",
        "colab": {}
      },
      "source": [
        "import matplotlib.pyplot as plt\n",
        "%matplotlib inline\n",
        "import torch"
      ],
      "execution_count": 0,
      "outputs": []
    },
    {
      "cell_type": "code",
      "metadata": {
        "id": "smvq6dbY8We4",
        "colab_type": "code",
        "colab": {}
      },
      "source": [
        "torch.__version__"
      ],
      "execution_count": 0,
      "outputs": []
    },
    {
      "cell_type": "markdown",
      "metadata": {
        "id": "vURcLof_8We8",
        "colab_type": "text"
      },
      "source": [
        "Largely inspired from the tutorial [What is PyTorch?](https://pytorch.org/tutorials/beginner/former_torchies/tensor_tutorial.html)\n",
        "\n",
        "Tensors are used to encode the signal to process, but also the internal states and parameters of models.\n",
        "\n",
        "**Manipulating data through this constrained structure allows to use CPUs and GPUs at peak performance.**\n",
        "\n",
        "Construct a 3x5 matrix, uninitialized:"
      ]
    },
    {
      "cell_type": "code",
      "metadata": {
        "id": "hbfIVajJ8We8",
        "colab_type": "code",
        "colab": {}
      },
      "source": [
        "torch.set_default_tensor_type('torch.FloatTensor')"
      ],
      "execution_count": 0,
      "outputs": []
    },
    {
      "cell_type": "code",
      "metadata": {
        "id": "c9tmMiNo8We-",
        "colab_type": "code",
        "colab": {}
      },
      "source": [
        "x = torch.empty(3,5)\n",
        "print(x.type())\n",
        "print(x)"
      ],
      "execution_count": 0,
      "outputs": []
    },
    {
      "cell_type": "markdown",
      "metadata": {
        "id": "tlonXyHu8WfB",
        "colab_type": "text"
      },
      "source": [
        "If you got an error this [stackoverflow link](https://stackoverflow.com/questions/50617917/overflow-when-unpacking-long-pytorch) might be useful..."
      ]
    },
    {
      "cell_type": "code",
      "metadata": {
        "id": "xlY-hwAY8WfB",
        "colab_type": "code",
        "colab": {}
      },
      "source": [
        "x = torch.randn(3,5)\n",
        "print(x)"
      ],
      "execution_count": 0,
      "outputs": []
    },
    {
      "cell_type": "code",
      "metadata": {
        "id": "7g19ZvvL8WfD",
        "colab_type": "code",
        "colab": {}
      },
      "source": [
        "print(x.size())"
      ],
      "execution_count": 0,
      "outputs": []
    },
    {
      "cell_type": "markdown",
      "metadata": {
        "id": "ZPjoP9Ec8WfG",
        "colab_type": "text"
      },
      "source": [
        "torch.Size is in fact a [tuple](https://docs.python.org/3/tutorial/datastructures.html#tuples-and-sequences), so it supports the same operations."
      ]
    },
    {
      "cell_type": "code",
      "metadata": {
        "id": "rgVPlppm8WfG",
        "colab_type": "code",
        "colab": {}
      },
      "source": [
        "x.size()[1]"
      ],
      "execution_count": 0,
      "outputs": []
    },
    {
      "cell_type": "code",
      "metadata": {
        "id": "CY87gW168WfI",
        "colab_type": "code",
        "colab": {}
      },
      "source": [
        "x.size() == (3,5)"
      ],
      "execution_count": 0,
      "outputs": []
    },
    {
      "cell_type": "markdown",
      "metadata": {
        "id": "jeUshrFT8WfK",
        "colab_type": "text"
      },
      "source": [
        "### Bridge to numpy"
      ]
    },
    {
      "cell_type": "code",
      "metadata": {
        "id": "C1cDkoT98WfM",
        "colab_type": "code",
        "colab": {}
      },
      "source": [
        "y = x.numpy()\n",
        "print(y)"
      ],
      "execution_count": 0,
      "outputs": []
    },
    {
      "cell_type": "code",
      "metadata": {
        "id": "2DdMiBVY8WfO",
        "colab_type": "code",
        "colab": {}
      },
      "source": [
        "import numpy as np\n",
        "a = np.ones(5)\n",
        "b = torch.from_numpy(a)\n",
        "c = torch.from_numpy(a)\n",
        "print(b)"
      ],
      "execution_count": 0,
      "outputs": []
    },
    {
      "cell_type": "code",
      "metadata": {
        "id": "lZLbt9C38WfQ",
        "colab_type": "code",
        "colab": {}
      },
      "source": [
        "xr = torch.randn(3, 5)\n",
        "print(xr)"
      ],
      "execution_count": 0,
      "outputs": []
    },
    {
      "cell_type": "code",
      "metadata": {
        "id": "T5nYMEcM8WfS",
        "colab_type": "code",
        "colab": {}
      },
      "source": [
        "xr + b"
      ],
      "execution_count": 0,
      "outputs": []
    },
    {
      "cell_type": "markdown",
      "metadata": {
        "id": "kt-CZCaZ8WgO",
        "colab_type": "text"
      },
      "source": [
        "[Broadcasting](https://docs.scipy.org/doc/numpy-1.13.0/user/basics.broadcasting.html)\n",
        "\n",
        "Broadcasting automagically expands dimensions by replicating coefficients, when it is necessary to perform operations.\n",
        "\n",
        "1. If one of the tensors has fewer dimensions than the other, it is reshaped by adding as many dimensions of size 1 as necessary in the front; then\n",
        "2. for every mismatch, if one of the two tensor is of size one, it is expanded along this axis by replicating  coefficients.\n",
        "\n",
        "If there is a tensor size mismatch for one of the dimension and neither of them is one, the operation fails."
      ]
    },
    {
      "cell_type": "code",
      "metadata": {
        "id": "SvB3V_ek8WgP",
        "colab_type": "code",
        "colab": {}
      },
      "source": [
        "A = torch.tensor([[1.], [2.], [3.], [4.]])\n",
        "print(A.size())\n",
        "B = torch.tensor([[5., -5., 5., -5., 5.]])\n",
        "print(B.size())\n",
        "C = A + B"
      ],
      "execution_count": 0,
      "outputs": []
    },
    {
      "cell_type": "code",
      "metadata": {
        "id": "aqqe1aTr8WgQ",
        "colab_type": "code",
        "colab": {}
      },
      "source": [
        "C"
      ],
      "execution_count": 0,
      "outputs": []
    },
    {
      "cell_type": "code",
      "metadata": {
        "id": "TlLf2SSZ8WfY",
        "colab_type": "code",
        "colab": {}
      },
      "source": [
        "print(x+xr)"
      ],
      "execution_count": 0,
      "outputs": []
    },
    {
      "cell_type": "code",
      "metadata": {
        "id": "jk8j_AhL8Wfa",
        "colab_type": "code",
        "colab": {}
      },
      "source": [
        "x.add_(xr)\n",
        "print(x)"
      ],
      "execution_count": 0,
      "outputs": []
    },
    {
      "cell_type": "markdown",
      "metadata": {
        "id": "KmB6aFc08Wfc",
        "colab_type": "text"
      },
      "source": [
        "Any operation that mutates a tensor in-place is post-fixed with an ```_```\n",
        "\n",
        "For example: ```x.copy_(y)```, ```x.t_()```, will change ```x```."
      ]
    },
    {
      "cell_type": "code",
      "metadata": {
        "id": "Rzb4jk-d8Wfd",
        "colab_type": "code",
        "colab": {}
      },
      "source": [
        "print(x.t())"
      ],
      "execution_count": 0,
      "outputs": []
    },
    {
      "cell_type": "code",
      "metadata": {
        "id": "ZNXvqa_38Wff",
        "colab_type": "code",
        "colab": {}
      },
      "source": [
        "x.t_()\n",
        "print(x)"
      ],
      "execution_count": 0,
      "outputs": []
    },
    {
      "cell_type": "markdown",
      "metadata": {
        "id": "zO4O1rJD8Wfi",
        "colab_type": "text"
      },
      "source": [
        "Also be careful, changing the torch tensor modify the numpy array and vice-versa..."
      ]
    },
    {
      "cell_type": "code",
      "metadata": {
        "id": "EYOR2MzI8Wfj",
        "colab_type": "code",
        "colab": {}
      },
      "source": [
        "print(y)"
      ],
      "execution_count": 0,
      "outputs": []
    },
    {
      "cell_type": "code",
      "metadata": {
        "id": "ZP8DJXaC8Wfl",
        "colab_type": "code",
        "colab": {}
      },
      "source": [
        "np.add(a, 1, out=a)\n",
        "print(b)\n",
        "print(c)"
      ],
      "execution_count": 0,
      "outputs": []
    },
    {
      "cell_type": "code",
      "metadata": {
        "id": "0Aq_IjCa8Wfo",
        "colab_type": "code",
        "colab": {}
      },
      "source": [
        "torch.cuda.is_available()"
      ],
      "execution_count": 0,
      "outputs": []
    },
    {
      "cell_type": "code",
      "metadata": {
        "id": "eZ9T7v3L8Wfq",
        "colab_type": "code",
        "colab": {}
      },
      "source": [
        "device = torch.device('cpu')\n",
        "#device = torch.device('cuda') # Uncomment this to run on GPU"
      ],
      "execution_count": 0,
      "outputs": []
    },
    {
      "cell_type": "code",
      "metadata": {
        "id": "BQv3WhHn8Wft",
        "colab_type": "code",
        "colab": {}
      },
      "source": [
        "x.device"
      ],
      "execution_count": 0,
      "outputs": []
    },
    {
      "cell_type": "code",
      "metadata": {
        "id": "eKY8kHv_8Wfw",
        "colab_type": "code",
        "colab": {}
      },
      "source": [
        "# let us run this cell only if CUDA is available\n",
        "# We will use ``torch.device`` objects to move tensors in and out of GPU\n",
        "if torch.cuda.is_available():\n",
        "    y = torch.ones_like(x, device=device)  # directly create a tensor on GPU\n",
        "    x = x.to(device)                       # or just use strings ``.to(\"cuda\")``\n",
        "    z = x + y\n",
        "    print(z)\n",
        "    print(z.to(\"cpu\", torch.double))       # ``.to`` can also change dtype together!"
      ],
      "execution_count": 0,
      "outputs": []
    },
    {
      "cell_type": "code",
      "metadata": {
        "id": "1A7Q5VYK8Wfx",
        "colab_type": "code",
        "colab": {}
      },
      "source": [
        "x = torch.randn(1)\n",
        "x = x.to(device)"
      ],
      "execution_count": 0,
      "outputs": []
    },
    {
      "cell_type": "code",
      "metadata": {
        "id": "EnzdVsQW8HR3",
        "colab_type": "code",
        "colab": {}
      },
      "source": [
        "x.device"
      ],
      "execution_count": 0,
      "outputs": []
    },
    {
      "cell_type": "code",
      "metadata": {
        "id": "6DzbPRKV8Wfz",
        "colab_type": "code",
        "colab": {}
      },
      "source": [
        "# the following line is only useful if CUDA is available\n",
        "x = x.data\n",
        "print(x)\n",
        "print(x.item())\n",
        "print(x.cpu().numpy())"
      ],
      "execution_count": 0,
      "outputs": []
    },
    {
      "cell_type": "markdown",
      "metadata": {
        "id": "QdtofUO78Wf1",
        "colab_type": "text"
      },
      "source": [
        "# Simple interfaces to standard image data-bases"
      ]
    },
    {
      "cell_type": "code",
      "metadata": {
        "id": "E7O6lDC88Wf1",
        "colab_type": "code",
        "colab": {}
      },
      "source": [
        "import torchvision\n",
        "\n",
        "data_dir = 'content/data'\n",
        "\n",
        "cifar = torchvision.datasets.CIFAR10(data_dir, train = True, download = True)\n",
        "x = torch.from_numpy(cifar.data).transpose(1, 3).transpose(2, 3).float()\n",
        "x = x / 255\n",
        "print(x.type(), x.size(), x.min().item(), x.max().item())"
      ],
      "execution_count": 0,
      "outputs": []
    },
    {
      "cell_type": "code",
      "metadata": {
        "id": "DZUzzXJD8Wf3",
        "colab_type": "code",
        "colab": {}
      },
      "source": [
        "# Narrows to the first images, converts to float\n",
        "x = x.narrow(0, 0, 48).float()"
      ],
      "execution_count": 0,
      "outputs": []
    },
    {
      "cell_type": "code",
      "metadata": {
        "id": "eVT7H5jS8Wf8",
        "colab_type": "code",
        "colab": {}
      },
      "source": [
        "# Showing images\n",
        "def show(img):\n",
        "    npimg = img.numpy()\n",
        "    plt.figure(figsize=(20,10))\n",
        "    plt.imshow(np.transpose(npimg, (1,2,0)), interpolation='nearest')\n",
        "    \n",
        "show(torchvision.utils.make_grid(x, nrow = 12))"
      ],
      "execution_count": 0,
      "outputs": []
    },
    {
      "cell_type": "code",
      "metadata": {
        "id": "9WuxYev_8Wf_",
        "colab_type": "code",
        "colab": {}
      },
      "source": [
        "# Kills the green and blue channels\n",
        "x.narrow(1, 1, 2).fill_(0)\n",
        "show(torchvision.utils.make_grid(x, nrow = 12))"
      ],
      "execution_count": 0,
      "outputs": []
    },
    {
      "cell_type": "markdown",
      "metadata": {
        "id": "QWopk2GX8WgB",
        "colab_type": "text"
      },
      "source": [
        "# Autograd: automatic differentiation\n",
        "\n",
        "When executing tensor operations, PyTorch can automatically construct on-the-fly the graph of operations to compute the gradient of any quantity with respect to any tensor involved."
      ]
    },
    {
      "cell_type": "code",
      "metadata": {
        "id": "iXhv2o5p8WgC",
        "colab_type": "code",
        "colab": {}
      },
      "source": [
        "x = torch.ones(2, 2)\n",
        "print(x)"
      ],
      "execution_count": 0,
      "outputs": []
    },
    {
      "cell_type": "markdown",
      "metadata": {
        "id": "2N80kP2e8WgD",
        "colab_type": "text"
      },
      "source": [
        "A Tensor has a Boolean field *requires_grad*, set to False by default, which states if PyTorch should build the graph of operations so that gradients wrt to it can be computed."
      ]
    },
    {
      "cell_type": "code",
      "metadata": {
        "id": "ifIkixmu8WgE",
        "colab_type": "code",
        "colab": {}
      },
      "source": [
        "x.requires_grad"
      ],
      "execution_count": 0,
      "outputs": []
    },
    {
      "cell_type": "code",
      "metadata": {
        "id": "DCovlr-i8WgF",
        "colab_type": "code",
        "colab": {}
      },
      "source": [
        "x.numpy()"
      ],
      "execution_count": 0,
      "outputs": []
    },
    {
      "cell_type": "code",
      "metadata": {
        "id": "nWnPTCH78WgI",
        "colab_type": "code",
        "colab": {}
      },
      "source": [
        "x.requires_grad_(True)\n",
        "x.requires_grad"
      ],
      "execution_count": 0,
      "outputs": []
    },
    {
      "cell_type": "code",
      "metadata": {
        "id": "tUlWk9QR8WgL",
        "colab_type": "code",
        "colab": {}
      },
      "source": [
        "x.data"
      ],
      "execution_count": 0,
      "outputs": []
    },
    {
      "cell_type": "code",
      "metadata": {
        "id": "JNotqosg8WgN",
        "colab_type": "code",
        "colab": {}
      },
      "source": [
        "y = x + 2\n",
        "print(y)"
      ],
      "execution_count": 0,
      "outputs": []
    },
    {
      "cell_type": "code",
      "metadata": {
        "id": "3n_BWSze8WgS",
        "colab_type": "code",
        "colab": {}
      },
      "source": [
        "y.requires_grad"
      ],
      "execution_count": 0,
      "outputs": []
    },
    {
      "cell_type": "code",
      "metadata": {
        "id": "hWnRaZdV8WgU",
        "colab_type": "code",
        "colab": {}
      },
      "source": [
        "z = y * y * 3\n",
        "out = z.mean()\n",
        "\n",
        "print(z)\n",
        "print(out)"
      ],
      "execution_count": 0,
      "outputs": []
    },
    {
      "cell_type": "markdown",
      "metadata": {
        "id": "QMguUH4y8WgW",
        "colab_type": "text"
      },
      "source": [
        "After the computation is finished, i.e. _forward pass_, you can call ```.backward()``` and have all the gradients computed automatically."
      ]
    },
    {
      "cell_type": "code",
      "metadata": {
        "id": "L5H8BQOs8WgW",
        "colab_type": "code",
        "colab": {}
      },
      "source": [
        "out.backward()"
      ],
      "execution_count": 0,
      "outputs": []
    },
    {
      "cell_type": "markdown",
      "metadata": {
        "id": "rkfyws6i8WgX",
        "colab_type": "text"
      },
      "source": [
        "The gradients w.r.t. this variable is accumulated into ```.grad```."
      ]
    },
    {
      "cell_type": "code",
      "metadata": {
        "id": "VMydX4NM8WgY",
        "colab_type": "code",
        "colab": {}
      },
      "source": [
        "print(x.grad)"
      ],
      "execution_count": 0,
      "outputs": []
    },
    {
      "cell_type": "markdown",
      "metadata": {
        "id": "oxV5GKgJ8WgZ",
        "colab_type": "text"
      },
      "source": [
        "Let’s call the ``out``\n",
        "*Variable* “$o$”.\n",
        "We have that:\n",
        "\n",
        "$y_i = x_i+2$\n",
        "\n",
        "$z_i = 3 y_i^2$ \n",
        "\n",
        "$o = \\frac{1}{4}\\sum_i z_i$ \n",
        "\n",
        "**Forward pass:**\n",
        "\n",
        "$y_i\\bigr\\rvert_{x_i=1} = 3$\n",
        "\n",
        "$z_i\\bigr\\rvert_{y_i=3} = 27$\n",
        "\n",
        "$o\\bigr\\rvert_{z_i=27} = 27$.\n",
        "\n",
        "Taking partial derivatives give:\n",
        "\n",
        "$\\frac{\\partial o}{\\partial z_i} = \\frac{1}{4}$\n",
        "\n",
        "$\\frac{\\partial z_i}{\\partial y_i} = 6 y_i$\n",
        "\n",
        "$\\frac{\\partial y_i}{\\partial x_i} =1$\n",
        "\n",
        "\n",
        "hence by the **chain-rule:**\n",
        "\n",
        "$\\frac{\\partial o}{\\partial x_i}\\bigr\\rvert_{x_i=1} = \\frac{\\partial o}{\\partial z_i}\\bigr\\rvert_{z_i=27}\\frac{\\partial z_i}{\\partial y_i}\\bigr\\rvert_{y_i=3}\\frac{\\partial y_i}{\\partial x_i}\\bigr\\rvert_{x_i=1} = \\frac{1}{4} * 18 * 1 = 4.5$."
      ]
    },
    {
      "cell_type": "code",
      "metadata": {
        "id": "D7onFPfz8Wga",
        "colab_type": "code",
        "colab": {}
      },
      "source": [
        "print(y.grad)"
      ],
      "execution_count": 0,
      "outputs": []
    },
    {
      "cell_type": "markdown",
      "metadata": {
        "id": "sROxNHyW8Wgb",
        "colab_type": "text"
      },
      "source": [
        "[Why cant I see .grad of an intermediate variable?](https://discuss.pytorch.org/t/why-cant-i-see-grad-of-an-intermediate-variable/94)"
      ]
    },
    {
      "cell_type": "code",
      "metadata": {
        "id": "mLYLDP3V8Wgc",
        "colab_type": "code",
        "colab": {}
      },
      "source": [
        "out.backward()"
      ],
      "execution_count": 0,
      "outputs": []
    },
    {
      "cell_type": "code",
      "metadata": {
        "id": "-WV8Hq1t8Wgd",
        "colab_type": "code",
        "colab": {}
      },
      "source": [
        "x = torch.ones(2, 2)\n",
        "x.requires_grad_(True)\n",
        "y = x+2\n",
        "z = 3 * y ** 2 \n",
        "out = z.mean()\n",
        "\n",
        "out.backward(retain_graph=True)"
      ],
      "execution_count": 0,
      "outputs": []
    },
    {
      "cell_type": "code",
      "metadata": {
        "id": "dlBqDqWS8Wge",
        "colab_type": "code",
        "colab": {}
      },
      "source": [
        "print(x.grad)"
      ],
      "execution_count": 0,
      "outputs": []
    },
    {
      "cell_type": "code",
      "metadata": {
        "id": "1TaD0kEJ8Wgh",
        "colab_type": "code",
        "colab": {}
      },
      "source": [
        "out.backward(retain_graph=True)"
      ],
      "execution_count": 0,
      "outputs": []
    },
    {
      "cell_type": "code",
      "metadata": {
        "id": "YhUtsyWS8Wgj",
        "colab_type": "code",
        "colab": {}
      },
      "source": [
        "print(x.grad)"
      ],
      "execution_count": 0,
      "outputs": []
    },
    {
      "cell_type": "code",
      "metadata": {
        "id": "foJAXmvT8Wgk",
        "colab_type": "code",
        "colab": {}
      },
      "source": [
        "out.backward(retain_graph=True)"
      ],
      "execution_count": 0,
      "outputs": []
    },
    {
      "cell_type": "code",
      "metadata": {
        "id": "16h0pWX88Wgm",
        "colab_type": "code",
        "colab": {}
      },
      "source": [
        "print(x.grad)"
      ],
      "execution_count": 0,
      "outputs": []
    },
    {
      "cell_type": "code",
      "metadata": {
        "id": "rl0JZ9Gq8Wgr",
        "colab_type": "code",
        "colab": {}
      },
      "source": [
        "# Manually zero the gradients after updating weights\n",
        "x.grad.data.zero_()"
      ],
      "execution_count": 0,
      "outputs": []
    },
    {
      "cell_type": "markdown",
      "metadata": {
        "id": "v40jAQEE8Wgu",
        "colab_type": "text"
      },
      "source": [
        "The gradients must be set to zero manually. Otherwise they will cumulate across several _.backward()_ calls. \n",
        "This accumulating behavior is desirable in particular to compute the gradient of a loss summed over several “mini-batches,” or the gradient of a sum of losses.\n"
      ]
    },
    {
      "cell_type": "code",
      "metadata": {
        "id": "P1i9jlaA8Wgu",
        "colab_type": "code",
        "colab": {}
      },
      "source": [
        "out.backward()"
      ],
      "execution_count": 0,
      "outputs": []
    },
    {
      "cell_type": "code",
      "metadata": {
        "id": "EAndNGj_8Wgw",
        "colab_type": "code",
        "colab": {}
      },
      "source": [
        "print(x.grad)"
      ],
      "execution_count": 0,
      "outputs": []
    },
    {
      "cell_type": "markdown",
      "metadata": {
        "id": "ZkT-mC9R8Wgy",
        "colab_type": "text"
      },
      "source": [
        "# Playing with pytorch: linear regression"
      ]
    },
    {
      "cell_type": "markdown",
      "metadata": {
        "id": "XsESRui28Wgy",
        "colab_type": "text"
      },
      "source": [
        "## Warm-up: Linear regression with numpy"
      ]
    },
    {
      "cell_type": "markdown",
      "metadata": {
        "id": "FvAi4z478Wg0",
        "colab_type": "text"
      },
      "source": [
        "Our model is:\n",
        "$$\n",
        "y_t = 2x^1_t-3x^2_t+1, \\quad t\\in\\{1,\\dots,30\\}\n",
        "$$\n",
        "\n",
        "Our task is given the 'observations' $(x_t,y_t)_{t\\in\\{1,\\dots,30\\}}$ to recover the weights $w^1=2, w^2=-3$ and the bias $b = 1$.\n",
        "\n",
        "In order to do so, we will solve the following optimization problem:\n",
        "$$\n",
        "\\underset{w^1,w^2,b}{\\operatorname{argmin}} \\sum_{t=1}^{30} \\left(w^1x^1_t+w^2x^2_t+b-y_t\\right)^2\n",
        "$$"
      ]
    },
    {
      "cell_type": "code",
      "metadata": {
        "id": "_hSr09Qa8Wg1",
        "colab_type": "code",
        "colab": {}
      },
      "source": [
        "import numpy as np\n",
        "from numpy.random import random\n",
        "# generate random input data\n",
        "x = random((30,2))\n",
        "\n",
        "# generate labels corresponding to input data x\n",
        "y = np.dot(x, [2., -3.]) + 1.\n",
        "w_source = np.array([2., -3.])\n",
        "b_source  = np.array([1.])"
      ],
      "execution_count": 0,
      "outputs": []
    },
    {
      "cell_type": "code",
      "metadata": {
        "id": "Vclk_vje8Wg2",
        "colab_type": "code",
        "colab": {}
      },
      "source": [
        "x[:5]"
      ],
      "execution_count": 0,
      "outputs": []
    },
    {
      "cell_type": "code",
      "metadata": {
        "id": "S5F3fcVN8Wg6",
        "colab_type": "code",
        "colab": {}
      },
      "source": [
        "import matplotlib.pyplot as plt\n",
        "import numpy as np\n",
        "from mpl_toolkits.mplot3d import Axes3D\n",
        "\n",
        "def plot_figs(fig_num, elev, azim, x, y, weights, bias):\n",
        "    fig = plt.figure(fig_num, figsize=(4, 3))\n",
        "    plt.clf()\n",
        "    ax = Axes3D(fig, elev=elev, azim=azim)\n",
        "    ax.scatter(x[:, 0], x[:, 1], y)\n",
        "    ax.plot_surface(np.array([[0, 0], [1, 1]]),\n",
        "                    np.array([[0, 1], [0, 1]]),\n",
        "                    (np.dot(np.array([[0, 0, 1, 1],\n",
        "                                          [0, 1, 0, 1]]).T, weights) + bias).reshape((2, 2)),\n",
        "                    alpha=.5)\n",
        "    ax.set_xlabel('x_1')\n",
        "    ax.set_ylabel('x_2')\n",
        "    ax.set_zlabel('y')\n",
        "    \n",
        "def plot_views(x, y, w, b):\n",
        "    #Generate the different figures from different views\n",
        "    elev = 43.5\n",
        "    azim = -110\n",
        "    plot_figs(1, elev, azim, x, y, w, b[0])\n",
        "\n",
        "    plt.show()"
      ],
      "execution_count": 0,
      "outputs": []
    },
    {
      "cell_type": "code",
      "metadata": {
        "id": "8l7XSyJM8Wg8",
        "colab_type": "code",
        "colab": {}
      },
      "source": [
        "plot_views(x, y, w_source, b_source)"
      ],
      "execution_count": 0,
      "outputs": []
    },
    {
      "cell_type": "markdown",
      "metadata": {
        "id": "FCZAMgQn8Wg9",
        "colab_type": "text"
      },
      "source": [
        "In vector form, we define:\n",
        "$$\n",
        "\\hat{y}_t = {\\bf w}^T{\\bf x}_t+b\n",
        "$$\n",
        "and we want to minimize the loss given by:\n",
        "$$\n",
        "loss = \\sum_t\\underbrace{\\left(\\hat{y}_t-y_t \\right)^2}_{loss_t}.\n",
        "$$\n",
        "\n",
        "To minimize the loss we first compute the gradient of each $loss_t$:\n",
        "\\begin{eqnarray*}\n",
        "\\frac{\\partial{loss_t}}{\\partial w^1} &=& 2x^1_t\\left({\\bf w}^T{\\bf x}_t+b-y_t \\right)\\\\\n",
        "\\frac{\\partial{loss_t}}{\\partial w^2} &=& 2x^2_t\\left({\\bf w}^T{\\bf x}_t+b-y_t \\right)\\\\\n",
        "\\frac{\\partial{loss_t}}{\\partial b} &=& 2\\left({\\bf w}^T{\\bf x}_t+b-y_t \\right)\n",
        "\\end{eqnarray*}\n",
        "\n",
        "For one epoch, **Stochastic Gradient Descent with minibatches of size 1** then updates the weigts and bias by running the following loop: \n",
        "\n",
        "for $t \\in \\{1,\\dots,30\\}$, \n",
        "\n",
        "\\begin{eqnarray*}\n",
        "w^1_{t+1}&=&w^1_{t}-\\alpha\\frac{\\partial{loss_t}}{\\partial w^1} \\\\\n",
        "w^2_{t+1}&=&w^2_{t}-\\alpha\\frac{\\partial{loss_t}}{\\partial w^2} \\\\\n",
        "b_{t+1}&=&b_{t}-\\alpha\\frac{\\partial{loss_t}}{\\partial b},\n",
        "\\end{eqnarray*}\n",
        "\n",
        "if $t = 30$, set $w^1_1=w^1_{31}$, $w^2_1 = w^2_{31}$ and $b_1=b_{31}$.\n",
        "\n",
        "$\\alpha>0$ is called the learning rate.\n",
        "\n",
        "Then we run several epochs..."
      ]
    },
    {
      "cell_type": "code",
      "metadata": {
        "id": "yostOzbg8Wg9",
        "colab_type": "code",
        "colab": {}
      },
      "source": [
        "# randomly initialize learnable weights and bias\n",
        "w_init = random(2)\n",
        "b_init = random(1)\n",
        "\n",
        "w = w_init\n",
        "b = b_init\n",
        "print(\"initial values of the parameters:\", w, b )\n",
        "\n",
        "\n",
        "# our model forward pass\n",
        "def forward(x):\n",
        "    return x.dot(w)+b\n",
        "\n",
        "# Loss function\n",
        "def loss(x, y):\n",
        "    y_pred = forward(x)\n",
        "    return (y_pred - y)**2 \n",
        "\n",
        "print(\"initial loss:\", np.sum([loss(x_val,y_val) for x_val, y_val in zip(x, y)]) )\n",
        "\n",
        "# compute gradient\n",
        "def gradient(x, y):  # d_loss/d_w, d_loss/d_c\n",
        "    return 2*(x.dot(w)+b - y)*x, 2 * (x.dot(w)+b - y)\n",
        " \n",
        "learning_rate = 1e-2\n",
        "# Training loop with minibatch (of size 1)\n",
        "for epoch in range(10):\n",
        "    l = 0\n",
        "    for x_val, y_val in zip(x, y):\n",
        "        grad_w, grad_b = gradient(x_val, y_val)\n",
        "        w = w - learning_rate * grad_w\n",
        "        b = b - learning_rate * grad_b\n",
        "        l += loss(x_val, y_val)\n",
        "\n",
        "    print(\"progress:\", \"epoch:\", epoch, \"loss\",l[0])\n",
        "\n",
        "# After training\n",
        "print(\"estimation of the parameters:\", w, b )"
      ],
      "execution_count": 0,
      "outputs": []
    },
    {
      "cell_type": "code",
      "metadata": {
        "id": "VFQONTpm8Wg-",
        "colab_type": "code",
        "colab": {}
      },
      "source": [
        "plot_views(x, y, w, b)"
      ],
      "execution_count": 0,
      "outputs": []
    },
    {
      "cell_type": "markdown",
      "metadata": {
        "id": "My8XfHbG8WhA",
        "colab_type": "text"
      },
      "source": [
        "Note that the actual gradient of the loss is given by:\n",
        "$$\n",
        "\\frac{\\partial{loss}}{\\partial w^1} =\\sum_t \\frac{\\partial{loss_t}}{\\partial w^1},\\quad\n",
        "\\frac{\\partial{loss}}{\\partial w^2} =\\sum_t \\frac{\\partial{loss_t}}{\\partial w^2},\\quad\n",
        "\\frac{\\partial{loss}}{\\partial b} =\\sum_t \\frac{\\partial{loss_t}}{\\partial b}\n",
        "$$\n",
        "\n",
        "For one epoch, **(Batch) Gradient Descent** updates the weights and bias as follows:\n",
        "\\begin{eqnarray*}\n",
        "w^1_{new}&=&w^1_{old}-\\alpha\\frac{\\partial{loss}}{\\partial w^1} \\\\\n",
        "w^2_{new}&=&w^2_{old}-\\alpha\\frac{\\partial{loss}}{\\partial w^2} \\\\\n",
        "b_{new}&=&b_{old}-\\alpha\\frac{\\partial{loss}}{\\partial b},\n",
        "\\end{eqnarray*}\n",
        "\n",
        "and then we run several epochs.\n",
        "\n",
        "Exercice: explain the difference between the 2 schemes?"
      ]
    },
    {
      "cell_type": "code",
      "metadata": {
        "scrolled": true,
        "id": "q2eUfQws8WhA",
        "colab_type": "code",
        "colab": {}
      },
      "source": [
        "w = w_init\n",
        "b = b_init\n",
        "print(\"initial values of the parameters:\", w, b )\n",
        "\n",
        "learning_rate = 1e-2\n",
        "# Training loop\n",
        "for epoch in range(10):\n",
        "    grad_w = np.array([0,0])\n",
        "    grad_b = np.array(0)\n",
        "    l = 0\n",
        "    for x_val, y_val in zip(x, y):\n",
        "        grad_w = np.add(grad_w,gradient(x_val, y_val)[0])\n",
        "        grad_b = np.add(grad_b,gradient(x_val, y_val)[1])\n",
        "        l += loss(x_val, y_val)\n",
        "    w = w - learning_rate * grad_w\n",
        "    b = b - learning_rate * grad_b\n",
        "    print(\"progress:\", \"epoch:\", epoch, \"loss\",l[0])\n",
        "\n",
        "# After training\n",
        "print(\"estimation of the parameters:\", w, b)"
      ],
      "execution_count": 0,
      "outputs": []
    },
    {
      "cell_type": "code",
      "metadata": {
        "id": "BO_DKaes8WhB",
        "colab_type": "code",
        "colab": {}
      },
      "source": [
        "plot_views(x, y, w, b)"
      ],
      "execution_count": 0,
      "outputs": []
    },
    {
      "cell_type": "markdown",
      "metadata": {
        "id": "dQz2GoXh8WhC",
        "colab_type": "text"
      },
      "source": [
        "## Linear regression with tensors"
      ]
    },
    {
      "cell_type": "code",
      "metadata": {
        "id": "9KKfUKVn8WhD",
        "colab_type": "code",
        "colab": {}
      },
      "source": [
        "dtype = torch.FloatTensor\n",
        "# dtype = torch.cuda.FloatTensor # Uncomment this to run on GPU"
      ],
      "execution_count": 0,
      "outputs": []
    },
    {
      "cell_type": "code",
      "metadata": {
        "id": "aLQeUOFi8WhF",
        "colab_type": "code",
        "colab": {}
      },
      "source": [
        "x_t = torch.from_numpy(x).type(dtype)\n",
        "y_t = torch.from_numpy(y).type(dtype).unsqueeze(1)"
      ],
      "execution_count": 0,
      "outputs": []
    },
    {
      "cell_type": "markdown",
      "metadata": {
        "id": "1MExDafv8WhG",
        "colab_type": "text"
      },
      "source": [
        "This is an implementation of **(Batch) Gradient Descent** with tensors.\n",
        "\n",
        "Note that in the main loop, the functions loss_t and gradient_t are always called with the same inputs: they can easily be incorporated into the loop (we'll do that below)."
      ]
    },
    {
      "cell_type": "code",
      "metadata": {
        "id": "5tWn-6PC8WhH",
        "colab_type": "code",
        "colab": {}
      },
      "source": [
        "w_init_t = torch.from_numpy(w_init).type(dtype)\n",
        "b_init_t = torch.from_numpy(b_init).type(dtype)\n",
        "\n",
        "w_t = w_init_t.clone()\n",
        "w_t.unsqueeze_(1)\n",
        "b_t = b_init_t.clone()\n",
        "b_t.unsqueeze_(1)\n",
        "print(\"initial values of the parameters:\", w_t, b_t )\n",
        "\n",
        "# our model forward pass\n",
        "def forward_t(x):\n",
        "    return x.mm(w_t)+b_t\n",
        "\n",
        "# Loss function\n",
        "def loss_t(x, y):\n",
        "    y_pred = forward_t(x)\n",
        "    return (y_pred - y).pow(2).sum()\n",
        "\n",
        "# compute gradient\n",
        "def gradient_t(x, y):  # d_loss/d_w, d_loss/d_c\n",
        "    return 2*torch.mm(torch.t(x),x.mm(w_t)+b_t - y), 2 * (x.mm(w_t)+b_t - y).sum()\n",
        "\n",
        "learning_rate = 1e-2\n",
        "for epoch in range(10):\n",
        "    l_t = loss_t(x_t,y_t)\n",
        "    grad_w, grad_b = gradient_t(x_t,y_t)\n",
        "    w_t = w_t-learning_rate*grad_w\n",
        "    b_t = b_t-learning_rate*grad_b\n",
        "    print(\"progress:\", \"epoch:\", epoch, \"loss\",l_t)\n",
        "\n",
        "# After training\n",
        "print(\"estimation of the parameters:\", w_t, b_t )"
      ],
      "execution_count": 0,
      "outputs": []
    },
    {
      "cell_type": "code",
      "metadata": {
        "id": "u6jwp8hs8WhI",
        "colab_type": "code",
        "colab": {}
      },
      "source": [
        "plot_views(x, y, w_t.numpy(), b_t.numpy())"
      ],
      "execution_count": 0,
      "outputs": []
    },
    {
      "cell_type": "markdown",
      "metadata": {
        "id": "bTrqi-ux8WhJ",
        "colab_type": "text"
      },
      "source": [
        "## Linear regression with Autograd"
      ]
    },
    {
      "cell_type": "code",
      "metadata": {
        "id": "LTH6VOMz8WhJ",
        "colab_type": "code",
        "colab": {}
      },
      "source": [
        "# Setting requires_grad=True indicates that we want to compute gradients with\n",
        "# respect to these Tensors during the backward pass.\n",
        "w_v = w_init_t.clone().unsqueeze(1)\n",
        "w_v.requires_grad_(True)\n",
        "b_v = b_init_t.clone().unsqueeze(1)\n",
        "b_v.requires_grad_(True)\n",
        "print(\"initial values of the parameters:\", w_v.data, b_v.data )"
      ],
      "execution_count": 0,
      "outputs": []
    },
    {
      "cell_type": "markdown",
      "metadata": {
        "id": "oHgm3N8Y8WhK",
        "colab_type": "text"
      },
      "source": [
        "An implementation of **(Batch) Gradient Descent** without computing explicitly the gradient and using autograd instead."
      ]
    },
    {
      "cell_type": "code",
      "metadata": {
        "id": "B4sdOF0e8WhL",
        "colab_type": "code",
        "colab": {}
      },
      "source": [
        "for epoch in range(10):\n",
        "    y_pred = x_t.mm(w_v)+b_v\n",
        "    loss = (y_pred - y_t).pow(2).sum()\n",
        "    \n",
        "    # Use autograd to compute the backward pass. This call will compute the\n",
        "    # gradient of loss with respect to all Variables with requires_grad=True.\n",
        "    # After this call w.grad and b.grad will be Variables holding the gradient\n",
        "    # of the loss with respect to w and b respectively.\n",
        "    loss.backward()\n",
        "    \n",
        "    # Update weights using gradient descent. For this step we just want to mutate\n",
        "    # the values of w_v and b_v in-place; we don't want to build up a computational\n",
        "    # graph for the update steps, so we use the torch.no_grad() context manager\n",
        "    # to prevent PyTorch from building a computational graph for the updates\n",
        "    with torch.no_grad():\n",
        "        w_v -= learning_rate * w_v.grad\n",
        "        b_v -= learning_rate * b_v.grad\n",
        "    \n",
        "    # Manually zero the gradients after updating weights\n",
        "    # otherwise gradients will be acumulated after each .backward()\n",
        "    w_v.grad.zero_()\n",
        "    b_v.grad.zero_()\n",
        "    \n",
        "    print(\"progress:\", \"epoch:\", epoch, \"loss\",loss.data.item())\n",
        "\n",
        "# After training\n",
        "print(\"estimation of the parameters:\", w_v.data, b_v.data.t() )"
      ],
      "execution_count": 0,
      "outputs": []
    },
    {
      "cell_type": "code",
      "metadata": {
        "id": "6PZpFqb_8WhM",
        "colab_type": "code",
        "colab": {}
      },
      "source": [
        "plot_views(x, y, w_v.data.numpy(), b_v.data.numpy())"
      ],
      "execution_count": 0,
      "outputs": []
    },
    {
      "cell_type": "markdown",
      "metadata": {
        "id": "W720TY4R8WhN",
        "colab_type": "text"
      },
      "source": [
        "## Linear regression with neural network"
      ]
    },
    {
      "cell_type": "markdown",
      "metadata": {
        "id": "6VgMVkn48WhN",
        "colab_type": "text"
      },
      "source": [
        "An implementation of **(Batch) Gradient Descent** using the nn package. Here we have a super simple model with only one layer and no activation function!"
      ]
    },
    {
      "cell_type": "code",
      "metadata": {
        "id": "plEHj42d8WhO",
        "colab_type": "code",
        "colab": {}
      },
      "source": [
        "# Use the nn package to define our model as a sequence of layers. nn.Sequential\n",
        "# is a Module which contains other Modules, and applies them in sequence to\n",
        "# produce its output. Each Linear Module computes output from input using a\n",
        "# linear function, and holds internal Variables for its weight and bias.\n",
        "model = torch.nn.Sequential(\n",
        "    torch.nn.Linear(2, 1),\n",
        ")\n",
        "\n",
        "for m in model.children():\n",
        "    m.weight.data = w_init_t.clone().unsqueeze(0)\n",
        "    m.bias.data = b_init_t.clone()\n",
        "\n",
        "# The nn package also contains definitions of popular loss functions; in this\n",
        "# case we will use Mean Squared Error (MSE) as our loss function.\n",
        "loss_fn = torch.nn.MSELoss(size_average=False)\n",
        "\n",
        "# switch to train mode\n",
        "model.train()\n",
        "\n",
        "for epoch in range(10):\n",
        "    # Forward pass: compute predicted y by passing x to the model. Module objects\n",
        "    # override the __call__ operator so you can call them like functions. When\n",
        "    # doing so you pass a Variable of input data to the Module and it produces\n",
        "    # a Variable of output data.\n",
        "    y_pred = model(x_t)\n",
        "  \n",
        "    # Note this operation is equivalent to: pred = model.forward(x_v)\n",
        "\n",
        "    # Compute and print loss. We pass Variables containing the predicted and true\n",
        "    # values of y, and the loss function returns a Variable containing the\n",
        "    # loss.\n",
        "    loss = loss_fn(y_pred, y_t)\n",
        "\n",
        "    # Zero the gradients before running the backward pass.\n",
        "    model.zero_grad()\n",
        "\n",
        "    # Backward pass: compute gradient of the loss with respect to all the learnable\n",
        "    # parameters of the model. Internally, the parameters of each Module are stored\n",
        "    # in Variables with requires_grad=True, so this call will compute gradients for\n",
        "    # all learnable parameters in the model.\n",
        "    loss.backward()\n",
        "\n",
        "    # Update the weights using gradient descent. Each parameter is a Tensor, so\n",
        "    # we can access its data and gradients like we did before.\n",
        "    with torch.no_grad():\n",
        "        for param in model.parameters():\n",
        "            param.data -= learning_rate * param.grad\n",
        "        \n",
        "    print(\"progress:\", \"epoch:\", epoch, \"loss\",loss.data.item())\n",
        "\n",
        "# After training\n",
        "print(\"estimation of the parameters:\")\n",
        "for param in model.parameters():\n",
        "    print(param)"
      ],
      "execution_count": 0,
      "outputs": []
    },
    {
      "cell_type": "markdown",
      "metadata": {
        "id": "gus-YF9p8WhP",
        "colab_type": "text"
      },
      "source": [
        "Last step, we use directly the optim package to update the weights and bias."
      ]
    },
    {
      "cell_type": "code",
      "metadata": {
        "id": "2VbF5gYV8WhP",
        "colab_type": "code",
        "colab": {}
      },
      "source": [
        "model = torch.nn.Sequential(\n",
        "    torch.nn.Linear(2, 1),\n",
        ")\n",
        "\n",
        "for m in model.children():\n",
        "    m.weight.data = w_init_t.clone().unsqueeze(0)\n",
        "    m.bias.data = b_init_t.clone()\n",
        "\n",
        "loss_fn = torch.nn.MSELoss(size_average=False)\n",
        "\n",
        "model.train()\n",
        "\n",
        "optimizer = torch.optim.SGD(model.parameters(), lr=learning_rate)\n",
        "\n",
        "\n",
        "for epoch in range(10):\n",
        "    y_pred = model(x_t)\n",
        "    loss = loss_fn(y_pred, y_t)\n",
        "    print(\"progress:\", \"epoch:\", epoch, \"loss\",loss.item())\n",
        "    # Zero gradients, perform a backward pass, and update the weights.\n",
        "    optimizer.zero_grad()\n",
        "    loss.backward()\n",
        "    optimizer.step()\n",
        "    \n",
        "    \n",
        "# After training\n",
        "print(\"estimation of the parameters:\")\n",
        "for param in model.parameters():\n",
        "    print(param)"
      ],
      "execution_count": 0,
      "outputs": []
    },
    {
      "cell_type": "markdown",
      "metadata": {
        "id": "IY_I9v3o8WhQ",
        "colab_type": "text"
      },
      "source": [
        "## Exercise 1: Play with the code"
      ]
    },
    {
      "cell_type": "markdown",
      "metadata": {
        "id": "It_tRuXs8WhQ",
        "colab_type": "text"
      },
      "source": [
        "Change the number of samples from 30 to 300. What happens? How to correct it?"
      ]
    },
    {
      "cell_type": "code",
      "metadata": {
        "id": "JRk1zgSv8WhR",
        "colab_type": "code",
        "colab": {}
      },
      "source": [
        "x = random((300,2))\n",
        "y = np.dot(x, [2., -3.]) + 1.\n",
        "x_t = torch.from_numpy(x).type(dtype)\n",
        "y_t = torch.from_numpy(y).type(dtype).unsqueeze(1)"
      ],
      "execution_count": 0,
      "outputs": []
    },
    {
      "cell_type": "code",
      "metadata": {
        "id": "a-xOCI6z8WhS",
        "colab_type": "code",
        "colab": {}
      },
      "source": [
        "model = torch.nn.Sequential(\n",
        "    torch.nn.Linear(2, 1),\n",
        ")\n",
        "\n",
        "for m in model.children():\n",
        "    m.weight.data = w_init_t.clone().unsqueeze(0)\n",
        "    m.bias.data = b_init_t.clone()\n",
        "\n",
        "loss_fn = torch.nn.MSELoss(size_average=True)\n",
        "\n",
        "model.train()\n",
        "\n",
        "optimizer = torch.optim.SGD(model.parameters(), lr=learning_rate)\n",
        "\n",
        "\n",
        "for epoch in range(10):\n",
        "    y_pred = model(x_t)\n",
        "    loss = loss_fn(y_pred, y_t)\n",
        "    print(\"progress:\", \"epoch:\", epoch, \"loss\",loss.item())\n",
        "    # Zero gradients, perform a backward pass, and update the weights.\n",
        "    optimizer.zero_grad()\n",
        "    loss.backward()\n",
        "    optimizer.step()\n",
        "    \n",
        "    \n",
        "# After training\n",
        "print(\"estimation of the parameters:\")\n",
        "for param in model.parameters():\n",
        "    print(param)"
      ],
      "execution_count": 0,
      "outputs": []
    },
    {
      "cell_type": "markdown",
      "metadata": {
        "id": "remQXMeg8WhU",
        "colab_type": "text"
      },
      "source": [
        "## Exercise 2: Logistic regression"
      ]
    },
    {
      "cell_type": "markdown",
      "metadata": {
        "id": "7-YXKvWO8WhU",
        "colab_type": "text"
      },
      "source": [
        "Sigmoid function:\n",
        "$$\n",
        "\\sigma(y) = \\frac{1}{1+e^{-y}}\n",
        "$$\n",
        "\n",
        "The model is now\n",
        "$$\n",
        "Z_t = Ber(\\sigma(y_t)), \\quad t\\in\\{1,\\dots,30\\},\n",
        "$$\n",
        "and the task is still to recover the weights $w^1=2, w^2=-3$ and the bias $b = 1$ but now from the observations $(x_t,Z_t)_{t\\in \\{1,\\dots,30\\}}$."
      ]
    },
    {
      "cell_type": "code",
      "metadata": {
        "id": "09u1-Wcs8WhU",
        "colab_type": "code",
        "colab": {}
      },
      "source": [
        "from scipy.special import expit\n",
        "xaxis = torch.arange(-10.0, 10.0, 0.1)\n",
        "plt.plot(xaxis, [torch.sigmoid(x) for x in xaxis]);"
      ],
      "execution_count": 0,
      "outputs": []
    },
    {
      "cell_type": "code",
      "metadata": {
        "id": "Gxw_zSr48WhX",
        "colab_type": "code",
        "colab": {}
      },
      "source": [
        "import numpy as np\n",
        "from numpy.random import random\n",
        "# generate random input data\n",
        "x = random((100,2))\n",
        "x_t = torch.from_numpy(x).float()\n",
        "\n",
        "# generate labels corresponding to input data x\n",
        "y = np.dot(x, [2., -3.]) + 1.\n",
        "w_source = np.array([2., -3.])\n",
        "b_source  = np.array([1.])\n",
        "\n",
        "from scipy.stats import bernoulli\n",
        "Z = bernoulli.rvs(expit(y))\n",
        "print(Z)"
      ],
      "execution_count": 0,
      "outputs": []
    },
    {
      "cell_type": "markdown",
      "metadata": {
        "id": "3-17Hj1M8WhY",
        "colab_type": "text"
      },
      "source": [
        "What is an appropriate loss function now?"
      ]
    },
    {
      "cell_type": "code",
      "metadata": {
        "id": "qnbw5_75_aWR",
        "colab_type": "code",
        "colab": {}
      },
      "source": [
        "model = torch.nn.Sequential(\n",
        "    # your code here\n",
        ")\n",
        "\n",
        "loss_fn = # your code here\n",
        "\n",
        "model.train()\n",
        "\n",
        "optimizer = torch.optim.SGD(model.parameters(), lr=learning_rate)\n",
        "\n",
        "for epoch in range(10):\n",
        "    y_pred = model(x_t)\n",
        "    loss = loss_fn(y_pred, torch.from_numpy(Z).float())\n",
        "    print(\"progress:\", \"epoch:\", epoch, \"loss\",loss.item())\n",
        "    # Zero gradients, perform a backward pass, and update the weights.\n",
        "    optimizer.zero_grad()\n",
        "    loss.backward()\n",
        "    optimizer.step()\n",
        "    \n",
        "# After training\n",
        "print(\"estimation of the parameters:\")\n",
        "for param in model.parameters():\n",
        "    print(param)"
      ],
      "execution_count": 0,
      "outputs": []
    },
    {
      "cell_type": "markdown",
      "metadata": {
        "id": "0mxQEi0N8Wha",
        "colab_type": "text"
      },
      "source": [
        "## Exercise 3: Perceptron on MNIST"
      ]
    },
    {
      "cell_type": "markdown",
      "metadata": {
        "id": "c3Zsn6Oi_noc",
        "colab_type": "text"
      },
      "source": [
        "Run a perceptron on MNIST."
      ]
    },
    {
      "cell_type": "code",
      "metadata": {
        "id": "9JtJdHMj8Whb",
        "colab_type": "code",
        "colab": {}
      },
      "source": [
        "import torch\n",
        "import torchvision\n",
        "\n",
        "device = 'cuda' if torch.cuda.is_available() else 'cpu'\n",
        "print('device : ', device)\n",
        "\n",
        "data_dir = 'content/data/MNIST/'\n",
        "t_func = torchvision.transforms.Compose([\n",
        "                           torchvision.transforms.ToTensor(),\n",
        "                           torchvision.transforms.Normalize((0.1307,), (0.3081,))\n",
        "                       ])\n",
        "mnist_train = torchvision.datasets.MNIST(data_dir, train = True, download = True, transform = t_func)\n",
        "mnist_test = torchvision.datasets.MNIST(data_dir, train = False, download = True, transform = t_func)\n",
        "\n",
        "train_loader = torch.utils.data.DataLoader(mnist_train, batch_size=64, shuffle=True)\n",
        "test_loader  = torch.utils.data.DataLoader(mnist_test , batch_size=64, shuffle=False)"
      ],
      "execution_count": 0,
      "outputs": []
    },
    {
      "cell_type": "code",
      "metadata": {
        "colab_type": "code",
        "id": "o-Sx7FwJDawC",
        "colab": {}
      },
      "source": [
        "class Net(torch.nn.Module):\n",
        "    def __init__(self):\n",
        "        super(Net, self).__init__()\n",
        "        # your code here\n",
        "        \n",
        "    def forward(self, x):\n",
        "        #hint use x.view()\n",
        "        # your code here\n",
        "        return x\n",
        "      \n",
        "net = Net()\n",
        "net = net.to(device)\n",
        "opt = torch.optim.SGD(net.parameters(), lr=0.01)\n",
        "crit = torch.nn.CrossEntropyLoss(reduction='mean')\n",
        "    \n",
        "for epoch in range(10):\n",
        "    net.train()\n",
        "    for (x,y) in train_loader:\n",
        "        x,y = x.to(device), y.to(device)\n",
        "        # your code here\n",
        "    net.eval()                                  \n",
        "    for (x,y) in test_loader:\n",
        "        x,y = x.to(device), y.to(device)\n",
        "        out = net(x)\n",
        "        preds = out.data.max(1)[1]\n",
        "        acc += preds.eq(y).sum().item()\n",
        "        loss += crit(out, y).item()\n",
        "    acc /= len(test_loader.dataset)\n",
        "    loss /= len(test_loader.dataset)\n",
        "    print('epoch %d : acc %f, loss %f'%(epoch, acc, loss))"
      ],
      "execution_count": 0,
      "outputs": []
    }
  ]
}
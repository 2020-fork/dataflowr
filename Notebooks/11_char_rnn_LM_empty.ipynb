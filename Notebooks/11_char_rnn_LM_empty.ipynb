{
 "cells": [
  {
   "cell_type": "markdown",
   "metadata": {},
   "source": [
    "# Character-level Language Modeling with RNN\n",
    "\n",
    "Adapted from [Practical Pytorch](https://github.com/spro/practical-pytorch/tree/master/char-rnn-generation) and [Character_Level_Language_Model](https://github.com/m2dsupsdlclass/lectures-labs/blob/master/labs/06_deep_nlp/Character_Level_Language_Model.ipynb)\n",
    "\n",
    "Steps:\n",
    "\n",
    "- Download a small text corpus and preprocess it.\n",
    "- Extract a character vocabulary and use it to vectorize the text.\n",
    "- Train an LSTM-based character level language model.\n",
    "- Use the trained model to sample random text with varying entropy levels.\n",
    "- Implement a beam-search deterministic decoder.\n",
    "\n",
    "See also Karpathy's[blog](http://karpathy.github.io/2015/05/21/rnn-effectiveness/) and J. Johnson implementation: [torch-rnn](https://github.com/jcjohnson/torch-rnn)"
   ]
  },
  {
   "cell_type": "code",
   "execution_count": 1,
   "metadata": {},
   "outputs": [],
   "source": [
    "%matplotlib inline\n",
    "import numpy as np\n",
    "import matplotlib.pyplot as plt"
   ]
  },
  {
   "cell_type": "markdown",
   "metadata": {},
   "source": [
    "# Loading some text data\n",
    "\n",
    "Sources:\n",
    "\n",
    "https://raw.githubusercontent.com/karpathy/char-rnn/master/data/tinyshakespeare/input.txt\n",
    "\n",
    "https://s3.amazonaws.com/text-datasets/nietzsche.txt\n",
    "\n",
    "http://www.theatre-classique.fr/"
   ]
  },
  {
   "cell_type": "code",
   "execution_count": 2,
   "metadata": {},
   "outputs": [
    {
     "name": "stdout",
     "output_type": "stream",
     "text": [
      "Corpus length: 1115394 characters\n"
     ]
    }
   ],
   "source": [
    "import unidecode\n",
    "import string\n",
    "import random\n",
    "import re\n",
    "import pathlib\n",
    "\n",
    "#to be modified!\n",
    "data_root = pathlib.Path('/home/public/')\n",
    "\n",
    "# if you prefer Shakespeare (bigger)\n",
    "text = unidecode.unidecode(open(data_root/'text/shakespeare.txt').read().lower())\n",
    "# if you prefer Nietzsche\n",
    "#with open(data_root/'text/nietzsche.txt', 'r', encoding=\"utf-8\") as f:\n",
    "#    text = f.read().lower()\n",
    "\n",
    "#with open(data_root/'text/fleurs_du_mal.txt', 'r', encoding=\"utf-8\") as f:\n",
    "#    text = f.read().lower()\n",
    "\n",
    "print('Corpus length: %d characters' % len(text))"
   ]
  },
  {
   "cell_type": "code",
   "execution_count": 3,
   "metadata": {},
   "outputs": [
    {
     "name": "stdout",
     "output_type": "stream",
     "text": [
      "first citizen:\n",
      "before we proceed any further, hear me speak.\n",
      "\n",
      "all:\n",
      "speak, speak.\n",
      "\n",
      "first citizen:\n",
      "you are all resolved rather to die than to famish?\n",
      "\n",
      "all:\n",
      "resolved. resolved.\n",
      "\n",
      "first citizen:\n",
      "first, you know caius marcius is chief enemy to the people.\n",
      "\n",
      "all:\n",
      "we know't, we know't.\n",
      "\n",
      "first citizen:\n",
      "let us kill him, and we'll have corn at our own price.\n",
      "is't a verdict?\n",
      "\n",
      "all:\n",
      "no more talking on't; let it be done: away, away!\n",
      "\n",
      "second citizen:\n",
      "one word, good citizens.\n",
      "\n",
      "first citizen:\n",
      "we are accounted poor citizens, the patricians good.\n",
      "what authority surfeits on would relieve us: if they\n",
      "would yield us  ...\n"
     ]
    }
   ],
   "source": [
    "print(text[:600], \"...\")"
   ]
  },
  {
   "cell_type": "code",
   "execution_count": 4,
   "metadata": {},
   "outputs": [],
   "source": [
    "text = text.replace(\"\\n\", \" \")\n",
    "text = re.sub(\"\\d+\", \"\", text) # remove numbers\n",
    "split = int(0.9 * len(text))\n",
    "train_text = text[:split]\n",
    "test_text = text[split:]"
   ]
  },
  {
   "cell_type": "markdown",
   "metadata": {},
   "source": [
    "# Building a Vocabulary"
   ]
  },
  {
   "cell_type": "code",
   "execution_count": 5,
   "metadata": {},
   "outputs": [
    {
     "name": "stdout",
     "output_type": "stream",
     "text": [
      "total chars: 37\n"
     ]
    }
   ],
   "source": [
    "chars = sorted(list(set(text)))\n",
    "n_characters = len(chars)\n",
    "print('total chars:', n_characters)\n",
    "char_to_indices = dict((c, i) for i, c in enumerate(chars))\n",
    "indices_to_char = dict((i, c) for i, c in enumerate(chars))"
   ]
  },
  {
   "cell_type": "code",
   "execution_count": 6,
   "metadata": {},
   "outputs": [
    {
     "data": {
      "text/plain": [
       "[(' ', 0),\n",
       " ('!', 1),\n",
       " ('$', 2),\n",
       " ('&', 3),\n",
       " (\"'\", 4),\n",
       " (',', 5),\n",
       " ('-', 6),\n",
       " ('.', 7),\n",
       " (':', 8),\n",
       " (';', 9),\n",
       " ('?', 10),\n",
       " ('a', 11),\n",
       " ('b', 12),\n",
       " ('c', 13),\n",
       " ('d', 14)]"
      ]
     },
     "execution_count": 6,
     "metadata": {},
     "output_type": "execute_result"
    }
   ],
   "source": [
    "sorted(char_to_indices.items())[:15]"
   ]
  },
  {
   "cell_type": "code",
   "execution_count": 7,
   "metadata": {},
   "outputs": [
    {
     "data": {
      "text/plain": [
       "';'"
      ]
     },
     "execution_count": 7,
     "metadata": {},
     "output_type": "execute_result"
    }
   ],
   "source": [
    "indices_to_char[9]"
   ]
  },
  {
   "cell_type": "code",
   "execution_count": 8,
   "metadata": {},
   "outputs": [
    {
     "data": {
      "image/png": "[encoded data removed]",
      "text/plain": [
       "<Figure size 1008x216 with 1 Axes>"
      ]
     },
     "metadata": {
      "needs_background": "light"
     },
     "output_type": "display_data"
    }
   ],
   "source": [
    "from collections import Counter\n",
    "\n",
    "counter = Counter(text)\n",
    "chars, counts = zip(*counter.most_common())\n",
    "indices = np.arange(len(counts))\n",
    "\n",
    "plt.figure(figsize=(14, 3))\n",
    "plt.bar(indices, counts, 0.8)\n",
    "plt.xticks(indices, chars);"
   ]
  },
  {
   "cell_type": "markdown",
   "metadata": {},
   "source": [
    "We cut the dataset in fake sentences of fixed length. This could be greatly improved by using a sequence tokenizer."
   ]
  },
  {
   "cell_type": "code",
   "execution_count": 9,
   "metadata": {},
   "outputs": [
    {
     "name": "stdout",
     "output_type": "stream",
     "text": [
      "nb train sequences: 334597\n",
      "nb test sequences: 11150\n"
     ]
    }
   ],
   "source": [
    "max_length = 40\n",
    "step = 3\n",
    "\n",
    "\n",
    "def make_sequences(text, max_length=max_length, step=step):\n",
    "    sequences = []\n",
    "    next_chars = []\n",
    "    for i in range(0, len(text) - max_length, step):\n",
    "        sequences.append(text[i: i + max_length])\n",
    "        next_chars.append(text[i + max_length])\n",
    "    return sequences, next_chars    \n",
    "\n",
    "\n",
    "sequences, next_chars = make_sequences(train_text)\n",
    "sequences_test, next_chars_test = make_sequences(test_text, step=10)\n",
    "\n",
    "num_sequences = len(sequences)\n",
    "print('nb train sequences:', num_sequences)\n",
    "print('nb test sequences:', len(sequences_test))"
   ]
  },
  {
   "cell_type": "code",
   "execution_count": 10,
   "metadata": {},
   "outputs": [],
   "source": [
    "from sklearn.utils import shuffle\n",
    "\n",
    "sequences, next_chars = shuffle(sequences, next_chars,\n",
    "                                random_state=42)"
   ]
  },
  {
   "cell_type": "code",
   "execution_count": 11,
   "metadata": {},
   "outputs": [
    {
     "data": {
      "text/plain": [
       "\"ragg'd progeny, thou shouldst not scape \""
      ]
     },
     "execution_count": 11,
     "metadata": {},
     "output_type": "execute_result"
    }
   ],
   "source": [
    "sequences[1]"
   ]
  },
  {
   "cell_type": "code",
   "execution_count": 12,
   "metadata": {},
   "outputs": [
    {
     "data": {
      "text/plain": [
       "'m'"
      ]
     },
     "execution_count": 12,
     "metadata": {},
     "output_type": "execute_result"
    }
   ],
   "source": [
    "next_chars[1]"
   ]
  },
  {
   "cell_type": "code",
   "execution_count": 13,
   "metadata": {},
   "outputs": [],
   "source": [
    "import torch\n",
    "use_gpu = torch.cuda.is_available\n",
    "def gpu(tensor, gpu=use_gpu):\n",
    "    if gpu:\n",
    "        return tensor.cuda()\n",
    "    else:\n",
    "        return tensor"
   ]
  },
  {
   "cell_type": "markdown",
   "metadata": {},
   "source": [
    "Each sentence will be turned into a tensor, specifically a `LongTensor` (used for integer values), by looping through the characters of the string and looking up the index of each character in `char_to_indices`."
   ]
  },
  {
   "cell_type": "code",
   "execution_count": 14,
   "metadata": {},
   "outputs": [
    {
     "name": "stdout",
     "output_type": "stream",
     "text": [
      "tensor([11, 12, 13, 14, 15, 16], device='cuda:0')\n"
     ]
    }
   ],
   "source": [
    "# Turn string into list of longs\n",
    "def char_to_tensor(string):\n",
    "    tensor = torch.zeros(len(string)).long()\n",
    "    for c in range(len(string)):\n",
    "        tensor[c] = char_to_indices[string[c]]\n",
    "    return gpu(tensor)\n",
    "\n",
    "print(char_to_tensor('abcdef'))"
   ]
  },
  {
   "cell_type": "markdown",
   "metadata": {},
   "source": [
    "## Measuring per-character perplexity\n",
    "\n",
    "The NLP community measures the quality of probabilistic model using [perplexity](https://en.wikipedia.org/wiki/Perplexity).\n",
    "\n",
    "In practice perplexity is just a base 2 exponentiation of the average negative log2 likelihoods:\n",
    "\n",
    "$$perplexity_\\theta = 2^{-\\frac{1}{n} \\sum_{i=1}^{n} log_2 (p_\\theta(x_i))}$$\n",
    "\n",
    "**Note**: here we define the **per-character perplexity** (because our model naturally makes per-character predictions). **It is more common to report per-word perplexity**. Note that this is not as easy to compute the per-world perplexity as we would need to tokenize the strings into a sequence of words and discard whitespace and punctuation character predictions. In practice the whitespace character is the most frequent character by far making our naive per-character perplexity lower than it should be if we ignored those.\n",
    "\n",
    "**Exercise**: implement a Python function that computes the per-character perplexity with model predicted probabilities `y_pred` and `indice_true` for the ground truth."
   ]
  },
  {
   "cell_type": "code",
   "execution_count": 15,
   "metadata": {},
   "outputs": [],
   "source": [
    "def perplexity(indice_true, y_pred):\n",
    "    \"\"\"Compute the perplexity of model predictions.\n",
    "    \n",
    "    indice_true is ground truth: indice of character.\n",
    "    y_pred is predicted likelihoods for each class.\n",
    "    \n",
    "    2 ** -mean(log2(p))\n",
    "    \"\"\"\n",
    "    #\n",
    "    # your CODE here\n",
    "    #"
   ]
  },
  {
   "cell_type": "code",
   "execution_count": 16,
   "metadata": {},
   "outputs": [
    {
     "data": {
      "text/plain": [
       "1.2598816041129843"
      ]
     },
     "execution_count": 16,
     "metadata": {},
     "output_type": "execute_result"
    }
   ],
   "source": [
    "indice_true = [1,2]\n",
    "\n",
    "y_pred = torch.Tensor([[0.1, 0.9, 0.0],[0.1,0.2,0.7]])\n",
    "\n",
    "perplexity(indice_true, y_pred)"
   ]
  },
  {
   "cell_type": "markdown",
   "metadata": {},
   "source": [
    "# Build the Model\n",
    "\n",
    "This model is taken from PyTorch tutorial. It will take as input the character for step $t_{-1}$ and is expected to output the next character $t$. There are three layers - one linear layer that encodes the input character into an internal state, one GRU layer (which may itself have multiple layers) that operates on that internal state and a hidden state, and a decoder layer that outputs the probability distribution."
   ]
  },
  {
   "cell_type": "code",
   "execution_count": 17,
   "metadata": {},
   "outputs": [],
   "source": [
    "import torch\n",
    "import torch.nn as nn\n",
    "\n",
    "class RNN(nn.Module):\n",
    "    def __init__(self, input_size, hidden_size, output_size, n_layers=1):\n",
    "        super(RNN, self).__init__()\n",
    "        self.input_size = input_size\n",
    "        self.hidden_size = hidden_size\n",
    "        self.output_size = output_size\n",
    "        self.n_layers = n_layers\n",
    "        \n",
    "        self.encoder = nn.Embedding(input_size, hidden_size)\n",
    "        self.gru = nn.GRU(hidden_size, hidden_size, n_layers)\n",
    "        self.decoder = nn.Linear(hidden_size, output_size)\n",
    "    \n",
    "    def forward(self, input, hidden):\n",
    "        input = self.encoder(input.view(1, -1))\n",
    "        output, hidden = self.gru(input.view(1, 1, -1), hidden)\n",
    "        output = self.decoder(output.view(1, -1))\n",
    "        return output, hidden\n",
    "\n",
    "    def init_hidden(self):\n",
    "        return torch.zeros(self.n_layers, 1, self.hidden_size)"
   ]
  },
  {
   "cell_type": "code",
   "execution_count": 18,
   "metadata": {},
   "outputs": [],
   "source": [
    "hidden_size = 100\n",
    "n_layers = 1\n",
    "lr = 0.005\n",
    "\n",
    "decoder = gpu(RNN(n_characters, hidden_size, n_characters, n_layers))\n",
    "decoder_optimizer = torch.optim.Adam(decoder.parameters(), lr=lr)\n",
    "criterion = nn.CrossEntropyLoss()"
   ]
  },
  {
   "cell_type": "markdown",
   "metadata": {},
   "source": [
    "Test the network on the first sentence in the test set."
   ]
  },
  {
   "cell_type": "code",
   "execution_count": 19,
   "metadata": {},
   "outputs": [
    {
     "data": {
      "text/plain": [
       "'gremio: good morrow, neighbour baptista.'"
      ]
     },
     "execution_count": 19,
     "metadata": {},
     "output_type": "execute_result"
    }
   ],
   "source": [
    "sequences_test[0]"
   ]
  },
  {
   "cell_type": "code",
   "execution_count": 20,
   "metadata": {},
   "outputs": [
    {
     "name": "stdout",
     "output_type": "stream",
     "text": [
      "torch.Size([40, 1])\n"
     ]
    },
    {
     "data": {
      "text/plain": [
       "(tensor([[ 0.1083,  0.1114,  0.1071, -0.0732, -0.2118, -0.0474,  0.0292,  0.0363,\n",
       "           0.1222, -0.1419,  0.0524,  0.1270, -0.1002, -0.1856,  0.0808, -0.2566,\n",
       "          -0.1205, -0.1808,  0.0370,  0.0575, -0.0189,  0.3111, -0.0011, -0.1940,\n",
       "           0.1401,  0.0107, -0.0616, -0.1133, -0.0455,  0.0839, -0.0672,  0.1398,\n",
       "           0.1174, -0.1363, -0.2937, -0.3613,  0.2529]],\n",
       "        device='cuda:0', grad_fn=<ThAddmmBackward>),\n",
       " tensor([[[ 0.0135, -0.2500,  0.1071,  0.0698,  0.0703, -0.0331,  0.1751,\n",
       "            0.3541, -0.2664, -0.3061,  0.1968,  0.0157, -0.0211, -0.3073,\n",
       "           -0.2975, -0.6584, -0.2380,  0.1359,  0.0153, -0.0541,  0.0674,\n",
       "           -0.2319, -0.2751,  0.2931, -0.1641, -0.2029, -0.3467,  0.3329,\n",
       "           -0.3563, -0.5393,  0.0339,  0.0345, -0.1413, -0.4366, -0.1044,\n",
       "            0.0103, -0.3574, -0.0400,  0.0318, -0.0649, -0.0880, -0.3485,\n",
       "           -0.0491,  0.2123,  0.0846, -0.3381,  0.1759, -0.0963, -0.1125,\n",
       "            0.0649, -0.1663, -0.3903,  0.0392,  0.0796,  0.1947,  0.2743,\n",
       "           -0.0693, -0.1521, -0.0736,  0.2158,  0.1615,  0.0928, -0.2270,\n",
       "           -0.1359, -0.3696,  0.0534,  0.3476, -0.2685,  0.3132,  0.2819,\n",
       "           -0.0633, -0.0350,  0.1652, -0.0681,  0.1384,  0.1450, -0.3687,\n",
       "            0.0655,  0.1546, -0.0629, -0.0995,  0.2379,  0.1681, -0.4471,\n",
       "           -0.1682, -0.0493, -0.2597,  0.3109, -0.0647,  0.0140, -0.0256,\n",
       "            0.2183,  0.2599,  0.0962,  0.1381,  0.3037, -0.2771, -0.2290,\n",
       "            0.0299,  0.5641]]], device='cuda:0', grad_fn=<CudnnRnnBackward>))"
      ]
     },
     "execution_count": 20,
     "metadata": {},
     "output_type": "execute_result"
    }
   ],
   "source": []
  },
  {
   "cell_type": "markdown",
   "metadata": {},
   "source": [
    "# Evaluating\n",
    "\n",
    "To evaluate the network we will feed one character at a time, use the outputs of the network as a probability distribution for the next character, and repeat. To start generation we pass a priming string to start building up the hidden state, from which we then generate one character at a time."
   ]
  },
  {
   "cell_type": "code",
   "execution_count": 21,
   "metadata": {},
   "outputs": [],
   "source": [
    "def evaluate(prime_str='t', predict_len=100, temperature=0.8):\n",
    "    hidden = gpu(decoder.init_hidden())\n",
    "    prime_input = char_to_tensor(prime_str)\n",
    "    predicted = prime_str\n",
    "\n",
    "    # Use priming string to \"build up\" hidden state\n",
    "    for p in range(len(prime_str) - 1):\n",
    "        _, hidden = decoder(prime_input[p], hidden)\n",
    "    inp = prime_input[-1]\n",
    "    \n",
    "    for p in range(predict_len):\n",
    "        output, hidden = decoder(inp, hidden)\n",
    "        \n",
    "        # Sample from the network as a multinomial distribution\n",
    "        output_dist = output.data.view(-1).div(temperature).exp()\n",
    "        top_i = torch.multinomial(output_dist, 1)[0]\n",
    "        \n",
    "        # Add predicted character to string and use as next input\n",
    "        predicted_char = indices_to_char[top_i.item()]#all_characters[top_i]\n",
    "        predicted += predicted_char\n",
    "        inp = char_to_tensor(predicted_char)\n",
    "\n",
    "    return predicted"
   ]
  },
  {
   "cell_type": "code",
   "execution_count": 22,
   "metadata": {},
   "outputs": [
    {
     "data": {
      "text/plain": [
       "'whatoe,tf,b&'"
      ]
     },
     "execution_count": 22,
     "metadata": {},
     "output_type": "execute_result"
    }
   ],
   "source": [
    "evaluate('wh',10)"
   ]
  },
  {
   "cell_type": "markdown",
   "metadata": {},
   "source": [
    "# Training\n",
    "\n",
    "form PyTorch turorial"
   ]
  },
  {
   "cell_type": "code",
   "execution_count": 23,
   "metadata": {},
   "outputs": [],
   "source": [
    "import time, math\n",
    "\n",
    "def time_since(since):\n",
    "    s = time.time() - since\n",
    "    m = math.floor(s / 60)\n",
    "    s -= m * 60\n",
    "    return '%dm %ds' % (m, s)"
   ]
  },
  {
   "cell_type": "code",
   "execution_count": 24,
   "metadata": {},
   "outputs": [],
   "source": [
    "def train(inp, target):\n",
    "    \n",
    "    hidden = gpu(decoder.init_hidden())\n",
    "    decoder.zero_grad()\n",
    "    loss = 0\n",
    "    \n",
    "    for c in range(max_length-1):\n",
    "        output, hidden = decoder(inp[c], hidden)\n",
    "        loss += criterion(output, target[c].unsqueeze(0))\n",
    "\n",
    "    loss.backward()\n",
    "    decoder_optimizer.step()\n",
    "\n",
    "    return loss.item() / max_length"
   ]
  },
  {
   "cell_type": "markdown",
   "metadata": {},
   "source": [
    "Exercise: write the training loop. There is a slight modification copmared to the PyTorch tutorial because we did split the dataset in train and test... compute the perplexity on the test set."
   ]
  },
  {
   "cell_type": "code",
   "execution_count": 25,
   "metadata": {},
   "outputs": [
    {
     "name": "stdout",
     "output_type": "stream",
     "text": [
      "[0m 4s (epoch: 1 4%) 2.4137]\n",
      "wh hagthe, lar ed thomepeind be prbrove bond bitin hy ot bort ken heard athe and alnd teer;  pite hous  \n",
      "\n",
      "[0m 8s (epoch: 1 9%) 2.3177]\n",
      "wh anere suce where there or i have ar therer.  at shat manots gour: of ay ther owe withe padle's thear \n",
      "\n",
      "[0m 13s (epoch: 1 14%) 2.1824]\n",
      "wh son dee min the sit ar, a mand and and thi so and wourl; the sed lever ploving and not mope and any  \n",
      "\n",
      "[0m 17s (epoch: 1 19%) 2.0682]\n",
      "wh dussphio: of haene the wil dom digh the mave is heaw bot hit suck hougk than restw is fat and way, f \n",
      "\n",
      "[0m 21s (epoch: 1 24%) 2.1304]\n",
      "wh the wheriom dove the of dort dearung faver, hivere deard there thes fall; i hik: wit writ thing.  od \n",
      "\n",
      "[0m 26s (epoch: 1 29%) 1.9171]\n",
      "wh all of i wran, i have duege youd; coushill an a known posdes rom: avere the that the a haust you sli \n",
      "\n",
      "[0m 30s (epoch: 1 34%) 1.8630]\n",
      "wh the and ye whestere carenintal, wher to mre your foor omors: and your carce thist ond shon as the da \n",
      "\n",
      "[0m 34s (epoch: 1 39%) 1.7078]\n",
      "wh time, this hath bet cangoure sight not chasst not wo hath caing youe ware .: lorning lig, i with tha \n",
      "\n",
      "[0m 38s (epoch: 1 44%) 1.6946]\n",
      "wh ed as fronghirm thin stheme of i the him us the an my fithe so mainn, bustire shall mur mue of ustau \n",
      "\n",
      "[0m 43s (epoch: 1 49%) 1.8850]\n",
      "wh eay: sure, wer'd de thy as sut descoee, now, you heas strould the quell, browt seadl now, loke, she  \n",
      "\n",
      "[0m 47s (epoch: 1 54%) 1.6813]\n",
      "wh thy huself of you, his chat the lelive hath how coppyorth quren, frown for of faor heard this us the \n",
      "\n",
      "[0m 51s (epoch: 1 59%) 2.1210]\n",
      "wh i godeas sathage, wis my sirle oblastesest sus: i a bace browhing us sears i pice a and pare: thee s \n",
      "\n",
      "[0m 56s (epoch: 1 64%) 1.9379]\n",
      "wh i le not him, and fard theme searn have who him dand the will ere im amboris: aste the princa: the w \n",
      "\n",
      "[1m 0s (epoch: 1 69%) 1.8944]\n",
      "wh thee mort cove fromo to theere? are, love, tham to mutherforething to the more the plave ame of i th \n",
      "\n",
      "[1m 4s (epoch: 1 74%) 1.9919]\n",
      "wh thell, not this?  frowre i that i be adre to sthing vasinet mores foor mefore more that the stoo? no \n",
      "\n",
      "[1m 9s (epoch: 1 79%) 1.7440]\n",
      "wh how to gentres bentither chprown luch whe pitly grocusire and on prvine, corh look, i are the prigac \n",
      "\n",
      "[1m 13s (epoch: 1 84%) 1.8320]\n",
      "wh comich supt the and lord: ay what forh, we sopt though quood houll in of prist from and will his fro \n",
      "\n",
      "[1m 17s (epoch: 1 89%) 2.1501]\n",
      "wh to tro me thi warrwick?  muart i hall hing prire soagusorn doo, three haster with my art on hencess  \n",
      "\n",
      "[1m 22s (epoch: 1 94%) 1.8411]\n",
      "wh you shatal, for that thim, has, and the sting, thin; your what your hath me to shall thy our shalbna \n",
      "\n",
      "[1m 26s (epoch: 1 99%) 2.0214]\n",
      "wh i wow fir i am streent. if sham haring mame to me to omense! think pencound; there of hand me come m \n",
      "\n"
     ]
    }
   ],
   "source": [
    "n_epochs = 1\n",
    "print_every = 100\n",
    "plot_every = 10\n",
    "n_pass = 2000\n",
    "\n",
    "start = time.time()\n",
    "all_losses = []\n",
    "loss_avg = 0\n",
    "\n",
    "for epoch in range(1, n_epochs + 1):\n",
    "    #\n",
    "    # your CODE here\n",
    "    #"
   ]
  },
  {
   "cell_type": "markdown",
   "metadata": {},
   "source": [
    "# Plotting the Training Losses\n",
    "\n",
    "Plotting the historical loss from all_losses shows the network learning:"
   ]
  },
  {
   "cell_type": "code",
   "execution_count": 26,
   "metadata": {},
   "outputs": [
    {
     "data": {
      "text/plain": [
       "[<matplotlib.lines.Line2D at 0x7f5c344ac320>]"
      ]
     },
     "execution_count": 26,
     "metadata": {},
     "output_type": "execute_result"
    },
    {
     "data": {
      "image/png": "[encoded data removed]",
      "text/plain": [
       "<Figure size 432x288 with 1 Axes>"
      ]
     },
     "metadata": {
      "needs_background": "light"
     },
     "output_type": "display_data"
    }
   ],
   "source": [
    "import matplotlib.pyplot as plt\n",
    "import matplotlib.ticker as ticker\n",
    "%matplotlib inline\n",
    "\n",
    "plt.figure()\n",
    "plt.plot(all_losses)"
   ]
  },
  {
   "cell_type": "markdown",
   "metadata": {},
   "source": [
    "# Evaluating at different \"temperatures\"\n",
    "\n",
    "In the `evaluate` function above, every time a prediction is made the outputs are divided by the \"temperature\" argument passed. Using a higher number makes all actions more equally likely, and thus gives us \"more random\" outputs. Using a lower value (less than 1) makes high probabilities contribute more. As we turn the temperature towards zero we are choosing only the most likely outputs.\n",
    "\n",
    "We can see the effects of this by adjusting the `temperature` argument."
   ]
  },
  {
   "cell_type": "code",
   "execution_count": 27,
   "metadata": {},
   "outputs": [
    {
     "name": "stdout",
     "output_type": "stream",
     "text": [
      "th you good plath, t art the thour oft thno graiie, in and the thour muth my hearveth; with qure and of shade. ear.  merath; ponce in the hand am art pont; me, and to me ome so me comes grear fome would\n"
     ]
    }
   ],
   "source": [
    "print(evaluate('th', 200, temperature=0.8))"
   ]
  },
  {
   "cell_type": "markdown",
   "metadata": {},
   "source": [
    "Lower temperatures are less varied, choosing only the more probable outputs:"
   ]
  },
  {
   "cell_type": "code",
   "execution_count": 28,
   "metadata": {},
   "outputs": [
    {
     "name": "stdout",
     "output_type": "stream",
     "text": [
      "ther fare the pother for the preath are to me to me to maine the preath him. i manders.  pring me some me to me of to me to me to me to me as the preath.  preart: are the preath are the preare and the h\n"
     ]
    }
   ],
   "source": [
    "print(evaluate('th', 200, temperature=0.2))"
   ]
  },
  {
   "cell_type": "markdown",
   "metadata": {},
   "source": [
    "Higher temperatures more varied, choosing less probable outputs:"
   ]
  },
  {
   "cell_type": "code",
   "execution_count": 29,
   "metadata": {},
   "outputs": [
    {
     "name": "stdout",
     "output_type": "stream",
     "text": [
      "thut. grie vank, you he asrets some quang! su, ixeseer? 'mynust! to maon pimig--horque a! ee, uto 'kinghild obry o'd arwelf gahesed! eard.? frth uncar: coldef viuth'd pom proead thom pry. liodintw loant\n"
     ]
    }
   ],
   "source": [
    "print(evaluate('th', 200, temperature=1.4))"
   ]
  },
  {
   "cell_type": "markdown",
   "metadata": {},
   "source": [
    "# Exercise\n",
    "\n",
    "Modify the code to use batches of sentences and remove the for loop in the  function `train`"
   ]
  },
  {
   "cell_type": "code",
   "execution_count": null,
   "metadata": {},
   "outputs": [],
   "source": []
  },
  {
   "cell_type": "markdown",
   "metadata": {},
   "source": [
    "## Why build a language model?\n",
    "\n",
    "Building a language model is not very useful by it-self. However language models have recently been shown to be useful for **transfer learning** to build **contextualized word embeddings** as a better alternative to word2vec or GloVe.\n",
    "\n",
    "Using language-model based word representations makes it possible to reach the **state-of-the-art at many natural language understanding problems**.\n",
    "\n",
    "The workflow is the following:\n",
    "\n",
    "- **train** a (bi-directional) **deep language model on a very large, unlabeled corpus** (e.g. 1 billion words or more);\n",
    "- plug the resulting **language model as the input layer** (and sometimes also the output layer) **of a task specific architecture**, for instance: text classification, semantic role labeling for knowledge extraction, logical entailment, question answering and reading comprehension;\n",
    "- **train the task specific parameters** of the new architecture on the **smaller task-labeled corpus**;\n",
    "- optionally fine-tune the full architecture on the task-labeled corpus if it's big enough not to overfit.\n",
    "\n",
    "More information on this approach:\n",
    "\n",
    "- Deep contextualized word representations, https://arxiv.org/abs/1802.05365\n",
    "- [Pytorch implementation of ELMo](https://github.com/allenai/allennlp/blob/master/allennlp/modules/elmo.py) as part of the AllenNLP project: https://github.com/allenai/allennlp\n",
    "- Universal Language Model Fine-tuning for Text Classification: https://arxiv.org/abs/1801.06146 (ULMFiT)"
   ]
  },
  {
   "cell_type": "code",
   "execution_count": null,
   "metadata": {},
   "outputs": [],
   "source": []
  }
 ],
 "metadata": {
  "kernelspec": {
   "display_name": "Python 3",
   "language": "python",
   "name": "python3"
  },
  "language_info": {
   "codemirror_mode": {
    "name": "ipython",
    "version": 3
   },
   "file_extension": ".py",
   "mimetype": "text/x-python",
   "name": "python",
   "nbconvert_exporter": "python",
   "pygments_lexer": "ipython3",
   "version": "3.6.7"
  }
 },
 "nbformat": 4,
 "nbformat_minor": 2
}
